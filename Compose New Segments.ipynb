{
 "cells": [
  {
   "cell_type": "code",
   "execution_count": 97,
   "metadata": {},
   "outputs": [],
   "source": [
    "from Bio import SeqIO\n",
    "from Bio import Seq\n",
    "from antibody.anarci import Anarci\n",
    "anarci = Anarci()"
   ]
  },
  {
   "cell_type": "markdown",
   "metadata": {},
   "source": [
    "# Cats and dogs from segment libs"
   ]
  },
  {
   "cell_type": "markdown",
   "metadata": {},
   "source": [
    "'IMGT000003|IGLJ9*01|Canis lupus familiaris_boxer|F|J-REGION|2580610..2580647|38 nt|2| | || |38+0=38| | |'"
   ]
  },
  {
   "cell_type": "code",
   "execution_count": 171,
   "metadata": {},
   "outputs": [
    {
     "data": {
      "application/javascript": [
       "\n",
       "            setTimeout(function() {\n",
       "                var nbb_cell_id = 171;\n",
       "                var nbb_unformatted_code = \"import pandas as pd\\nv_genes = pd.read_csv('/Users/jwillis/repos/bfx-bp/bfx-bp-antibody/antibody/data/VSEGMENT.csv.gz',index_col=0)\\nj_gene = pd.read_csv('/Users/jwillis/repos/bfx-bp/bfx-bp-antibody/antibody/data/JSEGMENT.csv.gz',index_col=0)\\nimgt_df = pd.read_csv('/Users/jwillis/repos/bfx-bp/bfx-bp-reference/bfx_bp_reference/data/IMGT_REFERENCE.csv.gz',index_col=0)\\n\\nlookup_dictionary = {** imgt_df[['latin','common']].drop_duplicates().set_index('common').to_dict(),\\n**imgt_df[['latin','common']].drop_duplicates().set_index('latin').to_dict()}\";\n",
       "                var nbb_formatted_code = \"import pandas as pd\\n\\nv_genes = pd.read_csv(\\n    \\\"/Users/jwillis/repos/bfx-bp/bfx-bp-antibody/antibody/data/VSEGMENT.csv.gz\\\",\\n    index_col=0,\\n)\\nj_gene = pd.read_csv(\\n    \\\"/Users/jwillis/repos/bfx-bp/bfx-bp-antibody/antibody/data/JSEGMENT.csv.gz\\\",\\n    index_col=0,\\n)\\nimgt_df = pd.read_csv(\\n    \\\"/Users/jwillis/repos/bfx-bp/bfx-bp-reference/bfx_bp_reference/data/IMGT_REFERENCE.csv.gz\\\",\\n    index_col=0,\\n)\\n\\nlookup_dictionary = {\\n    **imgt_df[[\\\"latin\\\", \\\"common\\\"]].drop_duplicates().set_index(\\\"common\\\").to_dict(),\\n    **imgt_df[[\\\"latin\\\", \\\"common\\\"]].drop_duplicates().set_index(\\\"latin\\\").to_dict(),\\n}\";\n",
       "                var nbb_cells = Jupyter.notebook.get_cells();\n",
       "                for (var i = 0; i < nbb_cells.length; ++i) {\n",
       "                    if (nbb_cells[i].input_prompt_number == nbb_cell_id) {\n",
       "                        if (nbb_cells[i].get_text() == nbb_unformatted_code) {\n",
       "                             nbb_cells[i].set_text(nbb_formatted_code);\n",
       "                        }\n",
       "                        break;\n",
       "                    }\n",
       "                }\n",
       "            }, 500);\n",
       "            "
      ],
      "text/plain": [
       "<IPython.core.display.Javascript object>"
      ]
     },
     "metadata": {},
     "output_type": "display_data"
    }
   ],
   "source": [
    "import pandas as pd\n",
    "\n",
    "v_genes = pd.read_csv(\n",
    "    \"/Users/jwillis/repos/bfx-bp/bfx-bp-antibody/antibody/data/VSEGMENT.csv.gz\",\n",
    "    index_col=0,\n",
    ")\n",
    "j_gene = pd.read_csv(\n",
    "    \"/Users/jwillis/repos/bfx-bp/bfx-bp-antibody/antibody/data/JSEGMENT.csv.gz\",\n",
    "    index_col=0,\n",
    ")\n",
    "imgt_df = pd.read_csv(\n",
    "    \"/Users/jwillis/repos/bfx-bp/bfx-bp-reference/bfx_bp_reference/data/IMGT_REFERENCE.csv.gz\",\n",
    "    index_col=0,\n",
    ")\n",
    "\n",
    "lookup_dictionary = {\n",
    "    **imgt_df[[\"latin\", \"common\"]].drop_duplicates().set_index(\"common\").to_dict(),\n",
    "    **imgt_df[[\"latin\", \"common\"]].drop_duplicates().set_index(\"latin\").to_dict(),\n",
    "}"
   ]
  },
  {
   "cell_type": "code",
   "execution_count": 329,
   "metadata": {},
   "outputs": [
    {
     "name": "stderr",
     "output_type": "stream",
     "text": [
      "/Users/jwillis/miniconda3/envs/bfx-bp-antibody/lib/python3.8/site-packages/Bio/Seq.py:2573: BiopythonWarning: Partial codon, len(sequence) not a multiple of three. Explicitly trim the sequence or add trailing N before translation. This may become an error in future.\n",
      "  warnings.warn(\"Partial codon, len(sequence) not a multiple of three. \"\n",
      "/Users/jwillis/miniconda3/envs/bfx-bp-antibody/lib/python3.8/site-packages/Bio/Seq.py:2573: BiopythonWarning: Partial codon, len(sequence) not a multiple of three. Explicitly trim the sequence or add trailing N before translation. This may become an error in future.\n",
      "  warnings.warn(\"Partial codon, len(sequence) not a multiple of three. \"\n",
      "/Users/jwillis/miniconda3/envs/bfx-bp-antibody/lib/python3.8/site-packages/Bio/Seq.py:2573: BiopythonWarning: Partial codon, len(sequence) not a multiple of three. Explicitly trim the sequence or add trailing N before translation. This may become an error in future.\n",
      "  warnings.warn(\"Partial codon, len(sequence) not a multiple of three. \"\n",
      "/Users/jwillis/miniconda3/envs/bfx-bp-antibody/lib/python3.8/site-packages/Bio/Seq.py:2573: BiopythonWarning: Partial codon, len(sequence) not a multiple of three. Explicitly trim the sequence or add trailing N before translation. This may become an error in future.\n",
      "  warnings.warn(\"Partial codon, len(sequence) not a multiple of three. \"\n"
     ]
    },
    {
     "name": "stdout",
     "output_type": "stream",
     "text": [
      "4|IGHV1-1*01|Felis_catus_Abyssinian|F|V-REGION||96 AA|||||||||\n",
      "DVQLVESGG.DLVQPGGSLRLTCVASGFTF....SSYEMNWVRQAPGKGLQWVAYISSG...GSTYYADSVK.GRFTISRDNAKNTLYLQMNSLKTEDTATYYCA\n",
      "GACGTGCAGCTGGTGGAGTCTGGGGGAGACCTGGTGCAGCCTGGGGGGTCCCTGAGACTCACCTGTGTGGCCTCTGGATTCACCTTCAGTAGCTATGAAATGAACTGGGTCCGCCAGGCTCCAGGGAAGGGGCTGCAGTGGGTCGCATATATTAGTAGTGGAGGTAGCACATACTACGCAGACTCCGTGAAGGGCCGATTCACCATCTCCAGAGACAACGCCAAGAACACGCTGTATCTGCAGATGAACAGCCTCAAGACCGAGGACACGGCCACATATTACTGTGCGA\n",
      "35|IGHV1-2*01|Felis_catus_Abyssinian|F|V-REGION||97 AA|||||||||\n",
      "QVLLVQSGA.EVRKPGASVKIFCKVSGYTF....TDYYIHWLRQAPGQGLEWMGRIDPE..DGSTTYAQKFQ.GRLTLTADTSTNTAYMELSSLRSADTAMYYCA\n",
      "CAGGTTTTGCTGGTGCAGTCTGGGGCTGAAGTGAGGAAGCCTGGGGCATCAGTGAAGATCTTCTGCAAAGTATCTGGATACACCTTCACTGATTACTATATACACTGGTTGCGACAGGCTCCTGGACAAGGGCTTGAGTGGATGGGAAGAATTGACCCTGAAGATGGTTCTACAACCTATGCACAGAAGTTCCAGGGCAGACTCACCCTGACAGCAGACACATCCACAAACACAGCCTACATGGAGTTGAGCAGCTTGAGGTCTGCAGACACAGCCATGTATTACTGTGCAA\n",
      "246|IGHV10-1*01|Felis_catus_Abyssinian|F|V-REGION||95 AA|||||||||\n",
      "QLTLRESGP.GLVKPSQSLSLTCVVSGGSVT...SSYYWNWIRQRPGRGLEWLGYWSG.....STSYNPALQ.GRISIAADTAQNQISLQLNSMTTEDTAVYYCG\n",
      "CAACTTACACTTCGGGAGTCCGGCCCAGGACTGGTGAAGCCTTCACAATCCCTCTCTCTCACCTGCGTTGTCTCCGGAGGCTCTGTTACCAGCAGTTACTACTGGAACTGGATCCGCCAGCGCCCTGGGAGAGGGTTGGAGTGGCTGGGGTACTGGTCAGGTAGCACCAGCTACAACCCGGCTTTGCAGGGCCGCATCTCCATCGCTGCTGACACAGCCCAGAACCAGATCTCCCTGCAACTGAACTCCATGACCACCGAAGACACGGCCGTGTATTACTGTGGAA\n",
      "258|IGHV10-2*01|Felis_catus_Abyssinian|F|V-REGION||97 AA|||||||||\n",
      "DVHLVESGG.DLVKPGGSLRLSCVASGITF....RTYWMNWVRQAPGKGLQWVSGISGT..GGNTAYTDSVK.GRFTISRDNAKNTLYLQMNSLETEDTGTYYCA\n",
      "GACGTGCATCTGGTGGAGTCTGGGGGAGACCTGGTGAAGCCTGGGGGGTCCCTGAGACTCTCCTGTGTAGCCTCTGGAATCACCTTCAGGACTTATTGGATGAACTGGGTCCGCCAGGCTCCTGGGAAGGGGCTGCAGTGGGTCTCAGGAATTAGTGGTACTGGAGGTAATACAGCCTATACGGACTCCGTGAAGGGCCGATTCACCATTTCCAGAGACAACGCCAAGAACACGCTGTATCTGCAGATGAATAGTCTCGAGACCGAAGACACGGGGACATATTACTGTGCGA\n"
     ]
    },
    {
     "name": "stderr",
     "output_type": "stream",
     "text": [
      "/Users/jwillis/miniconda3/envs/bfx-bp-antibody/lib/python3.8/site-packages/Bio/Seq.py:2573: BiopythonWarning: Partial codon, len(sequence) not a multiple of three. Explicitly trim the sequence or add trailing N before translation. This may become an error in future.\n",
      "  warnings.warn(\"Partial codon, len(sequence) not a multiple of three. \"\n",
      "/Users/jwillis/miniconda3/envs/bfx-bp-antibody/lib/python3.8/site-packages/Bio/Seq.py:2573: BiopythonWarning: Partial codon, len(sequence) not a multiple of three. Explicitly trim the sequence or add trailing N before translation. This may become an error in future.\n",
      "  warnings.warn(\"Partial codon, len(sequence) not a multiple of three. \"\n",
      "/Users/jwillis/miniconda3/envs/bfx-bp-antibody/lib/python3.8/site-packages/Bio/Seq.py:2573: BiopythonWarning: Partial codon, len(sequence) not a multiple of three. Explicitly trim the sequence or add trailing N before translation. This may become an error in future.\n",
      "  warnings.warn(\"Partial codon, len(sequence) not a multiple of three. \"\n"
     ]
    },
    {
     "name": "stdout",
     "output_type": "stream",
     "text": [
      "274|IGHV11-1*01|Felis_catus_Abyssinian|F|V-REGION||97 AA|||||||||\n",
      "DVQLVESGG.DLVKPGGSLRLTCVASGFSF....SSYAMSWVRQAPGKGLQWVASISYD..GGSIGYADSVK.GRFTISRDNAQNTLYLQMNSLKTEDTATYYCA\n",
      "GACGTGCAGCTGGTGGAGTCTGGGGGAGACCTGGTGAAGCCCGGGGGGTCCCTGAGACTCACCTGTGTGGCCTCTGGATTCAGCTTCAGTAGTTATGCAATGAGCTGGGTCCGCCAGGCTCCAGGAAAGGGGCTGCAGTGGGTCGCATCAATTAGTTATGATGGAGGTAGTATAGGCTACGCAGACTCCGTGAAGGGCCGATTTACCATCTCCAGAGACAACGCCCAGAACACACTGTATCTGCAGATGAACAGCCTCAAGACCGAGGACACGGCCACATATTACTGTGCGA\n",
      "281|IGHV11-2*01|Felis_catus_Abyssinian|F|V-REGION||96 AA|||||||||\n",
      "DVQLVESGG.DLVKPGGSLRLTCVASGFNV....DDYALSWVRQAPGKGLQWVSTIVTA...GTTYYTDSVK.GRFTISRDNAKNTLYLQMNSLTTEDTATYYCA\n",
      "GATGTGCAGTTGGTGGAGTCTGGGGGAGACCTGGTGAAGCCTGGGGGGTCCCTGAGACTCACCTGTGTAGCCTCTGGATTCAACGTCGATGACTATGCATTGAGTTGGGTCCGCCAGGCTCCAGGGAAGGGGCTGCAGTGGGTCTCAACAATTGTGACCGCAGGTACCACGTATTACACAGACTCCGTGAAGGGCCGATTCACCATCTCCAGAGACAACGCCAAGAACACGCTATATCTGCAGATGAACAGCCTGACGACTGAGGACACGGCCACATATTACTGTGCGA\n",
      "291|IGHV12-1*01|Felis_catus_Abyssinian|F|V-REGION||97 AA|||||||||\n",
      "DVQLVESGG.DLVKPGGSLRLTCVASGFTF....SAYSMSWVRQAPGKGLQWVAYIRYD..GSNIDYADSVK.GRFTISRDNAKNTMYLQMNSLKTEDTATYYCV\n",
      "GACGTGCAGCTGGTGGAGTCTGGGGGAGACCTGGTGAAGCCTGGGGGGTCTCTGAGACTCACCTGTGTGGCCTCTGGATTCACCTTCAGTGCCTATAGCATGAGCTGGGTCCGCCAGGCTCCAGGGAAGGGTCTGCAGTGGGTCGCATATATACGGTATGATGGAAGTAACATAGACTATGCAGACTCCGTGAAGGGCCGATTCACCATCTCCAGAGACAACGCCAAGAACACGATGTATCTGCAGATGAACAGTCTGAAGACCGAGGACACGGCCACATACTACTGTGTCG\n",
      "297|IGHV12-2*01|Felis_catus_Abyssinian|F|V-REGION||95 AA|||||||||\n",
      "QLTLRESGP.GLVKPSQSLSLTCVVSGGSVG...ASAYWNWIRQRPGRGLEWLGYWSR.....STTHNPAFQ.GRISITVDTAQNHFSLELSSMTTEDTAVYYCA\n",
      "CAACTTACACTTCGGGAGTCCGGCCCAGGACTGGTGAAGCCTTCACAATCCCTCTCTCTCACCTGCGTTGTCTCCGGAGGCTCTGTTGGCGCCAGTGCCTACTGGAACTGGATCCGTCAGCGCCCTGGGAGAGGGTTGGAGTGGCTGGGCTACTGGTCACGCAGTACCACCCACAACCCGGCTTTCCAGGGCCGCATCTCCATCACTGTTGACACAGCCCAGAACCACTTCTCCCTGGAGCTGAGTTCCATGACCACCGAGGACACGGCCGTATATTATTGTGCGT\n"
     ]
    },
    {
     "name": "stderr",
     "output_type": "stream",
     "text": [
      "/Users/jwillis/miniconda3/envs/bfx-bp-antibody/lib/python3.8/site-packages/Bio/Seq.py:2573: BiopythonWarning: Partial codon, len(sequence) not a multiple of three. Explicitly trim the sequence or add trailing N before translation. This may become an error in future.\n",
      "  warnings.warn(\"Partial codon, len(sequence) not a multiple of three. \"\n",
      "/Users/jwillis/miniconda3/envs/bfx-bp-antibody/lib/python3.8/site-packages/Bio/Seq.py:2573: BiopythonWarning: Partial codon, len(sequence) not a multiple of three. Explicitly trim the sequence or add trailing N before translation. This may become an error in future.\n",
      "  warnings.warn(\"Partial codon, len(sequence) not a multiple of three. \"\n",
      "/Users/jwillis/miniconda3/envs/bfx-bp-antibody/lib/python3.8/site-packages/Bio/Seq.py:2573: BiopythonWarning: Partial codon, len(sequence) not a multiple of three. Explicitly trim the sequence or add trailing N before translation. This may become an error in future.\n",
      "  warnings.warn(\"Partial codon, len(sequence) not a multiple of three. \"\n",
      "/Users/jwillis/miniconda3/envs/bfx-bp-antibody/lib/python3.8/site-packages/Bio/Seq.py:2573: BiopythonWarning: Partial codon, len(sequence) not a multiple of three. Explicitly trim the sequence or add trailing N before translation. This may become an error in future.\n",
      "  warnings.warn(\"Partial codon, len(sequence) not a multiple of three. \"\n"
     ]
    },
    {
     "name": "stdout",
     "output_type": "stream",
     "text": [
      "304|IGHV13-1*01|Felis_catus_Abyssinian|F|V-REGION||97 AA|||||||||\n",
      "DVQQVESGG.DLVKPGGSLRLTCVASGFTF....SSHYMNWVRQAPGKGLQWVAYINTD..GSTTTYADSVK.GRFTISRDNSKNTLYLQMNSLKTEDTATYYCT\n",
      "GATGTGCAGCAGGTGGAGTCTGGGGGAGACCTGGTGAAGCCTGGGGGGTCCCTGAGACTCACCTGTGTGGCCTCTGGATTCACCTTCAGTAGCCACTACATGAACTGGGTCCGCCAGGCTCCAGGGAAGGGGCTGCAGTGGGTCGCATATATTAATACTGATGGAAGTACCACAACCTATGCGGACTCCGTGAAGGGCCGATTCACCATCTCCAGAGACAACTCCAAGAACACACTGTATCTGCAGATGAACAGCCTCAAGACCGAAGACACGGCCACATATTACTGTACCG\n",
      "307|IGHV13-2*01|Felis_catus_Abyssinian|F|V-REGION||97 AA|||||||||\n",
      "DVQLVESGG.DLVKPGGSLRLTCVASGFTF....GTYYMHWVRQAPGKGLQWVAQISHR..GDTTYYADSVK.GRFTISRDNAKNTLYLHMNSLKTEDTATYFCA\n",
      "GATGTGCAGCTGGTGGAATCTGGGGGAGACCTGGTGAAGCCTGGGGGGTCCCTGAGACTCACCTGTGTGGCCTCTGGATTCACCTTCGGTACCTACTACATGCACTGGGTCCGCCAGGCTCCGGGGAAGGGGCTGCAGTGGGTCGCACAAATTAGTCATCGTGGAGACACTACATACTACGCAGACTCCGTGAAGGGCCGATTCACCATCTCCAGAGACAACGCCAAGAACACACTGTATCTGCACATGAACAGCCTGAAGACCGAGGACACGGCCACATATTTCTGTGCGA\n",
      "311|IGHV14-1*01|Felis_catus_Abyssinian|F|V-REGION||97 AA|||||||||\n",
      "DVQLVESGG.DLVKPGGSLRLTCVASGFTF....SNYAMSWVRQAPGKGLQWVASISSS..GGTIYYADSVK.GRFTISRDNAKNTLYLQMNSLKTEDTATYYCA\n",
      "GACGTGCAGTTGGTGGAGTCTGGGGGAGACCTGGTGAAGCCCGGGGGGTCCCTGAGACTCACCTGTGTGGCCTCTGGATTCACCTTCAGTAACTATGCAATGAGCTGGGTCCGCCAGGCTCCAGGGAAGGGGCTGCAGTGGGTCGCATCAATTAGTAGTAGTGGAGGTACCATATACTACGCAGACTCCGTGAAGGGCCGATTCACCATCTCCAGAGACAACGCCAAGAACACGCTGTATCTGCAGATGAACAGCCTGAAGACCGAGGACACGGCCACATATTACTGTGCGT\n",
      "314|IGHV14-2*01|Felis_catus_Abyssinian|F|V-REGION||97 AA|||||||||\n",
      "DVHLVESGG.GLVKPGGSLKLTCVASGFTF....SNANMNWVRQAPGKGLQWVAYIIRG..GDLEYYADSVR.GRFTVSRDDAKNTLYLQMHSLKTEDTATYYCA\n",
      "GATGTCCACTTGGTGGAATCTGGGGGAGGCCTGGTGAAGCCTGGGGGGTCCCTAAAACTCACCTGTGTGGCCTCTGGATTCACCTTCAGTAACGCTAATATGAACTGGGTCCGCCAGGCTCCAGGGAAGGGACTGCAGTGGGTCGCATATATTATTCGTGGTGGAGATCTTGAATACTACGCAGACTCCGTGAGGGGCCGATTCACCGTCTCTAGAGACGACGCCAAGAACACGCTGTATCTTCAGATGCACAGCCTGAAGACCGAGGACACGGCCACATATTATTGTGCGC\n"
     ]
    },
    {
     "name": "stderr",
     "output_type": "stream",
     "text": [
      "/Users/jwillis/miniconda3/envs/bfx-bp-antibody/lib/python3.8/site-packages/Bio/Seq.py:2573: BiopythonWarning: Partial codon, len(sequence) not a multiple of three. Explicitly trim the sequence or add trailing N before translation. This may become an error in future.\n",
      "  warnings.warn(\"Partial codon, len(sequence) not a multiple of three. \"\n",
      "/Users/jwillis/miniconda3/envs/bfx-bp-antibody/lib/python3.8/site-packages/Bio/Seq.py:2573: BiopythonWarning: Partial codon, len(sequence) not a multiple of three. Explicitly trim the sequence or add trailing N before translation. This may become an error in future.\n",
      "  warnings.warn(\"Partial codon, len(sequence) not a multiple of three. \"\n",
      "/Users/jwillis/miniconda3/envs/bfx-bp-antibody/lib/python3.8/site-packages/Bio/Seq.py:2573: BiopythonWarning: Partial codon, len(sequence) not a multiple of three. Explicitly trim the sequence or add trailing N before translation. This may become an error in future.\n",
      "  warnings.warn(\"Partial codon, len(sequence) not a multiple of three. \"\n",
      "/Users/jwillis/miniconda3/envs/bfx-bp-antibody/lib/python3.8/site-packages/Bio/Seq.py:2573: BiopythonWarning: Partial codon, len(sequence) not a multiple of three. Explicitly trim the sequence or add trailing N before translation. This may become an error in future.\n",
      "  warnings.warn(\"Partial codon, len(sequence) not a multiple of three. \"\n"
     ]
    },
    {
     "name": "stdout",
     "output_type": "stream",
     "text": [
      "322|IGHV15-1*01|Felis_catus_Abyssinian|F|V-REGION||96 AA|||||||||\n",
      "DVQLVESGG.DLVKPGGSLRLTCVASGFNV....GSFAMSWVRQAPGKGLQWVSTINNR...GNTYHTDAVK.GRFAISKDNANNTLYLQMNNLKTEDTATYYCA\n",
      "GACGTGCAGCTGGTGGAGTCTGGGGGAGACCTGGTGAAGCCTGGGGGGTCCCTGAGACTCACCTGTGTAGCCTCTGGATTCAACGTCGGTAGCTTTGCAATGAGCTGGGTCCGCCAGGCTCCAGGAAAGGGGCTGCAGTGGGTCTCAACAATTAATAATAGAGGTAACACATACCACACAGACGCCGTGAAGGGCCGATTCGCCATCTCCAAAGACAACGCCAACAACACGCTATATCTGCAGATGAACAACCTGAAGACTGAGGACACGGCCACATATTACTGTGCGA\n",
      "324|IGHV15-2*01|Felis_catus_Abyssinian|F|V-REGION||97 AA|||||||||\n",
      "DVQLVESGG.DLVKPGGSLRLTCVASGFTF....SGNSMNWVRQAPGRGLQWVAYISGT..GGIIKYADSVK.GRFTISRDNARNTLYLQMNSLKTEDTATYYCA\n",
      "GATGTGCAGCTGGTGGAATCTGGGGGAGACCTGGTGAAGCCTGGGGGGTCCCTGAGACTCACCTGTGTGGCCTCTGGATTCACCTTCAGTGGCAATAGCATGAACTGGGTCCGCCAGGCTCCAGGGAGGGGACTGCAGTGGGTCGCATATATCAGTGGAACTGGAGGTATCATAAAGTACGCAGACTCCGTGAAGGGCCGATTCACCATCTCCAGAGACAACGCCAGAAACACGTTGTATCTGCAGATGAACAGCCTGAAGACCGAGGACACGGCCACATATTACTGTGCGG\n",
      "327|IGHV16-1*01|Felis_catus_Abyssinian|F|V-REGION||95 AA|||||||||\n",
      "QLTLRESGP.GLVKPSQYLSLTCVVSGGSVT...SYYYWNWIRQRPGRGLEWLGYWSG.....STYYNPAFQ.GRISITADTAQNQLSLQLSSMTAEDTAVYYCA\n",
      "CAACTTACACTTCGGGAGTCCGGCCCAGGACTGGTGAAGCCTTCACAATACCTCTCTCTCACCTGCGTTGTCTCCGGAGGCTCTGTTACTAGTTATTACTACTGGAACTGGATCCGCCAGCGCCCTGGGAGAGGGTTGGAGTGGCTGGGGTACTGGTCAGGTAGCACCTACTACAACCCGGCTTTCCAGGGCCGCATCTCCATCACTGCTGACACAGCCCAGAACCAGTTGTCCCTGCAGCTGAGTTCCATGACCGCCGAGGACACGGCCGTATATTACTGTGCAA\n",
      "329|IGHV16-2*01|Felis_catus_Abyssinian|F|V-REGION||97 AA|||||||||\n",
      "DVQLVESGG.DLVKPGGSLRLTCVASGFTF....SSAYMSWVRQAPGKGLQWVAYIGGG..GGPITYADSVK.GRFTISRDDAKNTLYLQMNSLKTEDTATYYCA\n",
      "GATGTGCAGTTGGTGGAGTCTGGGGGAGACCTGGTGAAGCCTGGGGGGTCCCTGAGACTCACCTGTGTAGCCTCTGGATTCACCTTCAGTAGCGCCTACATGAGCTGGGTCCGCCAGGCTCCAGGGAAGGGACTACAGTGGGTCGCATATATTGGTGGTGGTGGAGGTCCCATAACCTACGCAGACTCCGTGAAGGGCCGCTTCACCATCTCCAGAGACGACGCCAAGAACACGCTGTATCTGCAGATGAATAGTCTGAAGACCGAGGACACGGCCACATATTACTGTGCAA\n"
     ]
    },
    {
     "name": "stderr",
     "output_type": "stream",
     "text": [
      "/Users/jwillis/miniconda3/envs/bfx-bp-antibody/lib/python3.8/site-packages/Bio/Seq.py:2573: BiopythonWarning: Partial codon, len(sequence) not a multiple of three. Explicitly trim the sequence or add trailing N before translation. This may become an error in future.\n",
      "  warnings.warn(\"Partial codon, len(sequence) not a multiple of three. \"\n",
      "/Users/jwillis/miniconda3/envs/bfx-bp-antibody/lib/python3.8/site-packages/Bio/Seq.py:2573: BiopythonWarning: Partial codon, len(sequence) not a multiple of three. Explicitly trim the sequence or add trailing N before translation. This may become an error in future.\n",
      "  warnings.warn(\"Partial codon, len(sequence) not a multiple of three. \"\n",
      "/Users/jwillis/miniconda3/envs/bfx-bp-antibody/lib/python3.8/site-packages/Bio/Seq.py:2573: BiopythonWarning: Partial codon, len(sequence) not a multiple of three. Explicitly trim the sequence or add trailing N before translation. This may become an error in future.\n",
      "  warnings.warn(\"Partial codon, len(sequence) not a multiple of three. \"\n",
      "/Users/jwillis/miniconda3/envs/bfx-bp-antibody/lib/python3.8/site-packages/Bio/Seq.py:2573: BiopythonWarning: Partial codon, len(sequence) not a multiple of three. Explicitly trim the sequence or add trailing N before translation. This may become an error in future.\n",
      "  warnings.warn(\"Partial codon, len(sequence) not a multiple of three. \"\n"
     ]
    },
    {
     "name": "stdout",
     "output_type": "stream",
     "text": [
      "330|IGHV17-1*01|Felis_catus_Abyssinian|F|V-REGION||97 AA|||||||||\n",
      "DVQLVESGG.DLVKPGGSLRLTCVASGFTF....SSYAMSWVRQAPGKGLRWVAAISSS..GGSTYYADSVK.GRFTISRDNAKNTLYLQMDSLKTEDTATYYCA\n",
      "GACGTGCAGTTGGTGGAGTCTGGGGGAGACCTGGTGAAGCCCGGGGGGTCCCTGAGACTCACCTGTGTGGCCTCTGGATTCACCTTCAGTAGCTATGCAATGAGCTGGGTCCGCCAGGCTCCAGGGAAGGGACTGCGGTGGGTCGCAGCAATTAGTAGTAGTGGAGGTAGCACATACTACGCAGACTCCGTGAAGGGCCGATTCACCATCTCCAGAGACAACGCCAAGAACACGCTGTATCTGCAGATGGACAGCCTGAAGACCGAGGACACGGCCACATATTACTGTGCGA\n",
      "331|IGHV17-2*01|Felis_catus_Abyssinian|F|V-REGION||97 AA|||||||||\n",
      "DVQLVESGG.DLVKPGGSLTLTCVASGFTF....SNYYMHWVRQVPGKGLQWVAEIHRS..GTPAKYAESMR.DRFIISRDNSKNTLYLQMYDLKTEDTATYYCA\n",
      "GACGTGCAGTTGGTGGAGTCTGGGGGAGACCTGGTGAAGCCCGGGGGGTCCCTGACACTCACCTGTGTGGCCTCTGGATTCACCTTCAGTAACTACTACATGCACTGGGTCCGCCAGGTTCCAGGGAAGGGGCTGCAGTGGGTCGCAGAAATTCATCGGAGTGGAACTCCCGCAAAATATGCAGAGTCCATGAGGGACCGATTCATCATCTCCAGAGACAATTCCAAGAATACGCTGTATCTGCAGATGTATGATCTGAAGACCGAGGACACGGCCACGTATTACTGTGCGA\n",
      "332|IGHV18-1*01|Felis_catus_Abyssinian|F|V-REGION||97 AA|||||||||\n",
      "DVQLVESGG.DLVKPGGSLRLTCVASGFTL....SSFYMNWVRQAPGKGLQWVSWINTE..GGSTSYADSVK.GRFTISRDNSKNTLYLQMNNLKTEDAATYYCS\n",
      "GACGTGCAGCTGGTGGAGTCTGGAGGAGACCTGGTGAAGCCTGGGGGGTCCCTGAGACTCACCTGTGTAGCCTCTGGATTCACCCTCAGTAGTTTCTACATGAATTGGGTCCGCCAGGCTCCAGGGAAGGGGCTGCAGTGGGTCTCATGGATCAATACTGAGGGAGGAAGCACAAGCTATGCAGACTCCGTGAAGGGCCGTTTCACCATCTCCAGAGACAACTCCAAGAACACGCTGTATCTGCAGATGAACAACCTCAAGACCGAGGACGCGGCCACATATTACTGTTCAC\n",
      "333|IGHV18-2*01|Felis_catus_Abyssinian|F|V-REGION||95 AA|||||||||\n",
      "QLTLRESGP.GLVRPSQSLSLTCVVSGGSVT...GSYYWNWIRQRPGRGLEWLGYWSG.....STTHNPAFQ.GRISITPDTAQNQFSLHLTSMTTEDTAVYYCA\n",
      "CAACTTACACTTCGGGAGTCCGGCCCAGGACTGGTGAGGCCTTCACAATCCCTCTCTCTCACCTGCGTTGTCTCCGGAGGCTCTGTTACCGGCAGTTACTACTGGAACTGGATCCGCCAACGCCCTGGGCGAGGGTTGGAGTGGCTGGGATACTGGTCAGGTAGCACCACCCACAACCCGGCTTTCCAGGGCCGCATCTCCATCACTCCTGACACAGCCCAGAACCAGTTCTCCCTGCACCTGACCTCCATGACCACCGAAGACACGGCCGTGTATTACTGTGCCG\n"
     ]
    },
    {
     "name": "stderr",
     "output_type": "stream",
     "text": [
      "/Users/jwillis/miniconda3/envs/bfx-bp-antibody/lib/python3.8/site-packages/Bio/Seq.py:2573: BiopythonWarning: Partial codon, len(sequence) not a multiple of three. Explicitly trim the sequence or add trailing N before translation. This may become an error in future.\n",
      "  warnings.warn(\"Partial codon, len(sequence) not a multiple of three. \"\n",
      "/Users/jwillis/miniconda3/envs/bfx-bp-antibody/lib/python3.8/site-packages/Bio/Seq.py:2573: BiopythonWarning: Partial codon, len(sequence) not a multiple of three. Explicitly trim the sequence or add trailing N before translation. This may become an error in future.\n",
      "  warnings.warn(\"Partial codon, len(sequence) not a multiple of three. \"\n",
      "/Users/jwillis/miniconda3/envs/bfx-bp-antibody/lib/python3.8/site-packages/Bio/Seq.py:2573: BiopythonWarning: Partial codon, len(sequence) not a multiple of three. Explicitly trim the sequence or add trailing N before translation. This may become an error in future.\n",
      "  warnings.warn(\"Partial codon, len(sequence) not a multiple of three. \"\n",
      "/Users/jwillis/miniconda3/envs/bfx-bp-antibody/lib/python3.8/site-packages/Bio/Seq.py:2573: BiopythonWarning: Partial codon, len(sequence) not a multiple of three. Explicitly trim the sequence or add trailing N before translation. This may become an error in future.\n",
      "  warnings.warn(\"Partial codon, len(sequence) not a multiple of three. \"\n"
     ]
    },
    {
     "name": "stdout",
     "output_type": "stream",
     "text": [
      "334|IGHV19-1*01|Felis_catus_Abyssinian|F|V-REGION||97 AA|||||||||\n",
      "DVQLVESGG.DLVKPGGSLRLTCVASGFTF....SNLAMSWVRQAPGKGLQWVSGISYD..GTNTGYADSVK.GRFTISRDSAKNTLYLQMNSLRTEDTGTYYCV\n",
      "GACGTGCAGCTGGTGGAGTCTGGGGGAGACCTGGTGAAGCCTGGGGGGTCCCTGAGACTCACTTGTGTGGCCTCTGGATTCACCTTCAGTAACCTTGCAATGAGCTGGGTCCGCCAGGCTCCAGGGAAGGGGCTGCAGTGGGTCTCAGGCATTAGTTATGATGGAACTAACACAGGCTACGCGGACTCCGTGAAGGGCCGATTCACCATCTCCAGAGACAGCGCCAAGAACACACTCTATCTGCAGATGAACAGCCTCAGGACCGAGGACACGGGCACATATTACTGTGTGA\n",
      "335|IGHV19-2*01|Felis_catus_Abyssinian|F|V-REGION||97 AA|||||||||\n",
      "DVQLVESGG.DLVKPGGSLRLTCVASGFTF....SRYSVNWVRQAPGKGLQWVAYINTN..GHTIYYEDSVK.GRFTISRDNAKNTLYLQMNGLRTEDTATYYCA\n",
      "GATGTGCAGTTGGTGGAATCTGGGGGAGACCTGGTGAAGCCTGGGGGGTCCCTGAGACTCACCTGTGTGGCCTCTGGATTCACCTTCAGTCGTTATAGCGTGAATTGGGTCCGCCAGGCTCCAGGGAAGGGGCTGCAGTGGGTCGCATATATTAACACTAATGGACATACTATATACTATGAAGACTCCGTGAAGGGCCGATTCACCATCTCCAGAGACAACGCCAAGAACACGCTGTATCTGCAGATGAACGGCCTGAGGACCGAGGACACGGCCACATACTACTGTGCGA\n",
      "440|IGHV2-1*01|Felis_catus_Abyssinian|F|V-REGION||96 AA|||||||||\n",
      "DVQLVESGG.DLVHPGGSLRLTCVASGFTF....SVYEMNWVRQAPGKGLQWVAYINKG...GKTHYADSVK.GRFTISRDNAKNTLYLDMNTLKTEDTAKYYCT\n",
      "GACGTACAACTGGTGGAGTCTGGGGGAGACCTGGTGCACCCTGGGGGGTCCCTGAGACTCACCTGTGTGGCCTCTGGATTCACCTTCAGTGTCTATGAAATGAACTGGGTCCGCCAGGCTCCAGGGAAGGGGTTGCAGTGGGTCGCATATATTAATAAGGGAGGTAAGACGCACTATGCAGACTCCGTGAAGGGCCGATTCACCATCTCCAGAGACAACGCCAAGAACACACTGTATCTGGACATGAATACACTCAAGACCGAGGACACGGCCAAATATTACTGTACGG\n",
      "448|IGHV2-2*01|Felis_catus_Abyssinian|F|V-REGION||97 AA|||||||||\n",
      "DVQLVESGG.DVVKPGGSLRLTCVASGVPV....SRYGMNWVRQAPGKGLQWVAYIDNS..GGTTTYADSVK.GRFTISRDNAKSTLYLQMTGLKTEDTATYYCA\n",
      "GATGTGCAGCTGGTGGAGTCGGGGGGCGACGTGGTGAAGCCTGGGGGGTCCCTGAGACTCACCTGTGTGGCCTCTGGAGTCCCCGTCAGTCGTTATGGCATGAACTGGGTCCGCCAGGCTCCAGGGAAGGGACTACAGTGGGTCGCATATATAGACAATAGTGGGGGTACCACAACTTACGCAGACTCCGTGAAGGGCCGATTCACCATCTCCAGAGACAACGCCAAGAGCACGCTGTATCTGCAGATGACTGGCCTGAAGACCGAGGACACGGCCACATATTACTGTGCGA\n"
     ]
    },
    {
     "name": "stderr",
     "output_type": "stream",
     "text": [
      "/Users/jwillis/miniconda3/envs/bfx-bp-antibody/lib/python3.8/site-packages/Bio/Seq.py:2573: BiopythonWarning: Partial codon, len(sequence) not a multiple of three. Explicitly trim the sequence or add trailing N before translation. This may become an error in future.\n",
      "  warnings.warn(\"Partial codon, len(sequence) not a multiple of three. \"\n",
      "/Users/jwillis/miniconda3/envs/bfx-bp-antibody/lib/python3.8/site-packages/Bio/Seq.py:2573: BiopythonWarning: Partial codon, len(sequence) not a multiple of three. Explicitly trim the sequence or add trailing N before translation. This may become an error in future.\n",
      "  warnings.warn(\"Partial codon, len(sequence) not a multiple of three. \"\n",
      "/Users/jwillis/miniconda3/envs/bfx-bp-antibody/lib/python3.8/site-packages/Bio/Seq.py:2573: BiopythonWarning: Partial codon, len(sequence) not a multiple of three. Explicitly trim the sequence or add trailing N before translation. This may become an error in future.\n",
      "  warnings.warn(\"Partial codon, len(sequence) not a multiple of three. \"\n",
      "/Users/jwillis/miniconda3/envs/bfx-bp-antibody/lib/python3.8/site-packages/Bio/Seq.py:2573: BiopythonWarning: Partial codon, len(sequence) not a multiple of three. Explicitly trim the sequence or add trailing N before translation. This may become an error in future.\n",
      "  warnings.warn(\"Partial codon, len(sequence) not a multiple of three. \"\n"
     ]
    },
    {
     "name": "stdout",
     "output_type": "stream",
     "text": [
      "549|IGHV20-1*01|Felis_catus_Abyssinian|F|V-REGION||97 AA|||||||||\n",
      "DVQLVESGG.DLVKPGGSLRLTCVASGFTF....SSHGMHWVRQAPGKGLQWVTHINKN..GRNIHHADSVK.GRFTISRDNAKNTVSLQMDSLKTEDTATYYCV\n",
      "GATGTGCAGCTGGTGGAATCTGGGGGAGACCTGGTGAAGCCTGGGGGGTCCCTGAGACTCACCTGTGTGGCCTCTGGATTCACCTTCAGTAGTCATGGCATGCACTGGGTCCGCCAGGCTCCAGGAAAGGGGCTGCAGTGGGTCACACATATTAATAAGAATGGACGCAACATTCACCACGCAGACTCCGTGAAGGGCCGATTCACCATCTCCAGAGACAACGCCAAGAACACAGTGTCTCTGCAGATGGACAGCCTGAAGACCGAGGACACGGCCACATATTACTGTGTGA\n",
      "550|IGHV20-2*01|Felis_catus_Abyssinian|F|V-REGION||95 AA|||||||||\n",
      "DVQLVESGG.DLVKPGGSLRLACVVSGFNV....GSIAMTWVRQTPGKGLQWVSTISG....RNTYYGDSVR.GRFTISKDDAENTLYLQMNSLKTEDTATYYCT\n",
      "GACGTGCAGCTGGTGGAGTCTGGAGGAGACCTGGTGAAGCCTGGGGGGTCCCTGAGACTCGCCTGTGTAGTCTCTGGATTCAACGTCGGTAGCATTGCGATGACCTGGGTCCGCCAGACTCCAGGAAAGGGGCTGCAGTGGGTCTCTACAATCAGTGGACGTAATACATACTACGGAGACTCCGTGAGGGGCCGATTCACCATCTCCAAAGACGACGCCGAGAACACGCTATATCTGCAGATGAACAGTCTGAAGACCGAGGACACGGCCACATATTACTGTACAA\n",
      "551|IGHV21-1*01|Felis_catus_Abyssinian|F|V-REGION||97 AA|||||||||\n",
      "DVQLVESGG.DLVKPGGSLRLTCVASGFTF....GSNHMNWVRQAPGMELQWVSWINPD..GSDTNYADSVK.GRFTISRDNSKNTLYLQMNSLKTEDTATYYCT\n",
      "GACGTGCAGCTGGTGGAGTCTGGAGGAGACCTGGTGAAGCCGGGGGGGTCCCTGAGACTCACCTGTGTAGCCTCTGGATTTACCTTTGGTAGCAACCACATGAACTGGGTCCGCCAGGCTCCAGGGATGGAGCTGCAGTGGGTCTCATGGATTAATCCTGATGGAAGTGACACAAACTATGCAGACTCCGTGAAGGGCCGATTCACCATCTCCAGAGACAATTCCAAGAACACGCTGTATCTGCAGATGAACAGCCTCAAGACCGAGGACACGGCCACATACTACTGTACGA\n",
      "552|IGHV21-2*01|Felis_catus_Abyssinian|F|V-REGION||97 AA|||||||||\n",
      "DVQLVESGG.DLVKPGGSLRLTCVGSGFTL....RSYWMNWVRQAPGEGLQWVSAINGN..GGSIGYADSVK.GRFTISRDNAKNTLYLQMNSLQTEDTASYYCA\n",
      "GACGTGCAGCTGGTGGAGTCTGGGGGAGACCTGGTAAAGCCTGGGGGGTCCCTGAGACTCACCTGTGTAGGCTCTGGATTCACCCTCAGGAGCTATTGGATGAACTGGGTCCGCCAGGCTCCTGGGGAGGGGCTGCAGTGGGTCTCAGCGATTAATGGAAATGGAGGTAGCATAGGCTACGCAGACTCCGTGAAGGGCCGATTCACCATCTCCAGAGACAACGCCAAGAACACGCTGTATCTACAGATGAACAGCCTCCAGACCGAGGACACGGCCTCATATTACTGTGCGA\n"
     ]
    },
    {
     "name": "stderr",
     "output_type": "stream",
     "text": [
      "/Users/jwillis/miniconda3/envs/bfx-bp-antibody/lib/python3.8/site-packages/Bio/Seq.py:2573: BiopythonWarning: Partial codon, len(sequence) not a multiple of three. Explicitly trim the sequence or add trailing N before translation. This may become an error in future.\n",
      "  warnings.warn(\"Partial codon, len(sequence) not a multiple of three. \"\n",
      "/Users/jwillis/miniconda3/envs/bfx-bp-antibody/lib/python3.8/site-packages/Bio/Seq.py:2573: BiopythonWarning: Partial codon, len(sequence) not a multiple of three. Explicitly trim the sequence or add trailing N before translation. This may become an error in future.\n",
      "  warnings.warn(\"Partial codon, len(sequence) not a multiple of three. \"\n",
      "/Users/jwillis/miniconda3/envs/bfx-bp-antibody/lib/python3.8/site-packages/Bio/Seq.py:2573: BiopythonWarning: Partial codon, len(sequence) not a multiple of three. Explicitly trim the sequence or add trailing N before translation. This may become an error in future.\n",
      "  warnings.warn(\"Partial codon, len(sequence) not a multiple of three. \"\n",
      "/Users/jwillis/miniconda3/envs/bfx-bp-antibody/lib/python3.8/site-packages/Bio/Seq.py:2573: BiopythonWarning: Partial codon, len(sequence) not a multiple of three. Explicitly trim the sequence or add trailing N before translation. This may become an error in future.\n",
      "  warnings.warn(\"Partial codon, len(sequence) not a multiple of three. \"\n"
     ]
    },
    {
     "name": "stdout",
     "output_type": "stream",
     "text": [
      "553|IGHV22-1*01|Felis_catus_Abyssinian|F|V-REGION||95 AA|||||||||\n",
      "QLTLRESGP.GLVKPSQSLSLTCVVSGGSVS...STYYWKWIRQRPGRGLEWLGYWSS.....RTNYNPAFQ.GRISITADTAQNQFSLHLSSMTTEDTAVYYCA\n",
      "CAACTTACACTTCGGGAGTCCGGCCCAGGACTGGTGAAGCCTTCACAATCCCTCTCTCTCACCTGCGTTGTCTCCGGAGGCTCTGTTAGCAGCACTTACTACTGGAAGTGGATCCGCCAGCGCCCTGGGAGAGGATTGGAGTGGCTGGGATACTGGTCAAGTCGCACCAACTACAACCCGGCTTTCCAGGGCCGCATCTCCATCACTGCTGACACAGCCCAGAACCAGTTCTCCCTGCACCTGAGCTCCATGACTACCGAAGACACGGCCGTGTATTATTGTGCCA\n",
      "554|IGHV22-2*01|Felis_catus_Abyssinian|F|V-REGION||97 AA|||||||||\n",
      "DVQLVESGG.DLVKPGGSLRLTCVASGFTF....SRYGMSWVRQAPGKGLQWVAYIRHD..GSGTYYADSVK.GRFTISRDNANNTLHLHMTSLRTEDTATYFCA\n",
      "GACGTGCAGCTGGTGGAGTCTGGGGGAGACCTGGTGAAGCCTGGGGGGTCCCTGAGACTCACCTGTGTGGCCTCTGGATTCACTTTCAGTCGCTATGGAATGAGCTGGGTCCGCCAGGCTCCAGGGAAGGGGCTGCAGTGGGTCGCATATATTAGACACGATGGAAGTGGCACCTACTATGCAGACTCCGTGAAGGGCCGATTCACCATCTCCAGAGACAACGCCAACAACACGCTACATCTGCACATGACCAGCCTCAGGACCGAGGACACGGCCACATATTTCTGTGCGA\n",
      "555|IGHV23-1*01|Felis_catus_Abyssinian|F|V-REGION||97 AA|||||||||\n",
      "DVQLVESGG.DLVKPGGSLRLTCVASEFTF....SAYYMHWVRQAPRKGLQWVARISNS..GSTAYNTDSVK.GRFTISRDNAKNTVYLQMNSLKTEDTATYYCA\n",
      "GATGTGCAGCTGGTGGAATCTGGGGGAGACCTGGTGAAGCCTGGGGGGTCCCTGAGACTCACCTGTGTGGCCTCTGAATTCACCTTCAGTGCCTACTACATGCACTGGGTCCGCCAGGCTCCAAGGAAGGGGCTGCAATGGGTCGCACGAATTAGTAATAGCGGAAGTACCGCATACAACACAGACTCCGTGAAGGGCCGATTCACCATCTCCAGAGACAACGCCAAGAACACGGTCTATCTGCAGATGAACAGCCTGAAGACCGAAGACACGGCCACGTATTACTGTGCGA\n",
      "556|IGHV23-2*01|Felis_catus_Abyssinian|F|V-REGION||95 AA|||||||||\n",
      "QLTLRESGP.GLVKPSQSLSLTCVVSGDSIT...TTYYWNWIRQRPGSGLEWLGYWSR.....RTSYNRAFQ.GRISITADTAQNQFSLHLSSVTTEDTAVYYCA\n",
      "CAACTTACACTTCGGGAGTCCGGCCCAGGACTGGTGAAGCCTTCACAATCCCTCTCTCTCACCTGCGTTGTCTCCGGAGACTCTATTACCACCACCTACTACTGGAATTGGATCCGCCAGCGCCCTGGCAGCGGCTTGGAGTGGCTGGGCTACTGGTCACGTCGCACCAGCTACAACCGGGCTTTCCAGGGCCGCATCTCCATCACTGCTGACACAGCCCAGAACCAGTTCTCCCTGCACCTGAGTTCCGTGACCACCGAGGACACGGCCGTATATTACTGCGCAA\n"
     ]
    },
    {
     "name": "stderr",
     "output_type": "stream",
     "text": [
      "/Users/jwillis/miniconda3/envs/bfx-bp-antibody/lib/python3.8/site-packages/Bio/Seq.py:2573: BiopythonWarning: Partial codon, len(sequence) not a multiple of three. Explicitly trim the sequence or add trailing N before translation. This may become an error in future.\n",
      "  warnings.warn(\"Partial codon, len(sequence) not a multiple of three. \"\n",
      "/Users/jwillis/miniconda3/envs/bfx-bp-antibody/lib/python3.8/site-packages/Bio/Seq.py:2573: BiopythonWarning: Partial codon, len(sequence) not a multiple of three. Explicitly trim the sequence or add trailing N before translation. This may become an error in future.\n",
      "  warnings.warn(\"Partial codon, len(sequence) not a multiple of three. \"\n",
      "/Users/jwillis/miniconda3/envs/bfx-bp-antibody/lib/python3.8/site-packages/Bio/Seq.py:2573: BiopythonWarning: Partial codon, len(sequence) not a multiple of three. Explicitly trim the sequence or add trailing N before translation. This may become an error in future.\n",
      "  warnings.warn(\"Partial codon, len(sequence) not a multiple of three. \"\n",
      "/Users/jwillis/miniconda3/envs/bfx-bp-antibody/lib/python3.8/site-packages/Bio/Seq.py:2573: BiopythonWarning: Partial codon, len(sequence) not a multiple of three. Explicitly trim the sequence or add trailing N before translation. This may become an error in future.\n",
      "  warnings.warn(\"Partial codon, len(sequence) not a multiple of three. \"\n"
     ]
    },
    {
     "name": "stdout",
     "output_type": "stream",
     "text": [
      "557|IGHV24-1*01|Felis_catus_Abyssinian|F|V-REGION||97 AA|||||||||\n",
      "DVQLVESGG.DLVKPGGSLRLTCVASGLTF....STYSMSWVRQAPGKGLQWVADVSES..GGKIDYADSVK.GRFTISRDNAKNTLYLQMNSLKTEDTATYYCA\n",
      "GACGTGCAATTGGTGGAGTCTGGGGGAGACCTGGTGAAGCCCGGGGGGTCCCTGAGACTCACCTGTGTGGCCTCTGGACTCACCTTCAGTACCTATTCAATGAGCTGGGTCCGCCAGGCTCCAGGGAAGGGGCTGCAGTGGGTCGCAGATGTTAGTGAGAGTGGAGGTAAAATAGACTACGCAGACTCCGTGAAGGGCCGATTCACCATCTCCAGAGACAATGCCAAGAACACGCTGTATCTGCAGATGAACAGCCTCAAGACCGAGGACACGGCCACATATTACTGTGCCA\n",
      "558|IGHV24-2*01|Felis_catus_Abyssinian|F|V-REGION||97 AA|||||||||\n",
      "QVLLVQSGA.EVRKPGASVKIFCKASGYGF....TDYYIHWLRQFPAQGFEWLGRIDPE..YGSTYYAQNFQ.GRLTLTADTSTNTAYMELSSLRSADTAVYYCA\n",
      "CAGGTTTTGCTGGTGCAGTCTGGGGCTGAAGTGCGGAAGCCTGGGGCATCAGTGAAGATCTTCTGCAAAGCATCTGGATACGGCTTCACTGATTACTATATACACTGGTTGCGACAGTTTCCTGCTCAAGGGTTTGAGTGGCTGGGAAGGATTGACCCTGAATATGGTTCTACATACTATGCACAGAACTTCCAGGGCAGACTCACCCTGACAGCAGACACATCCACAAACACAGCCTACATGGAGCTGAGCAGTCTGAGGTCTGCAGACACAGCCGTGTATTACTGTGCAA\n",
      "559|IGHV25-1*01|Felis_catus_Abyssinian|F|V-REGION||97 AA|||||||||\n",
      "DVQLVESGG.DLVKPGGSQRLTCVASGFTF....SRYSMNWVRQAPGKGLQWVAYISNS..GGNIYYSDSVK.GRFTISRDNAKNTLYLQMNSLRTEDTATYYCA\n",
      "GATGTGCAGCTGGTGGAATCTGGGGGAGACCTGGTGAAGCCTGGGGGGTCCCAGAGACTCACCTGTGTGGCCTCTGGGTTCACCTTCAGTAGGTATAGCATGAACTGGGTCCGCCAGGCTCCAGGGAAGGGGCTGCAGTGGGTCGCATATATTAGTAATAGTGGAGGTAACATATACTACTCAGACTCCGTGAAGGGCCGATTCACCATCTCCAGAGACAACGCCAAGAACACACTGTATCTGCAGATGAACAGCCTGAGGACCGAGGACACGGCCACATATTATTGTGCGA\n",
      "560|IGHV25-2*01|Felis_catus_Abyssinian|F|V-REGION||97 AA|||||||||\n",
      "DVQLVEAGG.DLVKPGGSLRLTCVASGFTF....SSHYMAWVRQAPGKGLQWVAYINTD..GTTTRYADSLK.GRFTISRDNAKKTLSLQMNSLKTEDTATYFCA\n",
      "GACGTACAACTGGTGGAGGCTGGAGGAGACCTGGTGAAGCCTGGGGGGTCCCTGAGACTCACCTGTGTGGCCTCTGGATTCACCTTCAGTAGTCACTACATGGCCTGGGTCCGCCAGGCTCCAGGAAAGGGGCTGCAGTGGGTCGCATATATTAATACTGATGGAACTACCACACGCTACGCAGACTCCTTGAAGGGCCGATTCACCATCTCCAGAGACAACGCCAAGAAGACGCTGTCTCTCCAGATGAACAGCCTCAAGACCGAAGACACGGCCACATATTTTTGTGCGA\n"
     ]
    },
    {
     "name": "stderr",
     "output_type": "stream",
     "text": [
      "/Users/jwillis/miniconda3/envs/bfx-bp-antibody/lib/python3.8/site-packages/Bio/Seq.py:2573: BiopythonWarning: Partial codon, len(sequence) not a multiple of three. Explicitly trim the sequence or add trailing N before translation. This may become an error in future.\n",
      "  warnings.warn(\"Partial codon, len(sequence) not a multiple of three. \"\n",
      "/Users/jwillis/miniconda3/envs/bfx-bp-antibody/lib/python3.8/site-packages/Bio/Seq.py:2573: BiopythonWarning: Partial codon, len(sequence) not a multiple of three. Explicitly trim the sequence or add trailing N before translation. This may become an error in future.\n",
      "  warnings.warn(\"Partial codon, len(sequence) not a multiple of three. \"\n",
      "/Users/jwillis/miniconda3/envs/bfx-bp-antibody/lib/python3.8/site-packages/Bio/Seq.py:2573: BiopythonWarning: Partial codon, len(sequence) not a multiple of three. Explicitly trim the sequence or add trailing N before translation. This may become an error in future.\n",
      "  warnings.warn(\"Partial codon, len(sequence) not a multiple of three. \"\n",
      "/Users/jwillis/miniconda3/envs/bfx-bp-antibody/lib/python3.8/site-packages/Bio/Seq.py:2573: BiopythonWarning: Partial codon, len(sequence) not a multiple of three. Explicitly trim the sequence or add trailing N before translation. This may become an error in future.\n",
      "  warnings.warn(\"Partial codon, len(sequence) not a multiple of three. \"\n"
     ]
    },
    {
     "name": "stdout",
     "output_type": "stream",
     "text": [
      "561|IGHV26-1*01|Felis_catus_Abyssinian|F|V-REGION||97 AA|||||||||\n",
      "DVQLVESGG.DLVKPGGSLRLTCVASGFTL....SSFYMNWVRQAPGKGLQWVSWINTE..GGSTSYADSVK.GRFTISRDNSKNTLYLQMNNLKTEDAATYYCS\n",
      "GACGTGCAGCTGGTGGAGTCTGGAGGAGACCTGGTGAAGCCTGGGGGGTCCCTGAGACTCACCTGTGTAGCCTCTGGATTCACCCTCAGTAGTTTCTACATGAATTGGGTCCGCCAGGCTCCAGGGAAGGGGCTGCAGTGGGTCTCATGGATCAATACTGAGGGAGGAAGCACAAGCTATGCAGACTCCGTGAAGGGCCGTTTCACCATCTCCAGAGACAACTCCAAGAACACGCTGTATCTGCAGATGAACAACCTCAAGACCGAGGACGCGGCCACATATTACTGTTCAC\n",
      "562|IGHV26-2*01|Felis_catus_Abyssinian|F|V-REGION||97 AA|||||||||\n",
      "DVQLVESGG.DLVKPGGSLRLTCVASGFTF....RSYWMNWVRQAPGKGLQWVSAISGN..GGSTGYADSVK.GRFTISRDNAKNTLYLQMNSLKTEDTATYMCA\n",
      "GACGTGCAGCTGGTGGAGTCTGGGGGAGACCTGGTGAAGCCTGGGGGGTCCCTGAGACTCACCTGTGTAGCCTCTGGATTCACCTTCAGGAGCTATTGGATGAACTGGGTCCGCCAGGCTCCTGGGAAGGGGCTGCAGTGGGTCTCAGCAATTAGTGGTAATGGAGGTAGCACAGGCTACGCAGACTCCGTGAAGGGCCGATTCACCATCTCCAGAGACAACGCCAAGAACACGCTGTATCTGCAGATGAACAGCCTCAAGACCGAGGACACGGCCACATATATGTGTGCGG\n",
      "563|IGHV27-1*01|Felis_catus_Abyssinian|F|V-REGION||96 AA|||||||||\n",
      "DVQLVESGG.DLVQPGGSLRLTCVASGFTF....SSYEMNWVRQAPGKGLQWVTYVTSG...GYTYYADSVK.GRFTISRDNAKNTLYLQMNSLTTEDTATYYCV\n",
      "GACGTGCAGCTGGTGGAGTCTGGGGGAGACCTGGTGCAGCCTGGGGGGTCCCTGAGACTCACCTGTGTGGCCTCTGGATTCACCTTCAGTAGTTATGAAATGAACTGGGTCCGCCAGGCTCCAGGGAAGGGTCTGCAGTGGGTCACATATGTTACTAGTGGAGGTTACACATACTACGCAGACTCCGTGAAGGGCCGATTCACCATCTCCAGAGACAACGCCAAGAACACCCTGTATCTGCAGATGAACAGCCTGACGACCGAGGACACGGCCACATATTATTGTGTGA\n",
      "564|IGHV27-2*01|Felis_catus_Abyssinian|F|V-REGION||97 AA|||||||||\n",
      "DVQLVESGG.DLVKPGGSLRLTCVASGFTF....SSYSMNWVRQAPGKGLQWVATISGA..GGATIYADSVK.GRFTISIDNAENTLYLQMDSLRTEDTATYFCA\n",
      "GATGTGCAGTTGGTGGAGTCTGGAGGAGACCTGGTGAAGCCTGGGGGGTCCCTGAGACTCACCTGTGTGGCCTCTGGATTCACCTTCAGTAGCTATAGCATGAACTGGGTCCGCCAGGCTCCAGGGAAGGGGCTGCAGTGGGTCGCAACAATTAGTGGTGCTGGTGGTGCCACAATTTACGCAGACTCCGTAAAGGGCCGATTCACCATCTCCATCGACAACGCCGAAAACACATTGTATCTACAGATGGACAGCCTGAGGACTGAGGACACGGCCACATATTTCTGTGCGA\n"
     ]
    },
    {
     "name": "stderr",
     "output_type": "stream",
     "text": [
      "/Users/jwillis/miniconda3/envs/bfx-bp-antibody/lib/python3.8/site-packages/Bio/Seq.py:2573: BiopythonWarning: Partial codon, len(sequence) not a multiple of three. Explicitly trim the sequence or add trailing N before translation. This may become an error in future.\n",
      "  warnings.warn(\"Partial codon, len(sequence) not a multiple of three. \"\n",
      "/Users/jwillis/miniconda3/envs/bfx-bp-antibody/lib/python3.8/site-packages/Bio/Seq.py:2573: BiopythonWarning: Partial codon, len(sequence) not a multiple of three. Explicitly trim the sequence or add trailing N before translation. This may become an error in future.\n",
      "  warnings.warn(\"Partial codon, len(sequence) not a multiple of three. \"\n",
      "/Users/jwillis/miniconda3/envs/bfx-bp-antibody/lib/python3.8/site-packages/Bio/Seq.py:2573: BiopythonWarning: Partial codon, len(sequence) not a multiple of three. Explicitly trim the sequence or add trailing N before translation. This may become an error in future.\n",
      "  warnings.warn(\"Partial codon, len(sequence) not a multiple of three. \"\n",
      "/Users/jwillis/miniconda3/envs/bfx-bp-antibody/lib/python3.8/site-packages/Bio/Seq.py:2573: BiopythonWarning: Partial codon, len(sequence) not a multiple of three. Explicitly trim the sequence or add trailing N before translation. This may become an error in future.\n",
      "  warnings.warn(\"Partial codon, len(sequence) not a multiple of three. \"\n"
     ]
    },
    {
     "name": "stdout",
     "output_type": "stream",
     "text": [
      "565|IGHV28-1*01|Felis_catus_Abyssinian|F|V-REGION||97 AA|||||||||\n",
      "DEQLVESGG.DLVKPGGSLRLTCVASGFNV....GSYGMSWVRQAPGKGLQWVARIGGN..GGSTGYADSVK.GRFTISIDNAKNTLYLQMDSLKTEDTATYYCT\n",
      "GACGAGCAGCTGGTGGAGTCTGGGGGAGACCTGGTGAAGCCTGGGGGGTCCCTGAGACTCACCTGTGTGGCCTCTGGATTCAATGTCGGTAGCTATGGAATGAGCTGGGTCCGCCAGGCTCCAGGAAAGGGGCTGCAGTGGGTCGCGCGTATTGGTGGTAATGGAGGTAGTACAGGCTACGCAGACTCCGTGAAGGGCCGATTCACCATCTCCATTGACAACGCCAAGAACACGCTGTATCTGCAGATGGACAGCCTGAAGACTGAGGACACGGCCACATATTACTGTACGA\n",
      "566|IGHV28-2*01|Felis_catus_Abyssinian|F|V-REGION||96 AA|||||||||\n",
      "DVQLVESGG.DLVQPGGSLRLTCVASGFTF....SNYEMNWVRQAPGKGLQWLAYISTG...GHTYYADSVK.GRFTISRDNAKNTLYLQMNSLKTEDTATYYCT\n",
      "GACGTGCAGCTGGTGGAGTCTGGGGGAGACCTGGTGCAGCCTGGGGGGTCCCTGAGACTCACCTGTGTGGCCTCTGGATTCACCTTCAGTAACTATGAAATGAACTGGGTCCGCCAGGCTCCAGGGAAGGGGCTGCAGTGGCTCGCATATATTAGTACTGGAGGTCACACATACTACGCAGACTCCGTGAAGGGCCGATTCACCATATCCAGAGACAACGCCAAGAACACGCTGTATCTGCAGATGAACAGCCTCAAGACCGAGGACACGGCCACATATTACTGTACGA\n",
      "567|IGHV29-1*01|Felis_catus_Abyssinian|F|V-REGION||97 AA|||||||||\n",
      "DVQLVESGG.DLVRTGGSLRLTCVASGFTF....SDYSMNWVRQAPGKGLQWVAYIRHD..GISTGYADSVK.GRFTISRDSAKNTLYLQMNSLKTEDSATYYCA\n",
      "GATGTGCAGTTGGTGGAGTCTGGAGGAGACCTGGTGCGCACTGGGGGGTCCCTGAGACTCACCTGTGTGGCCTCTGGATTCACCTTCAGTGACTATAGCATGAACTGGGTCCGCCAGGCTCCAGGAAAGGGGCTGCAGTGGGTCGCATATATTAGGCATGATGGGATTAGCACAGGCTACGCAGACTCCGTGAAGGGCCGCTTCACCATCTCCAGAGACAGCGCCAAGAACACGCTGTATCTGCAGATGAACAGCCTCAAGACCGAGGACTCGGCCACATATTACTGTGCGA\n",
      "568|IGHV29-2*01|Felis_catus_Abyssinian|F|V-REGION||95 AA|||||||||\n",
      "QLTLRESGP.GLVKPSQSLSLTCVVSGGSVT...SGFFWNWVRQRPGRGLEWLGHWTG.....TTRYNPAFQ.GRISITADTARNQFSLQLTSMTTDDTAVYYCA\n",
      "CAACTTACACTTCGGGAGTCCGGCCCAGGACTGGTGAAGCCTTCACAATCCCTCTCTCTCACCTGCGTTGTCTCCGGAGGCTCTGTTACCAGCGGTTTCTTCTGGAATTGGGTCCGCCAGCGCCCTGGGAGAGGATTGGAGTGGCTGGGACACTGGACAGGTACCACCAGGTACAACCCGGCTTTCCAGGGCCGCATCTCCATCACTGCTGACACAGCCCGGAACCAGTTCTCCCTGCAGCTGACCTCCATGACCACCGACGACACGGCCGTATATTACTGTGCAA\n"
     ]
    },
    {
     "name": "stderr",
     "output_type": "stream",
     "text": [
      "/Users/jwillis/miniconda3/envs/bfx-bp-antibody/lib/python3.8/site-packages/Bio/Seq.py:2573: BiopythonWarning: Partial codon, len(sequence) not a multiple of three. Explicitly trim the sequence or add trailing N before translation. This may become an error in future.\n",
      "  warnings.warn(\"Partial codon, len(sequence) not a multiple of three. \"\n",
      "/Users/jwillis/miniconda3/envs/bfx-bp-antibody/lib/python3.8/site-packages/Bio/Seq.py:2573: BiopythonWarning: Partial codon, len(sequence) not a multiple of three. Explicitly trim the sequence or add trailing N before translation. This may become an error in future.\n",
      "  warnings.warn(\"Partial codon, len(sequence) not a multiple of three. \"\n",
      "/Users/jwillis/miniconda3/envs/bfx-bp-antibody/lib/python3.8/site-packages/Bio/Seq.py:2573: BiopythonWarning: Partial codon, len(sequence) not a multiple of three. Explicitly trim the sequence or add trailing N before translation. This may become an error in future.\n",
      "  warnings.warn(\"Partial codon, len(sequence) not a multiple of three. \"\n",
      "/Users/jwillis/miniconda3/envs/bfx-bp-antibody/lib/python3.8/site-packages/Bio/Seq.py:2573: BiopythonWarning: Partial codon, len(sequence) not a multiple of three. Explicitly trim the sequence or add trailing N before translation. This may become an error in future.\n",
      "  warnings.warn(\"Partial codon, len(sequence) not a multiple of three. \"\n"
     ]
    },
    {
     "name": "stdout",
     "output_type": "stream",
     "text": [
      "590|IGHV3-1*01|Felis_catus_Abyssinian|F|V-REGION||97 AA|||||||||\n",
      "QVLLVQSGA.EVRKPGASVKIFCKASGYSF....TDYYMHWLRQAPEQGLEWMGRIDPE..DGSTGYAQKFQ.GRLTLTADTSTNTAYMELSSLRSADTAMYYCA\n",
      "CAGGTTTTGCTGGTGCAGTCTGGGGCTGAAGTGAGGAAGCCTGGGGCATCAGTGAAGATCTTCTGCAAAGCATCTGGATACAGCTTCACTGATTACTATATGCACTGGTTGCGACAGGCTCCTGAACAAGGGCTTGAGTGGATGGGAAGAATTGACCCTGAAGATGGTTCTACAGGCTATGCACAGAAGTTCCAGGGCAGACTCACCCTGACAGCAGATACATCCACAAACACAGCCTACATGGAGCTGAGCAGTCTGAGGTCTGCAGACACAGCCATGTATTACTGTGCGA\n",
      "624|IGHV3-2*01|Felis_catus_Abyssinian|F|V-REGION||97 AA|||||||||\n",
      "DVQLVESGG.DLVKPGGSLRLTCVASGFIF....SSYGMSWVRQAPGKGLQWVAYIGYD..GTTTNYADSVK.GRFTISRDSAKNTIYLQMNSLKTEDTATYYCA\n",
      "GATGTGCAGCTGGTGGAATCTGGGGGAGACCTGGTGAAGCCTGGGGGGTCCCTGAGACTCACCTGTGTGGCCTCTGGATTCATCTTCAGTAGTTATGGAATGAGTTGGGTCCGCCAGGCTCCAGGGAAGGGGCTGCAGTGGGTCGCATATATTGGATACGATGGAACTACCACGAACTATGCAGACTCCGTGAAGGGCCGATTCACCATCTCCAGAGACAGCGCCAAGAACACGATTTATCTGCAGATGAATAGCCTCAAGACCGAGGACACGGCCACATATTACTGTGCGA\n",
      "894|IGHV30-1*01|Felis_catus_Abyssinian|F|V-REGION||96 AA|||||||||\n",
      "EVQLVESGG.DLVQPGGSLRLTCVASGITF....SSASMSWVRQAPGKGLQWVSAIFSG...GTTYYADSVK.GRYTISRDDAKNTLYLQMNNLKTEDTATYYCA\n",
      "GAAGTGCAGCTGGTGGAGTCTGGGGGAGACCTGGTGCAGCCTGGGGGGTCCCTGAGACTGACCTGTGTGGCCTCTGGAATCACCTTCAGTAGTGCAAGCATGAGCTGGGTTCGCCAGGCTCCAGGAAAGGGGCTGCAGTGGGTCTCAGCAATTTTTAGTGGAGGTACTACGTATTATGCTGACTCCGTGAAGGGCAGATACACCATCTCCAGAGACGACGCCAAGAACACACTGTATCTGCAGATGAACAACCTCAAGACCGAGGACACGGCCACATATTATTGTGCGA\n",
      "895|IGHV30-2*01|Felis_catus_Abyssinian|F|V-REGION||95 AA|||||||||\n",
      "QFTLRESGP.GLVKPSQSLSLTCVVSGGSVT...STYYWNWIRQRPGRGLEWLGFWSG.....VTSYNRAFQ.GRISISAATAQNQFSLVLKSVTTEDTAVYYCA\n",
      "CAATTTACACTTCGGGAGTCCGGCCCAGGACTGGTGAAGCCTTCACAATCCCTCTCTCTCACCTGCGTTGTCTCCGGGGGCTCTGTTACCAGCACTTACTATTGGAACTGGATTCGCCAGCGCCCTGGGAGAGGATTGGAGTGGCTGGGTTTCTGGTCAGGTGTCACCAGTTATAATCGGGCTTTCCAGGGCCGCATCTCCATCAGTGCTGCCACAGCCCAGAACCAGTTCTCCTTAGTACTGAAGTCCGTGACCACCGAAGACACGGCCGTCTATTACTGCGCAA\n"
     ]
    },
    {
     "name": "stderr",
     "output_type": "stream",
     "text": [
      "/Users/jwillis/miniconda3/envs/bfx-bp-antibody/lib/python3.8/site-packages/Bio/Seq.py:2573: BiopythonWarning: Partial codon, len(sequence) not a multiple of three. Explicitly trim the sequence or add trailing N before translation. This may become an error in future.\n",
      "  warnings.warn(\"Partial codon, len(sequence) not a multiple of three. \"\n",
      "/Users/jwillis/miniconda3/envs/bfx-bp-antibody/lib/python3.8/site-packages/Bio/Seq.py:2573: BiopythonWarning: Partial codon, len(sequence) not a multiple of three. Explicitly trim the sequence or add trailing N before translation. This may become an error in future.\n",
      "  warnings.warn(\"Partial codon, len(sequence) not a multiple of three. \"\n",
      "/Users/jwillis/miniconda3/envs/bfx-bp-antibody/lib/python3.8/site-packages/Bio/Seq.py:2573: BiopythonWarning: Partial codon, len(sequence) not a multiple of three. Explicitly trim the sequence or add trailing N before translation. This may become an error in future.\n",
      "  warnings.warn(\"Partial codon, len(sequence) not a multiple of three. \"\n"
     ]
    },
    {
     "name": "stdout",
     "output_type": "stream",
     "text": [
      "896|IGHV31-1*01|Felis_catus_Abyssinian|F|V-REGION||95 AA|||||||||\n",
      "DVQLVESGG.DLVKPGGSLRLTCVASGFTF....SNYYMHWVRQAPGKGLQWVAQISS.....SG....................................................DVAQTP*RADSPSPETTPRTLYIYR*TA*RPRTRPHITVR\n",
      "GATGTGCAGCTGGTGGAATCTGGGGGAGACCTGGTGAAGCCTGGGGGGTCCCTGAGACTCACCTGTGTGGCCTCTGGATTCACCTTCAGTAACTACTACATGCACTGGGTCCGCCAGGCTCCAGGGAAGGGGCTGCAGTGGGTCGCACAAATTAGTAGTAGTGGAGATGTCGCACAGACTCCGTGAAGGGCCGATTCACCATCTCCAGAGACAACACCAAGAACACTCTATATCTACAGATGAACAGCCTGAAGACCGAGGACACGGCCACATATTACTGTGCGA\n",
      "897|IGHV31-2*01|Felis_catus_Abyssinian|F|V-REGION||97 AA|||||||||\n",
      "DVQLVESGG.DLVKPGGSLRLTCVASGFTF....SPYYMHWVRQAPGKGLQWVAAMSGS..GHSTQYADSVK.GRFTISRDNARNTVYLQMTSLKTEDTATYYCA\n",
      "GACGTGCAGTTGGTGGAGTCTGGGGGAGACCTGGTGAAGCCCGGGGGGTCCCTGAGACTCACCTGTGTGGCCTCTGGATTCACCTTCAGTCCCTACTACATGCACTGGGTCCGCCAGGCTCCAGGGAAGGGGCTGCAGTGGGTCGCAGCAATGAGCGGTAGTGGACATAGCACACAGTACGCAGATTCCGTGAAGGGCCGCTTTACCATCTCCAGAGACAACGCCAGGAACACAGTATATTTGCAGATGACCAGCCTGAAGACCGAGGACACGGCCACATATTACTGTGCGA\n",
      "898|IGHV32-1*01|Felis_catus_Abyssinian|F|V-REGION||95 AA|||||||||\n",
      "QLTLRESGP.GLVKPSQSLSLTCVVSGGSVT...GSYYWTWIRQRPGRGWEWLGYWSG.....TTSYNPAFQ.GRISITTDTAQNQFSLHLSSMATEDTAVYYCA\n",
      "CAACTTACACTTCGGGAGTCCGGCCCAGGACTGGTGAAGCCTTCACAATCCCTCTCTCTCACCTGCGTTGTCTCCGGAGGCTCTGTTACCGGCAGTTACTACTGGACCTGGATCCGCCAGCGCCCTGGGAGAGGGTGGGAGTGGCTGGGTTACTGGTCAGGTACCACCAGCTACAACCCGGCTTTCCAGGGCCGCATCTCCATCACCACTGACACAGCCCAGAACCAGTTCTCCCTACACCTGAGCTCCATGGCCACCGAGGACACGGCCGTTTATTACTGTGCAG\n",
      "899|IGHV32-2*01|Felis_catus_Abyssinian|F|V-REGION||97 AA|||||||||\n",
      "DVPLVESGG.DLVKPGGSLRLTCVASGFTF....SRFDVTWVRQAPGKGLQWVAKTNTD..GTGTRYADSVK.GRFTVSRDNDKNTLSLQMNSLKTEDTATYYCR\n",
      "GACGTGCCGCTGGTGGAGTCTGGGGGAGACCTGGTGAAGCCTGGGGGGTCCCTGAGACTCACCTGTGTGGCCTCTGGATTCACCTTCAGTCGCTTCGACGTGACCTGGGTCCGCCAGGCTCCAGGGAAGGGGCTACAGTGGGTCGCAAAGACTAATACTGATGGAACAGGTACAAGATACGCAGACTCCGTGAAGGGCCGATTCACCGTCTCCAGAGACAATGACAAGAACACGCTGTCTCTGCAGATGAACAGCCTCAAGACCGAGGACACGGCCACATATTACTGTCGGA\n"
     ]
    },
    {
     "name": "stderr",
     "output_type": "stream",
     "text": [
      "/Users/jwillis/miniconda3/envs/bfx-bp-antibody/lib/python3.8/site-packages/Bio/Seq.py:2573: BiopythonWarning: Partial codon, len(sequence) not a multiple of three. Explicitly trim the sequence or add trailing N before translation. This may become an error in future.\n",
      "  warnings.warn(\"Partial codon, len(sequence) not a multiple of three. \"\n",
      "/Users/jwillis/miniconda3/envs/bfx-bp-antibody/lib/python3.8/site-packages/Bio/Seq.py:2573: BiopythonWarning: Partial codon, len(sequence) not a multiple of three. Explicitly trim the sequence or add trailing N before translation. This may become an error in future.\n",
      "  warnings.warn(\"Partial codon, len(sequence) not a multiple of three. \"\n",
      "/Users/jwillis/miniconda3/envs/bfx-bp-antibody/lib/python3.8/site-packages/Bio/Seq.py:2573: BiopythonWarning: Partial codon, len(sequence) not a multiple of three. Explicitly trim the sequence or add trailing N before translation. This may become an error in future.\n",
      "  warnings.warn(\"Partial codon, len(sequence) not a multiple of three. \"\n",
      "/Users/jwillis/miniconda3/envs/bfx-bp-antibody/lib/python3.8/site-packages/Bio/Seq.py:2573: BiopythonWarning: Partial codon, len(sequence) not a multiple of three. Explicitly trim the sequence or add trailing N before translation. This may become an error in future.\n",
      "  warnings.warn(\"Partial codon, len(sequence) not a multiple of three. \"\n"
     ]
    },
    {
     "name": "stdout",
     "output_type": "stream",
     "text": [
      "900|IGHV33-1*01|Felis_catus_Abyssinian|F|V-REGION||97 AA|||||||||\n",
      "DVQLVESGG.DLVKPGGSLRLTCVASGFTF....SNYYMTWVRQAPGKGLQWVAQISSS..ALSTYTADSVK.GRFTISRDNAKNTLYLQMNSLKTEDTGTYYCA\n",
      "GATGTGCAGTTGGTGGAGTCTGGGGGAGACCTGGTGAAGCCGGGGGGGTCCCTGAGACTCACCTGTGTAGCCTCTGGATTCACCTTCAGTAACTACTACATGACCTGGGTCCGCCAGGCTCCAGGGAAGGGGCTGCAGTGGGTCGCACAAATTAGTAGTAGTGCACTTAGCACATACACCGCAGACTCCGTGAAGGGCCGATTCACCATCTCCAGAGACAACGCCAAGAACACGCTGTATCTGCAGATGAACAGCCTGAAGACCGAGGACACGGGCACATATTACTGTGCGA\n",
      "901|IGHV33-2*01|Felis_catus_Abyssinian|F|V-REGION||97 AA|||||||||\n",
      "DAQLVESGG.DLVKPGGSLRLTCVASGFTF....SAYGMSWVRQAPGRGLQWVAYSKND..GSVAAYENSVK.GRFTISRDNADNTLYLQMSNLKTEDTATYYCA\n",
      "GACGCGCAGCTGGTGGAGTCTGGGGGAGACCTGGTGAAGCCTGGGGGGTCCCTGAGACTCACTTGCGTGGCCTCTGGATTCACCTTCAGTGCCTATGGAATGAGCTGGGTCCGCCAGGCTCCAGGGAGGGGTCTGCAGTGGGTCGCATATAGTAAAAACGATGGCAGTGTCGCAGCCTATGAAAATTCCGTGAAGGGCCGATTCACCATCTCCAGAGACAACGCCGACAACACACTTTATCTGCAGATGAGCAATCTCAAGACCGAGGACACGGCCACATATTACTGTGCGA\n",
      "902|IGHV34-1*01|Felis_catus_Abyssinian|F|V-REGION||97 AA|||||||||\n",
      "DVQLVESGG.DLVKPGGSLRLTCVASGFTF....SSYSMNWVRQAPGKGLQWVTYITSS..GGSIYYADSVK.GRFTISRDNAKNTLYLQMNSLKTEDTATYYCA\n",
      "GATGTGCAGCTGGTGGAATCTGGGGGAGACCTGGTGAAGCCTGGGGGGTCCCTGAGACTCACCTGTGTGGCCTCTGGATTCACCTTCAGTAGCTATAGCATGAACTGGGTCCGCCAGGCTCCAGGGAAGGGGCTGCAGTGGGTCACATATATTACTAGTAGTGGAGGTAGCATATACTACGCAGACTCCGTGAAGGGACGATTCACCATCTCCAGAGACAATGCCAAGAACACGCTGTATCTGCAGATGAACAGCCTGAAGACCGAGGACACGGCCACATATTACTGTGCGA\n",
      "903|IGHV34-2*01|Felis_catus_Abyssinian|F|V-REGION||97 AA|||||||||\n",
      "DVQLVESGG.DLVKPGGSLRLTCVASGFTF....GTYYMQWVRQAPGKGLQWVAQINGS..GRTTYYADSVK.GRFTISRDNAKNTLYLQMNSLKTEDTATYYCA\n",
      "GATGTGCAGCTGGTGGAATCTGGGGGAGACCTGGTGAAGCCTGGGGGGTCCCTGAGACTCACCTGTGTGGCCTCTGGATTCACCTTCGGTACCTACTACATGCAGTGGGTCCGCCAGGCTCCAGGGAAGGGGCTGCAGTGGGTCGCTCAAATTAATGGTAGTGGACGTACTACATACTACGCAGACTCCGTGAAGGGCCGATTCACCATCTCCAGAGACAACGCCAAGAACACGCTATATCTGCAGATGAACAGCCTGAAGACCGAGGACACGGCCACATATTACTGTGCGA\n"
     ]
    },
    {
     "name": "stderr",
     "output_type": "stream",
     "text": [
      "/Users/jwillis/miniconda3/envs/bfx-bp-antibody/lib/python3.8/site-packages/Bio/Seq.py:2573: BiopythonWarning: Partial codon, len(sequence) not a multiple of three. Explicitly trim the sequence or add trailing N before translation. This may become an error in future.\n",
      "  warnings.warn(\"Partial codon, len(sequence) not a multiple of three. \"\n",
      "/Users/jwillis/miniconda3/envs/bfx-bp-antibody/lib/python3.8/site-packages/Bio/Seq.py:2573: BiopythonWarning: Partial codon, len(sequence) not a multiple of three. Explicitly trim the sequence or add trailing N before translation. This may become an error in future.\n",
      "  warnings.warn(\"Partial codon, len(sequence) not a multiple of three. \"\n",
      "/Users/jwillis/miniconda3/envs/bfx-bp-antibody/lib/python3.8/site-packages/Bio/Seq.py:2573: BiopythonWarning: Partial codon, len(sequence) not a multiple of three. Explicitly trim the sequence or add trailing N before translation. This may become an error in future.\n",
      "  warnings.warn(\"Partial codon, len(sequence) not a multiple of three. \"\n",
      "/Users/jwillis/miniconda3/envs/bfx-bp-antibody/lib/python3.8/site-packages/Bio/Seq.py:2573: BiopythonWarning: Partial codon, len(sequence) not a multiple of three. Explicitly trim the sequence or add trailing N before translation. This may become an error in future.\n",
      "  warnings.warn(\"Partial codon, len(sequence) not a multiple of three. \"\n"
     ]
    },
    {
     "name": "stdout",
     "output_type": "stream",
     "text": [
      "904|IGHV35-1*01|Felis_catus_Abyssinian|F|V-REGION||97 AA|||||||||\n",
      "DVQLVESGG.DLVKPGGSLRLTCVASGFTF....SSYYMSWARQAPGKGLQWVAYISSS..GGNTYYADSVK.GRFTISRDNAKNTLYLEMNSLKTEDTATYYCA\n",
      "GATGTGCAGTTGGTGGAGTCTGGGGGAGACCTGGTGAAGCCTGGGGGGTCCCTGAGACTCACCTGTGTAGCCTCCGGATTCACCTTCAGTAGCTACTACATGAGCTGGGCCCGCCAGGCTCCAGGGAAGGGGCTGCAGTGGGTCGCATATATTAGCAGTAGTGGAGGTAACACATACTACGCAGACTCCGTGAAGGGCCGATTCACCATCTCCAGAGACAACGCCAAGAACACGCTGTATCTGGAGATGAACAGCCTGAAGACCGAGGACACGGCCACATATTACTGTGCAA\n",
      "905|IGHV35-2*01|Felis_catus_Abyssinian|F|V-REGION||97 AA|||||||||\n",
      "DVQLVESGG.DLVKPGGSLRLTCVASGFTF....SSYSMNWVRQAPGKGLQWVAYMSGS..GARTYYADSVK.GRFTISRDNAKNTLYLQMNSLKTEDTATYYCA\n",
      "GATGTGCAGCTGGTGGAATCTGGGGGAGACCTGGTGAAGCCTGGGGGGTCCCTGAGACTCACCTGTGTGGCCTCTGGATTCACCTTCAGTAGCTATAGCATGAACTGGGTCCGCCAGGCTCCAGGGAAGGGGCTGCAGTGGGTCGCGTATATGAGTGGTAGTGGAGCTAGAACTTACTACGCAGACTCCGTGAAGGGCCGATTCACCATCTCCAGAGACAACGCCAAGAACACACTGTATCTGCAGATGAACAGCCTGAAGACCGAGGACACGGCCACATATTACTGTGCGA\n",
      "906|IGHV36-2*01|Felis_catus_Abyssinian|F|V-REGION||97 AA|||||||||\n",
      "DVQLVESGG.DLVKPGGSLRLTCVASGFTF....SSYGMSWVRQAPGKGLQWVAYIRYD..GSSTNYGDSVK.GRFTISRDNAKNTLYLQMNSLKTEDTATYYCA\n",
      "GACGTGCAGCTGGTGGAGTCTGGGGGAGACCTGGTGAAGCCTGGGGGGTCCCTGAGACTCACCTGTGTGGCCTCTGGATTCACCTTCAGTAGCTATGGAATGAGCTGGGTCCGCCAGGCTCCAGGGAAGGGGCTGCAGTGGGTCGCATATATTAGATACGATGGAAGTAGCACAAACTATGGAGACTCCGTGAAGGGCCGATTCACCATCTCCAGAGACAACGCCAAGAACACGCTGTATCTGCAGATGAACAGCCTCAAGACCGAGGACACGGCCACATATTACTGTGCGA\n",
      "978|IGHV4-1*01|Felis_catus_Abyssinian|F|V-REGION||97 AA|||||||||\n",
      "DVQLVESGG.DLVKPGGSLRLTCVASGFTF....SSYSMNWVRQAPGKGLQWVTDIRYD..GSSMYYADSVK.GRFTISRDNAKNTLALQMNSLKTEDAATYYCA\n",
      "GACGTGCAGCTGGTGGAGTCTGGGGGAGACCTGGTGAAGCCTGGGGGGTCTCTGAGACTCACCTGTGTGGCCTCTGGATTCACCTTCAGTAGCTATAGCATGAACTGGGTCCGCCAGGCTCCAGGGAAGGGGCTGCAGTGGGTCACAGATATTAGATATGATGGAAGTAGCATGTACTATGCAGACTCCGTGAAGGGCCGATTCACCATCTCCAGAGACAATGCCAAGAACACGCTGGCTCTGCAGATGAACAGCCTCAAGACCGAGGACGCGGCCACATATTACTGTGCGA\n"
     ]
    },
    {
     "name": "stderr",
     "output_type": "stream",
     "text": [
      "/Users/jwillis/miniconda3/envs/bfx-bp-antibody/lib/python3.8/site-packages/Bio/Seq.py:2573: BiopythonWarning: Partial codon, len(sequence) not a multiple of three. Explicitly trim the sequence or add trailing N before translation. This may become an error in future.\n",
      "  warnings.warn(\"Partial codon, len(sequence) not a multiple of three. \"\n",
      "/Users/jwillis/miniconda3/envs/bfx-bp-antibody/lib/python3.8/site-packages/Bio/Seq.py:2573: BiopythonWarning: Partial codon, len(sequence) not a multiple of three. Explicitly trim the sequence or add trailing N before translation. This may become an error in future.\n",
      "  warnings.warn(\"Partial codon, len(sequence) not a multiple of three. \"\n"
     ]
    },
    {
     "name": "stdout",
     "output_type": "stream",
     "text": [
      "983|IGHV4-2*01|Felis_catus_Abyssinian|F|V-REGION||95 AA|||||||||\n",
      "QFTLRESGP.GLVKPSQSLSLTCDVSGGSVN...SNHYWNWIRQRPGRGLEWLGYWSY.....SATYNPAFQ.GRIFITPDTAQNQFSLELSSVTTEDTAVYFCA\n",
      "CAATTCACACTTCGGGAGTCCGGCCCAGGACTGGTGAAGCCTTCACAATCCCTCTCTCTCACCTGCGACGTCTCCGGAGGCTCTGTTAATAGCAATCACTACTGGAACTGGATCCGCCAGCGCCCTGGGAGAGGGTTGGAGTGGCTGGGATACTGGTCGTATAGCGCCACCTACAATCCGGCTTTCCAGGGCCGCATTTTCATCACCCCTGACACAGCCCAGAACCAGTTTTCCCTGGAGTTGAGTTCCGTGACCACCGAAGACACGGCCGTGTATTTCTGTGCCC\n",
      "1099|IGHV5-1*01|Felis_catus_Abyssinian|F|V-REGION||97 AA|||||||||\n",
      "DVQLVESGG.DLVKPGGSLRLTCVASGFTF....SSYNMNWVRQAPGKGLQWVAYISNS..GGNIYYADSVK.GRFTISRDNAKNTLYLQMNSLKTEDTATYYCA\n",
      "GATGTGCAGCTGGTGGAATCTGGGGGAGACCTGGTGAAACCTGGGGGGTCCCTGAGACTCACCTGTGTGGCCTCTGGATTCACCTTCAGTAGTTATAACATGAACTGGGTCCGCCAGGCTCCAGGAAAGGGGCTGCAGTGGGTCGCATATATTAGTAATAGTGGAGGTAACATATACTACGCAGACTCCGTGAAGGGCCGATTCACCATCTCCAGAGACAACGCCAAGAACACGCTGTATCTGCAGATGAACAGCCTGAAGACCGAGGACACGGCCACATATTACTGTGCGA\n",
      "1129|IGHV5-2*01|Felis_catus_Abyssinian|F|V-REGION||95 AA|||||||||\n",
      "QLTLRESGP.ELVKPSQALSLTCVVSGGAVT...SRAYWTWIRQSPGRGLEWLGSWSG.....STSYNPAFQ.GRLSITADTAQSHFSLQLTSVTTEDTAVYYCT\n",
      "CAACTTACACTTCGGGAGTCCGGCCCAGAACTGGTGAAGCCTTCACAAGCCCTCTCTCTCACCTGCGTTGTCTCCGGAGGCGCTGTTACCAGCCGTGCCTACTGGACCTGGATCCGCCAGAGCCCTGGGAGAGGCTTAGAGTGGCTGGGGTCCTGGTCAGGGAGCACCAGCTACAACCCGGCTTTCCAGGGCCGCCTCTCCATCACTGCTGACACAGCCCAGAGCCACTTCTCCCTGCAGCTGACCTCCGTGACCACCGAGGACACGGCCGTTTATTATTGTACTG\n"
     ]
    },
    {
     "name": "stderr",
     "output_type": "stream",
     "text": [
      "/Users/jwillis/miniconda3/envs/bfx-bp-antibody/lib/python3.8/site-packages/Bio/Seq.py:2573: BiopythonWarning: Partial codon, len(sequence) not a multiple of three. Explicitly trim the sequence or add trailing N before translation. This may become an error in future.\n",
      "  warnings.warn(\"Partial codon, len(sequence) not a multiple of three. \"\n",
      "/Users/jwillis/miniconda3/envs/bfx-bp-antibody/lib/python3.8/site-packages/Bio/Seq.py:2573: BiopythonWarning: Partial codon, len(sequence) not a multiple of three. Explicitly trim the sequence or add trailing N before translation. This may become an error in future.\n",
      "  warnings.warn(\"Partial codon, len(sequence) not a multiple of three. \"\n",
      "/Users/jwillis/miniconda3/envs/bfx-bp-antibody/lib/python3.8/site-packages/Bio/Seq.py:2573: BiopythonWarning: Partial codon, len(sequence) not a multiple of three. Explicitly trim the sequence or add trailing N before translation. This may become an error in future.\n",
      "  warnings.warn(\"Partial codon, len(sequence) not a multiple of three. \"\n"
     ]
    },
    {
     "name": "stdout",
     "output_type": "stream",
     "text": [
      "1216|IGHV6-1*01|Felis_catus_Abyssinian|F|V-REGION||95 AA|||||||||\n",
      "QLTLRESGP.GLVKPSQSLSLTCVVSGGSVT...SSYYWSWIRQRPGRGLEWLGHWSG.....STSYNPPFQ.GRISVTADTAQNQFSLQLSSMTTDDTAVYYCA\n",
      "CAACTTACACTTCGGGAGTCCGGCCCAGGACTGGTGAAGCCTTCACAATCCCTCTCTCTCACCTGCGTTGTCTCCGGAGGCTCCGTTACCAGCAGTTACTACTGGAGTTGGATCCGCCAGCGCCCTGGGAGAGGCTTGGAGTGGCTGGGGCACTGGTCAGGTAGTACCAGCTACAACCCGCCTTTCCAGGGCCGCATCTCCGTCACTGCTGACACAGCCCAGAATCAGTTCTCCCTGCAACTGAGTTCCATGACCACCGACGACACGGCCGTGTATTACTGTGCAA\n",
      "1230|IGHV6-2*01|Felis_catus_Abyssinian|F|V-REGION||97 AA|||||||||\n",
      "DVQLVESGG.DLVKPGGSLRLTCVASGFTF....SSYYMSWVRQAPGKGLQWVAEVSSG..GGSTNYADSVK.GRFTISRDNAKNTLYLQMNSLKTEDTATYYCA\n",
      "GATGTGCAGCTGGTGGAATCTGGGGGAGACCTGGTGAAGCCTGGGGGGTCCCTGAGACTCACCTGTGTGGCCTCTGGATTCACCTTCAGTAGCTACTACATGAGCTGGGTCCGCCAGGCTCCAGGGAAGGGGCTGCAGTGGGTCGCAGAAGTTAGTAGTGGTGGAGGTAGTACAAATTATGCAGACTCCGTGAAGGGCCGATTCACCATCTCCAGAGACAACGCCAAGAATACGCTATATCTGCAGATGAACAGCCTCAAGACCGAGGACACGGCCACGTATTATTGTGCGA\n",
      "1256|IGHV7-1*01|Felis_catus_Abyssinian|F|V-REGION||97 AA|||||||||\n",
      "QVLLVQSGA.DVRKPGASVKIFCKASGYTF....TDYYMHWVRQTPAQGFEWMGSIDPE..DGSTTYARRFQ.GRLVLTADTSTNTAYMELRSLKSADTAVYYCA\n",
      "CAGGTTTTGCTGGTGCAGTCTGGGGCTGACGTGAGGAAGCCTGGGGCATCAGTGAAGATCTTTTGCAAAGCATCTGGATACACCTTCACTGATTACTATATGCACTGGGTGCGACAGACTCCTGCACAAGGGTTTGAGTGGATGGGAAGCATTGACCCTGAAGATGGTTCTACAACTTATGCGCGGAGGTTCCAGGGCAGACTTGTTCTGACAGCAGACACATCCACAAACACAGCCTACATGGAGCTGAGAAGTCTGAAGTCTGCAGACACAGCCGTATATTACTGTGCGC\n",
      "1266|IGHV7-2*01|Felis_catus_Abyssinian|F|V-REGION||95 AA|||||||||\n",
      "QLTLRESGP.GLVKPSQSLSLTCVVSGGSVT...SNYYWNWIRQRPGRGLEWLGYWSG.....STSYNPAFQ.GRISITADTAQNQFSLQLSSMTTEDTAVYYCA\n",
      "CAACTTACACTTCGGGAGTCCGGCCCAGGACTGGTGAAGCCTTCACAATCCCTCTCTCTCACCTGCGTTGTCTCCGGAGGCTCTGTTACCAGCAATTACTACTGGAACTGGATCCGCCAGCGCCCTGGGAGAGGGTTGGAGTGGCTGGGGTACTGGTCAGGTAGCACCAGCTACAACCCGGCTTTCCAGGGCCGCATCTCCATCACTGCTGACACAGCCCAGAACCAGTTCTCCCTGCAGCTGAGCTCCATGACCACCGAGGACACGGCCGTGTATTACTGTGCAA\n"
     ]
    },
    {
     "name": "stderr",
     "output_type": "stream",
     "text": [
      "/Users/jwillis/miniconda3/envs/bfx-bp-antibody/lib/python3.8/site-packages/Bio/Seq.py:2573: BiopythonWarning: Partial codon, len(sequence) not a multiple of three. Explicitly trim the sequence or add trailing N before translation. This may become an error in future.\n",
      "  warnings.warn(\"Partial codon, len(sequence) not a multiple of three. \"\n",
      "/Users/jwillis/miniconda3/envs/bfx-bp-antibody/lib/python3.8/site-packages/Bio/Seq.py:2573: BiopythonWarning: Partial codon, len(sequence) not a multiple of three. Explicitly trim the sequence or add trailing N before translation. This may become an error in future.\n",
      "  warnings.warn(\"Partial codon, len(sequence) not a multiple of three. \"\n",
      "/Users/jwillis/miniconda3/envs/bfx-bp-antibody/lib/python3.8/site-packages/Bio/Seq.py:2573: BiopythonWarning: Partial codon, len(sequence) not a multiple of three. Explicitly trim the sequence or add trailing N before translation. This may become an error in future.\n",
      "  warnings.warn(\"Partial codon, len(sequence) not a multiple of three. \"\n",
      "/Users/jwillis/miniconda3/envs/bfx-bp-antibody/lib/python3.8/site-packages/Bio/Seq.py:2573: BiopythonWarning: Partial codon, len(sequence) not a multiple of three. Explicitly trim the sequence or add trailing N before translation. This may become an error in future.\n",
      "  warnings.warn(\"Partial codon, len(sequence) not a multiple of three. \"\n"
     ]
    },
    {
     "name": "stdout",
     "output_type": "stream",
     "text": [
      "1297|IGHV8-1*01|Felis_catus_Abyssinian|F|V-REGION||95 AA|||||||||\n",
      "QPTLRESGP.GLVKPSQSLSLTCVVSGGSVT...NSYYWNWIRQRPGRGLEWLGYWSG.....STTYNPAFQ.GRISITADTAQNQFSLQLSSMTTEDTAVYYCA\n",
      "CAACCTACACTTCGGGAGTCCGGCCCAGGACTGGTGAAGCCTTCACAATCCCTCTCTCTCACCTGCGTTGTCTCCGGAGGCTCTGTTACCAACAGTTACTACTGGAACTGGATCCGCCAGCGCCCTGGGAGAGGGTTGGAGTGGCTGGGGTACTGGTCAGGTAGCACCACCTACAACCCGGCTTTCCAGGGCCGCATCTCCATCACTGCTGACACAGCCCAGAACCAGTTCTCCCTGCAGCTGAGCTCCATGACCACCGAGGACACGGCCGTGTATTACTGTGCAA\n",
      "1306|IGHV8-2*01|Felis_catus_Abyssinian|F|V-REGION||95 AA|||||||||\n",
      "QLTLRESGP.GLVKPSQSLSLTCIVSGGSVT...SSYYWNWIRQRPGRGLEWLAYWAG.....GTEYNPDFQ.GRISVTADTAQNQFFLQLNSMTTDDTAIYYCA\n",
      "CAACTTACACTTCGGGAGTCCGGCCCAGGACTGGTGAAGCCTTCACAATCCCTCTCTCTCACCTGCATTGTCTCCGGAGGCTCTGTAACCAGCAGTTACTACTGGAACTGGATCCGCCAGCGCCCTGGGAGAGGTTTGGAGTGGCTGGCTTACTGGGCGGGTGGCACCGAGTACAACCCGGATTTCCAGGGCCGCATCTCCGTCACTGCTGACACAGCCCAGAACCAGTTCTTCCTGCAGCTGAATTCCATGACCACCGACGACACGGCCATATATTACTGCGCAA\n",
      "1338|IGHV9-1*01|Felis_catus_Abyssinian|F|V-REGION||97 AA|||||||||\n",
      "DVQLVESGG.DLVKPGGSLRLTCVASGFTF....SNYDMNWVRQAPGMGLQWVAQISSS..GGNTYYADSVK.GRFTISRDNSKNTLYLQLNRLKTDDTATYYCA\n",
      "GATGTGCAGCTGGTGGAATCTGGGGGGGACCTGGTGAAGCCTGGGGGGTCCCTGAGACTCACCTGTGTGGCCTCGGGATTCACCTTCAGTAACTATGACATGAACTGGGTCCGCCAGGCTCCAGGGATGGGACTGCAGTGGGTCGCACAAATTAGTAGTAGTGGAGGTAACACATACTACGCAGACTCCGTGAAGGGCCGATTCACCATCTCCAGAGACAACTCCAAGAACACGCTGTATCTGCAGCTGAACAGGCTGAAGACCGACGACACGGCCACATATTACTGTGCGA\n",
      "1344|IGHV9-2*01|Felis_catus_Abyssinian|F|V-REGION||95 AA|||||||||\n",
      "QFTLRESGP.GLVKPSQSLSLTCAVSGGSVN...SSHYWNWIRQRPGRGLEWLGYWSG.....TTSYNPAFQ.GRIAITADTAQKQFSLHLTSMTSEDTAVYYCV\n",
      "CAATTTACACTTCGGGAGTCCGGCCCAGGACTGGTGAAGCCTTCACAATCCCTCTCTCTCACCTGCGCTGTCTCCGGAGGCTCTGTTAACAGCAGTCACTACTGGAACTGGATCCGCCAGCGTCCTGGGAGAGGTTTGGAGTGGCTGGGGTACTGGTCAGGTACCACCAGCTACAACCCGGCTTTCCAGGGCCGCATCGCCATCACCGCTGACACAGCCCAGAAACAGTTCTCCCTGCACCTGACCTCCATGACCTCCGAGGACACGGCCGTCTATTATTGTGTGA\n"
     ]
    },
    {
     "name": "stderr",
     "output_type": "stream",
     "text": [
      "/Users/jwillis/miniconda3/envs/bfx-bp-antibody/lib/python3.8/site-packages/Bio/Seq.py:2573: BiopythonWarning: Partial codon, len(sequence) not a multiple of three. Explicitly trim the sequence or add trailing N before translation. This may become an error in future.\n",
      "  warnings.warn(\"Partial codon, len(sequence) not a multiple of three. \"\n",
      "/Users/jwillis/miniconda3/envs/bfx-bp-antibody/lib/python3.8/site-packages/Bio/Seq.py:2573: BiopythonWarning: Partial codon, len(sequence) not a multiple of three. Explicitly trim the sequence or add trailing N before translation. This may become an error in future.\n",
      "  warnings.warn(\"Partial codon, len(sequence) not a multiple of three. \"\n",
      "/Users/jwillis/miniconda3/envs/bfx-bp-antibody/lib/python3.8/site-packages/Bio/Seq.py:2573: BiopythonWarning: Partial codon, len(sequence) not a multiple of three. Explicitly trim the sequence or add trailing N before translation. This may become an error in future.\n",
      "  warnings.warn(\"Partial codon, len(sequence) not a multiple of three. \"\n"
     ]
    },
    {
     "name": "stdout",
     "output_type": "stream",
     "text": [
      "1365|IGKV1-10*01|Felis_catus_Abyssinian|F|V-REGION||95 AA|||||||||\n",
      "EIQMTQSPSSLSASPGDRVTITCRASQNV......NTWLAWYQQKPGKVPKLLIYRA.......STLQTGVP.SRFSGSG..SGTDFTLTISSLEPEDAATYYCQQHNSGI\n",
      "GAAATCCAGATGACCCAGTCTCCATCCTCGCTGTCTGCATCTCCAGGAGACAGAGTCACCATCACCTGCCGGGCGAGTCAGAACGTTAACACGTGGTTAGCCTGGTATCAGCAGAAACCGGGGAAAGTTCCTAAGCTTCTGATCTATCGTGCATCCACGTTGCAAACTGGGGTCCCCTCGCGGTTCAGCGGCAGTGGGTCTGGGACAGATTTCACCCTCACCATCAGCAGCCTGGAGCCTGAAGACGCTGCCACTTACTACTGTCAGCAGCATAACAGCGGCATC\n",
      "1384|IGKV1-17*01|Felis_catus_Abyssinian|F|V-REGION||95 AA|||||||||\n",
      "EIQMTQSPSSLSASPGDRVTITCRASQNV......NTWLAWYQQKPGKVPKLLIYRA.......STLQTGVP.SRFSGSG..SGTDFTLTISSLEPEDAATYYCQQSSNLP\n",
      "GAAATCCAGATGACCCAGTCTCCATCCTCGCTGTCTGCATCTCCAGGAGACAGAGTCACCATCACCTGCCGGGCGAGTCAGAATGTTAACACGTGGTTAGCCTGGTATCAGCAGAAACCGGGGAAAGTTCCTAAGCTTCTGATCTATCGTGCATCCACGTTGCAAACTGGGGTCCCCTCGCGGTTCAGCGGCAGTGGGTCTGGGACAGATTTCACCCTCACCATCAGCAGCCTGGAGCCTGAAGACGCTGCCACTTACTACTGCCAGCAAAGTAGCAATCTCCCTCC\n",
      "1550|IGKV2-12*01|Felis_catus_Abyssinian|F|V-REGION||100 AA|||||||||\n",
      "DIVMTQTPLSLSVTPGEPASISCRASQSLLHS.DGNTYLNWYLQKPGQSPRRLIYLV.......SNRDSGVP.DRFSGSG..SGTDFTLRISRVEADDVGVYYCGQALQYP\n",
      "GATATTGTGATGACGCAGACCCCTCTGTCCCTGTCCGTCACCCCTGGAGAGCCAGCCTCAATCTCCTGCAGGGCCAGTCAGAGCCTCCTGCACAGTGATGGAAATACTTATCTGAATTGGTACCTGCAGAAGCCAGGCCAGTCTCCACGGCGCTTGATCTATCTTGTTTCCAACCGGGACTCTGGGGTCCCAGACAGGTTCAGTGGCAGCGGGTCAGGGACAGATTTCACCCTGAGAATCAGCAGGGTGGAGGCTGACGACGTCGGTGTTTATTACTGCGGTCAAGCTTTACAGTATCCTCC\n",
      "1551|IGKV2-13*01|Felis_catus_Abyssinian|F|V-REGION||100 AA|||||||||\n",
      "DVVMTQTPLSLPVTPGEPASISCRASQSLLHS.DGNTYLNWYLQKPGQSPRRLIYKV.......SNRDSGVP.DRFSGSG..SGTDFTLRISRVEADDVGVYYCLQGTKYP\n",
      "GATGTCGTGATGACACAGACCCCTCTGTCCCTGCCTGTCACCCCTGGAGAGCCGGCCTCAATCTCCTGCAGGGCCAGTCAGAGCCTCCTGCACAGTGATGGAAATACTTATCTGAATTGGTACCTGCAGAAGCCAGGCCAGTCTCCACGGCGACTGATCTATAAGGTTTCCAACCGGGACTCTGGGGTCCCAGACAGGTTCAGTGGCAGCGGGTCAGGGACAGATTTCACCCTGAGAATCAGCAGGGTAGAGGCTGACGACGTCGGAGTTTATTACTGCCTGCAAGGTACAAAGTATCCTAC\n"
     ]
    },
    {
     "name": "stderr",
     "output_type": "stream",
     "text": [
      "/Users/jwillis/miniconda3/envs/bfx-bp-antibody/lib/python3.8/site-packages/Bio/Seq.py:2573: BiopythonWarning: Partial codon, len(sequence) not a multiple of three. Explicitly trim the sequence or add trailing N before translation. This may become an error in future.\n",
      "  warnings.warn(\"Partial codon, len(sequence) not a multiple of three. \"\n",
      "/Users/jwillis/miniconda3/envs/bfx-bp-antibody/lib/python3.8/site-packages/Bio/Seq.py:2573: BiopythonWarning: Partial codon, len(sequence) not a multiple of three. Explicitly trim the sequence or add trailing N before translation. This may become an error in future.\n",
      "  warnings.warn(\"Partial codon, len(sequence) not a multiple of three. \"\n",
      "/Users/jwillis/miniconda3/envs/bfx-bp-antibody/lib/python3.8/site-packages/Bio/Seq.py:2573: BiopythonWarning: Partial codon, len(sequence) not a multiple of three. Explicitly trim the sequence or add trailing N before translation. This may become an error in future.\n",
      "  warnings.warn(\"Partial codon, len(sequence) not a multiple of three. \"\n",
      "/Users/jwillis/miniconda3/envs/bfx-bp-antibody/lib/python3.8/site-packages/Bio/Seq.py:2573: BiopythonWarning: Partial codon, len(sequence) not a multiple of three. Explicitly trim the sequence or add trailing N before translation. This may become an error in future.\n",
      "  warnings.warn(\"Partial codon, len(sequence) not a multiple of three. \"\n"
     ]
    },
    {
     "name": "stdout",
     "output_type": "stream",
     "text": [
      "1554|IGKV2-14*01|Felis_catus_Abyssinian|F|V-REGION||100 AA|||||||||\n",
      "DVMMTQTLLSLPVAPGQPGSISCRASQSLLPS.NGYSYLSWYLQKTGQSPQRPIYQV.......SNRASGVP.DRFSGSG..SGTDFTLKINRVEAEDVGVYCCLQDIQLP\n",
      "GATGTCATGATGACCCAGACCCTTCTGTCCCTGCCCGTCGCCCCTGGACAGCCGGGCTCAATCTCCTGCAGGGCCAGTCAGAGCCTCCTGCCCAGCAATGGATACTCCTATTTAAGTTGGTACCTGCAGAAGACAGGCCAGTCTCCACAGCGCCCGATCTATCAGGTTTCCAACCGGGCCTCTGGGGTCCCAGACAGGTTCAGTGGCAGCGGGTCAGGGACAGATTTCACACTCAAAATCAACAGAGTGGAGGCTGAGGATGTGGGAGTTTATTGCTGCTTGCAAGATATACAACTTCCTCT\n",
      "1556|IGKV2-15*01|Felis_catus_Abyssinian|P|V-REGION||99 AA|||||||||\n",
      "DVVMTQTPLSLPVTPGQPASISCRASQSLLHS.NQYTCLSWFLQKPGQSPGCLIYRV.......SNRASWVP.DRFTGSR..SGTDFT.............................PLQSRGRGYQSLSQPANSTNSS\n",
      "GATGTCGTGATGACACAGACCCCTCTGTCCCTGCCGGTCACCCCTGGACAGCCGGCCTCAATCTCCTGCAGGGCCAGTCAGAGCCTCCTGCACAGTAACCAATATACCTGTTTAAGTTGGTTCCTGCAGAAGCCAGGCCAGTCTCCAGGGTGCCTGATCTATAGGGTTTCCAACCGGGCCTCTTGGGTCCCCGACAGGTTCACTGGAAGCAGGTCAGGGACAGATTTCACACCCTTACAGAGCAGAGGCCGAGGATACCAGAGTTTATCACAGCCTGCAAACTCTACAAACTCCTCC\n",
      "1571|IGKV2-4*01|Felis_catus_Abyssinian|F|V-REGION||100 AA|||||||||\n",
      "DVVMTQTPLSLPVTPGEPASISCRASQSLLHS.NGNTYLNWYLQKPGQSPRRLIYKV.......SNRDSGVP.DRFSGSG..SGTDFTLRISRVEADDVGVYYCQQGTHAP\n",
      "GATGTCGTGATGACGCAGACCCCTCTGTCCCTGCCCGTCACCCCTGGAGAGCCGGCCTCAATCTCCTGCAGGGCCAGTCAGAGCCTCCTGCACAGTAATGGAAATACTTATCTGAATTGGTACCTGCAGAAGCCAGGCCAGTCTCCACGGCGACTGATCTATAAGGTTTCCAACCGGGACTCTGGGGTCCCAGACAGGTTCAGTGGCAGCGGGTCAGGGACAGATTTCACCCTGAGAATCAGCAGGGTGGAGGCTGACGACGTCGGAGTTTATTACTGCCAGCAAGGTACACATGCTCCTCG\n"
     ]
    },
    {
     "name": "stderr",
     "output_type": "stream",
     "text": [
      "/Users/jwillis/miniconda3/envs/bfx-bp-antibody/lib/python3.8/site-packages/Bio/Seq.py:2573: BiopythonWarning: Partial codon, len(sequence) not a multiple of three. Explicitly trim the sequence or add trailing N before translation. This may become an error in future.\n",
      "  warnings.warn(\"Partial codon, len(sequence) not a multiple of three. \"\n",
      "/Users/jwillis/miniconda3/envs/bfx-bp-antibody/lib/python3.8/site-packages/Bio/Seq.py:2573: BiopythonWarning: Partial codon, len(sequence) not a multiple of three. Explicitly trim the sequence or add trailing N before translation. This may become an error in future.\n",
      "  warnings.warn(\"Partial codon, len(sequence) not a multiple of three. \"\n",
      "/Users/jwillis/miniconda3/envs/bfx-bp-antibody/lib/python3.8/site-packages/Bio/Seq.py:2573: BiopythonWarning: Partial codon, len(sequence) not a multiple of three. Explicitly trim the sequence or add trailing N before translation. This may become an error in future.\n",
      "  warnings.warn(\"Partial codon, len(sequence) not a multiple of three. \"\n",
      "/Users/jwillis/miniconda3/envs/bfx-bp-antibody/lib/python3.8/site-packages/Bio/Seq.py:2573: BiopythonWarning: Partial codon, len(sequence) not a multiple of three. Explicitly trim the sequence or add trailing N before translation. This may become an error in future.\n",
      "  warnings.warn(\"Partial codon, len(sequence) not a multiple of three. \"\n"
     ]
    },
    {
     "name": "stdout",
     "output_type": "stream",
     "text": [
      "1576|IGKV2-5*01|Felis_catus_Abyssinian|F|V-REGION||100 AA|||||||||\n",
      "DVVMTQTPLSLPVTPGEPASISCRASQSLLHS.NGNTYLNWYLQKPGQSPRRLIYKV.......SNRDSGVP.DRFSGSG..SGTDFTLRISRVEADDVGVYYCQQGTHAP\n",
      "GATGTCGTGATGACGCAGACCCCTCTGTCCCTGCCCGTCACCCCTGGAGAGCCGGCCTCAATCTCCTGCAGGGCCAGTCAGAGCCTCCTGCACAGTAATGGAAATACTTATCTGAATTGGTACCTGCAGAAGCCAGGCCAGTCTCCACGGCGACTGATCTATAAGGTTTCCAACCGGGACTCTGGGGTCCCAGACAGGTTCAGTGGCAGCGGGTCAGGGACAGATTTCACCCTGAGAATCAGCAGGGTGGAGGCTGACGACGTCGGAGTTTATTACTGCCAGCAAGGTACACATGCTCCTCG\n",
      "1581|IGKV2-9*01|Felis_catus_Abyssinian|F|V-REGION||100 AA|||||||||\n",
      "DVVMTQTPLSLPVTPGEPASISCRASQSLLHS.NGNTYLHWYLQKPGQSPRRLIYRV.......SNRDSGVP.DRFSGSG..SGTDFTLRISRVEADDVGVYYCLQGTHRP\n",
      "GATGTCGTGATGACGCAGACCCCTCTGTCCCTGCCCGTCACCCCTGGAGAGCCGGCCTCAATCTCCTGCAGGGCCAGTCAGAGCCTCCTGCACAGTAATGGAAACACCTATTTACATTGGTACCTGCAGAAGCCAGGCCAGTCTCCACGGCGACTGATCTATAGGGTTTCCAACCGGGACTCTGGGGTCCCAGACAGGTTCAGTGGCAGCGGGTCAGGGACAGATTTCACCCTGAGAATCAGCAGGGTGGAGGCTGACGACGTCGGAGTTTATTACTGCCTGCAAGGTACACACAGACCTCC\n",
      "1661|IGKV4-1*01|Felis_catus_Abyssinian|F|V-REGION||95 AA|||||||||\n",
      "AITMTQSPGSLAGSPGQQVTMNCRASQSV......SSYLAWYQQKPGQHPKLLIYSA.......STRASGVP.DRFSGSG..SGTDFTLTISNLQAEDVASYYCQQYYSSP\n",
      "GCGATCACGATGACGCAGTCTCCAGGCTCCCTGGCTGGGTCTCCAGGTCAGCAGGTCACCATGAACTGCAGGGCCAGTCAGAGTGTTAGCAGCTACTTAGCCTGGTACCAGCAGAAACCAGGGCAGCATCCTAAGCTGCTCATCTACTCAGCTTCCACCCGGGCATCTGGAGTCCCCGACCGATTCAGTGGCAGTGGGTCCGGGACGGATTTCACCCTCACCATCAGCAACCTCCAGGCTGAAGACGTGGCGAGTTACTACTGTCAGCAGTATTACAGCTCTCCTCC\n",
      "Did not detect anything in summary dataframe,[],[]\n",
      "having trouble with 1681|IGKV4-7*01|Felis_catus_Abyssinian|P|V-REGION||102 AA|||||||||-GIVMTQSPSSVTRSTRESVTINCKSEPEPSIQLQPELLSLVPAETGTGSQTAHFLGFHPGIWSPRPIQWQWVWDGFHVNLTISNLQAEDVAGYHCQQYPSSP\n",
      "1681|IGKV4-7*01|Felis_catus_Abyssinian|P|V-REGION||102 AA|||||||||\n",
      "AITMTQSPGSLAGSPGQQVTMNCRASQSV......SSYLAWYQQKPGQHPKLLIYSA.......STRASGVP.DRFSGSG..SGTDFTLTISNLQAEDVASYYCQQYYSSP\n",
      "GGCATCGTGATGACCCAGTCTCCCAGCTCCGTGACTAGGTCTACAAGAGAGAGCGTCACCATCAACTGCAAGTCGGAGCCAGAGCCTTCTATACAGCTCCAGCCAGAACTACTCAGCCTGGTACCAGCAGAAACTGGGACAGGCTCCCAAACGGCTCATTTCCTGGGCTTCCACCCGGGCATCTGGAGTCCCCGACCGATTCAGTGGCAGTGGGTCTGGGACGGATTTCACGTGAACCTCACCATCAGCAACCTCCAGGCTGAAGACGTGGCGGGTTACCACTGTCAGCAGTATCCTAGCTCTCCTCC\n"
     ]
    },
    {
     "name": "stderr",
     "output_type": "stream",
     "text": [
      "/Users/jwillis/miniconda3/envs/bfx-bp-antibody/lib/python3.8/site-packages/Bio/Seq.py:2573: BiopythonWarning: Partial codon, len(sequence) not a multiple of three. Explicitly trim the sequence or add trailing N before translation. This may become an error in future.\n",
      "  warnings.warn(\"Partial codon, len(sequence) not a multiple of three. \"\n",
      "/Users/jwillis/miniconda3/envs/bfx-bp-antibody/lib/python3.8/site-packages/Bio/Seq.py:2573: BiopythonWarning: Partial codon, len(sequence) not a multiple of three. Explicitly trim the sequence or add trailing N before translation. This may become an error in future.\n",
      "  warnings.warn(\"Partial codon, len(sequence) not a multiple of three. \"\n",
      "/Users/jwillis/miniconda3/envs/bfx-bp-antibody/lib/python3.8/site-packages/Bio/Seq.py:2573: BiopythonWarning: Partial codon, len(sequence) not a multiple of three. Explicitly trim the sequence or add trailing N before translation. This may become an error in future.\n",
      "  warnings.warn(\"Partial codon, len(sequence) not a multiple of three. \"\n",
      "/Users/jwillis/miniconda3/envs/bfx-bp-antibody/lib/python3.8/site-packages/Bio/Seq.py:2573: BiopythonWarning: Partial codon, len(sequence) not a multiple of three. Explicitly trim the sequence or add trailing N before translation. This may become an error in future.\n",
      "  warnings.warn(\"Partial codon, len(sequence) not a multiple of three. \"\n"
     ]
    },
    {
     "name": "stdout",
     "output_type": "stream",
     "text": [
      "1719|IGKV6-6*01|Felis_catus_Abyssinian|F|V-REGION||95 AA|||||||||\n",
      "EVVLTQSSAFLSRTLKEKATITCRANQGI......STILHWYQQKPNQAPKLLVKYA.......SQSVSGAP.SRFSGSG..SGTDFTLTISSPEPEDAATYYCQQSNNLP\n",
      "GAGGTTGTGCTGACCCAGTCCTCAGCCTTCCTGTCCAGGACTCTAAAAGAAAAAGCCACCATCACCTGCCGAGCCAATCAGGGCATCAGCACCATCTTGCACTGGTATCAGCAGAAACCAAATCAGGCTCCGAAGCTCCTTGTGAAGTATGCTTCCCAGTCCGTCTCGGGAGCGCCGTCGCGGTTCAGCGGCAGTGGGTCTGGGACAGATTTCACCCTCACCATCAGCAGCCCGGAGCCTGAAGACGCTGCCACTTACTACTGCCAGCAAAGTAACAATCTCCCTCG\n",
      "1729|IGKV8-16*01|Felis_catus_Abyssinian|F|V-REGION||95 AA|||||||||\n",
      "TAELTQSPTHLSVSLTDSVSLICRANESV......SDYLSWYQQKPGQPPKLIIYDA.......DNLESGVS.DRFSGIQ..SDTEFILKISTVEADDAAIYYCQQDYALP\n",
      "ACCGCTGAGTTGACCCAGTCTCCCACCCATCTCTCTGTGTCCCTGACAGACAGCGTGTCCCTCATCTGCAGGGCCAATGAGAGCGTTAGTGATTACTTAAGCTGGTATCAGCAGAAACCAGGCCAGCCTCCCAAGCTTATCATCTATGATGCCGATAATCTAGAGTCTGGCGTCTCAGACCGCTTCTCTGGGATTCAGTCTGACACAGAATTCATCCTCAAAATCAGCACAGTCGAGGCTGATGACGCCGCCATTTATTACTGCCAGCAGGATTATGCGCTTCCTCC\n",
      "1741|IGKV8-3*01|Felis_catus_Abyssinian|F|V-REGION||95 AA|||||||||\n",
      "TTELTQSPTHLSVSLTDSVSVICRASESI......SDHLSWYQQKPGQPPKLIIYDA.......DNLESGVS.DRFSGIQ..SGTEFILKISTVEADDAAAYYCQQGYALP\n",
      "ACCACTGAGTTGACCCAGTCTCCCACCCATCTCTCTGTGTCCCTGACAGACAGCGTGTCCGTCATCTGCAGGGCCAGTGAGAGCATTAGTGATCACTTAAGCTGGTATCAGCAGAAACCAGGCCAGCCTCCCAAGCTTATCATCTATGATGCCGATAACCTAGAGTCTGGCGTCTCAGACCGCTTCTCTGGGATTCAGTCTGGCACAGAATTCATCCTCAAAATCAGCACAGTCGAGGCTGATGACGCCGCCGCTTATTACTGCCAGCAGGGTTATGCGCTTCCTCC\n",
      "1746|IGKV9-11*01|Felis_catus_Abyssinian|P|V-REGION||95 AA|||||||||\n",
      "WHVLTQAPETLAASRDSFVSITCRSSTEV......GTSMAWYQQKPNEAPRLLIFGA.......SARAAGTP.SRFRGSG..SGSDFSLTIHGVEAEDIGIYYCQQHFSWP\n",
      "TGGCATGTCCTGACTCAGGCCCCAGAGACCCTGGCAGCATCTCGGGACAGCTTCGTCTCCATCACCTGCAGAAGCAGCACGGAGGTAGGTACCTCCATGGCGTGGTACCAACAGAAACCCAATGAGGCTCCCAGGCTGCTCATCTTTGGGGCGTCTGCCCGGGCCGCCGGAACCCCGTCCAGGTTCCGGGGAAGTGGCTCTGGCTCGGACTTCTCCCTCACCATCCACGGAGTGGAGGCTGAGGACATCGGGATATATTACTGTCAGCAGCACTTCAGCTGGCCTCC\n"
     ]
    },
    {
     "name": "stderr",
     "output_type": "stream",
     "text": [
      "/Users/jwillis/miniconda3/envs/bfx-bp-antibody/lib/python3.8/site-packages/Bio/Seq.py:2573: BiopythonWarning: Partial codon, len(sequence) not a multiple of three. Explicitly trim the sequence or add trailing N before translation. This may become an error in future.\n",
      "  warnings.warn(\"Partial codon, len(sequence) not a multiple of three. \"\n",
      "/Users/jwillis/miniconda3/envs/bfx-bp-antibody/lib/python3.8/site-packages/Bio/Seq.py:2573: BiopythonWarning: Partial codon, len(sequence) not a multiple of three. Explicitly trim the sequence or add trailing N before translation. This may become an error in future.\n",
      "  warnings.warn(\"Partial codon, len(sequence) not a multiple of three. \"\n",
      "/Users/jwillis/miniconda3/envs/bfx-bp-antibody/lib/python3.8/site-packages/Bio/Seq.py:2573: BiopythonWarning: Partial codon, len(sequence) not a multiple of three. Explicitly trim the sequence or add trailing N before translation. This may become an error in future.\n",
      "  warnings.warn(\"Partial codon, len(sequence) not a multiple of three. \"\n",
      "/Users/jwillis/miniconda3/envs/bfx-bp-antibody/lib/python3.8/site-packages/Bio/Seq.py:2573: BiopythonWarning: Partial codon, len(sequence) not a multiple of three. Explicitly trim the sequence or add trailing N before translation. This may become an error in future.\n",
      "  warnings.warn(\"Partial codon, len(sequence) not a multiple of three. \"\n"
     ]
    },
    {
     "name": "stdout",
     "output_type": "stream",
     "text": [
      "1753|IGKV9-18*01|Felis_catus_Abyssinian|ORF|V-REGION||95 AA|||||||||\n",
      "WHVLTQTPETLAASRDSFVSITCRSSTEV......GTSMAWYQQKPNEAPRLLIFGA.......SARAAGTP.SRFRGSG..SGSDFSLTIHGVEAEDIGIYYCQQHFSWP\n",
      "TGGCACGTCCTGACTCAGACCCCAGAGACCCTGGCAGCATCTCGGGACAGCTTCGTCTCCATCACCTGCAGAAGCAGCACGGAGGTAGGTACCTCCATGGCGTGGTACCAACAGAAACCCAATGAGGCTCCCAGGCTGCTCATCTTTGGGGCGTCTGCCCGGGCCGCCGGAACCCCGTCCAGGTTCCGGGGAAGTGGCTCTGGCTCGGACTTCTCCCTCACCATCCACGGAGTGGAGGCTGAGGACATCGGGATATATTACTGTCAGCAGCACTTCAGCTGGCCTCC\n",
      "1806|IGLV1-32*01|Felis_catus_Abyssinian|F|V-REGION||98 AA|||||||||\n",
      "QSVLAQPSS.VSGSLGQRVTISCSGSSSNI....GSNYVSWYQQLPGTTPKTIIYWD.......NSRPSGVS.ERFSGSK..SGSTGTLTITGLQAEDEADYYCSAWDGSLRA\n",
      "CAGTCTGTACTGGCTCAGCCATCCTCGGTGTCAGGCTCCTTGGGCCAGAGGGTCACCATCTCCTGCTCTGGAAGCAGTTCCAACATCGGTAGCAATTATGTGAGCTGGTACCAACAACTCCCAGGCACAACCCCCAAAACCATAATCTATTGGGATAATAGCAGACCCTCGGGGGTCTCTGAACGATTCTCTGGCTCCAAGTCTGGCAGCACAGGCACCCTGACCATCACTGGGCTCCAGGCTGAGGACGAGGCTGATTATTACTGCTCAGCATGGGATGGTAGTCTGAGAGCTCA\n",
      "Did not detect anything in summary dataframe,[],[]\n",
      "having trouble with 1807|IGLV1-33*01|Felis_catus_Abyssinian|P|V-REGION||98 AA|||||||||-QSVLTQPPSVSGALGQTVTISCAGSANNIGIVGVNWYQQLPGKAPNSSSMLITDDPQVFLTDFLAPSLATQAP*PSLGSRLRTRLIITACLLTLLKVL\n",
      "1807|IGLV1-33*01|Felis_catus_Abyssinian|P|V-REGION||98 AA|||||||||\n",
      "QSVLAQPSS.VSGSLGQRVTISCSGSSSNI....GSNYVSWYQQLPGTTPKTIIYWD.......NSRPSGVS.ERFSGSK..SGSTGTLTITGLQAEDEADYYCSAWDGSLRA\n",
      "CAGTCTGTGCTGACTCAGCCGCCCTCAGTGTCTGGGGCCCTGGGCCAGACGGTCACCATCTCCTGCGCTGGAAGTGCCAACAACATTGGTATTGTTGGTGTGAACTGGTACCAGCAGCTTCCAGGAAAGGCCCCTAACTCCTCATCTATGCTAATAACAGACGACCCTCAAGTGTTCCTGACAGATTTTCTGGCTCCAAGTCTGGCAACACAGGCTCCTTGACCATCACTGGGCTCCAGGCTGAGGACGAGGCTGATTATTACTGCCTGTCTGCTGACGTTACTCAAGGTGCTGA\n",
      "1809|IGLV1-35*01|Felis_catus_Abyssinian|P|V-REGION||98 AA|||||||||\n",
      "QSVVSQPSA.VS*P.VNKTVTTSCTGSSSNV....GAGGVSWYQQLPGSAPNVVIYGR.......SARPAGVP.SRLLGSR..SGNVASLSISSLQAEDEADYYFSVWDHSLKA\n",
      "CAGTCAGTGGTGAGTCAGCCATCTGCCGTGTCCTAGCCTGTGAATAAGACTGTTACCACCTCCTGCACTGGAAGCAGCAGCAATGTTGGGGCTGGAGGTGTGTCCTGGTACCAGCAGCTCCCAGGCAGTGCCCCCAATGTTGTCATCTATGGTAGGAGTGCTCGGCCTGCGGGGGTCCCGTCCAGACTCTTAGGCTCCAGGTCAGGGAACGTGGCCTCCCTGAGCATCTCTAGCCTCCAGGCTGAGGATGAGGCTGATTATTACTTCTCAGTGTGGGACCACAGTCTCAAAGCTCA\n"
     ]
    },
    {
     "name": "stderr",
     "output_type": "stream",
     "text": [
      "/Users/jwillis/miniconda3/envs/bfx-bp-antibody/lib/python3.8/site-packages/Bio/Seq.py:2573: BiopythonWarning: Partial codon, len(sequence) not a multiple of three. Explicitly trim the sequence or add trailing N before translation. This may become an error in future.\n",
      "  warnings.warn(\"Partial codon, len(sequence) not a multiple of three. \"\n",
      "/Users/jwillis/miniconda3/envs/bfx-bp-antibody/lib/python3.8/site-packages/Bio/Seq.py:2573: BiopythonWarning: Partial codon, len(sequence) not a multiple of three. Explicitly trim the sequence or add trailing N before translation. This may become an error in future.\n",
      "  warnings.warn(\"Partial codon, len(sequence) not a multiple of three. \"\n",
      "/Users/jwillis/miniconda3/envs/bfx-bp-antibody/lib/python3.8/site-packages/Bio/Seq.py:2573: BiopythonWarning: Partial codon, len(sequence) not a multiple of three. Explicitly trim the sequence or add trailing N before translation. This may become an error in future.\n",
      "  warnings.warn(\"Partial codon, len(sequence) not a multiple of three. \"\n",
      "/Users/jwillis/miniconda3/envs/bfx-bp-antibody/lib/python3.8/site-packages/Bio/Seq.py:2573: BiopythonWarning: Partial codon, len(sequence) not a multiple of three. Explicitly trim the sequence or add trailing N before translation. This may become an error in future.\n",
      "  warnings.warn(\"Partial codon, len(sequence) not a multiple of three. \"\n"
     ]
    },
    {
     "name": "stdout",
     "output_type": "stream",
     "text": [
      "1810|IGLV1-36*01|Felis_catus_Abyssinian|F|V-REGION||98 AA|||||||||\n",
      "QSRLTQPPS.VSGSLGQRVTISCAGSSSNI....GGYGVNWHQQFPGMAPKTIIYGN.......SNRPSGVP.DRFSGSK..SGNTGTLTITGLQAEDEADYYCSSWDSSSSA\n",
      "CAGTCTAGGCTGACTCAGCCGCCCTCAGTGTCTGGTTCTCTGGGCCAGAGGGTCACCATCTCCTGCGCTGGAAGCAGCTCTAATATTGGTGGTTATGGTGTGAACTGGCACCAACAATTCCCAGGAATGGCCCCCAAAACCATCATCTATGGTAATAGCAATCGACCCTCTGGGGTCCCAGATCGATTCTCCGGCTCCAAGTCTGGCAACACAGGCACCCTGACCATCACTGGGCTCCAGGCTGAGGACGAGGCTGATTATTACTGCTCATCGTGGGACAGCAGTAGCAGTGCTCG\n",
      "1813|IGLV1-37*01|Felis_catus_Abyssinian|F|V-REGION||98 AA|||||||||\n",
      "QSVLSQPPS.VSGALGQTVTIPCAGGANNI....GIAGGNWYQQLPGKAPKLLIYDS.......SDRPSGVP.ERFSGSK..SGNTGSLTITGLQAEDEADYYCQSLDFTQGA\n",
      "CAGTCTGTGTTGAGTCAGCCACCCTCAGTGTCTGGGGCCCTGGGCCAGACGGTCACCATCCCCTGCGCTGGAGGTGCCAACAACATCGGTATTGCTGGTGGGAACTGGTACCAACAGCTTCCAGGAAAGGCCCCTAAACTCCTCATCTATGATAGTAGCGATCGACCCTCAGGGGTCCCTGAACGATTCTCTGGCTCCAAGTCTGGCAACACAGGCTCCTTGACCATCACTGGGCTCCAGGCTGAGGACGAGGCTGATTATTACTGCCAGTCTCTTGACTTTACTCAAGGTGCTGA\n",
      "1814|IGLV1-39-1*01|Felis_catus_Abyssinian|P|V-REGION||95 AA|||||||||\n",
      ".........YMSGSVGQKVTLTCTGNSNNV....GTNYVGWYQQISHGGPKTVMLR........TSRLSQFQ...ISGSH..SGNTASLTILGLQLKDEADYYCSVWNESINA\n",
      "CGGTCTCCACTGACATAGGAAGCATACATGTCAGGGTCTGTGGGACAGAAGGTCACCCTCACCTGCACTGGAAACAGTAACAATGTTGGAACAAATTATGTGGGCTGGTACCAACAGATTTCTCACGGTGGCCCCAAAACTGTGATGCTCAGGACAAGTAGGCTCTCACAGTTCCAGATCTCTGGCTCCCACTCTGGGAACACAGCCTCTCTGACCATATTGGGCCTACAGCTTAAGGACGAGGCTGACTATTACTGCTCAGTGTGGAATGAAAGCATCAATGCTGA\n"
     ]
    },
    {
     "name": "stderr",
     "output_type": "stream",
     "text": [
      "/Users/jwillis/miniconda3/envs/bfx-bp-antibody/lib/python3.8/site-packages/Bio/Seq.py:2573: BiopythonWarning: Partial codon, len(sequence) not a multiple of three. Explicitly trim the sequence or add trailing N before translation. This may become an error in future.\n",
      "  warnings.warn(\"Partial codon, len(sequence) not a multiple of three. \"\n",
      "/Users/jwillis/miniconda3/envs/bfx-bp-antibody/lib/python3.8/site-packages/Bio/Seq.py:2573: BiopythonWarning: Partial codon, len(sequence) not a multiple of three. Explicitly trim the sequence or add trailing N before translation. This may become an error in future.\n",
      "  warnings.warn(\"Partial codon, len(sequence) not a multiple of three. \"\n",
      "/Users/jwillis/miniconda3/envs/bfx-bp-antibody/lib/python3.8/site-packages/Bio/Seq.py:2573: BiopythonWarning: Partial codon, len(sequence) not a multiple of three. Explicitly trim the sequence or add trailing N before translation. This may become an error in future.\n",
      "  warnings.warn(\"Partial codon, len(sequence) not a multiple of three. \"\n",
      "/Users/jwillis/miniconda3/envs/bfx-bp-antibody/lib/python3.8/site-packages/Bio/Seq.py:2573: BiopythonWarning: Partial codon, len(sequence) not a multiple of three. Explicitly trim the sequence or add trailing N before translation. This may become an error in future.\n",
      "  warnings.warn(\"Partial codon, len(sequence) not a multiple of three. \"\n"
     ]
    },
    {
     "name": "stdout",
     "output_type": "stream",
     "text": [
      "1815|IGLV1-40*01|Felis_catus_Abyssinian|F|V-REGION||99 AA|||||||||\n",
      "QSVLTQPPS.VSGTLGQRITISCTGSSSNIG...GGNAVSWYQQVPGMGPKTVIYWN.......NSKPSGVP.DRFSGSK..SGSSGTLTITGLQAEDEADYYCSAWDDSLSA\n",
      "CAGTCTGTGCTGACTCAGCCACCATCAGTGTCTGGGACCCTAGGCCAGAGGATCACCATCTCCTGCACCGGAAGCAGCTCCAACATCGGGGGTGGTAATGCTGTGAGCTGGTACCAACAAGTCCCAGGAATGGGCCCCAAAACCGTCATCTATTGGAATAACAGCAAACCCTCGGGGGTCCCAGATAGATTCTCCGGCTCAAAGTCTGGCAGTTCAGGCACCCTGACCATCACTGGGCTGCAGGCTGAGGACGAGGCTGATTATTACTGCTCAGCGTGGGATGATAGTCTCAGTGCTCA\n",
      "1820|IGLV1-41*01|Felis_catus_Abyssinian|ORF|V-REGION||93 AA|||||||||\n",
      "QSGPNQPSS.VSGALGQRVTISCTGVGS........YV.GWYQQIPGMAPKTIIYDN.......SNRPSGVP.DRFSGSK..SGSTGTLTITGLQAEDEADYYCSSWDSSGSA\n",
      "CAGTCGGGGCCGAATCAACCATCCTCAGTGTCTGGGGCCCTGGGCCAGAGGGTCACTATCTCCTGCACTGGAGTTGGTAGTTACGTGGGCTGGTACCAACAAATCCCAGGAATGGCCCCCAAAACCATCATCTATGATAATAGCAACCGACCCTCAGGGGTCCCTGATCGATTCTCCGGCTCCAAGTCTGGCAGCACAGGCACCCTGACCATCACTGGGCTCCAGGCCGAGGACGAGGCTGATTATTACTGCTCATCGTGGGACAGCAGTGGCAGTGCTTA\n",
      "1823|IGLV1-42*01|Felis_catus_Abyssinian|F|V-REGION||99 AA|||||||||\n",
      "QSVLTQPPS.VSGSLGQRVTISCTGSSSNIG...GGNYVSWYQQVPGTAPRLLIYEN.......NKRPSGVP.DRFSGSK..SGSSGSLTITGLQADDEADYYCASWDNSLSA\n",
      "CAGTCTGTGCTGACTCAGCCGCCCTCAGTGTCGGGGTCCCTGGGCCAGAGGGTCACCATCTCCTGCACTGGAAGCAGCTCCAACATCGGGGGTGGTAATTATGTGAGCTGGTACCAACAAGTCCCAGGAACGGCCCCCAGGCTCCTGATTTATGAGAATAACAAACGACCCTCCGGGGTCCCCGATCGATTCTCTGGCTCCAAGTCTGGCAGCTCAGGCTCCCTGACCATCACTGGGCTGCAGGCTGACGACGAGGCTGATTATTATTGTGCATCATGGGACAATAGTCTCAGTGCTCA\n",
      "1825|IGLV1-44*01|Felis_catus_Abyssinian|ORF|V-REGION||93 AA|||||||||\n",
      "QSGLTQPSS.VSGALGQRVTISCTGVGS.........YVYWYQQIPGMAPKTIIYLN.......SNRPSGVP.DRFSGSK..SGSTGTLTITGLQAEDEADYYCSSWDSSGSA\n",
      "CAGTCGGGGCTGACTCAACCATCCTCAGTGTCTGGGGCCCTGGGCCAGAGGGTCACTATCTCCTGCACTGGAGTTGGTAGTTACGTGTACTGGTACCAACAAATCCCAGGAATGGCCCCCAAAACCATCATCTATCTTAATAGCAACCGACCCTCAGGGGTCCCTGATCGATTCTCCGGCTCCAAGTCTGGCAGCACAGGCACCCTGACCATCACTGGGCTCCAGGCCGAAGACGAGGCTGATTATTACTGCTCATCGTGGGACAGCAGTGGCAGTGCTTA\n",
      "1829|IGLV1-47*01|Felis_catus_Abyssinian|P|V-REGION||99 AA|||||||||\n",
      "QSVLTQQPSSVSGSLGQTLTVSCTGSPANIG...AG*CVFWYLQLPSMTPKTIIYG........NTRLLGVP.DQFSGSG..SGNSGSLTITGLQADDKADY......*N*AWDENLTA\n",
      "CAGTCTGTGCTGACTCAGCAGCCATCTTCAGTGTCTGGGTCCCTGGGCCAGACACTCACCGTTTCCTGCACTGGAAGCCCAGCCAACATCGGGGCCGGTTAGTGTGTGTTTTGGTACCTACAGCTCCCAAGCATGACCCCTAAAACCATCATCTATGGGAACACTCGTCTTTTGGGGGTCCCAGACCAGTTCTCTGGCTCTGGGTCTGGCAATTCTGGCTCCTTGACCATCACTGGGCTCCAGGCGGACGACAAGGCTGATTATTAGAACTAAGCATGGGACGAGAATCTCACTGCTTA\n"
     ]
    },
    {
     "name": "stderr",
     "output_type": "stream",
     "text": [
      "/Users/jwillis/miniconda3/envs/bfx-bp-antibody/lib/python3.8/site-packages/Bio/Seq.py:2573: BiopythonWarning: Partial codon, len(sequence) not a multiple of three. Explicitly trim the sequence or add trailing N before translation. This may become an error in future.\n",
      "  warnings.warn(\"Partial codon, len(sequence) not a multiple of three. \"\n",
      "/Users/jwillis/miniconda3/envs/bfx-bp-antibody/lib/python3.8/site-packages/Bio/Seq.py:2573: BiopythonWarning: Partial codon, len(sequence) not a multiple of three. Explicitly trim the sequence or add trailing N before translation. This may become an error in future.\n",
      "  warnings.warn(\"Partial codon, len(sequence) not a multiple of three. \"\n",
      "/Users/jwillis/miniconda3/envs/bfx-bp-antibody/lib/python3.8/site-packages/Bio/Seq.py:2573: BiopythonWarning: Partial codon, len(sequence) not a multiple of three. Explicitly trim the sequence or add trailing N before translation. This may become an error in future.\n",
      "  warnings.warn(\"Partial codon, len(sequence) not a multiple of three. \"\n",
      "/Users/jwillis/miniconda3/envs/bfx-bp-antibody/lib/python3.8/site-packages/Bio/Seq.py:2573: BiopythonWarning: Partial codon, len(sequence) not a multiple of three. Explicitly trim the sequence or add trailing N before translation. This may become an error in future.\n",
      "  warnings.warn(\"Partial codon, len(sequence) not a multiple of three. \"\n"
     ]
    },
    {
     "name": "stdout",
     "output_type": "stream",
     "text": [
      "1833|IGLV1-47D*01|Felis_catus_Abyssinian|P|V-REGION||99 AA|||||||||\n",
      "QSVLTQQPSSVSGSLGQTLTVSCTGSPANIG...AG*CVFWYLQLPSMTPKTIIYG........NTRLLGVP.DQFSGSG..SGNSGSLTITGLQADDKADY......*N*AWDENLTA\n",
      "CAGTCTGTGCTGACTCAGCAGCCATCTTCAGTGTCTGGGTCCCTGGGCCAGACACTCACCGTTTCCTGCACTGGAAGCCCAGCCAACATCGGGGCCGGTTAGTGTGTGTTTTGGTACCTACAGCTCCCAAGCATGACCCCTAAAACCATCATCTATGGGAACACTCGTCTTTTGGGGGTCCCAGACCAGTTCTCTGGCTCTGGGTCTGGCAATTCTGGCTCCTTGACCATCACTGGGCTCCAGGCGGACGACAAGGCTGATTATTAGAACTAAGCATGGGACGAGAATCTCACTGCTTA\n",
      "1837|IGLV1-50*01|Felis_catus_Abyssinian|P|V-REGION||98 AA|||||||||\n",
      "QSVVTQPSA.VSKPVNKTVTTSCTGSSSNV....GAGGVSWYQQLPGSVPNVVIYGS.......SARPARVP.SRLLGSR..SGNVASLSISSLQAEDEADY......Y*SVWDHSLKA\n",
      "CAGTCGGTGGTGACTCAGCCATCTGCCGTGTCCAAGCCTGTGAATAAGACTGTTACCACCTCCTGCACTGGAAGCAGCAGCAATGTTGGGGCTGGAGGTGTGTCCTGGTACCAGCAGCTCCCAGGCAGTGTCCCCAACGTTGTCATCTATGGTAGCAGTGCTCGGCCTGCGAGGGTCCCGTCCAGACTCTTAGGCTCCAGGTCAGGGAACGTGGCCTCCCTGAGCATCTCTAGCCTCCAGGCTGAGGATGAGGCTGATTATTACTGATCAGTGTGGGACCACAGTCTCAAAGCTCA\n",
      "1839|IGLV1-51*01|Felis_catus_Abyssinian|F|V-REGION||102 AA|||||||||\n",
      "QSVLTQPPS.VSGALGQTVTISCAGSRSNI....GIAGVNWYQQLPGKAPKLLSMLI......DRNNPHGFP.ERIRESPGSK..SGNTGSLTITGLQAEDEADYYCSAWDAILKA\n",
      "CAGTCTGTGCTGACTCAGCCGCCCTCAGTGTCTGGGGCCCTGGGGCAGACGGTCACCATCTCCTGCGCTGGAAGTAGGAGCAACATCGGTATTGCTGGTGTGAACTGGTACCAACAGCTTCCAGGAAAGGCCCCTAAACTCCTCTCTATGCTAATAGACAGAAACAACCCTCATGGGTTCCCTGAACGAATCCGCGAATCTCCTGGCTCCAAGTCTGGCAACACAGGCTCCTTGACCATCACTGGGCTCCAGGCTGAGGACGAGGCTGATTATTACTGCTCAGCATGGGATGCTATTCTGAAAGCTCA\n",
      "Did not detect anything in summary dataframe,[],[]\n",
      "having trouble with 1844|IGLV1-53*01|Felis_catus_Abyssinian|P|V-REGION||74 AA|||||||||-PNNIGILGVSRYQQLPRKAASNSSSMIIANDCQGSVTDFLAAGLMTQTL*PSLGSRLRTRLIITASPLTTVSVF\n",
      "1844|IGLV1-53*01|Felis_catus_Abyssinian|P|V-REGION||74 AA|||||||||\n",
      "QSVLTQPPS.VSGALGQTVTISCAGSRSNI....GIAGVNWYQQLPGKAPKLLSMLI......DRNNPHGFP.ERIRESPGSK..SGNTGSLTITGLQAEDEADYYCSAWDAILKA\n",
      "CCCAACAACATCGGTATTCTTGGTGTGAGCCGGTACCAACAGCTCCCAAGAAAGGCTGCCTCAAACTCCTCATCTATGATAATAGCAAACGACTGTCAGGGGTCCGTGACTGATTTTCTGGCTGCAGGTCTGATGACTCAGACTCTCTGACCATCACTGGGCTCCAGGCTGAGGACGAGGCTGATTATTACTGCCAGTCCTTTGACTACTGTATCAGTGTTCA\n"
     ]
    },
    {
     "name": "stderr",
     "output_type": "stream",
     "text": [
      "/Users/jwillis/miniconda3/envs/bfx-bp-antibody/lib/python3.8/site-packages/Bio/Seq.py:2573: BiopythonWarning: Partial codon, len(sequence) not a multiple of three. Explicitly trim the sequence or add trailing N before translation. This may become an error in future.\n",
      "  warnings.warn(\"Partial codon, len(sequence) not a multiple of three. \"\n",
      "/Users/jwillis/miniconda3/envs/bfx-bp-antibody/lib/python3.8/site-packages/Bio/Seq.py:2573: BiopythonWarning: Partial codon, len(sequence) not a multiple of three. Explicitly trim the sequence or add trailing N before translation. This may become an error in future.\n",
      "  warnings.warn(\"Partial codon, len(sequence) not a multiple of three. \"\n",
      "/Users/jwillis/miniconda3/envs/bfx-bp-antibody/lib/python3.8/site-packages/Bio/Seq.py:2573: BiopythonWarning: Partial codon, len(sequence) not a multiple of three. Explicitly trim the sequence or add trailing N before translation. This may become an error in future.\n",
      "  warnings.warn(\"Partial codon, len(sequence) not a multiple of three. \"\n",
      "/Users/jwillis/miniconda3/envs/bfx-bp-antibody/lib/python3.8/site-packages/Bio/Seq.py:2573: BiopythonWarning: Partial codon, len(sequence) not a multiple of three. Explicitly trim the sequence or add trailing N before translation. This may become an error in future.\n",
      "  warnings.warn(\"Partial codon, len(sequence) not a multiple of three. \"\n"
     ]
    },
    {
     "name": "stdout",
     "output_type": "stream",
     "text": [
      "1848|IGLV1-56*01|Felis_catus_Abyssinian|F|V-REGION||99 AA|||||||||\n",
      "QSVLTQPPS.VSGALGQRVTISCTGSSSNIG...RGNYVSWYQQLSGTAPKLLIYGN.......SNRPSGVP.DRFSGSK..SGSTGSLTITGLQAEDEADYYCAAWDSSLNA\n",
      "CAGTCTGTGCTGACTCAGCCGCCCTCAGTGTCTGGGGCCCTGGGCCAGAGGGTCACCATCTCCTGCACTGGAAGCAGCTCCAACATCGGGCGTGGTAATTATGTGAGCTGGTACCAACAACTCTCAGGAACAGCTCCCAAACTCCTCATCTATGGTAATAGCAATCGACCCTCGGGGGTCCCAGATCGATTTTCTGGCTCCAAGTCTGGCAGCACAGGCTCCTTGACCATCACTGGGCTGCAGGCTGAGGACGAGGCTGATTATTACTGTGCAGCGTGGGACAGCAGTCTCAATGCTCA\n",
      "1851|IGLV1-59*01|Felis_catus_Abyssinian|P|V-REGION||98 AA|||||||||\n",
      "QSMLTQPPS.VSGALGQTVTISCSGSTNNI....GIYGVNWY*Q.LPGEAPKLLIYGN.......SNRPSGVP.DRFSGSK..SGSTGSLTITGLQAEDEADYYCQTIHLTVSD\n",
      "CAGTCTATGCTGACTCAGCCGCCATCAGTGTCTGGGGCCCTGGGCCAGACGGTCACCATCTCTTGCAGTGGAAGCACCAACAACATCGGTATTTATGGTGTGAACTGGTACTAACAGCTCCCAGGAGAGGCCCCTAAACTCCTCATCTATGGCAATAGCAATCGACCCTCAGGGGTCCCAGATCGATTTTCTGGCTCCAAGTCTGGCAGCACAGGCTCCTTGACCATCACTGGGCTCCAGGCTGAGGACGAGGCAGATTATTACTGCCAGACCATTCACTTAACTGTCAGTGATTA\n",
      "1853|IGLV1-61*01|Felis_catus_Abyssinian|F|V-REGION||98 AA|||||||||\n",
      "QSVLTQPPS.VSGSLGQRVTISCTGSSSHI....SNNFVNWYQQLPGTTPKTIILWD.......DSRPSGVS.ERFSGSK..SGSTGTLTITGLQAEDEADYYCSAWDDSLRA\n",
      "CAGTCTGTACTGACTCAGCCACCCTCGGTGTCAGGCTCCTTGGGCCAGAGGGTCACCATCTCCTGCACTGGAAGCAGCTCCCACATCAGTAACAATTTTGTGAACTGGTACCAACAACTCCCAGGCACAACCCCCAAAACCATAATCCTTTGGGATGATAGCAGACCCTCGGGGGTCTCTGAACGATTCTCTGGCTCCAAGTCTGGCAGCACAGGCACCCTGACCATCACTGGGCTCCAGGCTGAGGACGAGGCTGATTATTACTGCTCAGCATGGGATGATAGTCTGAGAGCTCA\n"
     ]
    },
    {
     "name": "stderr",
     "output_type": "stream",
     "text": [
      "/Users/jwillis/miniconda3/envs/bfx-bp-antibody/lib/python3.8/site-packages/Bio/Seq.py:2573: BiopythonWarning: Partial codon, len(sequence) not a multiple of three. Explicitly trim the sequence or add trailing N before translation. This may become an error in future.\n",
      "  warnings.warn(\"Partial codon, len(sequence) not a multiple of three. \"\n",
      "/Users/jwillis/miniconda3/envs/bfx-bp-antibody/lib/python3.8/site-packages/Bio/Seq.py:2573: BiopythonWarning: Partial codon, len(sequence) not a multiple of three. Explicitly trim the sequence or add trailing N before translation. This may become an error in future.\n",
      "  warnings.warn(\"Partial codon, len(sequence) not a multiple of three. \"\n",
      "/Users/jwillis/miniconda3/envs/bfx-bp-antibody/lib/python3.8/site-packages/Bio/Seq.py:2573: BiopythonWarning: Partial codon, len(sequence) not a multiple of three. Explicitly trim the sequence or add trailing N before translation. This may become an error in future.\n",
      "  warnings.warn(\"Partial codon, len(sequence) not a multiple of three. \"\n",
      "/Users/jwillis/miniconda3/envs/bfx-bp-antibody/lib/python3.8/site-packages/Bio/Seq.py:2573: BiopythonWarning: Partial codon, len(sequence) not a multiple of three. Explicitly trim the sequence or add trailing N before translation. This may become an error in future.\n",
      "  warnings.warn(\"Partial codon, len(sequence) not a multiple of three. \"\n"
     ]
    },
    {
     "name": "stdout",
     "output_type": "stream",
     "text": [
      "1856|IGLV1-63*01|Felis_catus_Abyssinian|F|V-REGION||98 AA|||||||||\n",
      "QSELTQPPS.VSGGLGQTVTISCAGSRSNI....GIAGVNWYQQHPGKAPKLLIYGS.......SNRPSGVP.DRFSGSK..SGNTGSLTITGLQAEDEADYYCLSVDVTRGA\n",
      "CAGTCTGAGCTGACTCAGCCGCCCTCAGTGTCTGGGGGCCTGGGCCAGACGGTCACCATCTCCTGCGCTGGAAGTAGGAGCAACATTGGTATTGCTGGTGTGAACTGGTACCAACAGCATCCAGGAAAGGCCCCTAAACTCCTCATCTATGGTAGTAGCAATCGACCCTCAGGGGTCCCTGACAGATTTTCTGGCTCCAAGTCTGGCAACACAGGCTCCTTGACCATCACTGGGCTCCAGGCCGAGGACGAGGCTGATTATTATTGCCTGTCTGTTGACGTTACGCGAGGTGCTGA\n",
      "1863|IGLV1-69*01|Felis_catus_Abyssinian|P|V-REGION||98 AA|||||||||\n",
      "QWVVTQPSA.VSKPVNKTVTISCTGSSSHV....GAAGVSWYQQLPGSVPKVLIYGS.......SARPAGVP.SRFSGSR..SGNVASLSISILQVEDEADYYCSVWDHSLKA\n",
      "CAGTGGGTGGTGACTCAGCCATCTGCAGTGTCCAAGCCTGTGAATAAGACTGTTACCATCTCCTGCACGGGAAGCAGCAGCCACGTTGGGGCTGCAGGTGTGTCCTGGTACCAGCAGCTCCCAGGCAGTGTCCCCAAAGTTCTCATCTATGGTAGCAGTGCTCGGCCTGCGGGGGTCCCGTCCAGATTCTCAGGCTCCAGGTCAGGGAACGTGGCCTCCCTGAGCATCTCTATCCTCCAGGTTGAGGATGAGGCTGATTATTACTGCTCAGTGTGGGACCACAGTCTCAAAGCTCA\n",
      "1865|IGLV1-70*01|Felis_catus_Abyssinian|F|V-REGION||98 AA|||||||||\n",
      "QSELTQPPS.VSGGLGQTVTISCAGSANNI....GRIGVNWYQQFPGKAPKLLISAY.......SNQPSRVS.GRFSGST..SGNTGSLTITGLQAEDEADYYCTSADPIQSA\n",
      "CAGTCTGAGCTGACTCAACCGCCCTCAGTGTCTGGGGGCCTGGGCCAGACGGTCACCATCTCCTGCGCTGGAAGTGCCAACAACATCGGTAGAATTGGTGTGAACTGGTACCAACAGTTTCCAGGAAAAGCCCCTAAACTCCTCATCTCCGCTTATAGCAATCAACCCTCACGGGTTTCTGGTCGATTTTCTGGCTCCACGTCTGGCAACACAGGCTCCTTGACCATCACTGGGCTCCAGGCCGAGGACGAGGCTGATTATTACTGCACGTCTGCTGACCCTATTCAAAGTGCTCA\n",
      "1867|IGLV1-72*01|Felis_catus_Abyssinian|P|V-REGION||98 AA|||||||||\n",
      "QSVVTQPSE.VSKPVNKSVTISCTGSSSNV....GAGGVSWYQQLPGSVPKVLIYGS.......SARPAGVP.SRFTGSR..SGNVASLSISSLQAEDEADYYCSVWDHSPQA\n",
      "CAGTCGGTGGTGACTCAGCCATCTGAAGTGTCCAAGCCTGTGAATAAGAGTGTTACCATCTCCTGCACGGGAAGCAGCAGCAATGTTGGGGCTGGAGGTGTGTCCTGGTACCAGCAGCTCCCAGGCAGTGTCCCCAAAGTTCTCATCTATGGTAGCAGTGCTCGGCCTGCGGGGGTCCCGTCCAGATTCACAGGCTCCAGGTCAGGGAACGTGGCCTCCCTGAGCATCTCTAGCCTCCAGGCTGAGGATGAGGCTGATTATTACTGCTCAGTGTGGGACCACAGTCCTCAAGCTCA\n"
     ]
    },
    {
     "name": "stderr",
     "output_type": "stream",
     "text": [
      "/Users/jwillis/miniconda3/envs/bfx-bp-antibody/lib/python3.8/site-packages/Bio/Seq.py:2573: BiopythonWarning: Partial codon, len(sequence) not a multiple of three. Explicitly trim the sequence or add trailing N before translation. This may become an error in future.\n",
      "  warnings.warn(\"Partial codon, len(sequence) not a multiple of three. \"\n",
      "/Users/jwillis/miniconda3/envs/bfx-bp-antibody/lib/python3.8/site-packages/Bio/Seq.py:2573: BiopythonWarning: Partial codon, len(sequence) not a multiple of three. Explicitly trim the sequence or add trailing N before translation. This may become an error in future.\n",
      "  warnings.warn(\"Partial codon, len(sequence) not a multiple of three. \"\n",
      "/Users/jwillis/miniconda3/envs/bfx-bp-antibody/lib/python3.8/site-packages/Bio/Seq.py:2573: BiopythonWarning: Partial codon, len(sequence) not a multiple of three. Explicitly trim the sequence or add trailing N before translation. This may become an error in future.\n",
      "  warnings.warn(\"Partial codon, len(sequence) not a multiple of three. \"\n"
     ]
    },
    {
     "name": "stdout",
     "output_type": "stream",
     "text": [
      "1869|IGLV1-73*01|Felis_catus_Abyssinian|P|V-REGION||98 AA|||||||||\n",
      "QSVLTQPPL.VSGALGQTVTISCTVSDSSFW...GGEFIHWYQQLPGAAPKLLIYGN.......NNRLSGVP.SRFSGSK..SGNSHSLTIIGLQPEDEADYYCQYFDDRVI\n",
      "CAGTCTGTGCTGACTCAGCCTCCCTTGGTGTCTGGGGCTCTGGGGCAGACTGTCACTATTTCATGCACTGTCAGCGACTCCAGTTTTTGGGGTGGTGAATTTATACACTGGTACCAGCAACTCCCAGGAGCGGCCCCCAAACTTCTCATCTATGGTAACAACAATCGTCTTTCTGGGGTCCCCAGTCGATTTTCTGGCTCCAAGTCTGGCAACTCCCACTCTCTGACCATCATTGGGCTCCAGCCTGAAGATGAGGCTGATTATTACTGCCAATACTTTGATGACAGAGTCATTA\n",
      "1872|IGLV1-76*01|Felis_catus_Abyssinian|P|V-REGION||99 AA|||||||||\n",
      "QSVLTQPSS.VSVALGQRVTISCTGSSSNI....GGGYYMY*YQQISGMAPKFIIYCD.......NKRPSRVP.DRFSGSK..SGSSGTLTITGLQAEDEADYYCSAWDNSLRA\n",
      "CAGTCTGTGCTGACTCAGCCATCCTCAGTGTCTGTGGCCCTGGGCCAGAGGGTCACCATCTCCTGCACTGGAAGCAGCTCCAACATTGGGGGTGGATATTATATGTACTAGTACCAACAGATCTCAGGAATGGCACCCAAATTCATCATCTATTGTGATAACAAGAGACCTTCCAGGGTCCCTGATCGATTCTCTGGCTCCAAGTCTGGCAGCTCAGGCACTCTGACCATCACTGGGCTCCAGGCTGAGGATGAGGCTGATTATTACTGCTCAGCATGGGACAATAGTCTCAGAGCTCA\n",
      "Did not detect anything in summary dataframe,[],[]\n",
      "having trouble with 1874|IGLV1-78*01|Felis_catus_Abyssinian|P|V-REGION||97 AA|||||||||-HSVLTQPLSVSGYLGQSVTIFCTWSSSNIGGNGVNEYQELPGMAPKCTL*GNSNQPLRVPNHFSGSMSGNSVSLNNTGLRSEDNVAPHSLP*QYSRL\n",
      "1874|IGLV1-78*01|Felis_catus_Abyssinian|P|V-REGION||97 AA|||||||||\n",
      "QSVLTQPSS.VSVALGQRVTISCTGSSSNI....GGGYYMY*YQQISGMAPKFIIYCD.......NKRPSRVP.DRFSGSK..SGSSGTLTITGLQAEDEADYYCSAWDNSLRA\n",
      "CATTCTGTGCTGACTCAGCCACTTTCAGTATCTGGGTACCTAGGCCAGAGTGTCACCATCTTCTGCACTTGGAGCAGCTCCAACATTGGTGGTAATGGTGTGAATGAGTACCAAGAGCTCCCAGGCATGGCCCCCAAATGTACTTTGTAAGGTAATAGCAATCAACCCTTGAGGGTCCCCAATCACTTTTCTGGCTCCATGTCTGGCAACTCTGTCTCCCTGAATAACACTGGACTAAGGAGTGAGGATAATGTGGCTCCTCATAGTCTCCCATGACAATATTCTCGGCTCA\n",
      "1905|IGLV12-26*01|Felis_catus_Abyssinian|F|V-REGION||98 AA|||||||||\n",
      "QEVVTQETS.LSTTPGGTVTLTCGSSTGAVT...TSNYASWVQQKPYQRFQGLIGGT.......SYRNPGVP.ARFSGSL..VGQKAVLTITGAQSEDEAEYYCVLWFSNHY\n",
      "CAGGAAGTAGTGACTCAGGAAACTTCACTCTCAACAACTCCTGGAGGAACAGTCACACTCACCTGTGGCTCCAGTACTGGGGCTGTCACCACCAGTAATTATGCCAGCTGGGTCCAACAGAAGCCCTACCAGAGATTCCAGGGTCTGATAGGTGGGACCAGCTACCGGAACCCAGGGGTCCCTGCCCGATTCTCTGGCTCCCTGGTTGGACAGAAGGCCGTCCTCACCATCACGGGGGCGCAGTCAGAGGATGAAGCTGAGTATTACTGTGTTCTGTGGTTCAGCAACCATTAC\n",
      "Did not detect anything in summary dataframe,[],[]\n"
     ]
    },
    {
     "name": "stderr",
     "output_type": "stream",
     "text": [
      "/Users/jwillis/miniconda3/envs/bfx-bp-antibody/lib/python3.8/site-packages/Bio/Seq.py:2573: BiopythonWarning: Partial codon, len(sequence) not a multiple of three. Explicitly trim the sequence or add trailing N before translation. This may become an error in future.\n",
      "  warnings.warn(\"Partial codon, len(sequence) not a multiple of three. \"\n",
      "/Users/jwillis/miniconda3/envs/bfx-bp-antibody/lib/python3.8/site-packages/Bio/Seq.py:2573: BiopythonWarning: Partial codon, len(sequence) not a multiple of three. Explicitly trim the sequence or add trailing N before translation. This may become an error in future.\n",
      "  warnings.warn(\"Partial codon, len(sequence) not a multiple of three. \"\n"
     ]
    },
    {
     "name": "stdout",
     "output_type": "stream",
     "text": [
      "having trouble with 1920|IGLV2-19*01|Felis_catus_Abyssinian|P|V-REGION||98 AA|||||||||-QSALPQSLAVPGLWAR*LPSLVLEATMTFRVIRMSPGTNSSQPHPPNSCFIMYILRLQGSLIASLAPSLATRPP*PSLGSGLKMRLIITAPHVLVVAF\n",
      "1920|IGLV2-19*01|Felis_catus_Abyssinian|P|V-REGION||98 AA|||||||||\n",
      "QEVVTQETS.LSTTPGGTVTLTCGSSTGAVT...TSNYASWVQQKPYQRFQGLIGGT.......SYRNPGVP.ARFSGSL..VGQKAVLTITGAQSEDEAEYYCVLWFSNHY\n",
      "CAGTCTGCCCTGCCTCAGTCTCTCGCAGTGCCTGGGCTCTGGGCCAGATAATTACCATCTCTTGTTCTGGAAGCAACAATGACATTCAGGGTTATAAGGATGTCCCCTGGTACCAACAGCTCTCAGCCACATCCCCCAAACTCCTGTTTTATCATGTACATTCTCAGGCTTCAGGGATCCCTGATCGCTTCTCTGGCTCCAAGTCTGGCAACACGGCCTCCTTGACCATCTCTGGGCTCCGGGCTGAAGATGAGGCTGATTATCACTGCTCCTCATGTGCTGGTAGTAGCATTTA\n",
      "1924|IGLV2-24*01|Felis_catus_Abyssinian|F|V-REGION||99 AA|||||||||\n",
      "QSALNQPPS.LSGDLGRTVTISCAGSSNDIG...RYSDVSWYQQLEGTSPKLLIHNV.......NSRPSGIP.DRFSGSK..SGNTASLTISGLQAEDEADYYCCSYASSNTL\n",
      "CAGTCTGCCCTGAATCAGCCTCCCTCACTGTCCGGGGATCTGGGACGCACAGTCACCATCTCCTGTGCTGGCAGCAGCAATGACATTGGGAGATATAGTGACGTCTCCTGGTACCAACAGCTCGAAGGCACATCCCCCAAACTCCTGATTCATAATGTAAATTCCCGGCCTTCAGGGATCCCTGATCGCTTCTCTGGCTCCAAGTCTGGCAACACGGCCTCCTTGACCATCTCTGGGCTCCAGGCTGAAGATGAGGCTGATTATTACTGTTGCTCATATGCTAGTAGTAATACTCTC\n",
      "1944|IGLV3-10*01|Felis_catus_Abyssinian|P|V-REGION||95 AA|||||||||\n",
      "...........SVILGQTAQMP..GSRNNI....GGKVVQWYQQKMGQAPMLIIYDD.......SNWPSGIP.DWSSGSN..SGNTATPTISGAWAEDEAEYYCQEWDKVVM\n",
      "TCCAATGTGCTGATGAAGTCCCCATAAATGTCAGTGATCCTGGGACAGACAGCCCAGATGCCAGGTAGTAGAAACAACATTGGAGGGAAAGTTGTTCAATGGTACCAGCAGAAGATGGGCCAGGCCCCCATGCTGATTATCTATGATGATAGCAACTGGCCCTCAGGGATCCCTGACTGGTCCTCTGGCTCCAACTCAGGAAACACAGCCACCCCAACCATCAGCGGGGCCTGGGCTGAGGACGAGGCTGAGTATTACTGTCAAGAATGGGACAAAGTAGTGATGCC\n",
      "1949|IGLV3-11*01|Felis_catus_Abyssinian|F|V-REGION||96 AA|||||||||\n",
      "SSEVTQPPS.VSVALGQTARITCSGDMME......KKYTNWHQQKPGQAPIQIIYKD.......SERPSGIP.DRFSSSS..SGKTVTLTISGARAEDEADYYCQSYDISSNA\n",
      "TCCAGTGAGGTGACTCAGCCGCCCTCAGTGTCAGTGGCCCTGGGACAGACGGCTAGAATCACCTGCTCTGGAGATATGATGGAGAAAAAATATACCAATTGGCACCAGCAGAAGCCAGGTCAAGCCCCCATACAGATCATTTATAAGGATAGTGAGCGGCCCTCAGGGATCCCTGACCGATTCTCTAGCTCCAGTTCAGGGAAAACAGTCACCCTGACCATCAGCGGGGCCCGGGCCGAAGACGAGGCTGACTACTACTGTCAGTCTTATGACATCAGTAGTAATGCT\n"
     ]
    },
    {
     "name": "stderr",
     "output_type": "stream",
     "text": [
      "/Users/jwillis/miniconda3/envs/bfx-bp-antibody/lib/python3.8/site-packages/Bio/Seq.py:2573: BiopythonWarning: Partial codon, len(sequence) not a multiple of three. Explicitly trim the sequence or add trailing N before translation. This may become an error in future.\n",
      "  warnings.warn(\"Partial codon, len(sequence) not a multiple of three. \"\n",
      "/Users/jwillis/miniconda3/envs/bfx-bp-antibody/lib/python3.8/site-packages/Bio/Seq.py:2573: BiopythonWarning: Partial codon, len(sequence) not a multiple of three. Explicitly trim the sequence or add trailing N before translation. This may become an error in future.\n",
      "  warnings.warn(\"Partial codon, len(sequence) not a multiple of three. \"\n",
      "/Users/jwillis/miniconda3/envs/bfx-bp-antibody/lib/python3.8/site-packages/Bio/Seq.py:2573: BiopythonWarning: Partial codon, len(sequence) not a multiple of three. Explicitly trim the sequence or add trailing N before translation. This may become an error in future.\n",
      "  warnings.warn(\"Partial codon, len(sequence) not a multiple of three. \"\n"
     ]
    },
    {
     "name": "stdout",
     "output_type": "stream",
     "text": [
      "Did not detect anything in summary dataframe,[],[]\n",
      "having trouble with 1950|IGLV3-12*01|Felis_catus_Abyssinian|P|V-REGION||95 AA|||||||||-SYVLTQHPPQCP*LCHRQPGSPVGETTLEVEVFNGTSRSQAKPPC*LSIMIASGPQGSLTNSLAPTPGTESPWPSVRPRLRTRVTITVRCGTLIV\n",
      "1950|IGLV3-12*01|Felis_catus_Abyssinian|P|V-REGION||95 AA|||||||||\n",
      "SSEVTQPPS.VSVALGQTARITCSGDMME......KKYTNWHQQKPGQAPIQIIYKD.......SERPSGIP.DRFSSSS..SGKTVTLTISGARAEDEADYYCQSYDISSNA\n",
      "TCCTATGTGCTGACTCAGCACCCCCCTCAGTGTCCGTGACTCTGTCACAGACAGCCAGGATCACCTGTGGGGGAAACAACTTTGGAGGTAGAAGTGTTCAATGGTACCAGCAGAAGCCAGGCCAAGCCCCCATGCTGATTATCTATTATGATAGCAAGTGGCCCTCAGGGATCCCTGACCAATTCTCTGGCTCCAACTCCGGGAACAGAGTCACCCTGGCCATCAGTGAGGCCCAGGCTGAGGACAAGGGTGACTATTACTGTCAGGTGTGGGACACTGATAGTGCT\n",
      "Did not detect anything in summary dataframe,[],[]\n",
      "having trouble with 1953|IGLV3-12-1*01|Felis_catus_Abyssinian|P|V-REGION||98 AA|||||||||-PTS*LNPLAVSDYEGDSQDHMWGKTHGKYICPLAPAEAKLDTPGNYLSLQQPTLRDP*PIFKFQLKDQAILTISQAQAQGKAHCHSATYHGSGSSFQ*\n",
      "1953|IGLV3-12-1*01|Felis_catus_Abyssinian|P|V-REGION||98 AA|||||||||\n",
      "SSEVTQPPS.VSVALGQTARITCSGDMME......KKYTNWHQQKPGQAPIQIIYKD.......SERPSGIP.DRFSSSS..SGKTVTLTISGARAEDEADYYCQSYDISSNA\n",
      "CCTACAAGCTGACTCAACCCCCTCGCTGTCAGTGACTATGAAGGAGACAGCCAGGATCACATGTGGGGGAAAACACATGGGAAGTACATATGTCCACTGGCACCAGCAGAAGCCAAGCTAGACACCCCTGGAAATTATCTATCATTACAGCAACCTACCCTCAGGGATCCCTGACCAATTTTCAAGTTCCAACTCAAGGACCAGGCCATCCTGACCATAAGCCAGGCCCAGGCCCAGGGCAAAGCTCACTGCCACTCTGCCACCTACCATGGCAGTGGGAGCAGTTTTCAGTGACT\n",
      "1955|IGLV3-13*01|Felis_catus_Abyssinian|F|V-REGION||96 AA|||||||||\n",
      "SYVLTQPPS.VAVNLGQTARITCGGNNIG......SSYAYWYQQKSGQAPVLIIYKD.......SNRPSGIP.DRFSGTN..SGNTATLTISGARAEDEADYYCQSYDSNYDP\n",
      "TCCTATGTGCTGACTCAGCCCCCATCAGTGGCAGTGAACCTGGGACAGACGGCCAGGATCACATGTGGAGGAAACAACATTGGAAGTAGTTATGCTTACTGGTACCAGCAGAAGTCAGGCCAGGCCCCTGTGCTGATTATCTATAAGGATAGCAACCGGCCCTCAGGGATCCCTGACCGATTCTCAGGCACCAACTCGGGGAACACGGCCACCCTGACCATCAGCGGGGCCCGGGCCGAGGACGAGGCTGACTATTACTGTCAGTCATATGACAGCAACTATGATCCT\n",
      "1964|IGLV3-17*01|Felis_catus_Abyssinian|F|V-REGION||96 AA|||||||||\n",
      "ASELTQPPA.VSVALGQTATITCEGDSFE......SSMINWYQQKSGQAPVLVIYED.......SEQPTGIP.DRFSGSN..SGDAATLTITGAQAEDEADYYCQSYDNSGDA\n",
      "GCTTCTGAACTGACTCAGCCACCTGCGGTGTCTGTGGCCTTGGGACAGACGGCCACGATTACATGCGAGGGAGACAGCTTCGAAAGCAGTATGATTAACTGGTATCAGCAGAAATCAGGCCAAGCCCCCGTGCTGGTCATTTATGAGGATAGTGAGCAGCCCACAGGGATTCCTGACAGATTCTCTGGCTCCAACTCGGGGGATGCAGCCACTCTGACCATCACCGGGGCCCAGGCTGAGGACGAGGCTGACTATTACTGTCAGTCCTATGATAACAGTGGTGATGCT\n",
      "1971|IGLV3-2*01|Felis_catus_Abyssinian|F|V-REGION||96 AA|||||||||\n",
      "SYVLTQPPS.VSVNLGQTARITCGGNNIG......SKHAYWYQQKPGQAPMLVIYYS.......SNRPSGIP.DRFSGTN..SGNTATLTISGAQAEDEADYYCQVWDNSGNA\n",
      "TCCTACGTGCTGACCCAGCCCCCGTCGGTGTCAGTGAACCTGGGACAGACAGCCAGAATCACCTGTGGGGGAAACAACATTGGAAGTAAACATGCTTACTGGTACCAGCAGAAGCCAGGCCAGGCCCCCATGCTGGTCATTTACTATAGCAGCAACCGGCCCTCAGGGATCCCTGACCGATTCTCTGGCACCAACTCGGGGAACACGGCCACCCTGACCATCAGCGGGGCCCAGGCTGAGGACGAGGCTGACTATTACTGTCAGGTGTGGGATAACAGTGGTAATGCT\n",
      "1974|IGLV3-20*01|Felis_catus_Abyssinian|F|V-REGION||96 AA|||||||||\n",
      "SYVLTQPPS.VAVNLGQTARITCGGNNIG......SSYAYWYQQKSGQAPVLIIYED.......SKRPSGIP.DRFSGTN..SGNTATLTISGARAEDEADYYCQVWDNSGNA\n",
      "TCCTATGTGCTGACTCAGCCCCCATCAGTGGCAGTGAACCTGGGACAGACAGCCAGGATCACATGTGGAGGAAACAACATTGGAAGTAGTTATGCTTACTGGTACCAGCAGAAGTCAGGCCAGGCCCCTGTGCTGATTATCTATGAGGACAGCAAACGGCCCTCAGGGATCCCTGACCGATTCTCAGGCACCAACTCGGGGAACACGGCCACCCTGACCATCAGCGGGGCCCGGGCCGAGGACGAGGCTGACTATTACTGTCAGGTGTGGGATAACAGTGGTAATGCT\n",
      "Did not detect anything in summary dataframe,[],[]\n",
      "having trouble with 1975|IGLV3-20-1*01|Felis_catus_Abyssinian|P|V-REGION||95 AA|||||||||-SSVLTQLPLLSEALGQMAMTTSQGDNVETLVFSDTSRSQDRLLCWSYMTIASLPQGFLTDSRAPTSKTQTP*TSAGPESRMRPTITVRCETVVDM\n",
      "1975|IGLV3-20-1*01|Felis_catus_Abyssinian|P|V-REGION||95 AA|||||||||\n",
      "SYVLTQPPS.VAVNLGQTARITCGGNNIG......SSYAYWYQQKSGQAPVLIIYED.......SKRPSGIP.DRFSGTN..SGNTATLTISGARAEDEADYYCQVWDNSGNA\n",
      "TCCAGCGTGCTGACTCAGCTACCCTTGTTGTCAGAGGCCCTGGGACAGATGGCCATGACCACCTCTCAGGGAGACAATGTAGAGACTTTGGTGTTCAGTGATACCAGCAGAAGCCAGGACAGACTCCTGTGCTGGTCATATATGACAATAGCAAGCCTCCCTCAGGGATTCCTGACTGATTCTCGGGCTCCAACTTCAAAGACACAGACACCCTAAACATCAGCAGGACCAGAGTCGAGGATGAGGCCGACTATTACTGTCAGGTGTGAAACAGTGGTAGACATGCT\n",
      "Did not detect anything in summary dataframe,[],[]\n",
      "having trouble with 1977|IGLV3-21*01|Felis_catus_Abyssinian|P|V-REGION||95 AA|||||||||-SYVSMQPHQCR*PWERQPGSCVVETTLEGKTFTGTSRRQTSLPC*LSIMIATGPQRSLTSSLAPTWGTRPP*PSAWPGLKTRLTITVSHMIAIMM\n",
      "1977|IGLV3-21*01|Felis_catus_Abyssinian|P|V-REGION||95 AA|||||||||\n",
      "SYVLTQPPS.VAVNLGQTARITCGGNNIG......SSYAYWYQQKSGQAPVLIIYED.......SKRPSGIP.DRFSGTN..SGNTATLTISGARAEDEADYYCQVWDNSGNA\n",
      "TCCTATGTGTCAATGCAGCCCCATCAATGTCGGTGACCCTGGGAGAGACAGCCTGGATCATGTGTAGTGGAAACAACATTGGAGGGAAAGACATTCACTGGTACCAGCAGAAGACAGACCAGCCTTCCATGCTGATTATCTATTATGATAGCAACTGGCCCTCAGAGATCCCTGACCAGTTCTCTGGCTCCAACTTGGGGAACACGGCCACCCTGACCATCAGCATGGCCCGGCCTGAAGACAAGGCTGACTATTACTGTCAGTCATATGATAGCAATTATGATGCT\n"
     ]
    },
    {
     "name": "stderr",
     "output_type": "stream",
     "text": [
      "/Users/jwillis/miniconda3/envs/bfx-bp-antibody/lib/python3.8/site-packages/Bio/Seq.py:2573: BiopythonWarning: Partial codon, len(sequence) not a multiple of three. Explicitly trim the sequence or add trailing N before translation. This may become an error in future.\n",
      "  warnings.warn(\"Partial codon, len(sequence) not a multiple of three. \"\n",
      "/Users/jwillis/miniconda3/envs/bfx-bp-antibody/lib/python3.8/site-packages/Bio/Seq.py:2573: BiopythonWarning: Partial codon, len(sequence) not a multiple of three. Explicitly trim the sequence or add trailing N before translation. This may become an error in future.\n",
      "  warnings.warn(\"Partial codon, len(sequence) not a multiple of three. \"\n",
      "/Users/jwillis/miniconda3/envs/bfx-bp-antibody/lib/python3.8/site-packages/Bio/Seq.py:2573: BiopythonWarning: Partial codon, len(sequence) not a multiple of three. Explicitly trim the sequence or add trailing N before translation. This may become an error in future.\n",
      "  warnings.warn(\"Partial codon, len(sequence) not a multiple of three. \"\n",
      "/Users/jwillis/miniconda3/envs/bfx-bp-antibody/lib/python3.8/site-packages/Bio/Seq.py:2573: BiopythonWarning: Partial codon, len(sequence) not a multiple of three. Explicitly trim the sequence or add trailing N before translation. This may become an error in future.\n",
      "  warnings.warn(\"Partial codon, len(sequence) not a multiple of three. \"\n"
     ]
    },
    {
     "name": "stdout",
     "output_type": "stream",
     "text": [
      "Did not detect anything in summary dataframe,[],[]\n",
      "having trouble with 1982|IGLV3-22*01|Felis_catus_Abyssinian|P|V-REGION||95 AA|||||||||-SYVLTQHPPRCP*LCHRQPGSPVGETTLEVEVFNGTSRSQAKPPC*LSIMIASGPQGSLTNFLAPTPGTESPWPSVRPRLRTRVTITVRCGTLIV\n",
      "1982|IGLV3-22*01|Felis_catus_Abyssinian|P|V-REGION||95 AA|||||||||\n",
      "SYVLTQPPS.VAVNLGQTARITCGGNNIG......SSYAYWYQQKSGQAPVLIIYED.......SKRPSGIP.DRFSGTN..SGNTATLTISGARAEDEADYYCQVWDNSGNA\n",
      "TCCTATGTGTTGACTCAGCACCCCCCTCGGTGTCCGTGACTCTGTCACAGACAGCCAGGATCACCTGTGGGGGAAACAACTTTGGAGGTAGAAGTGTTCAATGGTACCAGCAGAAGCCAGGCCAAGCCCCCATGCTGATTATCTATTATGATAGCAAGTGGCCCTCAGGGATCCCTGACCAATTTTCTGGCTCCAACTCCGGGAACAGAGTCACCCTGGCCATCAGTGAGGCCCAGGTTGAGGACAAGGGTGACTATTACTGTCAGGTGTGGGACACTGATAGTGCT\n",
      "1986|IGLV3-23*01|Felis_catus_Abyssinian|F|V-REGION||96 AA|||||||||\n",
      "SYVLTQPPS.VSMNLGKTARITCGGNNIG......SKYAYWYQQKPGRAPMMIIYDD.......SKRSSRTP.DRFSGTN..SGNTATLTISGAQAEDEANYYCQVWGGNSDP\n",
      "TCCTACGTGCTGACTCAGCCCCCGTCAGTGTCAATGAACCTGGGAAAGACGGCCAGGATCACGTGTGGAGGAAACAACATTGGAAGTAAATATGCTTACTGGTACCAGCAGAAGCCAGGCCGGGCCCCGATGATGATTATCTATGATGATAGCAAAAGGTCCTCAAGGACCCCTGACCGATTCTCAGGCACCAACTCGGGGAACACGGCCACCCTGACCATCAGCGGGGCCCAGGCCGAGGACGAGGCCAACTATTACTGTCAGGTGTGGGGTGGCAATAGTGATCCT\n",
      "2004|IGLV3-3*01|Felis_catus_Abyssinian|P|V-REGION||94 AA|||||||||\n",
      "SYELTQPHS.VSVTLEQTARITCRGNNIG......RKYVQWYQQKSGQAPMLVIYSN.......SNRPSRIP..G*FSGTN..SGKMATMTISRAQAEDET........ITARCGTAVVM\n",
      "TCCTATGAGCTGACTCAGCCCCACTCAGTGTCTGTGACCCTGGAACAGACGGCCAGAATCACTTGTAGAGGAAACAACATAGGAAGGAAGTATGTTCAATGGTACCAGCAGAAGTCAGGCCAGGCCCCCATGCTGGTCATCTATAGTAACAGCAACCGGCCCTCGAGGATCCCTGGCTGATTCTCTGGCACCAACTCGGGGAAAATGGCCACAATGACCATCAGCAGGGCCCAGGCCGAAGACGAGACTATTACTGCCAGGTGTGGGACAGCAGTAGTGATGCT\n",
      "2012|IGLV3-4*01|Felis_catus_Abyssinian|P|V-REGION||95 AA|||||||||\n",
      "SSMPTQSPY.ILVTLTQTARITCRGNNSG......SKSVYWYQQKPGQAPMLVICYG.......RNQPSRTP.DRFSGTN..SGNTATLIISEAQTEDEADYYCQVWDSGNA\n",
      "TCCTCCATGCCGACTCAGTCTCCTTACATTTTGGTGACCTTGACCCAGACAGCCAGGATCACCTGTAGGGGAAACAACAGTGGAAGTAAAAGTGTTTACTGGTACCAGCAGAAGCCTGGCCAGGCCCCTATGTTGGTCATCTGTTATGGCAGGAACCAGCCCTCAAGGACCCCTGACCGATTCTCAGGCACCAACTCAGGGAACACGGCCACCCTGATCATCAGTGAGGCCCAGACTGAGGATGAGGCTGACTATTACTGTCAGGTGTGGGACAGTGGTAATGCT\n",
      "2013|IGLV3-5*01|Felis_catus_Abyssinian|F|V-REGION||96 AA|||||||||\n",
      "SNRVTQPPS.ISVALGEMARITCEGNNIG......NTYVSWYQQKPNQVPLMIIYQD.......SNRPSGIP.DRFSGSN..SGNTATLTVSGARAEDEADYYCLSAHSSSNV\n",
      "TCAAACAGGGTGACTCAGCCCCCTTCCATTTCAGTGGCCCTGGGAGAGATGGCAAGGATCACCTGTGAGGGAAACAACATCGGAAATACATATGTTTCCTGGTACCAGCAGAAGCCGAACCAGGTGCCCCTGATGATTATTTATCAGGATAGCAACCGGCCTTCAGGGATCCCTGACCGATTCTCTGGCTCTAACTCTGGGAACACGGCCACCCTGACTGTCAGCGGGGCCCGGGCTGAGGATGAGGCTGACTATTACTGTCTGTCTGCTCACAGCAGTAGTAACGTT\n",
      "2014|IGLV3-6*01|Felis_catus_Abyssinian|F|V-REGION||96 AA|||||||||\n",
      "SYELTQPPS.VSVNLGQTARITCGGNNIG......NKDAYWYQQKSGQAPMLIIYED.......SKRPSGIP.DRFSGTN..SGNMATLTISGARAEDEADYYCQVWDSSSDA\n",
      "TCCTATGAGCTGACTCAGCCCCCATCAGTGTCAGTGAACCTGGGACAGACGGCCAGGATCACATGTGGAGGAAACAACATTGGAAATAAAGATGCTTACTGGTACCAGCAGAAGTCAGGCCAGGCCCCCATGCTGATTATCTATGAGGACAGCAAACGGCCCTCAGGGATCCCTGACCGATTCTCTGGCACCAACTCAGGGAACATGGCCACCTTGACCATCAGCGGGGCCCGGGCCGAAGATGAGGCTGACTATTACTGCCAGGTGTGGGACAGCAGTAGTGATGCT\n",
      "2018|IGLV3-7*01|Felis_catus_Abyssinian|F|V-REGION||96 AA|||||||||\n",
      "SYVLTQPPS.VSVSLGQTARTTCGGNNIE......SKSVHWYQQKSGQTPVLIIYSD.......SNRPSGIP.DRFSGTN..SGNTATLTISGARAEDEADYYCQVWDSSSDA\n",
      "TCCTATGTGCTGACTCAGCCCCCCTCAGTGTCGGTGAGCCTGGGACAGACGGCCAGGACCACCTGTGGAGGAAACAACATTGAAAGCAAAAGTGTTCACTGGTACCAGCAGAAGTCAGGCCAAACCCCTGTGCTGATTATCTATAGTGATAGCAACCGGCCCTCAGGAATCCCCGACCGATTCTCAGGCACCAACTCGGGGAACACGGCCACCCTGACCATCAGCGGGGCCCGGGCCGAGGACGAGGCTGACTATTACTGTCAGGTGTGGGACAGTAGTAGTGATGCT\n"
     ]
    },
    {
     "name": "stderr",
     "output_type": "stream",
     "text": [
      "/Users/jwillis/miniconda3/envs/bfx-bp-antibody/lib/python3.8/site-packages/Bio/Seq.py:2573: BiopythonWarning: Partial codon, len(sequence) not a multiple of three. Explicitly trim the sequence or add trailing N before translation. This may become an error in future.\n",
      "  warnings.warn(\"Partial codon, len(sequence) not a multiple of three. \"\n",
      "/Users/jwillis/miniconda3/envs/bfx-bp-antibody/lib/python3.8/site-packages/Bio/Seq.py:2573: BiopythonWarning: Partial codon, len(sequence) not a multiple of three. Explicitly trim the sequence or add trailing N before translation. This may become an error in future.\n",
      "  warnings.warn(\"Partial codon, len(sequence) not a multiple of three. \"\n",
      "/Users/jwillis/miniconda3/envs/bfx-bp-antibody/lib/python3.8/site-packages/Bio/Seq.py:2573: BiopythonWarning: Partial codon, len(sequence) not a multiple of three. Explicitly trim the sequence or add trailing N before translation. This may become an error in future.\n",
      "  warnings.warn(\"Partial codon, len(sequence) not a multiple of three. \"\n",
      "/Users/jwillis/miniconda3/envs/bfx-bp-antibody/lib/python3.8/site-packages/Bio/Seq.py:2573: BiopythonWarning: Partial codon, len(sequence) not a multiple of three. Explicitly trim the sequence or add trailing N before translation. This may become an error in future.\n",
      "  warnings.warn(\"Partial codon, len(sequence) not a multiple of three. \"\n"
     ]
    },
    {
     "name": "stdout",
     "output_type": "stream",
     "text": [
      "Did not detect anything in summary dataframe,[],[]\n",
      "having trouble with 2023|IGLV3-8-1*01|Felis_catus_Abyssinian|P|V-REGION||94 AA|||||||||-SSMLTQLALLSEAPGQMAMTTSQGDNVETFGVQ*YQQKPGQTPVLVIYDNNKPPSGIPD*YSGSNFKDTDTLSISRTRVEDEADYQV*NSGRHA\n",
      "2023|IGLV3-8-1*01|Felis_catus_Abyssinian|P|V-REGION||94 AA|||||||||\n",
      "SYVLTQPPS.VSVSLGQTARTTCGGNNIE......SKSVHWYQQKSGQTPVLIIYSD.......SNRPSGIP.DRFSGTN..SGNTATLTISGARAEDEADYYCQVWDSSSDA\n",
      "TCCAGCATGCTGACTCAGCTAGCCTTGTTGTCAGAGGCCCCGGGACAGATGGCCATGACCACCTCTCAGGGAGACAATGTAGAAACCTTTGGTGTTCAGTGATACCAGCAGAAGCCAGGACAGACTCCTGTGCTGGTCATATATGACAATAACAAGCCTCCCTCAGGGATTCCTGACTGATACTCGGGCTCCAACTTCAAAGACACAGACACCCTAAGCATCAGCAGGACCAGAGTCGAGGACGAGGCCGACTATCAGGTGTGAAACAGTGGTAGACATGCT\n",
      "2025|IGLV3-9*01|Felis_catus_Abyssinian|P|V-REGION||94 AA|||||||||\n",
      "SYVLTQPPS.VSVNLGQTARITCGGNNIG......SYYAYWYQQKSGQAPVLIIYED.......SKRPSGIP.DRFSGTN..SGNTATLTISGA....................GPRTRLTITVRCGTVVM\n",
      "TCCTATGTGCTCACTCAGCCCCCGTCCGTGTCAGTGAACCTGGGACAGACGGCCAGGATCACGTGTGGAGGAAACAACATTGGAAGTTATTATGCTTACTGGTACCAGCAGAAGTCAGGCCAGGCCCCTGTGCTGATTATCTATGAGGACAGCAAACGGCCCTCAGGGATCCCTGACCGATTCTCAGGCACCAACTCGGGGAACACGGCCACCCTGACCATCAGCGGGGCCGGGCCGAGGACGAGGCTGACTATTACTGTCAGGTGTGGGACAGTGGTAATGCT\n",
      "2038|IGLV4-15*01|Felis_catus_Abyssinian|F|V-REGION||104 AA|||||||||\n",
      "LPVLTQAPS.ASASLGASVKLTCTLSSEHS.....NYFVWWYQQRPEKAPRYLMKVNSD...GSHIKGDGIP.SRFSGSS..SGADRYLTISNIQPEDEADYYCGEKHTIDGQTG*\n",
      "CTGCCTGTGCTGACCCAGGCTCCATCTGCATCTGCCTCACTTGGAGCCTCAGTCAAGCTCACCTGCACCCTGAGCAGTGAACACAGCAATTACTTTGTTTGGTGGTATCAACAGAGACCAGAGAAGGCCCCTCGGTATTTGATGAAGGTTAACAGTGATGGAAGCCACATCAAAGGAGACGGAATCCCCAGTCGCTTCTCAGGCTCAAGCTCTGGGGCTGATCGCTACTTAACCATCTCCAACATCCAGCCTGAGGATGAGGCTGACTATTACTGTGGTGAGAAGCATACAATTGATGGTCAAACCGGTTAAGC\n",
      "Did not detect anything in summary dataframe,[],[]\n",
      "having trouble with 2078|IGLV5-28*01|Felis_catus_Abyssinian|P|V-REGION||101 AA|||||||||-QPVLTQPPSLSASLGTTARLTCTLNSGFIVGSYSMQWYQQKSRSPP*YLLYYYSEHIDTRALGSPVTSLNPKMPQPILGFCSSLGSSFRTRVIITVRSDTA\n",
      "2078|IGLV5-28*01|Felis_catus_Abyssinian|P|V-REGION||101 AA|||||||||\n",
      "LPVLTQAPS.ASASLGASVKLTCTLSSEHS.....NYFVWWYQQRPEKAPRYLMKVNSD...GSHIKGDGIP.SRFSGSS..SGADRYLTISNIQPEDEADYYCGEKHTIDGQTG*\n",
      "CAGCCTGTGCTGACCCAGCCGCCCTCCCTGTCTGCATCTCTGGGAACAACAGCCAGACTCACCTGCACCCTGAACAGTGGATTCATTGTTGGCAGCTATAGCATGCAGTGGTACCAGCAGAAGTCAAGGAGCCCTCCCTAGTATCTCCTGTACTATTACTCAGAACATATAGATACCAGGGCTCTGGGGTCCCCAGTCACTTCTCTGAATCCAAAGATGCCTCAGCCAATACTGGGGTTCTGCTCATCTCTGGGCTCCAGCTTTAGGACGAGGGTAATTATTACTGTCAGATCTGACACAGCAGT\n",
      "Did not detect anything in summary dataframe,[],[]\n",
      "having trouble with 2079|IGLV5-29*01|Felis_catus_Abyssinian|P|V-REGION||106 AA|||||||||-QPVLTQPSPCLHLGEQQPDSPVP*AVASVLAATTYTGSSRNWGVLPGIC*GSTQIQISTRARGSQAASLGPKMPRPMQGFCSSLGRSLRTRLTITVLHIMAVGAAT\n",
      "2079|IGLV5-29*01|Felis_catus_Abyssinian|P|V-REGION||106 AA|||||||||\n",
      "LPVLTQAPS.ASASLGASVKLTCTLSSEHS.....NYFVWWYQQRPEKAPRYLMKVNSD...GSHIKGDGIP.SRFSGSS..SGADRYLTISNIQPEDEADYYCGEKHTIDGQTG*\n",
      "CAGCCTGTGCTGACCCAGCCGTCTCCCTGTCTGCATCTTGGGGAACAACAGCCAGACTCACCTGTACCCTGAGCAGTGGCTTCGGTGTTGGCGGCTACCACATATACTGGTTCCAGCAGAAACTGGGGAGTTCTCCCTGGCATCTGCTGAGGTTCTACTCAGATTCAAATAAGCACCAGGGCTCGGGGGTCCCAAGCTGCCTCTCTGGGTCCAAAGATGCCTCGGCCAATGCAGGGCTTCTGCTCATCCCTGGGCCGCAGCCTGAGGACGAGGCTGACTATTACTGTGCTACATATCATGGCAGTGGGAGCAGCTACTGT\n"
     ]
    },
    {
     "name": "stderr",
     "output_type": "stream",
     "text": [
      "/Users/jwillis/miniconda3/envs/bfx-bp-antibody/lib/python3.8/site-packages/Bio/Seq.py:2573: BiopythonWarning: Partial codon, len(sequence) not a multiple of three. Explicitly trim the sequence or add trailing N before translation. This may become an error in future.\n",
      "  warnings.warn(\"Partial codon, len(sequence) not a multiple of three. \"\n"
     ]
    },
    {
     "name": "stdout",
     "output_type": "stream",
     "text": [
      "2080|IGLV5-30*01|Felis_catus_Abyssinian|F|V-REGION||103 AA|||||||||\n",
      "QFVVTQPPS.LSASLGTTARLTCTLNSERT....DIYPIFWYQQKPGSLPRYLLTYVTD...SNKHQGSGVP.SRFSGSKDTSANAGILLISGIQSEDEADYYCQSFDVGDG\n",
      "CAATTTGTGGTGACCCAGCCACCTTCCCTCTCTGCATCTCTGGGAACAACAGCCAGACTCACCTGCACCCTCAACAGTGAAAGGACTGATATTTACCCCATATTCTGGTACCAGCAAAAGCCAGGGAGCCTTCCTCGTTACCTCCTTACCTATGTAACAGACTCAAATAAGCATCAAGGCTCTGGGGTCCCCAGCCGCTTCTCTGGATCCAAAGATACCTCTGCCAATGCAGGGATTTTGCTCATTTCCGGGATTCAATCAGAGGATGAGGCAGACTATTACTGTCAGTCATTTGATGTTGGTGACGGA\n",
      "2081|IGLV5-31*01|Felis_catus_Abyssinian|P|V-REGION||106 AA|||||||||\n",
      "QPVLTQLSS.LSASPGTT.RITCTLSSGFNI...GSYYINWFQQKPGSPPRYLPSFHSD...SNKHQDSGVP.SHFSGSKDASANAGLLFISGLQPEHEA............ITVPQIMAVGAAFVT\n",
      "CAGCCTGTGCTGACCCAGCTGTCCTCCCTCTCTGCATCTCCGGGAACAACCAGAATCACCTGCACCCTGAGCAGTGGCTTCAATATTGGCAGCTACTACATAAACTGGTTCCAGCAGAAGCCAGGGAGCCCTCCCCGGTATCTCCCAAGCTTCCACTCAGACTCAAATAAACACCAGGACTCTGGGGTCCCCAGCCACTTCTCTGGATCCAAGGATGCCTCCGCCAATGCAGGACTTCTGTTCATCTCTGGGCTGCAGCCTGAGCACGAGGCTATTACTGTGCCACAGATCATGGCAGTGGGAGCAGCTTTTGTTACT\n",
      "Did not detect anything in summary dataframe,[],[]\n",
      "having trouble with 2082|IGLV5-32-1*01|Felis_catus_Abyssinian|P|V-REGION||106 AA|||||||||-QPVMTQPLSLSASLGTIARHLHLERWLQCWQLLHTLVPAEASEPSSVSPVLLLRLK*TPMQSPGTSLGPKMPRPRQGFCSSLGRSLRTKMTLPVLQLMAVGEALAS\n",
      "2082|IGLV5-32-1*01|Felis_catus_Abyssinian|P|V-REGION||106 AA|||||||||\n",
      "QPVLTQLSS.LSASPGTT.RITCTLSSGFNI...GSYYINWFQQKPGSPPRYLPSFHSD...SNKHQDSGVP.SHFSGSKDASANAGLLFISGLQPEHEA............ITVPQIMAVGAAFVT\n",
      "CAGCCTGTGATGACCCAGCCACTCTCCCTGTCTGCATCTCTGGGAACAATTGCCAGACATCTGCACCTTGAGCGGTGGCTTCAGTGTTGGCAGCTATTACATACATTGGTTCCAGCAGAAGCCAGTGAGCCCTCCTCTGTATCTCCTGTACTACTACTCAGACTCAAATAAACACCAATGCAGTCCCCAGGCACTTCTCTGGGTCCAAAGATGCCTCGGCCAAGGCAGGGCTTCTGCTCCTCTCTGGGCCGCAGCCTGAGGACAAAGATGACTCTTCCTGTGCTACAGCTCATGGCAGTGGGAGAAGCTTTGGCTTCT\n",
      "2084|IGLV5-34*01|Felis_catus_Abyssinian|F|V-REGION||104 AA|||||||||\n",
      "QPVVTQPAS.LSASLGATARLTCTLSRDINA...GGYYIYWYQQKPGSPPRYLLYYYSD...SNKHQGPGVP.SRFSGSKDASANAGLLLISGLQPEDEADYYCATWHSSAG\n",
      "CAGCCTGTCGTGACTCAGCCAGCCTCCCTCTCTGCATCTCTGGGAGCCACAGCCAGACTCACCTGCACCCTGAGCAGGGACATCAATGCTGGAGGCTACTACATATACTGGTACCAACAGAAGCCAGGGAGCCCTCCCCGGTATCTCCTGTACTACTACTCAGATTCAAATAAGCACCAGGGCCCCGGGGTCCCCAGCCGCTTCTCCGGGTCCAAAGATGCCTCGGCCAATGCAGGGCTTCTGCTCATCTCTGGGCTGCAGCCTGAGGACGAGGCTGACTATTACTGTGCAACTTGGCACAGTAGTGCTGGT\n"
     ]
    },
    {
     "name": "stderr",
     "output_type": "stream",
     "text": [
      "/Users/jwillis/miniconda3/envs/bfx-bp-antibody/lib/python3.8/site-packages/Bio/Seq.py:2573: BiopythonWarning: Partial codon, len(sequence) not a multiple of three. Explicitly trim the sequence or add trailing N before translation. This may become an error in future.\n",
      "  warnings.warn(\"Partial codon, len(sequence) not a multiple of three. \"\n",
      "/Users/jwillis/miniconda3/envs/bfx-bp-antibody/lib/python3.8/site-packages/Bio/Seq.py:2573: BiopythonWarning: Partial codon, len(sequence) not a multiple of three. Explicitly trim the sequence or add trailing N before translation. This may become an error in future.\n",
      "  warnings.warn(\"Partial codon, len(sequence) not a multiple of three. \"\n",
      "/Users/jwillis/miniconda3/envs/bfx-bp-antibody/lib/python3.8/site-packages/Bio/Seq.py:2573: BiopythonWarning: Partial codon, len(sequence) not a multiple of three. Explicitly trim the sequence or add trailing N before translation. This may become an error in future.\n",
      "  warnings.warn(\"Partial codon, len(sequence) not a multiple of three. \"\n"
     ]
    },
    {
     "name": "stdout",
     "output_type": "stream",
     "text": [
      "2087|IGLV5-38*01|Felis_catus_Abyssinian|P|V-REGION||106 AA|||||||||\n",
      "QSVLTQPPS.LSASLGMTARLTCTLSSGFD.....VNAVSWFQQKPGSPPQYLLYYYSD...SIKELVSEAP.RRFSGSKDASAKAGLLLLSGPQPGDEADYYCATAHGSGSGFH*\n",
      "CAGTCTGTGCTGACCCAGCCGCCCTCCCTGTCTGCCTCTCTGGGAATGACAGCCAGACTCACCTGCACCCTGAGCAGTGGCTTTGATGTTAATGCTGTATCCTGGTTCCAGCAGAAGCCAGGGAGCCCTCCCCAGTATCTCCTGTACTACTACTCAGACTCAATTAAGGAGTTAGTATCTGAAGCCCCCCGCCGCTTCTCTGGATCCAAAGATGCCTCGGCCAAGGCAGGGCTTCTGCTCCTCTCCGGGCCGCAGCCTGGGGACGAGGCTGACTATTACTGTGCTACAGCTCATGGCAGTGGGAGCGGCTTTCATTAGT\n",
      "2092|IGLV5-45*01|Felis_catus_Abyssinian|P|V-REGION||105 AA|||||||||\n",
      "QPVVTQPAS.LSASLGATARLTCTLSRDINV..GSYRHILGYQQSPGSPPRYLLYYYSD...SDKHQGPGVP.SRFSGSKDASANAGLLLISGLQPEDEADYYCAIGHSSAG\n",
      "CAGCCTGTCGTGACTCAGCCAGCCTCCCTCTCTGCATCTCTGGGAGCCACAGCCAGACTCACCTGCACTCTGAGCAGGGACATCAATGTTGGAAGCTATAGGCATATACTAGGCTACCAACAGAGTCCAGGGAGCCCTCCCCGGTATCTCCTGTACTACTACTCAGACTCAGATAAGCACCAGGGCCCTGGGGTCCCCAGCCGCTTCTCCGGGTCCAAAGATGCCTCGGCCAATGCAGGGCTTCTGCTCATCTCTGGGCTGCAGCCTGAGGACGAGGCTGACTATTACTGTGCAATCGGGCACAGTAGTGCTGGT\n",
      "2097|IGLV5-46*01|Felis_catus_Abyssinian|F|V-REGION||108 AA|||||||||\n",
      "QPVVTQPPS.LSASLGATARLTCTLSREVSV...GSKSIYWYQQKPGSPPRYFLYYYSD...SSNELGPGVP.SRVSGSKDASANAGLLLISGLQPEDEADYYCAIAHGSGSSFGY\n",
      "CAGCCTGTCGTGACTCAGCCACCCTCCCTCTCTGCATCTCTGGGAGCAACAGCCAGACTCACCTGCACCCTCAGCAGGGAAGTGAGCGTTGGTAGTAAAAGCATATACTGGTACCAACAGAAGCCAGGGAGCCCTCCTCGGTATTTCCTGTACTACTACTCAGACTCCAGCAATGAGCTGGGACCCGGGGTCCCCAGTCGAGTGTCTGGGTCCAAAGATGCCTCGGCCAATGCAGGGCTTCTGCTCATCTCTGGGCTGCAGCCTGAGGACGAGGCTGACTATTACTGTGCTATAGCACATGGCAGTGGAAGCAGCTTTGGTTACT\n",
      "2100|IGLV5-48*01|Felis_catus_Abyssinian|F|V-REGION||108 AA|||||||||\n",
      "QPVLTQPSS.LSASPGTTARLTCTLSSGFSV...GGYYINWFQQKPGSPPRYLLYYYSD...SNKHQGPGVP.SRFSGSKDASANAGLLLISGPQPEDEADYYCAIAHGSGSSYRY\n",
      "CAGCCTGTGCTGACCCAGCCGTCCTCCCTGTCTGCATCTCCTGGAACAACAGCCAGACTCACCTGCACCCTGAGCAGCGGGTTCAGTGTTGGAGGCTACTACATAAATTGGTTCCAGCAGAAGCCAGGGAGCCCTCCCCGGTATCTCCTGTACTACTACTCAGATTCAAATAAGCACCAGGGCCCTGGGGTCCCCAGCCGCTTCTCCGGGTCCAAAGATGCCTCGGCCAATGCAGGGCTTCTGCTCATCTCTGGGCCGCAGCCTGAGGACGAGGCTGACTATTACTGTGCTATAGCACATGGCAGTGGAAGCAGCTACCGTTACT\n"
     ]
    },
    {
     "name": "stderr",
     "output_type": "stream",
     "text": [
      "/Users/jwillis/miniconda3/envs/bfx-bp-antibody/lib/python3.8/site-packages/Bio/Seq.py:2573: BiopythonWarning: Partial codon, len(sequence) not a multiple of three. Explicitly trim the sequence or add trailing N before translation. This may become an error in future.\n",
      "  warnings.warn(\"Partial codon, len(sequence) not a multiple of three. \"\n",
      "/Users/jwillis/miniconda3/envs/bfx-bp-antibody/lib/python3.8/site-packages/Bio/Seq.py:2573: BiopythonWarning: Partial codon, len(sequence) not a multiple of three. Explicitly trim the sequence or add trailing N before translation. This may become an error in future.\n",
      "  warnings.warn(\"Partial codon, len(sequence) not a multiple of three. \"\n",
      "/Users/jwillis/miniconda3/envs/bfx-bp-antibody/lib/python3.8/site-packages/Bio/Seq.py:2573: BiopythonWarning: Partial codon, len(sequence) not a multiple of three. Explicitly trim the sequence or add trailing N before translation. This may become an error in future.\n",
      "  warnings.warn(\"Partial codon, len(sequence) not a multiple of three. \"\n",
      "/Users/jwillis/miniconda3/envs/bfx-bp-antibody/lib/python3.8/site-packages/Bio/Seq.py:2573: BiopythonWarning: Partial codon, len(sequence) not a multiple of three. Explicitly trim the sequence or add trailing N before translation. This may become an error in future.\n",
      "  warnings.warn(\"Partial codon, len(sequence) not a multiple of three. \"\n"
     ]
    },
    {
     "name": "stdout",
     "output_type": "stream",
     "text": [
      "2104|IGLV5-49*01|Felis_catus_Abyssinian|F|V-REGION||108 AA|||||||||\n",
      "QPVVTQPPS.LSASLGATARLTCTLSREVSV...GSKSIYWYQQKPGSPPRYFLYYYSD...SSNELGPGVP.SRVSGSKDASANAGLLLISGLQPEDEADYYCAIAHGSGSSYRY\n",
      "CAGCCTGTCGTGACTCAGCCACCCTCCCTCTCTGCATCTCTGGGAGCAACAGCCAGACTCACCTGCACCCTCAGCAGGGAAGTGAGCGTTGGTAGTAAAAGCATATACTGGTACCAACAGAAGCCAGGGAGCCCTCCTCGGTATTTCCTGTACTACTACTCAGACTCCAGCAATGAGCTGGGACCCGGGGTCCCCAGTCGAGTGTCTGGGTCCAAAGATGCCTCGGCCAATGCAGGGCTTCTGCTCATCTCTGGGCTGCAGCCTGAGGACGAGGCTGACTATTACTGTGCTATAGCACATGGCAGTGGAAGCAGCTACCGTTACT\n",
      "Did not detect anything in summary dataframe,[],[]\n",
      "having trouble with 2109|IGLV5-54*01|Felis_catus_Abyssinian|P|V-REGION||108 AA|||||||||-LPVLTQLLSLSASPETIARLS*TLSRDRSVGGYNIFWYQQEAGSPLRSSCSTTQTHTSSWDLGSPVISLDPKMSPLIQKFCPCLGCSLRTRLTITVLQLMAVGTAIVT\n",
      "2109|IGLV5-54*01|Felis_catus_Abyssinian|P|V-REGION||108 AA|||||||||\n",
      "QPVVTQPPS.LSASLGATARLTCTLSREVSV...GSKSIYWYQQKPGSPPRYFLYYYSD...SSNELGPGVP.SRVSGSKDASANAGLLLISGLQPEDEADYYCAIAHGSGSSYRY\n",
      "CTGCCTGTGCTGACCCAGCTGCTCTCCCTCTCCGCATCTCCAGAAACAATTGCCAGACTCAGCTGAACCCTGAGCAGGGACAGGAGTGTTGGTGGTTATAACATCTTCTGGTACCAGCAGGAGGCAGGGAGCCCTCTCCGGTCTTCCTGTTCTACTACCCAGACTCATACAAGCAGCTGGGACCTGGGGTCTCCAGTCATATCTCTGGATCCAAAGATGTCTCCACTAATACAGAAATTTTGCCCATGTCTGGGCTGCAGCTTGAGGACGAGGCTGACTATTACTGTGCTACAGCTCATGGCAGTGGGAACGGCTATCGTTACA\n",
      "2110|IGLV5-55*01|Felis_catus_Abyssinian|F|V-REGION||104 AA|||||||||\n",
      "QPVLTQPSS.LSASPGTTARLTCTLSSGFNV...GGYYISWFQQKPGSPPRYLLYYYSD...SDKHQGPGVP.SRFSGSKDASANAGLLLISGPQPEDEADYYCATDHGSGY\n",
      "CAGCCTGTGCTGACCCAGCCGTCCTCCCTGTCTGCATCTCCGGGAACAACAGCCAGACTCACCTGCACCCTGAGCAGCGGCTTCAATGTTGGAGGCTACTACATAAGTTGGTTCCAGCAGAAGCCAGGGAGCCCTCCCCGGTATCTCCTGTACTACTACTCAGACTCAGATAAGCACCAGGGCCCCGGGGTCCCCAGCCGCTTCTCCGGGTCCAAAGATGCCTCGGCCAATGCAGGGCTTCTGCTCATCTCTGGGCCGCAGCCTGAGGACGAGGCTGACTATTACTGTGCTACAGATCATGGCAGTGGTTACT\n",
      "Did not detect anything in summary dataframe,[],[]\n",
      "having trouble with 2111|IGLV5-57*01|Felis_catus_Abyssinian|P|V-REGION||106 AA|||||||||-QAVLTHPLSLSQHP*EQ*PGSPAPWALPSELVAMA*AGFIRNQGALVSLVLLLRIKEFRSAFPSCLSGSKDASANAGILLTCGLQPEDEADSYCALWHGSGSSHRY\n",
      "2111|IGLV5-57*01|Felis_catus_Abyssinian|P|V-REGION||106 AA|||||||||\n",
      "QPVLTQPSS.LSASPGTTARLTCTLSSGFNV...GGYYISWFQQKPGSPPRYLLYYYSD...SDKHQGPGVP.SRFSGSKDASANAGLLLISGPQPEDEADYYCATDHGSGY\n",
      "CAGGCAGTGCTGACCCACCCACTCTCTCTCTCTCAGCATCCGTGAGAACAATAACCAGGCTCACCTGCACCTTGGGCACTGCCTTCAGAGTTGGTAGCTATGGCATAAGCTGGTTTCATTAGAAACCAAGGAGCCCTGGTAAGTCTTGTGTTATTACTCAGAATCAAGGAGTTCAGATCTGCATTTCCCAGCTGCTTATCTGGATCCAAAGATGCTTCAGCCAATGCAGGGATTCTGCTCACCTGTGGGCTGCAGCCTGAGGACGAGGCTGACTCTTACTGTGCTCTATGGCATGGCAGTGGGAGCAGCCACCGTTACT\n",
      "2113|IGLV5-58*01|Felis_catus_Abyssinian|P|V-REGION||105 AA|||||||||\n",
      "QTVLTQPTS.LSASLGTTARLTCTLSSGFSV...GGQNMYWYQQKAGSHPWCFL*YL......EKQLGPGVP.SRVSGSKDASTNTAILLISGLQPEDEAENFCGTDHIGVSGYRF\n",
      "CAGACTGTGCTGACCCAGCCGACCTCCCTGTCTGCATCTCTGGGAACAACAGCCAGACTCACTTGCACCCTGAGCAGTGGCTTCAGTGTTGGTGGTCAAAACATGTACTGGTACCAGCAGAAGGCAGGGAGCCATCCCTGGTGTTTCCTGTAATACTTAGAAAAGCAGCTGGGACCTGGGGTCCCCAGTCGTGTCTCTGGATCCAAAGATGCCTCCACTAACACAGCAATTTTGCTCATCTCTGGGCTGCAGCCTGAAGACGAGGCTGAGAATTTCTGTGGTACAGATCACATCGGTGTGAGTGGCTACCGTTTCT\n"
     ]
    },
    {
     "name": "stderr",
     "output_type": "stream",
     "text": [
      "/Users/jwillis/miniconda3/envs/bfx-bp-antibody/lib/python3.8/site-packages/Bio/Seq.py:2573: BiopythonWarning: Partial codon, len(sequence) not a multiple of three. Explicitly trim the sequence or add trailing N before translation. This may become an error in future.\n",
      "  warnings.warn(\"Partial codon, len(sequence) not a multiple of three. \"\n",
      "/Users/jwillis/miniconda3/envs/bfx-bp-antibody/lib/python3.8/site-packages/Bio/Seq.py:2573: BiopythonWarning: Partial codon, len(sequence) not a multiple of three. Explicitly trim the sequence or add trailing N before translation. This may become an error in future.\n",
      "  warnings.warn(\"Partial codon, len(sequence) not a multiple of three. \"\n",
      "/Users/jwillis/miniconda3/envs/bfx-bp-antibody/lib/python3.8/site-packages/Bio/Seq.py:2573: BiopythonWarning: Partial codon, len(sequence) not a multiple of three. Explicitly trim the sequence or add trailing N before translation. This may become an error in future.\n",
      "  warnings.warn(\"Partial codon, len(sequence) not a multiple of three. \"\n"
     ]
    },
    {
     "name": "stdout",
     "output_type": "stream",
     "text": [
      "Did not detect anything in summary dataframe,[],[]\n",
      "having trouble with 2117|IGLV5-62*01|Felis_catus_Abyssinian|P|V-REGION||107 AA|||||||||-QPVLTQPLSLSASPGNNCQTSAP*AVASVLAAITYIGSSRSQ*ALLYLLYYYSDSNKHQGLGIPSCFSGSKDALANAGLLLLSGPQPEDEADSSCATAHGSGRSFGY\n",
      "2117|IGLV5-62*01|Felis_catus_Abyssinian|P|V-REGION||107 AA|||||||||\n",
      "QTVLTQPTS.LSASLGTTARLTCTLSSGFSV...GGQNMYWYQQKAGSHPWCFL*YL......EKQLGPGVP.SRVSGSKDASTNTAILLISGLQPEDEAENFCGTDHIGVSGYRF\n",
      "CAGCCTGTGCTGACCCAGCCGCTCTCCCTGTCTGCATCTCCCGGGAACAATTGCCAGACATCTGCACCTTGAGCAGTGGCTTCAGTGTTGGCAGCTATTACATACATTGGTTCCAGCAGAAGCCAGTGAGCCCTTCTCTATCTCCTGTACTACTACTCAGACTCAAATAAGCACCAGGGCCTTGGGATCCCCAGCTGCTTCTCTGGGTCCAAAGATGCCTTGGCCAATGCAGGGCTTCTGCTCCTCTCTGGGCCGCAGCCTGAGGACGAGGCTGACTCTTCCTGTGCTACAGCTCATGGCAGTGGGAGAAGCTTTGGCTACT\n",
      "2119|IGLV5-66*01|Felis_catus_Abyssinian|F|V-REGION||108 AA|||||||||\n",
      "QPVLTQPPS.LSASPGTTARLTCTLSSGFNV...GGYYISWFQQKPGSPPRYLLYYYSD...SDKHQGPGVP.SRFSGSKDASANAGLLLISGPQPEDEADYYCATGYGSGSSYRY\n",
      "CAGCCTGTGCTGACCCAGCCGCCCTCCCTGTCTGCATCTCCGGGAACAACAGCCAGACTCACCTGCACCCTGAGCAGCGGCTTCAATGTTGGAGGCTACTACATAAGTTGGTTCCAGCAGAAGCCAGGGAGCCCTCCCCGGTATCTCCTGTACTACTACTCAGACTCAGATAAGCACCAGGGCCCCGGGGTCCCCAGCCGCTTCTCCGGGTCCAAAGATGCCTCGGCCAATGCAGGGCTTCTGCTCATCTCTGGGCCGCAGCCTGAGGACGAGGCTGACTATTACTGTGCTACAGGTTATGGCAGTGGGAGCAGCTACCGTTACT\n",
      "2121|IGLV5-68*01|Felis_catus_Abyssinian|F|V-REGION||104 AA|||||||||\n",
      "QPVVTQPAS.LSASLGATARLTCTLSRDINV...GGYYIYWYQQNPGSPPRYLLYYYSD...SSTQLGPGVP.SRFSGSKDASANAGLLLISGLQPEDEADYYCAIGHSSAG\n",
      "CAGCCTGTCGTGACTCAGCCAGCCTCCCTCTCTGCATCTCTGGGAGCAACAGCCAGACTCACCTGCACGCTGAGCAGGGACATCAATGTTGGAGGCTACTACATATACTGGTACCAACAGAATCCAGGGAGCCCTCCCCGGTATCTCCTGTACTACTACTCAGACTCCAGTACACAGTTGGGACCTGGGGTCCCCAGCCGCTTCTCCGGATCCAAAGATGCCTCGGCCAATGCAGGGCTTCTGCTCATCTCTGGGCTGCAGCCTGAGGACGAGGCTGACTATTACTGTGCAATCGGGCACAGTAGTGCTGGT\n",
      "2123|IGLV5-71*01|Felis_catus_Abyssinian|F|V-REGION||104 AA|||||||||\n",
      "QPVLTQPAS.LSASLGATARLTCTLSRDINV...GSYNIYWYQQKPGSPPRYLLYYYSD...SDKHQGPGVP.SRFSGSKDASANAGLLLISGLQPEDEADYYCAIWHSSAG\n",
      "CAGCCTGTCTTGACTCAGCCAGCCTCCCTCTCTGCATCTCTGGGAGCAACAGCCAGACTCACCTGCACCCTGAGCAGGGACATCAACGTTGGAAGCTATAACATATACTGGTACCAACAGAAGCCAGGGAGCCCTCCCCGGTATCTCCTGTACTACTACTCAGACTCAGATAAGCACCAGGGCCCTGGCGTCCCCAGCCGCTTCTCTGGGTCCAAAGATGCCTCGGCCAATGCAGGGCTTCTGCTCATCTCTGGGCTGCAGCCTGAGGACGAGGCTGACTATTACTGTGCAATCTGGCACAGTAGTGCTGGT\n",
      "2124|IGLV5-74*01|Felis_catus_Abyssinian|P|V-REGION||101 AA|||||||||\n",
      "QPVLTQPPS.LSASLGATVRLTCTLSSGFNV...GSYYINWYQQKPGSHPQYLLYYYSD...SNKHQGSGVP.SCFSGSRDALANAGHL............................WAAT*GQD*LLLSDWT*LCF\n",
      "CAGCCTGTGCTGACCCAGCCTCCTTCCCTCTCTGCATCTCTGGGGGCAACTGTCAGACTTACCTGCACCCTGAGCAGTGGATTCAATGTCGGCAGCTACTACATAAATTGGTACCAACAGAAGCCCGGGAGCCATCCTCAGTATCTCCTGTACTACTACTCAGACTCAAATAAGCACCAGGGCTCTGGGGTCCCCAGCTGCTTCTCTGGATCCAGAGATGCCTTGGCCAATGCAGGGCATCTCTGGGCTGCAACCTGAGGGCAAGACTGACTATTACTGTCTGACTGGACATAATTATGCTTCT\n",
      "2125|IGLV5-75*01|Felis_catus_Abyssinian|P|V-REGION||107 AA|||||||||\n",
      "QLVMTQPPS.MSANLGSSARLTCTLSSGFSV...GSYSITWFQQKPGSPPWYLL*FFSDS.NKYQGSVVPSQ.FSGSKDA..SANAGILLISGLQPEDET............ITVLQLVTVGAATVT\n",
      "CAGCTTGTAATGACTCAGCCACCCTCCATGTCTGCAAACCTGGGATCATCAGCCAGACTCACGTGCACCCTGAGCAGTGGCTTCAGTGTTGGCAGCTATTCTATAACTTGGTTCCAGCAGAAGCCAGGGAGCCCTCCCTGGTATCTCCTGTAGTTCTTCTCAGACTCAAATAAATACCAGGGCTCTGTGGTCCCCAGCCAATTCTCTGGATCCAAAGATGCCTCGGCCAATGCAGGAATTCTGCTCATCTCTGGGCTGCAGCCTGAGGACGAGACTATTACTGTGCTGCAGCTCGTGACAGTGGGAGCAGCTACCGTTACT\n",
      "2131|IGLV5-79*01|Felis_catus_Abyssinian|F|V-REGION||105 AA|||||||||\n",
      "QPVLTQPPS.LSASLGTSVRLTCTLSSGFRV...GDFWINWYQQNPGNPPRYLLYYHSD...SDKHQGSGVP.SRFSGSSDASANAGLLLISGLQPEDEADYYCSTWHGNSKS\n",
      "CAGCCGGTGCTGACCCAGCCACCCTCCCTCTCTGCATCTCTGGGAACTTCTGTGAGACTTACCTGTACCCTGAGCAGTGGCTTCAGAGTTGGTGATTTCTGGATAAACTGGTACCAGCAGAATCCAGGGAACCCTCCCCGGTATCTCCTGTACTACCACTCAGACTCAGATAAACACCAGGGCTCCGGGGTCCCCAGCCGCTTCTCTGGATCCAGTGATGCCTCGGCCAATGCAGGGCTTCTGCTCATCTCTGGGCTGCAGCCTGAGGATGAGGCTGACTATTACTGTAGCACATGGCATGGCAACTCTAAGTCTTA\n",
      "Did not detect anything in summary dataframe,[],[]\n",
      "having trouble with 2150|IGLV7-24-2*01|Felis_catus_Abyssinian|P|V-REGION||94 AA|||||||||-QAVVTQEPFQPSLRGIVTVSCGSSTVVITNGNYPHWFQQKSGQTLIYDTHNQHSGTPTHFSGFLLGSNCPHLLRGSARGGS*VLPYMLAYTGAW\n",
      "2150|IGLV7-24-2*01|Felis_catus_Abyssinian|P|V-REGION||94 AA|||||||||\n",
      "QPVLTQPPS.LSASLGTSVRLTCTLSSGFRV...GDFWINWYQQNPGNPPRYLLYYHSD...SDKHQGSGVP.SRFSGSSDASANAGLLLISGLQPEDEADYYCSTWHGNSKS\n",
      "CAGGCTGTGGTGACTCAGGAGCCCTTCCAACCATCCCTAAGAGGGATAGTTACTGTCAGCTGTGGCTCCAGCACAGTAGTCATCACCAATGGTAACTATCCACACTGGTTCCAGCAGAAGTCTGGACAAACACTGATTTATGACACACACAACCAACACTCAGGGACTCCCACACATTTCTCAGGCTTCCTCTTGGGGTCAAACTGCCCTCACCTTCTCAGGGGCTCAGCTCGAGGAGGAAGCTGAGTACTACCATATATGCTGGCATATACTGGTGCTTGG\n",
      "Did not detect anything in summary dataframe,[],[]\n",
      "having trouble with 2152|IGLV7-27*01|Felis_catus_Abyssinian|P|V-REGION||97 AA|||||||||-QAVVTREPSLTMSPGGTVTLTCGSSTGAVIDAHYQYCSIRSLDKPPGHWFSTQIANTPGPLHGS*APSLGAKLP*PSQGPSPRTRLSTTAGYTIVVL\n",
      "2152|IGLV7-27*01|Felis_catus_Abyssinian|P|V-REGION||97 AA|||||||||\n",
      "QPVLTQPPS.LSASLGTSVRLTCTLSSGFRV...GDFWINWYQQNPGNPPRYLLYYHSD...SDKHQGSGVP.SRFSGSSDASANAGLLLISGLQPEDEADYYCSTWHGNSKS\n",
      "CAGGCTGTGGTGACTCGGGAGCCCTCACTGACCATGTCCCCAGGAGGGACAGTCACTCTCACCTGTGGCTCCAGCACTGGAGCAGTTATCGATGCTCACTATCAATACTGTTCCATCAGAAGCTTGGACAAGCCCCCGGGACACTGGTTTTCAACACAAATAGCAAACACTCCTGGACCTCTGCATGGTTCTTAGGCTCCCTCCTTGGGGGCAAAGCTTCCCTGACCCTCACAGGGGCCGAGCCCTAGGACAAGGCTGAGTACCACTGCGGGCTACACTATAGTGGTGCTTGG\n"
     ]
    },
    {
     "name": "stderr",
     "output_type": "stream",
     "text": [
      "/Users/jwillis/miniconda3/envs/bfx-bp-antibody/lib/python3.8/site-packages/Bio/Seq.py:2573: BiopythonWarning: Partial codon, len(sequence) not a multiple of three. Explicitly trim the sequence or add trailing N before translation. This may become an error in future.\n",
      "  warnings.warn(\"Partial codon, len(sequence) not a multiple of three. \"\n",
      "/Users/jwillis/miniconda3/envs/bfx-bp-antibody/lib/python3.8/site-packages/Bio/Seq.py:2573: BiopythonWarning: Partial codon, len(sequence) not a multiple of three. Explicitly trim the sequence or add trailing N before translation. This may become an error in future.\n",
      "  warnings.warn(\"Partial codon, len(sequence) not a multiple of three. \"\n"
     ]
    },
    {
     "name": "stdout",
     "output_type": "stream",
     "text": [
      "18|IGHV1-15*01|Canis_lupus_familiaris_boxer|P|V-REGION||98 AA|||||||||\n",
      "EVQLVQSGA.EVKKPGTSVKVSCKTSGYTF....TDYYMYWVRQASGAGLDWMGQIGP*..DGATRYAQKFQ.GRVTLSTDTSTSTAYMELSSLRAEDTAMYYSVR\n",
      "GAGGTCCAGCTGGTGCAGTCTGGGGCTGAGGTGAAGAAGCCAGGTACATCCGTGAAGGTCTCATGCAAGACATCTGGATACACCTTCACTGACTACTATATGTACTGGGTACGACAGGCTTCAGGAGCAGGGCTTGATTGGATGGGACAGATTGGTCCCTAAGATGGTGCCACAAGGTATGCACAGAAGTTTCAGGGCAGAGTCACCCTGTCAACAGACACATCCACAAGCACAGCCTACATGGAGCTGAGCAGTCTGAGAGCTGAGGACACAGCCATGTACTACTCTGTGAGA\n",
      "70|IGHV1-30*01|Canis_lupus_familiaris_boxer|F|V-REGION||98 AA|||||||||\n",
      "EVQLVQSGA.EVKKPGASVKVSCKTSGYTF....INYYMIWVRQAPGAGLDWMGQIDPE..DGATSYAQKFQ.GRVTLTADTSTSTAYMELSSLRAGDIAVYYCAR\n",
      "GAGGTCCAGCTGGTGCAGTCTGGGGCTGAGGTGAAGAAGCCAGGGGCATCTGTGAAGGTCTCCTGCAAGACATCTGGATACACCTTCATTAACTACTATATGATCTGGGTACGACAGGCTCCAGGAGCAGGGCTTGATTGGATGGGACAGATTGATCCTGAAGATGGTGCCACAAGTTATGCACAGAAGTTCCAGGGCAGAGTCACCCTGACAGCAGACACATCCACAAGCACAGCCTACATGGAGCTGAGCAGTCTGAGAGCTGGGGACATAGCTGTGTACTACTGTGCGAGA\n",
      "Did not detect anything in summary dataframe,[],[]\n",
      "having trouble with 93|IGHV1-4-1*01|Canis_lupus_familiaris_boxer|P|V-REGION||99 AA|||||||||-EVQLVQSGAEVRKPVSSVKVSWKASGYTYMDAYMHWL*QASGIRFGCMGWIGPKDGATRYSQKFHSRVSLMADMSKAQPTCC*AVRGLRTHLHITVWDT\n",
      "93|IGHV1-4-1*01|Canis_lupus_familiaris_boxer|P|V-REGION||99 AA|||||||||\n",
      "EVQLVQSGA.EVKKPGASVKVSCKTSGYTF....INYYMIWVRQAPGAGLDWMGQIDPE..DGATSYAQKFQ.GRVTLTADTSTSTAYMELSSLRAGDIAVYYCAR\n",
      "GAGGTCCAGCTGGTGCAGTCTGGGGCTGAGGTGAGGAAACCAGTTTCATCTGTGAAGGTCTCCTGGAAGGCATCTGGATACACCTACATGGATGCTTATATGCACTGGTTATGACAAGCTTCAGGAATAAGGTTTGGGTGTATGGGATGGATTGGTCCCAAAGATGGTGCCACAAGATATTCACAGAAGTTCCACAGCAGAGTCTCCCTGATGGCAGACATGTCCAAAGCACAGCCTACATGCTGCTGAGCAGTCAGAGGCCTGAGGACACACCTGCATATTACTGTGTGGGACACT\n",
      "595|IGHV3-10*01|Canis_lupus_familiaris_boxer|F|V-REGION||98 AA|||||||||\n",
      "EVQLVETEG.DLVKPGGSLRLSCVASGFTF....SSYDMDWVYQAPGKGLQWVTYISNG..GSSTRYADAVK.GQFTISRDNARNTLYLQMNSLRDKDMAVYYCVS\n",
      "GAGGTGCAGCTGGTGGAGACTGAGGGAGACCTGGTGAAGCCTGGGGGATCCCTGAGACTTTCCTGTGTGGCCTCTGGATTCACCTTCAGTAGCTACGACATGGACTGGGTCTACCAGGCTCCAGGGAAAGGGTTACAGTGGGTCACATACATTAGCAATGGTGGAAGTAGCACAAGGTATGCAGACGCTGTGAAGGGCCAATTCACCATCTCCAGAGACAACGCCAGGAACACGCTCTATCTGCAGATGAACAGCCTGAGAGACAAGGACATGGCCGTGTATTACTGTGTGAGTGA\n",
      "603|IGHV3-13*01|Canis_lupus_familiaris_boxer|F|V-REGION||98 AA|||||||||\n",
      "EEQLVEFGG.HMVNPGGSLGLSCQASGFTF....SSYGMSWVRQAQKKGLQWVGHISYD..GSSTYYTDTVR.DRFTISRDNTKNMLYLQMNSLRAEDTAVYYCMR\n",
      "GAGGAGCAACTGGTGGAGTTTGGAGGACACATGGTGAATCCTGGGGGTTCCCTGGGTCTCTCCTGTCAGGCCTCTGGATTCACCTTCAGTAGCTATGGCATGAGCTGGGTCCGCCAGGCTCAAAAGAAGGGGCTGCAGTGGGTCGGACATATTAGCTATGATGGAAGTAGCACATACTACACAGACACTGTGAGGGACAGATTCACCATCTCCAGAGACAACACCAAGAACATGCTGTATCTGCAGATGAACAGCCTGAGAGCCGAGGACACAGCCGTGTATTACTGCATGAGGAA\n"
     ]
    },
    {
     "name": "stderr",
     "output_type": "stream",
     "text": [
      "/Users/jwillis/miniconda3/envs/bfx-bp-antibody/lib/python3.8/site-packages/Bio/Seq.py:2573: BiopythonWarning: Partial codon, len(sequence) not a multiple of three. Explicitly trim the sequence or add trailing N before translation. This may become an error in future.\n",
      "  warnings.warn(\"Partial codon, len(sequence) not a multiple of three. \"\n",
      "/Users/jwillis/miniconda3/envs/bfx-bp-antibody/lib/python3.8/site-packages/Bio/Seq.py:2573: BiopythonWarning: Partial codon, len(sequence) not a multiple of three. Explicitly trim the sequence or add trailing N before translation. This may become an error in future.\n",
      "  warnings.warn(\"Partial codon, len(sequence) not a multiple of three. \"\n",
      "/Users/jwillis/miniconda3/envs/bfx-bp-antibody/lib/python3.8/site-packages/Bio/Seq.py:2573: BiopythonWarning: Partial codon, len(sequence) not a multiple of three. Explicitly trim the sequence or add trailing N before translation. This may become an error in future.\n",
      "  warnings.warn(\"Partial codon, len(sequence) not a multiple of three. \"\n",
      "/Users/jwillis/miniconda3/envs/bfx-bp-antibody/lib/python3.8/site-packages/Bio/Seq.py:2573: BiopythonWarning: Partial codon, len(sequence) not a multiple of three. Explicitly trim the sequence or add trailing N before translation. This may become an error in future.\n",
      "  warnings.warn(\"Partial codon, len(sequence) not a multiple of three. \"\n",
      "/Users/jwillis/miniconda3/envs/bfx-bp-antibody/lib/python3.8/site-packages/Bio/Seq.py:2573: BiopythonWarning: Partial codon, len(sequence) not a multiple of three. Explicitly trim the sequence or add trailing N before translation. This may become an error in future.\n",
      "  warnings.warn(\"Partial codon, len(sequence) not a multiple of three. \"\n"
     ]
    },
    {
     "name": "stdout",
     "output_type": "stream",
     "text": [
      "609|IGHV3-14*01|Canis_lupus_familiaris_boxer|P|V-REGION||98 AA|||||||||\n",
      "EVQMVESGG.DLVKPGGSLRLSCVASGFTF....SNYKMYWVHQAPGKGLEWVARIYES..GSTTYYAEAVK.GRFTISRDNAKNMVYLQMNSLRA*DTAVYYCVS\n",
      "GAGGTGCAGATGGTGGAGTCTGGGGGAGACCTGGTGAAGCCTGGGGGATCCCTGAGACTCTCCTGTGTGGCCTCTGGATTCACCTTCAGTAACTACAAAATGTACTGGGTCCACCAGGCTCCAGGGAAAGGGCTGGAGTGGGTCGCAAGGATTTATGAGAGTGGAAGTACCACATACTACGCAGAAGCTGTAAAGGGCCGATTCACCATCTCCAGAGACAACGCCAAGAACATGGTGTATCTGCAGATGAACAGCCTGAGAGCCTAGGACACGGCCGTGTATTACTGTGTGAGTGA\n",
      "618|IGHV3-16*01|Canis_lupus_familiaris_boxer|F|V-REGION||98 AA|||||||||\n",
      "EVQLVESGG.DLVKPGGSLRLSCVASGFTF....SSYYMFWIRQAPGKGNQWVGYINKD..GSSTYYPDAVK.GRFTISRDNAKNTLYLQMNSLTVEDTALYYCAR\n",
      "GAGGTACAGCTGGTGGAGTCTGGAGGAGACCTGGTGAAGCCTGGGGGGTCCCTGAGACTCTCCTGTGTGGCCTCTGGATTCACCTTTAGTAGTTACTACATGTTTTGGATCCGCCAGGCACCAGGGAAGGGCAATCAGTGGGTCGGATATATTAACAAAGATGGAAGTAGCACATACTACCCAGACGCTGTGAAGGGCCGATTCACCATCTCCAGAGACAACGCCAAGAACACACTGTATCTGCAGATGAACAGCCTGACAGTGGAGGACACAGCCCTTTATTACTGTGCGAGAGA\n",
      "621|IGHV3-18*01|Canis_lupus_familiaris_boxer|F|V-REGION||98 AA|||||||||\n",
      "EVQLVESGG.DLVKPEGSLRLSCVVSGFTF....SSYDMSWVRQAPGKGLQWVAYISSD..GRSTSYTDAVK.GRFTISRDNAKNTLYLQMNSLRTEDTAVYYCAK\n",
      "GAGGTGCAGCTGGTGGAGTCTGGGGGAGACCTTGTGAAACCTGAGGGGTCCCTGAGACTCTCCTGTGTGGTCTCTGGCTTCACCTTCAGTAGCTACGACATGAGCTGGGTCCGCCAGGCTCCAGGGAAGGGGCTGCAGTGGGTCGCATACATTAGCAGTGATGGAAGGAGCACAAGTTACACAGACGCTGTGAAGGGCCGATTCACCATCTCCAGAGACAATGCCAAGAACACGCTGTATCTGCAGATGAACAGCCTGAGAACTGAGGACACAGCCGTGTATTACTGTGCGAAGGA\n",
      "622|IGHV3-19*01|Canis_lupus_familiaris_boxer|F|V-REGION||98 AA|||||||||\n",
      "EVQLVESGG.DLVKPAGSLRLSCVASGFTF....SSYSMSWVRQAPEKGLQLVAGINSG..GSSTYYTDAVK.GRFTISRDNAKNTVYLQMNSLRAEDTAMYYCAK\n",
      "GAGGTGCAGCTGGTGGAGTCTGGGGGAGACCTGGTGAAGCCTGCGGGGTCCCTGAGACTGTCCTGTGTGGCCTCTGGATTCACCTTCAGTAGCTACAGCATGAGCTGGGTCCGCCAGGCTCCTGAGAAGGGGCTGCAGTTGGTCGCAGGTATTAACAGCGGTGGAAGTAGCACATACTACACAGACGCTGTGAAGGGCCGATTCACCATCTCCAGAGACAACGCCAAGAACACAGTGTATCTGCAGATGAACAGCCTGAGAGCCGAGGACACGGCCATGTATTACTGTGCAAAGGA\n"
     ]
    },
    {
     "name": "stderr",
     "output_type": "stream",
     "text": [
      "/Users/jwillis/miniconda3/envs/bfx-bp-antibody/lib/python3.8/site-packages/Bio/Seq.py:2573: BiopythonWarning: Partial codon, len(sequence) not a multiple of three. Explicitly trim the sequence or add trailing N before translation. This may become an error in future.\n",
      "  warnings.warn(\"Partial codon, len(sequence) not a multiple of three. \"\n",
      "/Users/jwillis/miniconda3/envs/bfx-bp-antibody/lib/python3.8/site-packages/Bio/Seq.py:2573: BiopythonWarning: Partial codon, len(sequence) not a multiple of three. Explicitly trim the sequence or add trailing N before translation. This may become an error in future.\n",
      "  warnings.warn(\"Partial codon, len(sequence) not a multiple of three. \"\n",
      "/Users/jwillis/miniconda3/envs/bfx-bp-antibody/lib/python3.8/site-packages/Bio/Seq.py:2573: BiopythonWarning: Partial codon, len(sequence) not a multiple of three. Explicitly trim the sequence or add trailing N before translation. This may become an error in future.\n",
      "  warnings.warn(\"Partial codon, len(sequence) not a multiple of three. \"\n"
     ]
    },
    {
     "name": "stdout",
     "output_type": "stream",
     "text": [
      "625|IGHV3-2*01|Canis_lupus_familiaris_boxer|F|V-REGION||98 AA|||||||||\n",
      "EVQLVESGG.DLVKPGGSLRLSCVASGFTF....SSNYMSWIRQAPGKGLQWVSQISSD..GSSTSYADAVK.GRFTISRDNAKNTLYLQMNSLRDEDTAVYYCAR\n",
      "GAGGTGCAGCTGGTGGAGTCTGGGGGAGACCTGGTGAAGCCTGGGGGGTCCCTGAGACTCTCCTGTGTGGCCTCTGGATTCACCTTCAGTAGCAACTACATGAGCTGGATCCGCCAGGCTCCAGGGAAGGGGCTGCAGTGGGTCTCACAAATTAGCAGTGATGGAAGTAGCACAAGCTACGCAGACGCTGTGAAGGGCCGATTCACCATCTCCAGAGACAATGCCAAGAACACGCTGTATCTGCAGATGAACAGCCTGAGAGATGAGGACACGGCAGTGTATTACTGTGCAAGGGA\n",
      "633|IGHV3-21*01|Canis_lupus_familiaris_boxer|P|V-REGION||98 AA|||||||||\n",
      "EVQLLESGG.DLVKPGGSLRLSCVVSGFTF....SKYGMSWVCQALGKGLQLVAAIS*D..GRSTYYTDTVK.GRFTISRDNAKNTLYLQMNSLRAEDTAVYYCES\n",
      "GAGGTGCAGCTGTTGGAGTCTGGGGGAGACCTGGTGAAGCCTGGGGGGTCCCTGAGACTGTCCTGTGTGGTCTCTGGATTCACCTTCAGTAAGTATGGCATGAGCTGGGTCTGCCAGGCTTTGGGGAAGGGGCTACAGTTGGTCGCAGCTATTAGCTAAGATGGAAGGAGCACATACTACACAGACACTGTGAAGGGCCGATTCACCATCTCCAGAGACAATGCCAAGAACACGCTGTACCTGCAGATGAACAGCTTGAGAGCTGAGGACACGGCCGTGTATTACTGTGAGAGTGA\n",
      "640|IGHV3-21-1*01|Canis_lupus_familiaris_boxer|P|V-REGION||94 AA|||||||||\n",
      "EVKLVESGG.DLVKPGGSIRLSYVTSGFTF....RSYWMSWVSQAPGKGLQWVIWVNTG..GSRKSYADAVK..G*FTISRDNAKNTLYLHMNSLRA.......LYYYVS\n",
      "GAGGTGAAGCTAGTGGAGTCTGGGGGAGACCTGGTGAAGCCTGGGGGATCAATTAGACTCTCCTATGTGACCTCTGGATTCACCTTCAGGAGCTACTGGATGAGCTGGGTCAGCCAGGCTCCAGGGAAGGGGCTGCAGTGGGTCATATGGGTTAATACTGGTGGAAGCAGAAAAAGCTATGCAGATGCTGTGAAGGGGTGATTCACCATCTCCAGAGACAATGCCAAGAACACGCTGTATCTGCATATGAACAGCCTGAGAGCCCTGTATTATTATGTGAGTGA\n"
     ]
    },
    {
     "name": "stderr",
     "output_type": "stream",
     "text": [
      "/Users/jwillis/miniconda3/envs/bfx-bp-antibody/lib/python3.8/site-packages/Bio/Seq.py:2573: BiopythonWarning: Partial codon, len(sequence) not a multiple of three. Explicitly trim the sequence or add trailing N before translation. This may become an error in future.\n",
      "  warnings.warn(\"Partial codon, len(sequence) not a multiple of three. \"\n",
      "/Users/jwillis/miniconda3/envs/bfx-bp-antibody/lib/python3.8/site-packages/Bio/Seq.py:2573: BiopythonWarning: Partial codon, len(sequence) not a multiple of three. Explicitly trim the sequence or add trailing N before translation. This may become an error in future.\n",
      "  warnings.warn(\"Partial codon, len(sequence) not a multiple of three. \"\n",
      "/Users/jwillis/miniconda3/envs/bfx-bp-antibody/lib/python3.8/site-packages/Bio/Seq.py:2573: BiopythonWarning: Partial codon, len(sequence) not a multiple of three. Explicitly trim the sequence or add trailing N before translation. This may become an error in future.\n",
      "  warnings.warn(\"Partial codon, len(sequence) not a multiple of three. \"\n",
      "/Users/jwillis/miniconda3/envs/bfx-bp-antibody/lib/python3.8/site-packages/Bio/Seq.py:2573: BiopythonWarning: Partial codon, len(sequence) not a multiple of three. Explicitly trim the sequence or add trailing N before translation. This may become an error in future.\n",
      "  warnings.warn(\"Partial codon, len(sequence) not a multiple of three. \"\n"
     ]
    },
    {
     "name": "stdout",
     "output_type": "stream",
     "text": [
      "644|IGHV3-23*01|Canis_lupus_familiaris_boxer|F|V-REGION||98 AA|||||||||\n",
      "EVQLVESGG.DLEKPGGSLRLSCVASGFTF....SSYGMSWVRQAPGKGLQGVSLIRYD..GSSTRYADAVK.GRFTISRDNAKNTLYLQMNSLRAEDTAVYSCAK\n",
      "GAGGTGCAGCTGGTGGAGTCTGGGGGAGACCTGGAGAAGCCTGGGGGATCCCTGAGACTGTCCTGTGTGGCCTCTGGATTCACCTTCAGTAGCTACGGCATGAGCTGGGTCCGCCAGGCTCCAGGGAAGGGGCTGCAGGGGGTCTCATTGATTAGGTATGATGGAAGTAGCACAAGGTATGCAGACGCTGTGAAGGGCCGATTCACCATCTCCAGAGACAATGCCAAGAACACGCTGTATCTGCAGATGAACAGCCTGAGAGCCGAGGACACAGCCGTGTATTCCTGTGCGAAGGA\n",
      "651|IGHV3-24*01|Canis_lupus_familiaris_boxer|F|V-REGION||98 AA|||||||||\n",
      "EVQLVESGG.DLVKPEGSLRLSCVASGFTF....SSFYMSWFCQAPRKGLQWVAEISSS..GSSTSYADIVK.GRFTISRDNAKNMLYLQMNSLRAEDMAVYYCAR\n",
      "GAGGTGCAGCTGGTGGAGTCTGGGGGAGACCTTGTGAAGCCTGAGGGGTCCCTGAGACTCTCCTGTGTGGCCTCTGGATTCACCTTCAGTAGCTTCTACATGAGCTGGTTCTGCCAGGCTCCAAGGAAGGGGCTACAGTGGGTTGCAGAAATTAGCAGTAGTGGAAGTAGCACAAGCTACGCAGACATTGTGAAGGGCCGATTCACCATCTCCAGAGACAATGCCAAGAACATGCTGTATCTGCAGATGAACAGCCTGAGAGCCGAGGACATGGCCGTATATTATTGTGCAAGGTA\n",
      "652|IGHV3-25*01|Canis_lupus_familiaris_boxer|P|V-REGION||98 AA|||||||||\n",
      "EVQLVEPGG.ELVKPGASLRLSCVVPGFTF....SSYNMGWAHQPPGKGMQWVAGFNSG..GSSTSYTDAVK.GEFTISRDNVKNTLYLQMNSLRSEDTAVYYCVK\n",
      "GAGGTGCAGCTGGTGGAGCCTGGGGGAGAACTGGTGAAGCCTGGGGCGTCCCTGAGACTCTCCTGTGTGGTCCCTGGATTCACCTTCAGTAGCTACAACATGGGCTGGGCTCACCAGCCTCCAGGGAAGGGGATGCAGTGGGTCGCAGGTTTTAACAGCGGTGGAAGTAGCACAAGCTACACAGATGCTGTGAAGGGTGAATTCACCATCTCCAGAGACAATGTCAAGAACACGCTGTATCTGCAGATGAACAGCCTGAGATCCGAGGACACGGCCGTGTATTACTGTGTGAAGGA\n"
     ]
    },
    {
     "name": "stderr",
     "output_type": "stream",
     "text": [
      "/Users/jwillis/miniconda3/envs/bfx-bp-antibody/lib/python3.8/site-packages/Bio/Seq.py:2573: BiopythonWarning: Partial codon, len(sequence) not a multiple of three. Explicitly trim the sequence or add trailing N before translation. This may become an error in future.\n",
      "  warnings.warn(\"Partial codon, len(sequence) not a multiple of three. \"\n",
      "/Users/jwillis/miniconda3/envs/bfx-bp-antibody/lib/python3.8/site-packages/Bio/Seq.py:2573: BiopythonWarning: Partial codon, len(sequence) not a multiple of three. Explicitly trim the sequence or add trailing N before translation. This may become an error in future.\n",
      "  warnings.warn(\"Partial codon, len(sequence) not a multiple of three. \"\n",
      "/Users/jwillis/miniconda3/envs/bfx-bp-antibody/lib/python3.8/site-packages/Bio/Seq.py:2573: BiopythonWarning: Partial codon, len(sequence) not a multiple of three. Explicitly trim the sequence or add trailing N before translation. This may become an error in future.\n",
      "  warnings.warn(\"Partial codon, len(sequence) not a multiple of three. \"\n"
     ]
    },
    {
     "name": "stdout",
     "output_type": "stream",
     "text": [
      "658|IGHV3-26*01|Canis_lupus_familiaris_boxer|P|V-REGION||98 AA|||||||||\n",
      "EV*LVESGG.DLVKPGGSLRLSCVGSGFTF....SSYWMSWVRQAPGKGLQWVAEISGS..GSSTNYADAVK.GRFIISRDNAKNTLYLQMNSLRAEDTAMYYCAR\n",
      "GAGGTGTAGCTGGTGGAGTCTGGGGGAGACCTGGTGAAGCCTGGGGGGTCCCTGAGACTCTCCTGTGTGGGCTCTGGATTCACCTTCAGTAGCTACTGGATGAGCTGGGTCCGCCAGGCTCCAGGGAAGGGGCTACAGTGGGTTGCAGAAATTAGCGGTAGTGGAAGTAGCACAAACTATGCAGACGCTGTGAAGGGCCGATTCATCATCTCCAGAGACAATGCCAAGAACACGCTGTATCTGCAGATGAACAGCCTGAGAGCCGAGGACACGGCCATGTATTACTGTGCAAGGGA\n",
      "659|IGHV3-27*01|Canis_lupus_familiaris_boxer|P|V-REGION||100 AA|||||||||\n",
      "KVHLVESAG.DVVKPRRSLRLSCVGSGFTF....SSYSMWWAREAPGMGLQGVAGIRYD..GSSTSYADALK.GRFTISRDNAKNTLYL*K.NSLRAE...........GGHGRVLLCEG\n",
      "AAGGTGCATCTGGTGGAGTCTGCGGGAGACGTGGTGAAGCCTAGGAGGTCCCTGAGACTCTCCTGTGTGGGCTCTGGATTCACCTTCAGTAGCTACAGCATGTGGTGGGCCCGTGAGGCTCCCGGGATGGGGCTACAGGGGGTCGCAGGTATTAGATATGATGGAAGTAGCACAAGCTACGCAGACGCTCTGAAGGGCCGATTCACCATCTCCAGAGACAATGCCAAAAACACACTGTATCTGTAGAAGAACAGCCTGAGAGCCGAGGGAGGACACGGCCGTGTATTACTGTGCGAGGGA\n",
      "660|IGHV3-28*01|Canis_lupus_familiaris_boxer|P|V-REGION||98 AA|||||||||\n",
      "..............................................REGAPWVAWIRYD..GSSTSYAEAVK.GRFTVSRDNAKNTLYLQMNSLRAEDTAVYYCVR\n",
      "GAGGTGCAGCTAGTGGAGTCTGGGGGAGACCTGGTGAAGTCTGGGGGGGTCCCTGAGAGTCTCCTGTGTGGGCTCTGGATTCACCTTCAGTAGCTACTGGATGTACTGGGTCCACCAGGCTCCAGGGAAGGGGCTCCATGGGTCGCATGGATTAGGTATGATGGAAGTAGCACAAGCTACGCAGAAGCTGTGAAAGGCCGATTCACTGTTTCTAGAGACAACGCCAAGAACACGCTGTATCTGCAGATGAACAGCCTGAGAGCCGAGGACACGGCCGTGTATTACTGTGTGAGGGA\n",
      "663|IGHV3-3*01|Canis_lupus_familiaris_boxer|F|V-REGION||98 AA|||||||||\n",
      "EVQLVESGG.DMVKPGGSLRLSCVASGFTF....SSYYMYWARQAPGKGLQWVSHINKD..GSSTSYADAVK.GRFTISRDNAKNTLYLQMNSLRAEDTAVYYCAK\n",
      "GAGGTGCAGCTGGTGGAGTCTGGGGGAGACATGGTGAAGCCTGGGGGGTCCCTGAGACTCTCCTGTGTGGCCTCTGGATTTACCTTCAGTAGTTACTACATGTATTGGGCCCGCCAGGCTCCAGGGAAGGGGCTTCAGTGGGTCTCACACATTAACAAAGATGGAAGTAGCACAAGCTATGCAGACGCTGTGAAGGGCCGATTCACCATCTCCAGAGACAACGCAAAGAATACGCTGTATCTGCAGATGAACAGCCTGAGAGCTGAGGACACAGCGGTGTATTACTGTGCAAAGGA\n"
     ]
    },
    {
     "name": "stderr",
     "output_type": "stream",
     "text": [
      "/Users/jwillis/miniconda3/envs/bfx-bp-antibody/lib/python3.8/site-packages/Bio/Seq.py:2573: BiopythonWarning: Partial codon, len(sequence) not a multiple of three. Explicitly trim the sequence or add trailing N before translation. This may become an error in future.\n",
      "  warnings.warn(\"Partial codon, len(sequence) not a multiple of three. \"\n",
      "/Users/jwillis/miniconda3/envs/bfx-bp-antibody/lib/python3.8/site-packages/Bio/Seq.py:2573: BiopythonWarning: Partial codon, len(sequence) not a multiple of three. Explicitly trim the sequence or add trailing N before translation. This may become an error in future.\n",
      "  warnings.warn(\"Partial codon, len(sequence) not a multiple of three. \"\n",
      "/Users/jwillis/miniconda3/envs/bfx-bp-antibody/lib/python3.8/site-packages/Bio/Seq.py:2573: BiopythonWarning: Partial codon, len(sequence) not a multiple of three. Explicitly trim the sequence or add trailing N before translation. This may become an error in future.\n",
      "  warnings.warn(\"Partial codon, len(sequence) not a multiple of three. \"\n"
     ]
    },
    {
     "name": "stdout",
     "output_type": "stream",
     "text": [
      "698|IGHV3-31*01|Canis_lupus_familiaris_boxer|P|V-REGION||98 AA|||||||||\n",
      "EVQLVESGG.ELVKPGGSLRLSCVASGFTF....SSYYMSWIRQAPGKGLQWVADISDS..GGSTYYTDAVK.GRFTISRDNVKNSLYLQMNSLRAEDTAVYYCAK\n",
      "GAGGTGCAGCTGGTGGAGTCTGGGGGAGAACTGGTGAAGCCTGGGGGGTCCCTGAGACTCTCCTGTGTGGCCTCTGGATTCACCTTCAGTAGCTACTACATGAGCTGGATCCGCCAGGCTCCTGGGAAGGGGCTGCAGTGGGTCGCAGATATTAGTGACAGTGGAGGTAGCACATACTACACTGACGCTGTGAAGGGCCGATTCACCATCTCCAGAGACAACGTCAAGAACTCGCTGTATTTGCAGATGAACAGCCTGAGAGCCGAGGACACGGCCGTGTATTACTGTGCGAAGGA\n",
      "699|IGHV3-32*01|Canis_lupus_familiaris_boxer|ORF|V-REGION||98 AA|||||||||\n",
      "GVQLVESGG.DLVKPGGSLTLSCVAYGFTF....SSYSMQWVCQAPGKGVQWVAYINSG..GSSTSSADAVK.GRFIISRDNVKNTLYLQMNSLRAEDTAVYYCAG\n",
      "GGGGTGCAGCTGGTGGAGTCTGGGGGAGACCTGGTGAAGCCTGGGGGGTCCCTGACACTCTCCTGTGTGGCCTATGGATTCACCTTCAGTAGCTACAGCATGCAATGGGTCTGTCAGGCTCCAGGGAAGGGGGTGCAGTGGGTCGCATACATTAACAGTGGTGGAAGTAGCACAAGCTCCGCAGATGCTGTGAAGGGTCGATTCATCATCTCCAGAGACAACGTCAAGAACACGCTATATCTGCAGATGAACAGCCTGAGAGCCGAGGACACCGCCGTGTATTACTGTGCGGGTGA\n",
      "701|IGHV3-33*01|Canis_lupus_familiaris_boxer|P|V-REGION||98 AA|||||||||\n",
      "EMQLVEAGG.DLVKLGGSLRLFCVASGFTF....SSYWMSWVGQAPGKGLQWVAYINSG..GSSTYYADAVK.GRFTISRDNAKNTLYLQMNCLRAEDTAVYYCVG\n",
      "GAGATGCAGCTGGTGGAGGCTGGGGGAGACCTGGTGAAGCTTGGGGGGTCCCTGAGACTCTTCTGTGTGGCCTCTGGATTTACCTTCAGTAGCTATTGGATGAGCTGGGTCGGCCAGGCTCCAGGGAAAGGGTTGCAGTGGGTTGCATACATTAACAGTGGTGGAAGTAGCACATACTATGCAGACGCTGTGAAGGGCCGATTCACCATCTCCAGAGACAATGCCAAGAACACGCTGTATCTGCAGATGAACTGCCTGAGAGCCGAGGACACGGCCGTATATTACTGTGTGGGA\n",
      "Did not detect anything in summary dataframe,[],[]\n",
      "having trouble with 710|IGHV3-34*01|Canis_lupus_familiaris_boxer|F|V-REGION||38 AA|||||||||-QTL*RADSPSPETTPRTRSICR*TA*ELRTRPCITVRR\n",
      "710|IGHV3-34*01|Canis_lupus_familiaris_boxer|F|V-REGION||38 AA|||||||||\n",
      "EMQLVEAGG.DLVKLGGSLRLFCVASGFTF....SSYWMSWVGQAPGKGLQWVAYINSG..GSSTYYADAVK.GRFTISRDNAKNTLYLQMNCLRAEDTAVYYCVG\n",
      "CAGACACTGTGAAGGGCCGATTCACCATCTCCAGAGACAACGCCAAGAACACGCTCTATCTGCAGATGAACAGCCTGAGAGCTGAGGACACGGCCGTGTATTACTGTGCGAAGGA\n"
     ]
    },
    {
     "name": "stderr",
     "output_type": "stream",
     "text": [
      "/Users/jwillis/miniconda3/envs/bfx-bp-antibody/lib/python3.8/site-packages/Bio/Seq.py:2573: BiopythonWarning: Partial codon, len(sequence) not a multiple of three. Explicitly trim the sequence or add trailing N before translation. This may become an error in future.\n",
      "  warnings.warn(\"Partial codon, len(sequence) not a multiple of three. \"\n",
      "/Users/jwillis/miniconda3/envs/bfx-bp-antibody/lib/python3.8/site-packages/Bio/Seq.py:2573: BiopythonWarning: Partial codon, len(sequence) not a multiple of three. Explicitly trim the sequence or add trailing N before translation. This may become an error in future.\n",
      "  warnings.warn(\"Partial codon, len(sequence) not a multiple of three. \"\n",
      "/Users/jwillis/miniconda3/envs/bfx-bp-antibody/lib/python3.8/site-packages/Bio/Seq.py:2573: BiopythonWarning: Partial codon, len(sequence) not a multiple of three. Explicitly trim the sequence or add trailing N before translation. This may become an error in future.\n",
      "  warnings.warn(\"Partial codon, len(sequence) not a multiple of three. \"\n"
     ]
    },
    {
     "name": "stdout",
     "output_type": "stream",
     "text": [
      "711|IGHV3-35*01|Canis_lupus_familiaris_boxer|F|V-REGION||98 AA|||||||||\n",
      "EVQLVESGG.DLVKPVGSLRLSCVASGFTF....SSYDMNWVRQAPGKGLQWVAYISSG..GSSTYYADAVK.GRFTISRDNAKNTLYLQMNSLRAEDTAMYYCAG\n",
      "GAGGTGCAGCTGGTGGAGTCTGGGGGAGACCTGGTGAAGCCTGTGGGATCCCTGAGACTCTCCTGTGTGGCCTCTGGATTCACCTTCAGTAGCTATGACATGAACTGGGTCCGCCAGGCTCCAGGGAAGGGGCTGCAGTGGGTCGCATACATTAGCAGTGGTGGAAGTAGCACATACTATGCAGATGCTGTGAAGGGCCGGTTCACCATCTCCAGAGACAACGCCAAGAACACGCTGTATCTTCAGATGAACAGCCTGAGAGCCGAGGACACGGCCATGTATTACTGTGCGGGTGA\n",
      "713|IGHV3-36*01|Canis_lupus_familiaris_boxer|P|V-REGION||98 AA|||||||||\n",
      "EGQLAESGG.DLVKPERSLRLARVASGFTF....ISYTMSWVHKAPGKGLP*V.A*IYSS..GSNMSYADAVK.GRFTISRDNAKNMLYLQMNSLRAEDMAMYYCVN\n",
      "GAGGGGCAGCTGGCGGAGTCTGGGGGAGACCTGGTGAAGCCTGAGAGGTCCCTGAGACTCGCCCGTGTGGCCTCTGGATTCACCTTCATTTCCTATACCATGAGCTGGGTCCACAAGGCTCCTGGGAAGGGGCTGCCGTGAGTCGCATGAATTTATTCTAGTGGAAGTAACATGAGCTATGCAGACGCTGTGAAGGGCCGATTCACCATCTCCAGAGACAATGCCAAGAACATGCTGTATCTGCAGATGAACAGCCTGAGAGCTGAGGACATGGCCATGTATTACTGTGTGAATGA\n",
      "716|IGHV3-37*01|Canis_lupus_familiaris_boxer|F|V-REGION||97 AA|||||||||\n",
      "EVQLVESGE.DLVKPGGSLRLSCVASGFTF....SSSEMSWVHQAPGQGLQWVSWIRYD..GSISRYADTVK.GRFTISRDNVKNTLYLQMNSLRAEDTAIYYCA\n",
      "GAGGTACAGCTGGTGGAGTCTGGGGAAGATTTGGTGAAGCCTGGAGGGTCCCTGAGACTCTCCTGTGTGGCCTCTGGATTCACCTTCAGTAGCAGTGAAATGAGCTGGGTCCACCAGGCTCCAGGGCAGGGGCTGCAGTGGGTCTCATGGATTAGGTATGATGGAAGTATCTCAAGGTATGCAGACACTGTGAAGGGCCGATTCACCATCTCCAGAGACAATGTCAAGAACACGCTGTATCTGCAGATGAACAGCCTGAGAGCCGAGGACACGGCCATATATTACTGTGCAGA\n"
     ]
    },
    {
     "name": "stderr",
     "output_type": "stream",
     "text": [
      "/Users/jwillis/miniconda3/envs/bfx-bp-antibody/lib/python3.8/site-packages/Bio/Seq.py:2573: BiopythonWarning: Partial codon, len(sequence) not a multiple of three. Explicitly trim the sequence or add trailing N before translation. This may become an error in future.\n",
      "  warnings.warn(\"Partial codon, len(sequence) not a multiple of three. \"\n",
      "/Users/jwillis/miniconda3/envs/bfx-bp-antibody/lib/python3.8/site-packages/Bio/Seq.py:2573: BiopythonWarning: Partial codon, len(sequence) not a multiple of three. Explicitly trim the sequence or add trailing N before translation. This may become an error in future.\n",
      "  warnings.warn(\"Partial codon, len(sequence) not a multiple of three. \"\n",
      "/Users/jwillis/miniconda3/envs/bfx-bp-antibody/lib/python3.8/site-packages/Bio/Seq.py:2573: BiopythonWarning: Partial codon, len(sequence) not a multiple of three. Explicitly trim the sequence or add trailing N before translation. This may become an error in future.\n",
      "  warnings.warn(\"Partial codon, len(sequence) not a multiple of three. \"\n"
     ]
    },
    {
     "name": "stdout",
     "output_type": "stream",
     "text": [
      "718|IGHV3-38*01|Canis_lupus_familiaris_boxer|F|V-REGION||98 AA|||||||||\n",
      "EVQLVESGG.DLVKPGGTLRLSCVASGFTF....SSYDMSWVRQSPGKGLQWVAVIWND..GSSTYYADAVK.GRFTISRDNAKNTLYLQMNSLRAEDTAVYYCAK\n",
      "GAGGTGCAGCTGGTGGAGTCTGGGGGAGACCTGGTGAAGCCTGGGGGGACCTTGAGACTGTCCTGTGTGGCCTCTGGATTCACCTTTAGTAGCTATGACATGAGCTGGGTCCGTCAGTCTCCAGGGAAGGGGCTGCAGTGGGTCGCAGTTATTTGGAATGATGGAAGTAGCACATACTACGCAGACGCTGTGAAGGGCCGATTCACCATCTCCAGAGACAACGCCAAGAACACGCTGTATCTGCAGATGAACAGCCTGAGAGCCGAGGACACGGCCGTGTATTACTGTGCGAAGGA\n",
      "723|IGHV3-39*01|Canis_lupus_familiaris_boxer|F|V-REGION||98 AA|||||||||\n",
      "EVQLVESGG.DLVKPGGSLRLSCVASGFTF....SSYYMSWIRQAPGKGLQWVADISDS..GGSTGYADAVK.GRFTISRENAKNKLYLQMNSLRAEDTAVYYCAK\n",
      "GAGGTACAGCTGGTGGAATCTGGGGGAGACCTCGTGAAGCCTGGGGGTTCCCTGAGACTCTCCTGTGTGGCCTCGGGATTCACCTTCAGTAGCTACTACATGAGCTGGATCCGCCAGGCTCCTGGGAAGGGGCTGCAGTGGGTCGCAGATATTAGTGATAGTGGAGGTAGCACAGGCTACGCAGACGCTGTGAAGGGCCGGTTCACCATCTCCAGAGAGAACGCCAAGAACAAGCTGTATCTTCAGATGAACAGCCTGAGAGCCGAGGACACAGCCGTGTATTACTGTGCGAAGGA\n",
      "728|IGHV3-40*01|Canis_lupus_familiaris_boxer|P|V-REGION||98 AA|||||||||\n",
      "......................................MSWFRQAPGKGLQWVTWIGYD..GSSTYYTDTVK.GRFTISIDNAKNMLYLQMNSLRAEDIALYYCAR\n",
      "ATGCAATGGGTCCGTCAGGCTCCTGGGAAGGGGGTGCAGTGGGTCGCATACATTAACAGTGGTGGAAGTAGCACAAGCTTCGCAGATGCTGTGAAGGGCATGAGCTGGTTTCGCCAGGCTCCAGGGAAGGGGCTGCAATGGGTTACATGGATTGGGTATGATGGAAGTAGCACATACTACACAGACACTGTAAAGGGCCGATTCACTATCTCCATAGACAACGCCAAGAACATGCTGTATCTGCAGATGAACAGCCTGAGAGCCGAGGACATAGCCCTGTATTACTGTGCGAGGGA\n"
     ]
    },
    {
     "name": "stderr",
     "output_type": "stream",
     "text": [
      "/Users/jwillis/miniconda3/envs/bfx-bp-antibody/lib/python3.8/site-packages/Bio/Seq.py:2573: BiopythonWarning: Partial codon, len(sequence) not a multiple of three. Explicitly trim the sequence or add trailing N before translation. This may become an error in future.\n",
      "  warnings.warn(\"Partial codon, len(sequence) not a multiple of three. \"\n",
      "/Users/jwillis/miniconda3/envs/bfx-bp-antibody/lib/python3.8/site-packages/Bio/Seq.py:2573: BiopythonWarning: Partial codon, len(sequence) not a multiple of three. Explicitly trim the sequence or add trailing N before translation. This may become an error in future.\n",
      "  warnings.warn(\"Partial codon, len(sequence) not a multiple of three. \"\n",
      "/Users/jwillis/miniconda3/envs/bfx-bp-antibody/lib/python3.8/site-packages/Bio/Seq.py:2573: BiopythonWarning: Partial codon, len(sequence) not a multiple of three. Explicitly trim the sequence or add trailing N before translation. This may become an error in future.\n",
      "  warnings.warn(\"Partial codon, len(sequence) not a multiple of three. \"\n",
      "/Users/jwillis/miniconda3/envs/bfx-bp-antibody/lib/python3.8/site-packages/Bio/Seq.py:2573: BiopythonWarning: Partial codon, len(sequence) not a multiple of three. Explicitly trim the sequence or add trailing N before translation. This may become an error in future.\n",
      "  warnings.warn(\"Partial codon, len(sequence) not a multiple of three. \"\n"
     ]
    },
    {
     "name": "stdout",
     "output_type": "stream",
     "text": [
      "729|IGHV3-41*01|Canis_lupus_familiaris_boxer|F|V-REGION||98 AA|||||||||\n",
      "EVQLVESGG.DLVKPGGSLRLSCVASGFTF....SNYDMSWVRQAPGKGLQWVAAISYD..GSSTYYTDAVK.GRFTISRDNARNTVYLQMNSLRAEDTAVYYCAK\n",
      "GAGGTGCAGCTGGTGGAGTCTGGGGGAGACCTGGTGAAGCCTGGGGGGTCCCTGAGACTCTCCTGTGTAGCCTCTGGATTCACCTTCAGTAACTACGACATGAGCTGGGTCCGCCAGGCTCCTGGGAAGGGGCTGCAGTGGGTCGCAGCTATTAGCTATGATGGAAGTAGCACATACTACACTGACGCTGTGAAGGGCCGATTCACCATCTCCAGAGACAACGCCAGGAACACAGTGTATCTGCAGATGAACAGCCTGAGAGCCGAGGACACGGCTGTGTATTACTGTGCGAAGGA\n",
      "737|IGHV3-43*01|Canis_lupus_familiaris_boxer|P|V-REGION||98 AA|||||||||\n",
      "KV*LVESGG.DLMKPGGSLRLSCVASGFTF....RSYGMSWVCQASGKGLQWVAAISYD..GRSTYYTDTVK.GRFTISRDNGKNTLYLQMNSLRAEDTAVYYCAS\n",
      "AAGGTGTAGCTGGTGGAGTCTGGGGGAGACCTGATGAAGCCTGGGGGTTCCCTGAGACTGTCCTGTGTGGCCTCTGGATTCACCTTCAGGAGCTATGGCATGAGCTGGGTCTGCCAGGCTTCAGGGAAGGGGCTGCAGTGGGTCGCAGCTATTAGCTATGATGGAAGGAGCACATACTACACAGACACTGTGAAGGGCCGATTCACCATCTCCAGAGACAATGGCAAGAACACGCTGTACCTGCAGATGAACAGCTTGAGAGCTGAGGACACGGCCGTGTATTACTGTGCGAGTGA\n",
      "742|IGHV3-44*01|Canis_lupus_familiaris_boxer|ORF|V-REGION||98 AA|||||||||\n",
      "EVQLVESGG.DLVKPGGSLRLSCVTSGFTF....SSYWMSCVRQAPGKELQWVAYINSG..GSSTWYTDAVK.GRFTISRDNAKNTLYLQMNNLRAEDTAVYYCAR\n",
      "GAGGTGCAGCTGGTGGAGTCTGGGGGAGACCTGGTGAAGCCTGGGGGTTCCCTGAGACTCTCATGTGTGACTTCTGGATTCACCTTCAGTAGCTATTGGATGAGCTGTGTCCGCCAGGCTCCAGGGAAGGAGCTGCAGTGGGTCGCGTACATTAACAGTGGTGGAAGTAGCACATGGTACACAGACGCTGTGAAGGGTCGATTCACCATCTCCAGAGACAACGCCAAGAACACGCTGTATCTGCAGATGAACAACCTGAGAGCCGAAGACACGGCCGTGTATTACTGTGCGAGGGA\n",
      "743|IGHV3-45*01|Canis_lupus_familiaris_boxer|P|V-REGION||98 AA|||||||||\n",
      "EVQLLESGG.DRVKPGGSQRLSCVASRFTF....SSYSMHCLRQSPGMGLQWVTYISSN..GSSTYYADAVK.GRFTISRDKAKNMLYLQMNSLRAQDIALYYCAD\n",
      "GAAGTACAGCTGCTGGAGTCTGGGGGAGACCGAGTGAAACCTGGGGGGTCCCAGAGACTCTCCTGTGTGGCCTCAAGGTTCACCTTCAGTAGCTACAGCATGCATTGTCTCCGTCAGTCTCCTGGGATGGGGCTACAGTGGGTCACATACATTAGCAGTAATGGAAGCAGCACATACTATGCAGACGCTGTGAAGGGTCGATTCACCATCTCCAGAGACAAAGCCAAGAACATGCTTTATCTACAGATGAACAGCCTGAGAGCTCAGGACATAGCCCTGTATTACTGTGCAGATG\n"
     ]
    },
    {
     "name": "stderr",
     "output_type": "stream",
     "text": [
      "/Users/jwillis/miniconda3/envs/bfx-bp-antibody/lib/python3.8/site-packages/Bio/Seq.py:2573: BiopythonWarning: Partial codon, len(sequence) not a multiple of three. Explicitly trim the sequence or add trailing N before translation. This may become an error in future.\n",
      "  warnings.warn(\"Partial codon, len(sequence) not a multiple of three. \"\n",
      "/Users/jwillis/miniconda3/envs/bfx-bp-antibody/lib/python3.8/site-packages/Bio/Seq.py:2573: BiopythonWarning: Partial codon, len(sequence) not a multiple of three. Explicitly trim the sequence or add trailing N before translation. This may become an error in future.\n",
      "  warnings.warn(\"Partial codon, len(sequence) not a multiple of three. \"\n",
      "/Users/jwillis/miniconda3/envs/bfx-bp-antibody/lib/python3.8/site-packages/Bio/Seq.py:2573: BiopythonWarning: Partial codon, len(sequence) not a multiple of three. Explicitly trim the sequence or add trailing N before translation. This may become an error in future.\n",
      "  warnings.warn(\"Partial codon, len(sequence) not a multiple of three. \"\n",
      "/Users/jwillis/miniconda3/envs/bfx-bp-antibody/lib/python3.8/site-packages/Bio/Seq.py:2573: BiopythonWarning: Partial codon, len(sequence) not a multiple of three. Explicitly trim the sequence or add trailing N before translation. This may become an error in future.\n",
      "  warnings.warn(\"Partial codon, len(sequence) not a multiple of three. \"\n"
     ]
    },
    {
     "name": "stdout",
     "output_type": "stream",
     "text": [
      "744|IGHV3-46*01|Canis_lupus_familiaris_boxer|F|V-REGION||97 AA|||||||||\n",
      "EVQLVESGE.DLVKPGGSLRLSCVASGFTF....SSSEMSWVHQAPGQGLQWVSWIRYD..GSSSRYADTVK.GRFTISRDNAKNTLYLQMNSLRAEDTAIYYCA\n",
      "GAGGTACAGCTGGTGGAGTCTGGGGAAGATTTGGTGAAGCCTGGAGGGTCCCTGAGACTCTCCTGTGTGGCCTCTGGATTCACCTTCAGTAGCAGTGAAATGAGCTGGGTCCACCAGGCTCCAGGGCAGGGGCTGCAGTGGGTCTCATGGATTAGGTATGATGGAAGTAGCTCAAGGTATGCAGACACTGTGAAGGGCCGATTCACCATCTCCAGAGACAATGCCAAGAACACGCTGTATCTGCAGATGAACAGCCTGAGAGCCGAGGACACGGCCATATATTACTGTGCAGA\n",
      "745|IGHV3-47*01|Canis_lupus_familiaris_boxer|F|V-REGION||97 AA|||||||||\n",
      "EVQLVESGG.DLAKPGGSLRLSCVASGLTF....SSYSMSWVRQAPGKGLQWVTAISYD..GSSTYYTDAVK.GRFTISRDNARNTVYLQMNSLRAEDTAVYYCV\n",
      "GAGGTGCAGCTGGTGGAGTCTGGGGGAGACCTGGCGAAGCCTGGGGGGTCCCTGAGACTCTCCTGTGTGGCCTCTGGATTAACCTTCAGTAGCTACAGCATGAGCTGGGTCCGCCAGGCTCCTGGGAAGGGGCTGCAGTGGGTCACAGCTATTAGCTATGATGGAAGTAGCACATACTACACTGACGCTGTGAAGGGCCGATTCACCATCTCCAGAGACAACGCCAGGAACACAGTGTATCTGCAGATGAACAGCCTGAGAGCCGAGGACACAGCTGTGTATTACTGTGTGGA\n",
      "749|IGHV3-47-1*01|Canis_lupus_familiaris_boxer|P|V-REGION||97 AA|||||||||\n",
      "EVPLVESGG.ELVKPGGSLRLSFVASAFTF....SSYWISWVRQAPGKGL.H*VSVINKD..GSTTYHADAVK.GRFTISRDNAKNTLYLQMNSLRAEDTAVYYCA\n",
      "GAGGTGCCACTGGTGGAATCTGGGGGAGAGCTGGTGAAGCCTGGGGGGTCCCTGAGACTCTCCTTTGTAGCCTCTGCATTCACTTTCAGTAGTTACTGGATAAGCTGGGTCCGCCAAGCTCCAGGGAAAGGGCTGCACTGAGTCTCAGTAATTAACAAAGATGGAAGTACCACATACCACGCAGATGCTGTGAAGGGCCGATTCACCATCTCCAGAGACAATGCCAAGAACACGCTGTATCTGCAGATGAACAGCCTGAGAGCTGAGGACACGGCTGTGTATTACTGTGCACA\n",
      "Did not detect anything in summary dataframe,[],[]\n",
      "having trouble with 750|IGHV3-48*01|Canis_lupus_familiaris_boxer|P|V-REGION||98 AA|||||||||-EEQLVKSRGDLVKPGGSLRLFCESSTFTFHSNSIHWLHQSPGSGYSGSYPIAVMEVACTMQTL*RADSPSPETAPGTCCICR*TA*ELRTQPCIAVRG\n",
      "750|IGHV3-48*01|Canis_lupus_familiaris_boxer|P|V-REGION||98 AA|||||||||\n",
      "EVPLVESGG.ELVKPGGSLRLSFVASAFTF....SSYWISWVRQAPGKGL.H*VSVINKD..GSTTYHADAVK.GRFTISRDNAKNTLYLQMNSLRAEDTAVYYCA\n",
      "GAGGAGCAGTTGGTGAAATCTAGGGGAGACCTGGTGAAGCCTGGCGGGTCCCTGAGACTCTTCTGTGAGTCCTCTACATTCACCTTTCATAGCAACAGCATACATTGGCTCCACCAGTCTCCCGGTAGTGGCTACAGTGGGTCATATCCAATAGCAGTAATGGAAGTAGCATGTACTATGCAGACGCTGTAAAGGGCTGATTCACCATCTCCAGAGACAGCACCAGGAACATGCTGTATCTGCAGATGAACAGCCTGAGAGCTGAGGACACAGCCGTGCATTGCTGTGCGAGGGA\n",
      "755|IGHV3-49*01|Canis_lupus_familiaris_boxer|P|V-REGION||98 AA|||||||||\n",
      "EVQLVESGG.DLMKPGGSLRLSCVAAGFTF....SSYSMSWVRQAPGKGIQWVAWI*AS..GNSTSYTDAVK.GRFTISRERQE.................................HSVSADEQPES*GQGHVLLCEG\n",
      "GAGGTGCAGCTGGTGGAGTCTGGGGGAGACCTCATGAAGCCTGGGGGGTCCCTGAGACTCTCCTGTGTGGCCGCTGGATTCACCTTCAGTAGCTACAGCATGAGCTGGGTCCGCCAGGCTCCCGGGAAGGGGATTCAGTGGGTCGCATGGATTTAAGCTAGTGGAAATAGCACAAGCTACACAGATGCTGTGAAGGGCCGATTCACCATCTCCAGAGAACGCCAAGAACACAGTGTTTCTGCAGATGAACAGCCTGAGAGCTGAGGACAAGGCCATGTATTACTGTGCGAGGGA\n",
      "761|IGHV3-5*01|Canis_lupus_familiaris_boxer|F|V-REGION||98 AA|||||||||\n",
      "EVQLVESGG.DLVKPGGSLRLSCVASGFTF....SSYHMSWVRQAPGKGLQWVAYINSG..GSSTSYADAVK.GRFTISRDNAKNTLYLQMNSLRAEDTAVYYCAS\n",
      "GAGGTGCAGCTGGTGGAGTCTGGGGGAGACCTGGTGAAGCCTGGGGGGTCCCTGAGACTTTCCTGTGTGGCCTCTGGATTCACCTTCAGTAGCTACCACATGAGCTGGGTCCGCCAGGCTCCAGGGAAGGGGCTTCAGTGGGTCGCATACATTAACAGTGGTGGAAGTAGCACAAGCTATGCAGACGCTGTGAAGGGCCGATTCACCATCTCCAGAGACAACGCCAAGAACACGCTGTATCTTCAGATGAACAGCCTGAGAGCCGAGGACACGGCCGTGTATTACTGTGCGAGTGA\n",
      "Did not detect anything in summary dataframe,[],[]\n",
      "having trouble with 765|IGHV3-5-1*01|Canis_lupus_familiaris_boxer|P|V-REGION||99 AA|||||||||-EVQLVESGGALVKPGGVPETLLCGLWIHLQ*LPHELGPPGSREGAAVGRIH*QWWK*GSLGGAVVWRLPLAQGTILETRDRIPRRAPCMEPASPSACVS\n",
      "765|IGHV3-5-1*01|Canis_lupus_familiaris_boxer|P|V-REGION||99 AA|||||||||\n",
      "EVQLVESGG.DLVKPGGSLRLSCVASGFTF....SSYHMSWVRQAPGKGLQWVAYINSG..GSSTSYADAVK.GRFTISRDNAKNTLYLQMNSLRAEDTAVYYCAS\n",
      "GAGGTGCAGCTGGTGGAGTCTGGGGGAGCCCTGGTGAAGCCTGGGGGGGTCCCTGAGACTCTCCTATGTGGCCTCTGGATTCACCTTCAGTAGCTACCACATGAGCTGGGTCCGCCAGGCTCCAGGGAAGGGGCTGCAGTGGGTCGCATACATTAACAGTGGTGGAAGTAGGGATCCCTGGGTGGCGCAGTGGTTTGGCGCCTGCCTTTGGCCCAGGGCACGATCCTGGAGACCCGGGATCGAATCCCACGTCGGGCTCCCTGCATGGAGCCTGCTTCTCCCTCTGCCTGTGTCTCT\n",
      "766|IGHV3-50*01|Canis_lupus_familiaris_boxer|F|V-REGION||98 AA|||||||||\n",
      "EVQLVESGG.DLVKPGGSLRLSCVASGFTF....SSNDMDWVRQAPGKGLQWLTRISND..GRSTGYADAVK.GRFTISRDNAKNTLYLQMNSLRAEDTAVYYCAK\n",
      "GAGGTGCAGCTGGTGGAGTCTGGGGGAGACCTGGTGAAGCCTGGGGGGTCCTTGAGACTCTCCTGTGTGGCCTCTGGTTTCACCTTCAGTAGCAACGACATGGACTGGGTCCGCCAGGCTCCAGGGAAGGGGCTGCAGTGGCTCACACGGATTAGCAATGATGGAAGGAGCACAGGCTACGCAGATGCTGTGAAGGGCCGATTCACCATCTCCAGAGACAACGCCAAGAACACGCTGTATCTGCAGATGAACAGCCTGAGAGCTGAGGACACAGCCGTGTATTACTGTGCGAAGGA\n",
      "768|IGHV3-52*01|Canis_lupus_familiaris_boxer|P|V-REGION||98 AA|||||||||\n",
      "EVQLVEYGG.ELVKPGGSLRLSCVASGFTF....SIYYMHWVHQAPGKGLQWFA*IRSD..GSSTYYTDAVK.GRFTISRDNSKNTLYLQMTSLRAEDTALYYCAM\n",
      "GAAGTGCAGCTGGTGGAGTATGGGGGAGAGCTGGTGAAGCCTGGGGGGTCCCTGAGACTGTCCTGTGTGGCCTCCGGATTCACCTTCAGTATCTACTACATGCACTGGGTCCACCAGGCTCCAGGGAAGGGGCTGCAGTGGTTCGCATGAATTAGGAGTGATGGAAGTAGCACATACTACACTGATGCTGTGAAGGGCCGATTCACCATCTCCAGAGACAATTCCAAGAACACTCTGTATCTGCAGATGACCAGCCTGAGAGCCGAGGACACGGCCCTATATTACTGTGCGATGGA\n"
     ]
    },
    {
     "name": "stderr",
     "output_type": "stream",
     "text": [
      "/Users/jwillis/miniconda3/envs/bfx-bp-antibody/lib/python3.8/site-packages/Bio/Seq.py:2573: BiopythonWarning: Partial codon, len(sequence) not a multiple of three. Explicitly trim the sequence or add trailing N before translation. This may become an error in future.\n",
      "  warnings.warn(\"Partial codon, len(sequence) not a multiple of three. \"\n",
      "/Users/jwillis/miniconda3/envs/bfx-bp-antibody/lib/python3.8/site-packages/Bio/Seq.py:2573: BiopythonWarning: Partial codon, len(sequence) not a multiple of three. Explicitly trim the sequence or add trailing N before translation. This may become an error in future.\n",
      "  warnings.warn(\"Partial codon, len(sequence) not a multiple of three. \"\n",
      "/Users/jwillis/miniconda3/envs/bfx-bp-antibody/lib/python3.8/site-packages/Bio/Seq.py:2573: BiopythonWarning: Partial codon, len(sequence) not a multiple of three. Explicitly trim the sequence or add trailing N before translation. This may become an error in future.\n",
      "  warnings.warn(\"Partial codon, len(sequence) not a multiple of three. \"\n",
      "/Users/jwillis/miniconda3/envs/bfx-bp-antibody/lib/python3.8/site-packages/Bio/Seq.py:2573: BiopythonWarning: Partial codon, len(sequence) not a multiple of three. Explicitly trim the sequence or add trailing N before translation. This may become an error in future.\n",
      "  warnings.warn(\"Partial codon, len(sequence) not a multiple of three. \"\n"
     ]
    },
    {
     "name": "stdout",
     "output_type": "stream",
     "text": [
      "778|IGHV3-54*01|Canis_lupus_familiaris_boxer|F|V-REGION||99 AA|||||||||\n",
      "EVQLVESGG.DLMKPGGSLRLSCVASGFTI....SSNYMNWVRQAPGKGLQWVGYISSD..GSSTSYADAVK.GRFTISRDNAKNTLYLQMNSLRAEDTAVYYCVKG\n",
      "GAGGTGCAGCTGGTGGAGTCTGGGGGAGACCTGATGAAGCCTGGGGGGTCCCTGAGACTCTCCTGTGTGGCCTCCGGATTCACTATCAGTAGCAACTACATGAACTGGGTCCGCCAGGCTCCAGGGAAGGGGCTGCAGTGGGTCGGATACATTAGCAGTGATGGAAGTAGCACAAGCTATGCAGACGCTGTGAAGGGCCGATTCACCATCTCCAGAGACAATGCCAAGAACACGCTGTATCTGCAGATGAACAGCCTGAGAGCCGAGGACACGGCCGTGTATTACTGTGTGAAGGGA\n",
      "Did not detect anything in summary dataframe,[],[]\n",
      "having trouble with 784|IGHV3-56*01|Canis_lupus_familiaris_boxer|P|V-REGION||84 AA|||||||||-EVQLVESGGDLVKPGGSLRLSCVASGFTFSSYYMEWVCQAPGRG*SGSHGLAVTEVAHTTQTL*RADSPSPETMPRRPCITVRR\n",
      "784|IGHV3-56*01|Canis_lupus_familiaris_boxer|P|V-REGION||84 AA|||||||||\n",
      "EVQLVESGG.DLMKPGGSLRLSCVASGFTI....SSNYMNWVRQAPGKGLQWVGYISSD..GSSTSYADAVK.GRFTISRDNAKNTLYLQMNSLRAEDTAVYYCVKG\n",
      "GAGGTGCAGCTGGTGGAATCTGGGGGAGACCTGGTGAAGCCTGGGGGATCCCTGAGACTCTCCTGTGTGGCCTCTGGATTCACCTTCAGTAGCTACTATATGGAATGGGTCTGCCAGGCTCCAGGGAGGGGCTGAAGTGGGTCGCACGGATTAGCAGTGACGGAAGTAGCACATACTACACAGACGCTGTGAAGGGCCGATTCACCATCTCCAGAGACAATGCCAAGACGGCCGTGTATTACTGTGCGAAGGA\n",
      "Did not detect anything in summary dataframe,[],[]\n",
      "having trouble with 785|IGHV3-57*01|Canis_lupus_familiaris_boxer|P|V-REGION||98 AA|||||||||-EVQLVESGGELVKPGGSLRLSCVASGFTFSSYYMHWVCRLQGRGCSGLQELGVMEVAQATQTL*RADSPSPETIPRTLCICR*TA*ELMIRPYITVQG\n",
      "785|IGHV3-57*01|Canis_lupus_familiaris_boxer|P|V-REGION||98 AA|||||||||\n",
      "EVQLVESGG.DLMKPGGSLRLSCVASGFTI....SSNYMNWVRQAPGKGLQWVGYISSD..GSSTSYADAVK.GRFTISRDNAKNTLYLQMNSLRAEDTAVYYCVKG\n",
      "GAAGTGCAGCTTGTGGAGTCTGGGGGAGAGCTGGTGAAGCCTGGGGGTTCCCTGAGACTGTCCTGTGTGGCCTCTGGATTCACCTTCAGTAGCTACTACATGCACTGGGTCTGCAGGCTCCAGGGAAGGGGCTGCAGTGGGTTGCAAGAATTAGGAGTGATGGAAGTAGCACAAGCTACCCAGACGCTGTGAAGGGCAGATTCACCATCTCCAGAGACAATTCCAAGAACACTCTGTATCTGCAGATGAACAGCCTGAGAGCTGATGATACGGCCCTATATTACTGTGCAAGGGA\n",
      "786|IGHV3-58*01|Canis_lupus_familiaris_boxer|F|V-REGION||98 AA|||||||||\n",
      "EVQLVESGG.DLVKPGGSLRLSCVASGFTF....SSHAKSWVRQAPGKGLKWVAVISSS..GSSTGSADTVK.GRFTISRDNAKNTLYLQMNSLRAEDTAVYYCAK\n",
      "GAGGTGCAGCTGGTGGAGTCTGGGGGAGACCTGGTGAAGCCTGGGGGATCCCTGAGACTCTCTTGTGTGGCCTCCGGATTCACCTTCAGTAGCCATGCCAAGAGCTGGGTCCGCCAGGCTCCAGGGAAGGGGCTGAAGTGGGTAGCAGTTATTAGCAGTAGTGGAAGTAGCACAGGCTCCGCAGACACTGTGAAGGGCCGATTCACCATCTCCAGAGACAATGCCAAGAACACGCTGTATCTGCAGATGAACAGCCTGAGAGCTGAGGACACAGCCGTGTATTACTGTGCGAAGGA\n",
      "Did not detect anything in summary dataframe,[],[]\n",
      "having trouble with 787|IGHV3-59*01|Canis_lupus_familiaris_boxer|P|V-REGION||98 AA|||||||||-EVQLVESGGDLVKTERSLRLSCVASGFTFSSFYMRCLPDSREGTTVGCRN*Q*WK*HKLHRCSEGLILHLQKQCQEHAVSADEQPESRGHSRILLCKV\n",
      "787|IGHV3-59*01|Canis_lupus_familiaris_boxer|P|V-REGION||98 AA|||||||||\n",
      "EVQLVESGG.DLVKPGGSLRLSCVASGFTF....SSHAKSWVRQAPGKGLKWVAVISSS..GSSTGSADTVK.GRFTISRDNAKNTLYLQMNSLRAEDTAVYYCAK\n",
      "GAGGTACAGCTGGTGGAGTCTGGAGGAGACCTTGTGAAGACTGAGCGGTCCCTGAGACTCTCCTGTGTGGCCTCTGGATTCACCTTCAGTAGCTTCTACATGAGGTGTCTGCCAGACTCCAGGGAAGGGACTACAGTGGGTTGCAGAAATTAGCAGTAGTGGAAGTAGCACAAGCTACACAGATGCTCTGAAGGGCTGATTCTCCATCTCCAAAAACAATGCCAAGAACACGCTGTATCTGCAGATGAACAGCCTGAGAGCCGAGGTCACAGCCGTATATTACTGTGCAAGGTA\n"
     ]
    },
    {
     "name": "stderr",
     "output_type": "stream",
     "text": [
      "/Users/jwillis/miniconda3/envs/bfx-bp-antibody/lib/python3.8/site-packages/Bio/Seq.py:2573: BiopythonWarning: Partial codon, len(sequence) not a multiple of three. Explicitly trim the sequence or add trailing N before translation. This may become an error in future.\n",
      "  warnings.warn(\"Partial codon, len(sequence) not a multiple of three. \"\n",
      "/Users/jwillis/miniconda3/envs/bfx-bp-antibody/lib/python3.8/site-packages/Bio/Seq.py:2573: BiopythonWarning: Partial codon, len(sequence) not a multiple of three. Explicitly trim the sequence or add trailing N before translation. This may become an error in future.\n",
      "  warnings.warn(\"Partial codon, len(sequence) not a multiple of three. \"\n",
      "/Users/jwillis/miniconda3/envs/bfx-bp-antibody/lib/python3.8/site-packages/Bio/Seq.py:2573: BiopythonWarning: Partial codon, len(sequence) not a multiple of three. Explicitly trim the sequence or add trailing N before translation. This may become an error in future.\n",
      "  warnings.warn(\"Partial codon, len(sequence) not a multiple of three. \"\n",
      "/Users/jwillis/miniconda3/envs/bfx-bp-antibody/lib/python3.8/site-packages/Bio/Seq.py:2573: BiopythonWarning: Partial codon, len(sequence) not a multiple of three. Explicitly trim the sequence or add trailing N before translation. This may become an error in future.\n",
      "  warnings.warn(\"Partial codon, len(sequence) not a multiple of three. \"\n"
     ]
    },
    {
     "name": "stdout",
     "output_type": "stream",
     "text": [
      "788|IGHV3-6*01|Canis_lupus_familiaris_boxer|F|V-REGION||97 AA|||||||||\n",
      "EVQLVESGG.DLVKPGGSLRLSCVASGFTF....SSSDMSWIRQAPGKGLQWVAYISND..GSSTSYADAVK.GRFTISRDNAKNTLYLQMNSLRAEDTAVYYCA\n",
      "GAGGTGCAGCTGGTGGAGTCTGGGGGAGACCTGGTGAAGCCTGGGGGGTCCCTGAGACTCTCCTGTGTAGCCTCTGGATTCACCTTCAGTAGCTCCGACATGAGCTGGATCCGCCAGGCTCCAGGAAAGGGGCTTCAGTGGGTCGCATACATTAGCAATGATGGAAGTAGCACAAGCTACGCAGACGCTGTGAAGGGCCGATTCACCATCTCCAGAGACAACGCCAAGAACACGCTCTATCTGCAGATGAACAGCCTCAGAGCCGAGGACACGGCCGTGTATTACTGTGCAGA\n",
      "794|IGHV3-60*01|Canis_lupus_familiaris_boxer|P|V-REGION||94 AA|||||||||\n",
      "EVKLVESGG.DLLKPGGSIKLSYVTSGFTF....RSYWMSWVSQAPGKGLQWVTWVNTG..GSSKSYADAVK.GQFTISRDNAKNTLYLHMNSL...IALYYCVS\n",
      "GAGGTGAAGCTGGTGGAGTCTGGGGGAGACCTGTTGAAGCCTGGGGGATCAATTAAACTCTCCTATGTGACCTCTGGATTCACCTTCAGGAGCTACTGGATGAGCTGGGTCAGCCAGGCTCCAGGGAAGGGGCTGCAGTGGGTCACATGGGTTAATACTGGTGGAAGCAGCAAAAGCTATGCAGATGCTGTGAAGGGGCAATTCACCATCTCCAGAGACAATGCCAAGAACACGCTGTATCTGCATATGAACAGCCTGATAGCCCTGTATTATTGTGTGAGTGA\n",
      "798|IGHV3-61*01|Canis_lupus_familiaris_boxer|F|V-REGION||98 AA|||||||||\n",
      "EVQLVESGG.NLVKPGGSLRLSCVASGLTF....YSYAIYWVHEAPGKGLQWVAAITTD..GSSTYYTDAVK.GRFTISRDNAKNTLYLQMNSLRAEDMPVYYCAR\n",
      "GAGGTGCAGCTGGTGGAGTCTGGTGGAAACCTGGTGAAGCCTGGGGGTTCCCTGAGACTGTCCTGTGTGGCCTCTGGATTAACCTTCTATAGCTATGCCATTTACTGGGTCCACGAGGCTCCTGGGAAGGGGCTGCAGTGGGTCGCAGCTATTACCACTGATGGAAGTAGCACATACTACACTGACGCTGTGAAGGGCCGATTCACCATCTCCAGAGACAATGCCAAGAACACGCTGTATCTGCAGATGAACAGCCTGAGAGCTGAGGACATGCCCGTGTATTACTGTGCGAGGGA\n",
      "Did not detect anything in summary dataframe,[],[]\n",
      "having trouble with 804|IGHV3-63*01|Canis_lupus_familiaris_boxer|P|V-REGION||98 AA|||||||||-EEQLVKSRGDLVKPGGSLRLFCESSTFTFHSYSMHWLHQSPGSGYSGSYPIAVMEVACTMQTL*RADTPSPETTPGTCCICR*IT*ELRTQPCIAVRG\n",
      "804|IGHV3-63*01|Canis_lupus_familiaris_boxer|P|V-REGION||98 AA|||||||||\n",
      "EVQLVESGG.NLVKPGGSLRLSCVASGLTF....YSYAIYWVHEAPGKGLQWVAAITTD..GSSTYYTDAVK.GRFTISRDNAKNTLYLQMNSLRAEDMPVYYCAR\n",
      "GAGGAGCAGTTGGTGAAATCTAGGGGAGACCTGGTGAAGCCTGGCGGGTCCCTGAGACTCTTCTGTGAGTCCTCTACGTTCACCTTTCATAGCTACAGCATGCATTGGCTCCACCAGTCTCCCGGTAGTGGCTACAGTGGGTCATATCCAATAGCAGTAATGGAAGTAGCATGTACTATGCAGACGCTGTAAAGGGCTGATACACCATCTCCAGAGACAACACCAGGAACATGCTGTATCTGCAGATGAATAACCTGAGAGCTGAGGACACAGCCGTGCATTGCTGTGCGAGGGA\n",
      "807|IGHV3-64*01|Canis_lupus_familiaris_boxer|P|V-REGION||97 AA|||||||||\n",
      "EVQLVESAG.DPVKPGGSLRLSCVAAGFTF....SSYSMSWVRQAPGKGMQWVAWIYAS..GSSTSYADAVK.GRFTISRDNAKNTLFLQM....................PES*GHGHVFLCRG\n",
      "GAGGTGCAGCTGGTGGAGTCTGCGGGAGACCCCGTGAAGCCTGGGGGGTCCCTGAGACTCTCCTGTGTGGCCGCTGGATTCACCTTCAGTAGCTACAGCATGAGCTGGGTCCGCCAGGCTCCCGGGAAGGGGATGCAGTGGGTCGCATGGATATATGCTAGCGGAAGTAGCACAAGCTACGCAGACGCTGTGAAGGGCCGATTCACCATCTCCAGAGACAACGCCAAGAACACACTGTTTCTGCAGATGCCTGAGAGCTGAGGACACGGCCATGTATTCCTGTGCAGGGGA\n"
     ]
    },
    {
     "name": "stderr",
     "output_type": "stream",
     "text": [
      "/Users/jwillis/miniconda3/envs/bfx-bp-antibody/lib/python3.8/site-packages/Bio/Seq.py:2573: BiopythonWarning: Partial codon, len(sequence) not a multiple of three. Explicitly trim the sequence or add trailing N before translation. This may become an error in future.\n",
      "  warnings.warn(\"Partial codon, len(sequence) not a multiple of three. \"\n",
      "/Users/jwillis/miniconda3/envs/bfx-bp-antibody/lib/python3.8/site-packages/Bio/Seq.py:2573: BiopythonWarning: Partial codon, len(sequence) not a multiple of three. Explicitly trim the sequence or add trailing N before translation. This may become an error in future.\n",
      "  warnings.warn(\"Partial codon, len(sequence) not a multiple of three. \"\n",
      "/Users/jwillis/miniconda3/envs/bfx-bp-antibody/lib/python3.8/site-packages/Bio/Seq.py:2573: BiopythonWarning: Partial codon, len(sequence) not a multiple of three. Explicitly trim the sequence or add trailing N before translation. This may become an error in future.\n",
      "  warnings.warn(\"Partial codon, len(sequence) not a multiple of three. \"\n",
      "/Users/jwillis/miniconda3/envs/bfx-bp-antibody/lib/python3.8/site-packages/Bio/Seq.py:2573: BiopythonWarning: Partial codon, len(sequence) not a multiple of three. Explicitly trim the sequence or add trailing N before translation. This may become an error in future.\n",
      "  warnings.warn(\"Partial codon, len(sequence) not a multiple of three. \"\n"
     ]
    },
    {
     "name": "stdout",
     "output_type": "stream",
     "text": [
      "825|IGHV3-67*01|Canis_lupus_familiaris_boxer|F|V-REGION||98 AA|||||||||\n",
      "EVQLVESGG.DLVKPGGSLRLSCVASGFTF....SSYYMYWVRQAPGKGLQWVARISSD..GSSTYYADAVK.GRFTISRDNAKNTLYLQMNSLRAEDTAMYYCAK\n",
      "GAGGTGCAGCTGGTGGAGTCTGGGGGAGACCTGGTGAAGCCTGGGGGGTCCCTGAGACTGTCCTGTGTGGCCTCTGGATTCACCTTCAGTAGCTACTACATGTACTGGGTCCGCCAGGCTCCAGGGAAGGGGCTTCAGTGGGTCGCACGGATTAGCAGTGATGGAAGTAGCACATACTACGCAGACGCTGTGAAGGGCCGATTCACCATCTCCAGAGACAATGCCAAGAACACGCTGTATCTGCAGATGAACAGCCTGAGAGCCGAGGACACGGCTATGTATTACTGTGCAAAGGA\n",
      "827|IGHV3-69*01|Canis_lupus_familiaris_boxer|F|V-REGION||98 AA|||||||||\n",
      "EVQLVESGG.DLVKPGGSLRLSCVASGFTF....SSYAMSWVRQAPGKGLQWVAYINSG..GSSTYYADAVK.GRFTISRDNARNTLYLQMNSLRSEDTAVYYCPK\n",
      "GAGGTACAGCTGGTGGAGTCTGGGGGAGACCTGGTGAAGCCTGGGGGATCCCTGAGACTGTCCTGTGTGGCCTCTGGATTCACCTTCAGTAGCTATGCCATGAGCTGGGTCCGCCAGGCTCCAGGGAAGGGGCTGCAGTGGGTCGCATACATTAACAGTGGTGGAAGTAGCACATACTACGCAGATGCTGTGAAGGGCCGGTTCACCATCTCCAGAGACAATGCCAGGAACACACTGTATCTGCAGATGAACAGCCTGAGATCCGAGGACACAGCCGTGTATTACTGTCCGAAGGA\n",
      "830|IGHV3-7*01|Canis_lupus_familiaris_boxer|F|V-REGION||98 AA|||||||||\n",
      "EEQLVEFGG.HMVNPGGSLGLSCQASGFTF....SSYGMSWVRQAQKKGLQWVGHISYD..GSSTYYADTLR.DRFTISRDNTKNMLYLQMNSLRAEDTAVYYCMR\n",
      "GAGGAGCAACTGGTGGAGTTTGGAGGACACATGGTGAATCCTGGGGGTTCCCTGGGTCTCTCCTGTCAGGCCTCTGGATTCACCTTCAGTAGCTATGGCATGAGCTGGGTCCGCCAGGCTCAAAAGAAGGGGCTGCAGTGGGTCGGACATATTAGCTATGATGGAAGTAGTACATACTACGCAGACACTTTGAGGGACAGATTCACCATCTCCAGAGACAACACCAAGAACATGCTGTATCTGCAGATGAACAGCCTGAGAGCCGAGGACACAGCCGTGTATTACTGCATGAGGAA\n",
      "839|IGHV3-70*01|Canis_lupus_familiaris_boxer|F|V-REGION||98 AA|||||||||\n",
      "EVQLVESGG.DLVKPERSLRLSCVASGFTF....SSFYMSWFCQAPGKGLQCVAEISSS..GNSTSYADAVK.GRFTISRDNAKNTLYLRMHSLRAEDTAVYYCAR\n",
      "GAGGTGCAGCTGGTGGAGTCTGGAGGAGACCTTGTGAAGCCTGAGCGGTCCCTGAGACTCTCCTGTGTGGCCTCTGGATTCACCTTCAGTAGCTTCTACATGAGCTGGTTCTGCCAGGCTCCAGGGAAGGGGCTACAGTGTGTTGCAGAAATTAGCAGTAGTGGAAATAGCACAAGCTACGCAGACGCTGTGAAGGGCCGATTCACCATCTCCAGAGACAACGCCAAGAACACGCTGTATCTACGGATGCACAGCCTGAGAGCCGAGGACACGGCTGTATATTACTGTGCAAGGTA\n"
     ]
    },
    {
     "name": "stderr",
     "output_type": "stream",
     "text": [
      "/Users/jwillis/miniconda3/envs/bfx-bp-antibody/lib/python3.8/site-packages/Bio/Seq.py:2573: BiopythonWarning: Partial codon, len(sequence) not a multiple of three. Explicitly trim the sequence or add trailing N before translation. This may become an error in future.\n",
      "  warnings.warn(\"Partial codon, len(sequence) not a multiple of three. \"\n",
      "/Users/jwillis/miniconda3/envs/bfx-bp-antibody/lib/python3.8/site-packages/Bio/Seq.py:2573: BiopythonWarning: Partial codon, len(sequence) not a multiple of three. Explicitly trim the sequence or add trailing N before translation. This may become an error in future.\n",
      "  warnings.warn(\"Partial codon, len(sequence) not a multiple of three. \"\n",
      "/Users/jwillis/miniconda3/envs/bfx-bp-antibody/lib/python3.8/site-packages/Bio/Seq.py:2573: BiopythonWarning: Partial codon, len(sequence) not a multiple of three. Explicitly trim the sequence or add trailing N before translation. This may become an error in future.\n",
      "  warnings.warn(\"Partial codon, len(sequence) not a multiple of three. \"\n"
     ]
    },
    {
     "name": "stdout",
     "output_type": "stream",
     "text": [
      "840|IGHV3-71*01|Canis_lupus_familiaris_boxer|P|V-REGION||94 AA|||||||||\n",
      "EVKLVECGG.DLVKPGGSIRLSFVTSGFTF....RSYWMGCVSQAPGKGLQWVTWVNTG..GSSKSYADAMK.GRFTISRHKAKNTLS.......................AYEQPESRVLLCE*\n",
      "GAGGTGAAGCTGGTGGAGTGTGGGGGAGACCTGGTGAAGCCCGGGGGATCGATTAGACTCTCCTTTGTGACCTCTGGATTCACCTTCAGGAGCTATTGGATGGGCTGTGTCAGCCAGGCTCCAGGGAAGGGGCTGCAGTGGGTCACATGGGTTAATACTGGTGGAAGCAGCAAAAGCTATGCAGATGCTATGAAGGGGCGATTTACCATCTCCAGGCACAAAGCCAAGAACACACTATCTGCATATGAACAGCCTGAGAGCCGTGTATTATTGTGTGAGTGA\n",
      "845|IGHV3-72*01|Canis_lupus_familiaris_boxer|P|V-REGION||98 AA|||||||||\n",
      "EVQLVESGG.DLVKPGDSLRLSCVASGFTF....SSYAMSWVRQAPRKGLQWVGYISSD..GSST*YADAVK.GRFTISRDNAKNTLYLQMNSLRAEDTALYNCAR\n",
      "GAGGTGCAGCTGGTGGAGTCTGGCGGAGACCTGGTGAAGCCTGGGGATTCCCTGAGACTGTCCTGTGTGGCCTCTGGATTCACCTTCAGTAGCTATGCCATGAGCTGGGTCCGCCAGGCTCCTAGGAAGGGGCTGCAGTGGGTCGGATACATTAGCAGTGATGGAAGTAGCACATAATACGCAGACGCTGTGAAGGGCCGATTCACCATTTCCAGAGACAATGCCAAGAACACGCTGTATCTGCAGATGAACAGCCTGAGAGCTGAGGATACGGCCCTGTATAACTGTGCAAGGGA\n",
      "Did not detect anything in summary dataframe,[],[]\n",
      "having trouble with 848|IGHV3-73*01|Canis_lupus_familiaris_boxer|P|V-REGION||97 AA|||||||||-EVQLMESGGDLVKPGGSLRLSCVAPGFTFSNYDMSSVH*TPGKGCSVLHILAMMEVAQVTKTLCRADSPSPETTPRTRCIFR*TA*ELSTRPCITVQ\n",
      "848|IGHV3-73*01|Canis_lupus_familiaris_boxer|P|V-REGION||97 AA|||||||||\n",
      "EVQLVESGG.DLVKPGDSLRLSCVASGFTF....SSYAMSWVRQAPRKGLQWVGYISSD..GSST*YADAVK.GRFTISRDNAKNTLYLQMNSLRAEDTALYNCAR\n",
      "GAGGTGCAGCTGATGGAGTCTGGGGGAGACCTGGTGAAGCCTGGGGGGTCCCTGAGACTCTCCTGTGTGGCCCCTGGATTCACCTTCAGTAACTATGACATGAGCTCGGTCCATTAGACTCCAGGAAAGGGCTGCAGTGTATTGCATATATTAGCTATGATGGAAGTAGCACAGGTTACAAAGACGCTGTGCAGGGCCGATTCACCATCTCCAGAGACAACGCCAAGAACACGCTGTATCTTCAGATGAACAGCCTGAGAGCTGAGCACACGGCCCTGTATTACTGTGCAGA\n",
      "851|IGHV3-74*01|Canis_lupus_familiaris_boxer|P|V-REGION||98 AA|||||||||\n",
      "EVQLVESGG.DLVKPCGLLRLSCVASGFTF....SSYIMSWVRQAPGKWLQWVAYINSG..GSSTRYTDAVK.GRFTS.......................................PETTPRTCCICS*TA*EPRTPLCITVRG\n",
      "GAGGTGCAGCTGGTGGAGTCTGGGGGAGACTTGGTGAAGCCTTGTGGGCTCCTGAGACTCTCCTGTGTGGCTTCTGGATTCACCTTCAGTAGCTACATCATGAGCTGGGTCCGCCAGGCTCCAGGGAAGTGGCTGCAGTGGGTCGCATACATTAACAGTGGTGGAAGTAGCACAAGGTACACAGATGCTGTGAAGGGCCGATTCACCTCTCCAGAGACAACGCCAAGAACATGCTGTATCTGCAGTTGAACAGCCTGAGAGCCGAGGACACCGCTGTGTATTACTGTGCGAGGGA\n"
     ]
    },
    {
     "name": "stderr",
     "output_type": "stream",
     "text": [
      "/Users/jwillis/miniconda3/envs/bfx-bp-antibody/lib/python3.8/site-packages/Bio/Seq.py:2573: BiopythonWarning: Partial codon, len(sequence) not a multiple of three. Explicitly trim the sequence or add trailing N before translation. This may become an error in future.\n",
      "  warnings.warn(\"Partial codon, len(sequence) not a multiple of three. \"\n",
      "/Users/jwillis/miniconda3/envs/bfx-bp-antibody/lib/python3.8/site-packages/Bio/Seq.py:2573: BiopythonWarning: Partial codon, len(sequence) not a multiple of three. Explicitly trim the sequence or add trailing N before translation. This may become an error in future.\n",
      "  warnings.warn(\"Partial codon, len(sequence) not a multiple of three. \"\n",
      "/Users/jwillis/miniconda3/envs/bfx-bp-antibody/lib/python3.8/site-packages/Bio/Seq.py:2573: BiopythonWarning: Partial codon, len(sequence) not a multiple of three. Explicitly trim the sequence or add trailing N before translation. This may become an error in future.\n",
      "  warnings.warn(\"Partial codon, len(sequence) not a multiple of three. \"\n",
      "/Users/jwillis/miniconda3/envs/bfx-bp-antibody/lib/python3.8/site-packages/Bio/Seq.py:2573: BiopythonWarning: Partial codon, len(sequence) not a multiple of three. Explicitly trim the sequence or add trailing N before translation. This may become an error in future.\n",
      "  warnings.warn(\"Partial codon, len(sequence) not a multiple of three. \"\n"
     ]
    },
    {
     "name": "stdout",
     "output_type": "stream",
     "text": [
      "855|IGHV3-75*01|Canis_lupus_familiaris_boxer|F|V-REGION||97 AA|||||||||\n",
      "ELQLVELGG.DLVKPGGSLRLSCVASGFTF....SSYAMSWVCQAPGKGLQWVAAISSS..GSSTYHVDAVK.GRFTISRDNAKNTVYLQMNSLRAEDTAVYYCA\n",
      "GAATTGCAGCTGGTGGAGCTTGGGGGAGATCTGGTGAAGCCAGGGGGGTCCCTGAGACTCTCCTGTGTGGCCTCTGGATTCACCTTCAGTAGCTATGCCATGAGTTGGGTCTGCCAGGCTCCAGGGAAGGGGCTGCAGTGGGTTGCAGCTATTAGCAGTAGTGGAAGTAGCACATACCATGTAGACGCTGTGAAGGGCCGATTCACCATCTCCAGAGACAACGCCAAGAACACAGTGTATCTGCAGATGAACAGCCTGAGAGCCGAGGACACGGCCGTGTATTACTGTGCAGA\n",
      "856|IGHV3-76*01|Canis_lupus_familiaris_boxer|F|V-REGION||97 AA|||||||||\n",
      "EVPLVESGG.ELVKPEGSLRFSCVASGFTF....SSYWISWVRQAPGKGLHWVSVINKD..GSTTYHADAVK.GRFTISRDNAKNTLYLQMNSLRAEGTTVYYCA\n",
      "GAGGTGCCACTGGTGGAATCTGGGGGAGAGCTGGTGAAGCCTGAGGGGTCCCTGAGATTCTCCTGTGTAGCCTCTGGATTCACTTTCAGTAGTTACTGGATAAGCTGGGTCCGCCAAGCTCCAGGGAAAGGGCTGCACTGGGTCTCAGTAATTAACAAAGATGGAAGTACCACATACCACGCAGATGCTGTGAAGGGCCGATTCACCATCTCCAGAGACAATGCCAAGAACACGCTGTATCTGCAGATGAACAGCCTGAGAGCTGAGGGCACGACTGTGTATTACTGTGCACA\n",
      "858|IGHV3-78*01|Canis_lupus_familiaris_boxer|P|V-REGION||98 AA|||||||||\n",
      "EVQLVESGG.DLVKPEGSLRLSCVAAGFTF....SSYSMSWVRQAPGKGVQWVT*IYAS..GSSTSYTDAVK.GRFTISRDNAKNTVFLQMNSLRAENTAMYSCAR\n",
      "GAGGTGCAGCTGGTGGAGTCTGGGGGAGACCTTGTGAAGCCGGAGGGGTCCCTGAGACTCTCCTGTGTGGCCGCTGGATTCACCTTTAGTAGCTACAGCATGAGCTGGGTCCGCCAGGCTCCCGGGAAGGGGGTGCAGTGGGTCACATAGATTTATGCTAGTGGAAGTAGCACAAGCTACACAGATGCTGTGAAGGGCCGATTCACCATCTCCAGAGACAACGCCAAGAACACAGTGTTTCTGCAGATGAACAGCCTGAGAGCTGAGAACACGGCCATGTATTCCTGTGCAAGGGA\n",
      "859|IGHV3-79*01|Canis_lupus_familiaris_boxer|P|V-REGION||98 AA|||||||||\n",
      "..................TSLSCVASRFTF....SSYYIYCIHQAPGKGLQVVAWISYD..GSRTSYADAM*G..QFIISRENTKNTLY.L*MNSLSAKDTALYPCAR\n",
      "TGGGGAATTCCCTCTGGTGTGGCCTCTGGATTCACCTGCAGTAGCTCCCTCACCTCCCTCTCCTGTGTGGCCTCTAGATTCACCTTCAGTAGCTACTACATATACTGTATCCACCAAGCTCCAGGGAAGGGGCTGCAGGTGGTCGCATGGATTAGCTATGATGGAAGTAGAACAAGCTACGCCGACGCTATGTAGGGCCAATTCATCATCTCCAGAGAAAACACCAAGAACACGCTGTATCTGTAGATGAACAGCCTGAGTGCCAAGGACACGGCACTATATCCCTGTGCGAGGAA\n"
     ]
    },
    {
     "name": "stderr",
     "output_type": "stream",
     "text": [
      "/Users/jwillis/miniconda3/envs/bfx-bp-antibody/lib/python3.8/site-packages/Bio/Seq.py:2573: BiopythonWarning: Partial codon, len(sequence) not a multiple of three. Explicitly trim the sequence or add trailing N before translation. This may become an error in future.\n",
      "  warnings.warn(\"Partial codon, len(sequence) not a multiple of three. \"\n",
      "/Users/jwillis/miniconda3/envs/bfx-bp-antibody/lib/python3.8/site-packages/Bio/Seq.py:2573: BiopythonWarning: Partial codon, len(sequence) not a multiple of three. Explicitly trim the sequence or add trailing N before translation. This may become an error in future.\n",
      "  warnings.warn(\"Partial codon, len(sequence) not a multiple of three. \"\n",
      "/Users/jwillis/miniconda3/envs/bfx-bp-antibody/lib/python3.8/site-packages/Bio/Seq.py:2573: BiopythonWarning: Partial codon, len(sequence) not a multiple of three. Explicitly trim the sequence or add trailing N before translation. This may become an error in future.\n",
      "  warnings.warn(\"Partial codon, len(sequence) not a multiple of three. \"\n",
      "/Users/jwillis/miniconda3/envs/bfx-bp-antibody/lib/python3.8/site-packages/Bio/Seq.py:2573: BiopythonWarning: Partial codon, len(sequence) not a multiple of three. Explicitly trim the sequence or add trailing N before translation. This may become an error in future.\n",
      "  warnings.warn(\"Partial codon, len(sequence) not a multiple of three. \"\n"
     ]
    },
    {
     "name": "stdout",
     "output_type": "stream",
     "text": [
      "861|IGHV3-8*01|Canis_lupus_familiaris_boxer|F|V-REGION||98 AA|||||||||\n",
      "EVQLVESGG.DLVKPGGSLRLSCVASGFTF....SNYEMYWVRQAPGKGLEWVARIYES..GSTTYYAEAVK.GRFTISRDNAKNMAYLQMNSLRAEDTAVYYCAS\n",
      "GAGGTGCAGCTGGTGGAGTCTGGGGGAGACCTGGTGAAGCCTGGGGGGTCCCTGAGACTCTCCTGTGTGGCCTCTGGATTCACCTTCAGTAACTACGAAATGTACTGGGTCCGCCAGGCTCCAGGGAAAGGGCTGGAGTGGGTCGCAAGGATTTATGAGAGTGGAAGTACCACATACTATGCAGAAGCTGTAAAGGGCCGATTCACCATCTCCAGAGACAACGCCAAGAACATGGCGTATCTGCAGATGAACAGCCTGAGAGCCGAGGACACGGCCGTGTATTACTGTGCGAGTGA\n",
      "865|IGHV3-80*01|Canis_lupus_familiaris_boxer|F|V-REGION||98 AA|||||||||\n",
      "EVQLVESGG.DLVKPGGSLRLSCVASGFTF....SSYYMEWVRQAPGKGLQWVAQISSD..GSSTYYPDAVK.GQFTISRDNAKNTLYLQMNSLGAEDTAVYYCAK\n",
      "GAGGTGCAGCTGGTGGAGTCTGGGGGAGATCTGGTGAAGCCTGGGGGATCCCTGAGACTCTCTTGTGTGGCCTCTGGATTCACCTTCAGTAGCTACTACATGGAATGGGTCCGCCAGGCTCCAGGGAAGGGGCTGCAGTGGGTCGCACAGATTAGCAGTGATGGAAGTAGCACATACTACCCAGACGCTGTGAAGGGTCAATTCACCATCTCCAGAGACAATGCCAAGAACACGCTGTATCTGCAGATGAACAGCCTGGGAGCCGAGGACACGGCCGTGTATTACTGTGCAAAGGA\n",
      "866|IGHV3-81*01|Canis_lupus_familiaris_boxer|F|V-REGION||98 AA|||||||||\n",
      "EVQLVESGG.NLVKPGGSLRLSCVASGFTF....SSYYMDWVRQAPGKRLQWVAGISSD..GSSTYYPQAVK.GRFTISRDNAKNTLYLQMNSLRAEDSAVYYCAM\n",
      "GAGGTGCAGCTGGTGGAGTCTGGAGGAAACCTGGTGAAGCCTGGGGGGTCCCTGAGACTCTCTTGTGTGGCCTCTGGATTCACCTTCAGTAGCTACTACATGGACTGGGTCCGCCAGGCTCCAGGGAAGAGGCTGCAGTGGGTCGCAGGGATTAGCAGTGATGGAAGTAGCACATACTACCCACAGGCTGTGAAGGGCCGATTCACCATCTCCAGAGACAACGCCAAGAACACGCTCTATCTGCAGATGAACAGCCTGAGAGCCGAGGACTCTGCTGTGTATTACTGTGCGATGGA\n",
      "867|IGHV3-82*01|Canis_lupus_familiaris_boxer|F|V-REGION||98 AA|||||||||\n",
      "EVQLVESGG.DLVKSGGSLRLSCVASGFTF....SSYYMHWVRQATGKGLQWVTRISND..GSSTRYADAMK.GQFTISRDNSKNTLYLQMNSQRAEDMALYYCAR\n",
      "GAGGTGCAGCTGGTGGAGTCTGGAGGAGACCTGGTGAAGTCTGGGGGGTCCCTGAGACTCTCTTGTGTGGCCTCTGGATTCACCTTCAGTAGCTACTACATGCACTGGGTCCGCCAGGCTACAGGGAAGGGGCTGCAGTGGGTCACAAGGATTAGCAATGATGGAAGTAGCACAAGGTACGCAGACGCCATGAAGGGCCAATTTACCATCTCCAGAGACAATTCCAAGAATACGCTGTATCTGCAGATGAACAGCCAGAGAGCCGAGGACATGGCCCTATATTACTGTGCAAGGGA\n"
     ]
    },
    {
     "name": "stderr",
     "output_type": "stream",
     "text": [
      "/Users/jwillis/miniconda3/envs/bfx-bp-antibody/lib/python3.8/site-packages/Bio/Seq.py:2573: BiopythonWarning: Partial codon, len(sequence) not a multiple of three. Explicitly trim the sequence or add trailing N before translation. This may become an error in future.\n",
      "  warnings.warn(\"Partial codon, len(sequence) not a multiple of three. \"\n",
      "/Users/jwillis/miniconda3/envs/bfx-bp-antibody/lib/python3.8/site-packages/Bio/Seq.py:2573: BiopythonWarning: Partial codon, len(sequence) not a multiple of three. Explicitly trim the sequence or add trailing N before translation. This may become an error in future.\n",
      "  warnings.warn(\"Partial codon, len(sequence) not a multiple of three. \"\n",
      "/Users/jwillis/miniconda3/envs/bfx-bp-antibody/lib/python3.8/site-packages/Bio/Seq.py:2573: BiopythonWarning: Partial codon, len(sequence) not a multiple of three. Explicitly trim the sequence or add trailing N before translation. This may become an error in future.\n",
      "  warnings.warn(\"Partial codon, len(sequence) not a multiple of three. \"\n"
     ]
    },
    {
     "name": "stdout",
     "output_type": "stream",
     "text": [
      "868|IGHV3-83*01|Canis_lupus_familiaris_boxer|P|V-REGION||99 AA|||||||||\n",
      "ELQLVESGG.DLVKPGGSLRLSCVSSGFTF....SSYWMHWVLQAPGKGLEWVAIINSG..GGSIYYADTVK.GRFTISRENAKNTLYLQMNSLRAEDRAMHYCAKG\n",
      "GAGTTGCAGCTGGTAGAGTCTGGGGGAGACCTGGTGAAGCCTGGGGGGTCTCTGAGACTTTCTTGTGTGTCCTCTGGATTCACCTTCAGTAGCTACTGGATGCACTGGGTCCTCCAGGCTCCAGGGAAAGGGCTGGAGTGGGTCGCAATTATTAACAGTGGTGGAGGTAGCATATACTACGCAGACACAGTGAAGGGCCGATTCACCATCTCCAGAGAAAACGCCAAGAACACGCTCTATCTGCAGATGAACAGCCTGAGAGCTGAGGACAGGGCCATGCATTACTGTGCGAAGGGA\n",
      "869|IGHV3-9*01|Canis_lupus_familiaris_boxer|F|V-REGION||98 AA|||||||||\n",
      "EVQLVESGG.DLVKPGGSLRLSCVASGFTF....SSYDMDWVRQAPGKGLQWLSEISSS..GSSTYYADAVK.GRFTISRDNAKNTLYLQMNSLRAEDTAVYYCAR\n",
      "GAGGTGCAGCTGGTGGAGTCTGGAGGAGACCTGGTGAAGCCTGGGGGGTCCCTGAGACTTTCCTGTGTGGCCTCTGGATTCACCTTCAGTAGCTATGACATGGACTGGGTCCGCCAGGCTCCAGGGAAGGGGCTGCAGTGGCTCTCAGAAATTAGCAGTAGTGGAAGTAGCACATACTACGCAGACGCTGTGAAGGGCCGATTCACCATCTCCAGAGACAACGCCAAGAACACGCTGTATCTGCAGATGAACAGCCTGAGAGCCGAGGACACGGCCGTGTATTACTGTGCAAGGGA\n",
      "979|IGHV4-1*01|Canis_lupus_familiaris_boxer|F|V-REGION||96 AA|||||||||\n",
      "ELTLQESGP.GLVKPSQTLSLTCVVSGGSVT...SSYYWNWIRQRPGRGLEWMGYWTG.....STNYNPAFQ.GRISITADTAKNQFSLQLSSMTTEDTAVYYCAR\n",
      "GAACTCACACTGCAGGAGTCAGGGCCAGGACTGGTGAAGCCCTCACAGACCCTCTCTCTCACCTGTGTTGTGTCCGGAGGCTCCGTCACCAGCAGTTACTACTGGAACTGGATCCGCCAGCGCCCTGGGAGGGGACTGGAATGGATGGGGTACTGGACAGGTAGCACAAACTACAACCCGGCATTCCAGGGACGCATCTCCATCACTGCTGACACGGCCAAGAACCAGTTCTCCCTGCAGCTGAGCTCCATGACCACCGAGGACACGGCCGTGTATTACTGTGCAAGAGA\n",
      "1538|IGKV2-10*01|Canis_lupus_familiaris_boxer|F|V-REGION||100 AA|||||||||\n",
      "DIVMTQTPLSLSVSPGETASISCKASQSLLHS.DGNTYLNWFRQKPGQSPQRLIYKV.......SNRDPGVP.DRFSGSG..SGTDFTLRISRVEADDTGVYYCMQGTQFP\n",
      "GATATTGTCATGACACAGACCCCACTGTCCCTGTCCGTCAGCCCTGGAGAGACTGCCTCCATCTCCTGCAAGGCCAGTCAGAGCCTCCTGCACAGTGATGGAAACACGTATTTGAATTGGTTCCGACAGAAGCCAGGCCAGTCTCCACAGCGTTTGATCTATAAGGTCTCCAACAGAGACCCTGGGGTCCCAGACAGGTTCAGTGGCAGCGGGTCAGGGACAGATTTCACCCTGAGAATCAGCAGAGTGGAGGCTGACGATACTGGAGTTTATTACTGCATGCAAGGTACACAGTTTCCTCG\n"
     ]
    },
    {
     "name": "stderr",
     "output_type": "stream",
     "text": [
      "/Users/jwillis/miniconda3/envs/bfx-bp-antibody/lib/python3.8/site-packages/Bio/Seq.py:2573: BiopythonWarning: Partial codon, len(sequence) not a multiple of three. Explicitly trim the sequence or add trailing N before translation. This may become an error in future.\n",
      "  warnings.warn(\"Partial codon, len(sequence) not a multiple of three. \"\n",
      "/Users/jwillis/miniconda3/envs/bfx-bp-antibody/lib/python3.8/site-packages/Bio/Seq.py:2573: BiopythonWarning: Partial codon, len(sequence) not a multiple of three. Explicitly trim the sequence or add trailing N before translation. This may become an error in future.\n",
      "  warnings.warn(\"Partial codon, len(sequence) not a multiple of three. \"\n",
      "/Users/jwillis/miniconda3/envs/bfx-bp-antibody/lib/python3.8/site-packages/Bio/Seq.py:2573: BiopythonWarning: Partial codon, len(sequence) not a multiple of three. Explicitly trim the sequence or add trailing N before translation. This may become an error in future.\n",
      "  warnings.warn(\"Partial codon, len(sequence) not a multiple of three. \"\n",
      "/Users/jwillis/miniconda3/envs/bfx-bp-antibody/lib/python3.8/site-packages/Bio/Seq.py:2573: BiopythonWarning: Partial codon, len(sequence) not a multiple of three. Explicitly trim the sequence or add trailing N before translation. This may become an error in future.\n",
      "  warnings.warn(\"Partial codon, len(sequence) not a multiple of three. \"\n"
     ]
    },
    {
     "name": "stdout",
     "output_type": "stream",
     "text": [
      "1545|IGKV2-11*01|Canis_lupus_familiaris_boxer|F|V-REGION||100 AA|||||||||\n",
      "DIVMTQTPLSLSVSPGETASISCKASQSLLHS.NGNTYLFWFRQKPGQSPQRLINLV.......SNRDPGVP.HRFSGSG..SGTDFTLRISRVEADDAGVYYCGQGIQAP\n",
      "GATATCGTCATGACACAGACCCCACTGTCCCTGTCCGTCAGCCCTGGAGAGACTGCCTCCATCTCCTGCAAGGCCAGTCAGAGCCTCCTGCACAGTAACGGGAACACCTATTTGTTTTGGTTCCGACAGAAGCCAGGCCAGTCTCCACAGCGCCTGATCAACTTGGTTTCCAACAGAGACCCTGGGGTCCCACACAGGTTCAGTGGCAGCGGGTCAGGGACAGATTTCACCCTGAGAATCAGCAGAGTGGAGGCTGACGATGCTGGAGTTTATTACTGCGGGCAAGGTATACAAGCTCCTCC\n",
      "1570|IGKV2-4*01|Canis_lupus_familiaris_boxer|F|V-REGION||100 AA|||||||||\n",
      "DIVMTQTPPSLSVSPRETASISCKASQSLLHS.DGNTYLDWYLQKPGQSPQLLIYLV.......SNRFTGVS.DRFSGSG..SGTDFTLRISRVEANDTGVYYCGQGTQLP\n",
      "GATATTGTCATGACACAGACGCCACCGTCCCTGTCTGTCAGCCCTAGAGAGACGGCCTCCATCTCCTGCAAGGCCAGTCAGAGCCTCCTGCACAGTGATGGAAACACCTATTTGGATTGGTACCTGCAAAAGCCAGGCCAGTCTCCACAGCTTCTGATCTACTTGGTTTCCAACCGCTTCACTGGCGTGTCAGACAGGTTCAGTGGCAGCGGGTCAGGGACAGATTTCACCCTGAGAATCAGCAGAGTGGAGGCTAACGATACTGGAGTTTATTACTGCGGGCAAGGTACACAGCTTCCTCC\n",
      "1575|IGKV2-5*01|Canis_lupus_familiaris_boxer|F|V-REGION||100 AA|||||||||\n",
      "DIVMTQTPLSLSVSPGEPASISCKASQSLLHS.NGNTYLYWFRQKPGQSPQRLIYKV.......SNRDPGVP.DRFSGSG..SGTDFTLRISRVEADDAGVYYCGQGIQDP\n",
      "GATATTGTCATGACACAGACCCCACTGTCCCTGTCCGTCAGCCCTGGAGAGCCGGCCTCCATCTCCTGCAAGGCCAGTCAGAGCCTCCTGCACAGTAATGGGAACACCTATTTGTATTGGTTCCGACAGAAGCCAGGCCAGTCTCCACAGCGTTTGATCTATAAGGTCTCCAACAGAGACCCTGGGGTCCCAGACAGGTTCAGTGGCAGCGGGTCAGGGACAGATTTCACCCTGAGAATCAGCAGAGTGGAGGCTGATGATGCTGGAGTTTATTACTGCGGGCAAGGTATACAAGATCCTCC\n"
     ]
    },
    {
     "name": "stderr",
     "output_type": "stream",
     "text": [
      "/Users/jwillis/miniconda3/envs/bfx-bp-antibody/lib/python3.8/site-packages/Bio/Seq.py:2573: BiopythonWarning: Partial codon, len(sequence) not a multiple of three. Explicitly trim the sequence or add trailing N before translation. This may become an error in future.\n",
      "  warnings.warn(\"Partial codon, len(sequence) not a multiple of three. \"\n",
      "/Users/jwillis/miniconda3/envs/bfx-bp-antibody/lib/python3.8/site-packages/Bio/Seq.py:2573: BiopythonWarning: Partial codon, len(sequence) not a multiple of three. Explicitly trim the sequence or add trailing N before translation. This may become an error in future.\n",
      "  warnings.warn(\"Partial codon, len(sequence) not a multiple of three. \"\n",
      "/Users/jwillis/miniconda3/envs/bfx-bp-antibody/lib/python3.8/site-packages/Bio/Seq.py:2573: BiopythonWarning: Partial codon, len(sequence) not a multiple of three. Explicitly trim the sequence or add trailing N before translation. This may become an error in future.\n",
      "  warnings.warn(\"Partial codon, len(sequence) not a multiple of three. \"\n"
     ]
    },
    {
     "name": "stdout",
     "output_type": "stream",
     "text": [
      "1577|IGKV2-6*01|Canis_lupus_familiaris_boxer|F|V-REGION||100 AA|||||||||\n",
      "DIVMTQTPLSLSVSPGETASISCKASQSLLHS.DGNTYLNWFRQKPGQSPQRLIYKV.......SNRDPGVP.DRFSGSG..SGTDFTLRISRVEADDTGVYYCGQGIQDP\n",
      "GATATTGTCATGACACAGACCCCACTGTCCCTGTCTGTCAGCCCTGGAGAGACTGCCTCCATCTCCTGCAAGGCCAGTCAGAGCCTCCTGCACAGTGATGGAAACACGTATTTGAACTGGTTCCGACAGAAGCCAGGCCAGTCTCCACAGCGTTTAATCTATAAGGTCTCCAACAGAGACCCTGGGGTCCCAGACAGGTTCAGTGGCAGCGGGTCAGGGACAGATTTCACCCTGAGAATCAGCAGAGTGGAGGCTGACGATACTGGAGTTTATTACTGCGGGCAAGGTATACAAGATCCTCC\n",
      "1578|IGKV2-7*01|Canis_lupus_familiaris_boxer|F|V-REGION||100 AA|||||||||\n",
      "DIVMTQNPLSLSVSPGETASISCKASQSLLHS.NGNTYLNWFRQKPGQSPQGLIYKV.......SNRDPGVP.DRFSGSG..SGTDFTLRISRVEADDAGVYYCMQGIQAP\n",
      "GATATTGTCATGACACAGAACCCACTGTCCCTGTCCGTCAGCCCTGGAGAGACGGCCTCCATCTCCTGCAAGGCCAGTCAGAGCCTCCTGCACAGTAACGGGAACACCTATTTGAATTGGTTCCGACAGAAGCCAGGCCAGTCTCCACAGGGCCTGATCTATAAGGTCTCCAACAGAGACCCTGGGGTCCCAGACAGGTTCAGTGGCAGCGGGTCAGGGACAGATTTCACCCTGAGAATCAGCAGAGTGGAGGCTGACGATGCTGGAGTTTATTACTGCATGCAAGGTATACAAGCTCCTCC\n",
      "1579|IGKV2-8*01|Canis_lupus_familiaris_boxer|F|V-REGION||100 AA|||||||||\n",
      "DIVMTQTPPSLSVSPGEPASISCKASQSLLHS.NGNTYLNWFRQKPGQSPQGLIYRV.......SNRSTGVS.DRFSGSG..SGTDFTLRISRVEADDAGVYYCGQGIQDP\n",
      "GATATTGTCATGACACAGACCCCACCGTCCCTGTCCGTCAGCCCTGGAGAGCCGGCCTCCATCTCCTGCAAGGCCAGTCAGAGCCTCCTGCACAGTAACGGGAACACCTATTTGAATTGGTTCCGACAGAAGCCAGGCCAGTCTCCACAGGGCCTGATCTATAGGGTGTCCAACCGCTCCACTGGCGTGTCAGACAGGTTCAGTGGCAGCGGGTCAGGGACAGATTTCACCCTGAGAATCAGCAGAGTGGAGGCTGACGATGCTGGAGTTTATTACTGCGGGCAAGGTATACAAGATCCTCC\n"
     ]
    },
    {
     "name": "stderr",
     "output_type": "stream",
     "text": [
      "/Users/jwillis/miniconda3/envs/bfx-bp-antibody/lib/python3.8/site-packages/Bio/Seq.py:2573: BiopythonWarning: Partial codon, len(sequence) not a multiple of three. Explicitly trim the sequence or add trailing N before translation. This may become an error in future.\n",
      "  warnings.warn(\"Partial codon, len(sequence) not a multiple of three. \"\n",
      "/Users/jwillis/miniconda3/envs/bfx-bp-antibody/lib/python3.8/site-packages/Bio/Seq.py:2573: BiopythonWarning: Partial codon, len(sequence) not a multiple of three. Explicitly trim the sequence or add trailing N before translation. This may become an error in future.\n",
      "  warnings.warn(\"Partial codon, len(sequence) not a multiple of three. \"\n",
      "/Users/jwillis/miniconda3/envs/bfx-bp-antibody/lib/python3.8/site-packages/Bio/Seq.py:2573: BiopythonWarning: Partial codon, len(sequence) not a multiple of three. Explicitly trim the sequence or add trailing N before translation. This may become an error in future.\n",
      "  warnings.warn(\"Partial codon, len(sequence) not a multiple of three. \"\n"
     ]
    },
    {
     "name": "stdout",
     "output_type": "stream",
     "text": [
      "1580|IGKV2-9*01|Canis_lupus_familiaris_boxer|F|V-REGION||100 AA|||||||||\n",
      "DIVMTQTPLSLSVSPGETASISCKASQSLLHS.DGNTYLNWFRQKPGQSPQRLIYKV.......SNRDPGVP.DRFSGSG..SGTDFTLRISRVEADDTGVYYCGQVIQDP\n",
      "GATATTGTCATGACACAGACCCCACTGTCCCTGTCTGTCAGCCCTGGAGAGACTGCCTCCATCTCTTGCAAGGCCAGTCAGAGCCTCCTGCACAGTGATGGAAACACGTATTTGAATTGGTTCCGACAGAAGCCAGGCCAGTCTCCACAGCGTTTGATCTATAAGGTCTCCAACAGAGACCCTGGGGTCCCAGACAGGTTCAGTGGCAGCGGGTCAGGGACAGATTTCACCCTGAGAATCAGCAGAGTGGAGGCTGACGATACTGGAGTTTATTACTGCGGGCAAGTTATACAAGATCCTCC\n",
      "Did not detect anything in summary dataframe,[],[]\n",
      "having trouble with 1609|IGKV2S12*01|Canis_lupus_familiaris_boxer|P|V-REGION||101 AA|||||||||-DIVMTQTPLSLPVTPGELASSLCRRPVRASCTVMDIFI*IGTFRNQASLHTLDLYALQPDFWSPRLVHWQWIRDRFHPEDQQGGG*RCWSLLLPTNSTKSS\n",
      "1609|IGKV2S12*01|Canis_lupus_familiaris_boxer|P|V-REGION||101 AA|||||||||\n",
      "DIVMTQTPLSLSVSPGETASISCKASQSLLHS.DGNTYLNWFRQKPGQSPQRLIYKV.......SNRDPGVP.DRFSGSG..SGTDFTLRISRVEADDTGVYYCGQVIQDP\n",
      "GATATCGTGATGACCCAGACCCCATTGTCCTTGCCTGTCACCCCTGGAGAGCTAGCCTCATCACTGTGCAGGAGGCCAGTCAGAGCCTCCTGCACAGTGATGGATATATTTATTTGAATTGGTACTTTCAGAAATCAGGCCAGTCTCCATACTCTTGATCTATATGCTTTACAACCAGACTTCTGGAGTCCCAGGCTGGTTCATTGGCAGTGGATCAGGGACAGATTTCACCCTGAGGATCAGCAGGGTGGAGGCTGAAGATGCTGGAGTTTATTATTGCCAACAAACTCTACAAAATCCTCC\n",
      "1610|IGKV2S13*01|Canis_lupus_familiaris_boxer|F|V-REGION||100 AA|||||||||\n",
      "DIVMTQTPLSLSVSPGEPASISCRASQSLLHS.NGNTYLYWFRQKPGQSPQGLIYLV.......SNRFSWVP.DRFSGSG..SGTDFTLRISRVEADDAGVYYCGQNLQFP\n",
      "GATATCGTCATGACGCAGACCCCACTGTCCCTGTCTGTCAGCCCTGGAGAGCCGGCCTCCATCTCCTGCAGGGCCAGTCAGAGCCTCCTGCACAGTAATGGGAACACCTATTTGTATTGGTTCCGACAGAAGCCAGGCCAGTCTCCACAGGGCCTGATCTACTTGGTTTCCAACCGTTTCTCTTGGGTCCCAGACAGGTTCAGTGGCAGCGGGTCAGGGACAGATTTCACCCTGAGAATCAGCAGAGTGGAGGCTGACGATGCTGGAGTTTATTACTGCGGGCAAAATTTACAGTTTCCTTC\n",
      "1611|IGKV2S14*01|Canis_lupus_familiaris_boxer|P|V-REGION||100 AA|||||||||\n",
      "EVVMIQTPLSLSVSPGEPASISCRASQSLRHS.NGNTYLYWYLQKPGQSPQLLIDLV.......SNHFTGVS.DRFSGSG..SGTDFTLRISRVEAEDVGVYYCMQSTHDP\n",
      "GAGGTTGTGATGATACAGACCCCACTGTCCCTGTCTGTCAGCCCTGGAGAGCCGGCCTCCATCTCCTGCAGGGCCAGTCAGAGTCTCCGGCACAGTAATGGAAACACCTATTTGTATTGGTACCTGCAAAAGCCAGGCCAGTCTCCACAGCTTCTGATCGACTTGGTTTCCAACCATTTCACTGGGGTGTCAGACAGGTTCAGTGGCAGCGGGTCTGGCACAGATTTTACCCTGAGGATCAGCAGGGTGGAGGCTGAGGATGTTGGAGTTTATTACTGCATGCAAAGTACACATGATCCTCC\n",
      "Did not detect anything in summary dataframe,[],[]\n",
      "having trouble with 1612|IGKV2S15*01|Canis_lupus_familiaris_Canis_lupus_familiaris_boxer|P|V-REGION||99 AA|||||||||-DIMMTQTPLSLPATPGELAAIFCRARVSCTIMETLIYTGSCRHQARFQGI*TIWLPAVTLGSQTGSVATGQGQISH*KSAEWRLRMLVFISACKYTTFH\n"
     ]
    },
    {
     "name": "stderr",
     "output_type": "stream",
     "text": [
      "/Users/jwillis/miniconda3/envs/bfx-bp-antibody/lib/python3.8/site-packages/Bio/Seq.py:2573: BiopythonWarning: Partial codon, len(sequence) not a multiple of three. Explicitly trim the sequence or add trailing N before translation. This may become an error in future.\n",
      "  warnings.warn(\"Partial codon, len(sequence) not a multiple of three. \"\n",
      "/Users/jwillis/miniconda3/envs/bfx-bp-antibody/lib/python3.8/site-packages/Bio/Seq.py:2573: BiopythonWarning: Partial codon, len(sequence) not a multiple of three. Explicitly trim the sequence or add trailing N before translation. This may become an error in future.\n",
      "  warnings.warn(\"Partial codon, len(sequence) not a multiple of three. \"\n",
      "/Users/jwillis/miniconda3/envs/bfx-bp-antibody/lib/python3.8/site-packages/Bio/Seq.py:2573: BiopythonWarning: Partial codon, len(sequence) not a multiple of three. Explicitly trim the sequence or add trailing N before translation. This may become an error in future.\n",
      "  warnings.warn(\"Partial codon, len(sequence) not a multiple of three. \"\n",
      "/Users/jwillis/miniconda3/envs/bfx-bp-antibody/lib/python3.8/site-packages/Bio/Seq.py:2573: BiopythonWarning: Partial codon, len(sequence) not a multiple of three. Explicitly trim the sequence or add trailing N before translation. This may become an error in future.\n",
      "  warnings.warn(\"Partial codon, len(sequence) not a multiple of three. \"\n"
     ]
    },
    {
     "name": "stdout",
     "output_type": "stream",
     "text": [
      "1612|IGKV2S15*01|Canis_lupus_familiaris_Canis_lupus_familiaris_boxer|P|V-REGION||99 AA|||||||||\n",
      "EVVMIQTPLSLSVSPGEPASISCRASQSLRHS.NGNTYLYWYLQKPGQSPQLLIDLV.......SNHFTGVS.DRFSGSG..SGTDFTLRISRVEAEDVGVYYCMQSTHDP\n",
      "GATATCATGATGACACAGACCCCACTCTCCCTGCCTGCCACCCCTGGGGAATTGGCTGCCATCTTCTGCAGGGCCAGAGTCTCCTGCACAATAATGGAAACACTTATTTACACTGGTTCCTGCAGACATCAGGCCAGGTTCCAAGGCATCTGAACCATTTGGCTTCCAGCTGTTACTCTGGGGTCTCAGACAGGTTCAGTGGCAACGGGTCAGGGACAGATTTCACACTGAAAATCAGCAGAGTGGAGGCTGAGGATGTTAGTGTTTATTAGTGCCTGCAAGTACACAACCTTCCATC\n",
      "1613|IGKV2S16*01|Canis_lupus_familiaris_boxer|F|V-REGION||100 AA|||||||||\n",
      "EAVMTQTPLSLAVTPGELATISCRASQSLLRS.DGKSYLNWYLQKPGQTPRPLIYEA.......SKRFSGVS.DRFSGSG..SGTDFTLKISRVEAEDVGVYYCQQSLHFP\n",
      "GAGGCCGTGATGACGCAGACCCCACTGTCCCTGGCCGTCACCCCTGGAGAGCTGGCCACTATCTCCTGCAGGGCCAGTCAGAGTCTCCTGCGCAGTGATGGAAAATCCTATTTGAATTGGTACCTGCAGAAGCCAGGCCAGACTCCTCGGCCGCTGATTTATGAGGCTTCCAAGCGTTTCTCTGGGGTCTCAGACAGGTTCAGTGGCAGCGGGTCAGGGACAGATTTCACCCTTAAAATCAGCAGGGTGGAGGCTGAGGATGTTGGAGTTTATTACTGCCAGCAAAGTCTACATTTTCCTCC\n",
      "1614|IGKV2S18*01|Canis_lupus_familiaris_boxer|P|V-REGION||100 AA|||||||||\n",
      "DIVMTQTPLSVSVSPGETASISCRASQSLLHS.DGNTYLDWYLQKPGQIPKDLIYRV.......SNCFTGVS.DRFSGSG..SGTDFTLRISRVEADNAGVYYCMQGIQDP\n",
      "GATATCGTCATGACACAGACCCCACTGTCCGTGTCTGTCAGCCCTGGAGAGACGGCCTCCATCTCCTGCAGGGCCAGTCAGAGCCTCCTGCACAGTGATGGAAACACCTATTTGGATTGGTACCTGCAGAAGCCAGGCCAGATTCCAAAGGACCTGATCTATAGGGTGTCCAACTGCTTCACTGGGGTGTCAGACAGGTTCAGTGGCAGCGGGTCAGGGACAGATTTCACCCTGAGAATCAGCAGAGTGGAGGCTGACAACGCTGGAGTTTATTACTGCATGCAAGGTATACAAGATCCTCC\n"
     ]
    },
    {
     "name": "stderr",
     "output_type": "stream",
     "text": [
      "/Users/jwillis/miniconda3/envs/bfx-bp-antibody/lib/python3.8/site-packages/Bio/Seq.py:2573: BiopythonWarning: Partial codon, len(sequence) not a multiple of three. Explicitly trim the sequence or add trailing N before translation. This may become an error in future.\n",
      "  warnings.warn(\"Partial codon, len(sequence) not a multiple of three. \"\n",
      "/Users/jwillis/miniconda3/envs/bfx-bp-antibody/lib/python3.8/site-packages/Bio/Seq.py:2573: BiopythonWarning: Partial codon, len(sequence) not a multiple of three. Explicitly trim the sequence or add trailing N before translation. This may become an error in future.\n",
      "  warnings.warn(\"Partial codon, len(sequence) not a multiple of three. \"\n",
      "/Users/jwillis/miniconda3/envs/bfx-bp-antibody/lib/python3.8/site-packages/Bio/Seq.py:2573: BiopythonWarning: Partial codon, len(sequence) not a multiple of three. Explicitly trim the sequence or add trailing N before translation. This may become an error in future.\n",
      "  warnings.warn(\"Partial codon, len(sequence) not a multiple of three. \"\n"
     ]
    },
    {
     "name": "stdout",
     "output_type": "stream",
     "text": [
      "1615|IGKV2S19*01|Canis_lupus_familiaris_boxer|F|V-REGION||100 AA|||||||||\n",
      "DIVMTQTPLSLSVSPGETASISCRANQSLLHS.NGNTYLDWYMQKPGQSPQGLIYRV.......SNHFTGVS.DRFSGSG..SGTDFTLKISRVEADDAGVYYCGQGTHSP\n",
      "GATATCGTCATGACACAGACTCCACTGTCCCTGTCTGTCAGCCCTGGAGAGACGGCCTCCATCTCCTGCAGGGCCAATCAGAGCCTCCTGCACAGTAATGGGAACACCTATTTGGATTGGTACATGCAGAAGCCAGGCCAGTCTCCACAGGGCCTGATCTATAGGGTGTCCAACCACTTCACTGGCGTGTCAGACAGGTTCAGTGGCAGCGGGTCAGGGACAGATTTCACCCTGAAGATCAGCAGAGTGGAGGCTGACGATGCTGGAGTTTATTACTGCGGGCAAGGTACACACTCTCCTCC\n",
      "1658|IGKV3S1*01|Canis_lupus_familiaris_boxer|F|V-REGION||95 AA|||||||||\n",
      "EIVMTQSPASLSLSQEEKVTITCRASQSV......SSYLAWYQQKPGQAPKLLIYGT.......SNRATGVP.SRFSGSG..SGTDFSFTISSLEPEDVAVYYCQQYNSGY\n",
      "GAAATCGTGATGACACAGTCTCCAGCCTCCCTCTCCTTGTCTCAGGAGGAAAAAGTCACCATCACCTGCCGGGCCAGTCAGAGTGTTAGCAGCTACTTAGCCTGGTACCAGCAAAAACCTGGGCAGGCTCCCAAGCTCCTCATCTATGGTACATCCAACAGGGCCACTGGTGTCCCATCCCGGTTCAGTGGCAGTGGGTCTGGGACAGACTTCAGCTTCACCATCAGCAGCCTGGAGCCTGAAGATGTTGCAGTTTATTACTGTCAGCAGTATAATAGCGGATATA\n",
      "1660|IGKV4-1*01|Canis_lupus_familiaris_boxer|ORF|V-REGION||95 AA|||||||||\n",
      "DITMTQCPGSLAVSPGQQVTTNCRASQSV......SGYLAWYLQKPGQRPKLLIYLA.......SSWASGVP.ARFSSSG..SGTDFTLTVNNLEAEDVRDYYCQQHYSSP\n",
      "GACATCACGATGACTCAGTGTCCAGGCTCCCTGGCTGTGTCTCCAGGTCAGCAGGTCACCACGAACTGCAGGGCCAGTCAAAGCGTTAGTGGCTACTTAGCCTGGTACCTGCAGAAACCAGGACAGCGTCCTAAGCTGCTCATCTACTTAGCCTCCAGCTGGGCATCTGGGGTCCCTGCCCGATTCAGCAGCAGTGGATCTGGGACAGATTTCACCCTCACCGTCAACAACCTCGAGGCTGAAGATGTGAGGGATTATTACTGTCAGCAGCATTATAGTTCTCCTCT\n"
     ]
    },
    {
     "name": "stderr",
     "output_type": "stream",
     "text": [
      "/Users/jwillis/miniconda3/envs/bfx-bp-antibody/lib/python3.8/site-packages/Bio/Seq.py:2573: BiopythonWarning: Partial codon, len(sequence) not a multiple of three. Explicitly trim the sequence or add trailing N before translation. This may become an error in future.\n",
      "  warnings.warn(\"Partial codon, len(sequence) not a multiple of three. \"\n",
      "/Users/jwillis/miniconda3/envs/bfx-bp-antibody/lib/python3.8/site-packages/Bio/Seq.py:2573: BiopythonWarning: Partial codon, len(sequence) not a multiple of three. Explicitly trim the sequence or add trailing N before translation. This may become an error in future.\n",
      "  warnings.warn(\"Partial codon, len(sequence) not a multiple of three. \"\n",
      "/Users/jwillis/miniconda3/envs/bfx-bp-antibody/lib/python3.8/site-packages/Bio/Seq.py:2573: BiopythonWarning: Partial codon, len(sequence) not a multiple of three. Explicitly trim the sequence or add trailing N before translation. This may become an error in future.\n",
      "  warnings.warn(\"Partial codon, len(sequence) not a multiple of three. \"\n",
      "/Users/jwillis/miniconda3/envs/bfx-bp-antibody/lib/python3.8/site-packages/Bio/Seq.py:2573: BiopythonWarning: Partial codon, len(sequence) not a multiple of three. Explicitly trim the sequence or add trailing N before translation. This may become an error in future.\n",
      "  warnings.warn(\"Partial codon, len(sequence) not a multiple of three. \"\n"
     ]
    },
    {
     "name": "stdout",
     "output_type": "stream",
     "text": [
      "1698|IGKV4S1*01|Canis_lupus_familiaris_boxer|F|V-REGION||101 AA|||||||||\n",
      "EIVMTQSPGSLAGSAGESVSINCKSSQSLLYSFNQKNYLAWYQQKPGERPKLLIYLA.......SSWASGVP.ARFSSSG..SGTDFTLTINNLQAEDVGDYYCQQHYSSP\n",
      "GAAATCGTGATGACCCAGTCTCCAGGCTCTCTGGCTGGGTCTGCAGGAGAGAGCGTCTCCATCAACTGCAAGTCCAGCCAGAGTCTTCTGTACAGCTTCAACCAGAAGAACTACTTAGCCTGGTACCAGCAGAAACCAGGAGAGCGTCCTAAGCTGCTCATCTACTTAGCCTCCAGCTGGGCATCTGGGGTCCCTGCCCGATTCAGCAGCAGTGGATCTGGGACAGATTTCACCCTCACCATCAACAACCTCCAGGCTGAAGATGTGGGGGATTATTACTGTCAGCAGCATTATAGTTCTCCTCC\n",
      "Did not detect anything in summary dataframe,[],[]\n",
      "having trouble with 1726|IGKV7-2*01|Canis_lupus_familiaris_boxer|P|V-REGION||101 AA|||||||||-DIMLTQSPASLTMCLQERGPPSLAGPVRKPVIFGALPTILPCTNRNQNSILKS*LMKPPVGSGVLGRFSGCGSGTDFSLTIDPVEAGDAVNYYCQQSKESP\n",
      "1726|IGKV7-2*01|Canis_lupus_familiaris_boxer|P|V-REGION||101 AA|||||||||\n",
      "EIVMTQSPGSLAGSAGESVSINCKSSQSLLYSFNQKNYLAWYQQKPGERPKLLIYLA.......SSWASGVP.ARFSSSG..SGTDFTLTINNLQAEDVGDYYCQQHYSSP\n",
      "GACATTATGCTGACCCAGTCTCCAGCCTCCTTGACCATGTGTCTCCAGGAGAGAGGGCCACCATCTCTTGCAGGGCCAGTCAGAAAGCCAGTGATATTTGGGGCATTACCCACCATATTACCTTGTACCAACAGAAATCAGAACAGCATCCTAAAGTCCTGATTAATGAAGCCTCCAGTTGGGTCTGGGGTCCTAGGCAGGTTCAGTGGCTGTGGGTCTGGGACTGATTTCAGCCTCACAATTGATCCTGTGGAGGCTGGCGATGCTGTCAACTATTACTGCCAGCAGAGTAAGGAGTCTCCTCC\n",
      "1761|IGLV1-100*01|Canis_lupus_familiaris_boxer|F|V-REGION||98 AA|||||||||\n",
      "QSVLTQPTS.VSGSLGQRVTISCSGSTNNI....GIVGASWYQQLPGKAPKLLVDSD.......GDRPSGVP.DRFSGSK..SGNSATLTITGLQAEDEADYYCQSFDTTLDA\n",
      "CAGTCTGTGCTGACTCAGCCGACCTCAGTGTCGGGGTCCCTTGGCCAGAGGGTCACCATCTCCTGCTCTGGAAGCACGAACAACATCGGTATTGTTGGTGCGAGCTGGTACCAACAGCTCCCAGGAAAGGCCCCTAAACTCCTCGTGGACAGTGATGGGGATCGACCGTCAGGGGTCCCTGACCGGTTTTCCGGCTCCAAGTCTGGCAACTCAGCCACCCTGACCATCACTGGGCTTCAGGCTGAGGACGAGGCTGATTATTACTGCCAGTCCTTTGATACCACGCTTGATGCTCA\n",
      "1762|IGLV1-101*01|Canis_lupus_familiaris_boxer|P|V-REGION||99 AA|||||||||\n",
      "QSVLTQPAS.VSGALGQRVTISCTGSSSNVG...YSSYVGLYQQLPGTGLKTIIYNT.......NTRPSGVP.DQFSGSK..SGSTAT.............................*PLLDFRLRTRLIITAHPMTAVSKL\n",
      "CAGTCTGTGCTGACTCAACCGGCCTCCGTGTCTGGGGCCTTGGGCCAGAGGGTCACCATCTCCTGCACTGGAAGCAGCTCCAATGTTGGTTATAGCAGCTATGTGGGCTTGTACCAGCAGCTCCCAGGAACAGGCCTCAAAACCATCATCTATAATACCAATACTCGACCCTCTGGGGTTCCTGATCAATTCTCTGGCTCCAAATCAGGCAGCACAGCCACCTGACCATTGCTGGACTTCAGGCTGAGGACGAGGCTGATTATTACTGCTCATCCTATGACAGCAGTCTCAAAGCTCC\n"
     ]
    },
    {
     "name": "stderr",
     "output_type": "stream",
     "text": [
      "/Users/jwillis/miniconda3/envs/bfx-bp-antibody/lib/python3.8/site-packages/Bio/Seq.py:2573: BiopythonWarning: Partial codon, len(sequence) not a multiple of three. Explicitly trim the sequence or add trailing N before translation. This may become an error in future.\n",
      "  warnings.warn(\"Partial codon, len(sequence) not a multiple of three. \"\n",
      "/Users/jwillis/miniconda3/envs/bfx-bp-antibody/lib/python3.8/site-packages/Bio/Seq.py:2573: BiopythonWarning: Partial codon, len(sequence) not a multiple of three. Explicitly trim the sequence or add trailing N before translation. This may become an error in future.\n",
      "  warnings.warn(\"Partial codon, len(sequence) not a multiple of three. \"\n",
      "/Users/jwillis/miniconda3/envs/bfx-bp-antibody/lib/python3.8/site-packages/Bio/Seq.py:2573: BiopythonWarning: Partial codon, len(sequence) not a multiple of three. Explicitly trim the sequence or add trailing N before translation. This may become an error in future.\n",
      "  warnings.warn(\"Partial codon, len(sequence) not a multiple of three. \"\n"
     ]
    },
    {
     "name": "stdout",
     "output_type": "stream",
     "text": [
      "1763|IGLV1-103*01|Canis_lupus_familiaris_boxer|F|V-REGION||99 AA|||||||||\n",
      "QAVLTQPPS.VSAALGQRVTISCTGSNTNIG...SGYDVQWYQQLPGKSPKTIIYGN.......SNRPSGVP.VRFSGSK..SGSTATLTITGIQAEDEADYYCQSYDDNLDG\n",
      "CAGGCTGTGCTGACTCAGCCACCCTCTGTGTCTGCAGCCCTGGGGCAGAGGGTCACCATCTCCTGCACTGGAAGTAACACCAACATCGGCAGTGGTTATGATGTACAATGGTACCAGCAGCTCCCAGGAAAGTCCCCTAAAACTATCATTTATGGTAATAGCAATCGACCCTCGGGGGTCCCGGTTCGATTCTCTGGCTCCAAGTCAGGCAGCACAGCCACCCTGACCATCACTGGGATCCAGGCTGAGGATGAGGCTGATTATTACTGCCAGTCCTATGATGACAACCTCGATGGTCA\n",
      "1764|IGLV1-104*01|Canis_lupus_familiaris_boxer|P|V-REGION||97 AA|||||||||\n",
      "QSVLTQPAS.VSGSLGQRITISCTKSSSN.......IG.RYYVS*QQLPGTGPRTVIYD........NNN*PSGVP.DQFSGSK..SGSTATLTISRLQAEDDADYYCSPYASSLSA\n",
      "CAGTCTGTGCTGACTCAGCCAGCTTCAGTGTCTGGGTCCCTGGGCCAGAGGATCACCATCTCCTGCACTAAAAGCAGCTCCAACATCGGTAGGTATTATGTGAGCTGACAACAGCTCCCAGGAACAGGCCCCAGAACCGTCATCTATGATAATAATAACTGACCCTCGGGGGTCCCTGATCAATTTTCTGGCTCTAAATCAGGCAGCACAGCCACCCTGACCATCTCTAGGCTCCAGGCTGAGGACGATGCTGATTATTACTGCTCGCCATATGCCAGCAGTCTCAGTGCTGG\n",
      "1765|IGLV1-106*01|Canis_lupus_familiaris_boxer|F|V-REGION||98 AA|||||||||\n",
      "QSVLTQPAS.VSGSLGQRVIISCTGSSSSI....GRGYVGWYQQLPGTGPRTLIYGI.......SNLPPGVP.NRFSGSR..SGSTATLTIAELQAEDEADYYCSSWDRSLSA\n",
      "CAGTCTGTGTTGACTCAACCGGCCTCAGTGTCTGGGTCCCTGGGCCAGAGGGTCATCATCTCCTGCACTGGAAGCAGCTCCAGCATTGGCAGAGGTTATGTGGGCTGGTACCAACAGCTCCCAGGAACAGGCCCCAGAACCCTCATCTATGGTATTAGTAACCTACCCCCGGGAGTCCCCAATAGATTCTCTGGTTCGAGGTCAGGCAGCACAGCCACCCTGACCATCGCTGAGCTCCAGGCTGAGGACGAGGCTGATTATTACTGCTCATCGTGGGACAGAAGTCTCAGTGCTCC\n"
     ]
    },
    {
     "name": "stderr",
     "output_type": "stream",
     "text": [
      "/Users/jwillis/miniconda3/envs/bfx-bp-antibody/lib/python3.8/site-packages/Bio/Seq.py:2573: BiopythonWarning: Partial codon, len(sequence) not a multiple of three. Explicitly trim the sequence or add trailing N before translation. This may become an error in future.\n",
      "  warnings.warn(\"Partial codon, len(sequence) not a multiple of three. \"\n",
      "/Users/jwillis/miniconda3/envs/bfx-bp-antibody/lib/python3.8/site-packages/Bio/Seq.py:2573: BiopythonWarning: Partial codon, len(sequence) not a multiple of three. Explicitly trim the sequence or add trailing N before translation. This may become an error in future.\n",
      "  warnings.warn(\"Partial codon, len(sequence) not a multiple of three. \"\n",
      "/Users/jwillis/miniconda3/envs/bfx-bp-antibody/lib/python3.8/site-packages/Bio/Seq.py:2573: BiopythonWarning: Partial codon, len(sequence) not a multiple of three. Explicitly trim the sequence or add trailing N before translation. This may become an error in future.\n",
      "  warnings.warn(\"Partial codon, len(sequence) not a multiple of three. \"\n"
     ]
    },
    {
     "name": "stdout",
     "output_type": "stream",
     "text": [
      "1768|IGLV1-111*01|Canis_lupus_familiaris_boxer|ORF|V-REGION||98 AA|||||||||\n",
      "QSVLTQPAS.VSGSLGLRVTICCTGSSSNI....SSYYVGWYQPLAGTGPRTVIYDN.......SNRPSGVP.DQFSGSK..SGSTATLTISRLQAEDEADYYGSSYDSSLNA\n",
      "CAGTCTGTGCTGACTCAGCCGGCCTCAGTGTCTGGGTCCCTGGGCCTGAGGGTCACCATCTGCTGCACTGGAAGCAGCTCCAACATCAGTAGTTATTATGTGGGCTGGTACCAACCACTCGCGGGAACAGGCCCCAGAACTGTCATCTATGATAATAGTAACCGTCCCTCGGGGGTCCCTGATCAATTCTCTGGCTCCAAGTCAGGCAGCACAGCCACCCTGACCATCTCTCGGCTCCAGGCTGAGGACGAGGCTGATTATTACGGCTCATCATATGACAGCAGTCTCAATGCTGG\n",
      "1769|IGLV1-112*01|Canis_lupus_familiaris_boxer|P|V-REGION||99 AA|||||||||\n",
      "QSVLTQPAS.VSQSLGQRVTISCTGSSSNVG...YNSYVSWYQQLPGTVPRTIIYYT.......NTRPYGVP.DRFSGSK..SGNSATLTIAGLQAEDEADYYCSTYDSSLSG\n",
      "CAGTCTGTGCTGACTCAGCCAGCCTCAGTGTCTCAGTCCCTGGGTCAGAGGGTCACCATCTCCTGTACTGGAAGCAGCTCCAATGTTGGTTATAACAGTTATGTGAGCTGGTACCAGCAGCTCCCAGGAACAGTCCCCAGAACCATCATCTATTATACCAATACTCGACCCTATGGGGTTCCTGATCGATTCTCTGGCTCCAAATCAGGCAACTCAGCCACCCTGACCATTGCTGGACTCCAGGCTGAGGACGAGGCTGATTATTATTGCTCAACATATGACAGCAGTCTCAGTGGTGC\n",
      "1770|IGLV1-113-1*01|Canis_lupus_familiaris_boxer|P|V-REGION||97 AA|||||||||\n",
      "QSVLNQTPS.VSGSLGQRVAISCSGSTNIS.....RFGASW*Q.QLLGKASKLLLDSD.......GDQPSVVP..D*FSGSK..SGNSGALTITGLQAEDEADYYCQSFDPTLGA\n",
      "CAGTCTGTGCTGAATCAGACGCCCTCAGTGTCGGGGTCCCTGGGCCAGAGAGTCGCCATCTCCTGCTCTGGAAGCACAAACATCAGTAGGTTTGGTGCGAGCTGGTAACAACAGCTCCTGGGAAAGGCTTCAAAACTCCTCCTAGACAGTGATGGGGATCAACCATCAGTGGTCCCTGACTGATTTTCCGGCTCCAAGTCTGGCAACTCAGGTGCCCTGACCATCACTGGGCTCCAGGCTGAGGACGAGGCTGATTATTACTGCCAGTCCTTTGATCCCACACTTGGTGCTCA\n"
     ]
    },
    {
     "name": "stderr",
     "output_type": "stream",
     "text": [
      "/Users/jwillis/miniconda3/envs/bfx-bp-antibody/lib/python3.8/site-packages/Bio/Seq.py:2573: BiopythonWarning: Partial codon, len(sequence) not a multiple of three. Explicitly trim the sequence or add trailing N before translation. This may become an error in future.\n",
      "  warnings.warn(\"Partial codon, len(sequence) not a multiple of three. \"\n",
      "/Users/jwillis/miniconda3/envs/bfx-bp-antibody/lib/python3.8/site-packages/Bio/Seq.py:2573: BiopythonWarning: Partial codon, len(sequence) not a multiple of three. Explicitly trim the sequence or add trailing N before translation. This may become an error in future.\n",
      "  warnings.warn(\"Partial codon, len(sequence) not a multiple of three. \"\n",
      "/Users/jwillis/miniconda3/envs/bfx-bp-antibody/lib/python3.8/site-packages/Bio/Seq.py:2573: BiopythonWarning: Partial codon, len(sequence) not a multiple of three. Explicitly trim the sequence or add trailing N before translation. This may become an error in future.\n",
      "  warnings.warn(\"Partial codon, len(sequence) not a multiple of three. \"\n"
     ]
    },
    {
     "name": "stdout",
     "output_type": "stream",
     "text": [
      "1771|IGLV1-114*01|Canis_lupus_familiaris_boxer|P|V-REGION||97 AA|||||||||\n",
      "QALLTQPPS.VSEALGQRVTISCTGSSTNIG...SGYDVQWYQQLPGKSPQTIVYG........NSN*PSGVP.DQFSGSK..SHNSATLTITGLQTEDEADYYCQSSDDNL\n",
      "CAGGCTTTGCTGACTCAGCCACCCTCAGTGTCTGAGGCCCTGGGACAGAGGGTCACCATCTCCTGCACTGGAAGCAGCACCAACATCGGCAGTGGTTATGATGTACAATGGTACCAGCAGCTCCCAGGAAAGTCCCCTCAAACTATCGTATACGGTAATAGCAATTGACCCTCGGGGGTCCCAGATCAATTCTCTGGCTCCAAGTCTCACAATTCAGCCACCCTGACCATCACTGGGCTCCAGACTGAGGACGAGGCTGATTATTACTGCCAGTCCTCTGATGACAACCTCGA\n",
      "1772|IGLV1-115*01|Canis_lupus_familiaris_boxer|P|V-REGION||98 AA|||||||||\n",
      "QSVLTQPAS.VSGSLGQRVTISCTGSSSNI.....GRYSVG*YQQLPGTGPRTVIYGS.......SSRPSGVP.DRFSGSK..SGSTATLTISGLQAEDEADYYCSTYDSSLKA\n",
      "CAGTCTGTGCTGACTCAGCCAGCCTCAGTGTCTGGGTCCCTGGGCCAGAGGGTCACCATCTCCTGCACTGGAAGCAGCTCCAACATCGGTAGATATAGTGTAGGCTGATACCAGCAGCTCCCGGGAACAGGCCCCAGAACTGTCATCTATGGTAGTAGTAGCCGACCCTCGGGGGTCCCCGATCGATTCTCTGGCTCCAAGTCAGGCAGCACAGCCACCCTGACCATCTCAGGGCTCCAGGCTGAGGACGAGGCTGATTATTACTGTTCAACATACGACAGCAGTCTCAAAGCTCC\n",
      "1773|IGLV1-116*01|Canis_lupus_familiaris_boxer|F|V-REGION||98 AA|||||||||\n",
      "QPVLTQPPS.VSGFLGQRVTISCTGSSSNI....LGNSVNWYQQLTGRGPRTVIYYD.......NNRPSGVP.DQFSGSK..SGNSATLTISGLQAEDETDYYCSTWDSRLRA\n",
      "CAGCCTGTGCTCACTCAGCCGCCCTCAGTGTCTGGGTTCCTGGGACAGAGGGTCACTATCTCCTGCACTGGAAGCAGCTCCAACATCCTTGGTAATTCTGTGAACTGGTACCAGCAGCTCACAGGAAGAGGCCCCAGAACCGTCATCTATTATGATAACAACCGACCCTCTGGGGTCCCTGATCAATTCTCTGGCTCCAAGTCAGGCAACTCAGCCACCCTGACCATCTCTGGGCTCCAGGCTGAGGACGAGACTGATTATTACTGCTCAACGTGGGACAGCAGGCTCAGAGCTCC\n"
     ]
    },
    {
     "name": "stderr",
     "output_type": "stream",
     "text": [
      "/Users/jwillis/miniconda3/envs/bfx-bp-antibody/lib/python3.8/site-packages/Bio/Seq.py:2573: BiopythonWarning: Partial codon, len(sequence) not a multiple of three. Explicitly trim the sequence or add trailing N before translation. This may become an error in future.\n",
      "  warnings.warn(\"Partial codon, len(sequence) not a multiple of three. \"\n",
      "/Users/jwillis/miniconda3/envs/bfx-bp-antibody/lib/python3.8/site-packages/Bio/Seq.py:2573: BiopythonWarning: Partial codon, len(sequence) not a multiple of three. Explicitly trim the sequence or add trailing N before translation. This may become an error in future.\n",
      "  warnings.warn(\"Partial codon, len(sequence) not a multiple of three. \"\n",
      "/Users/jwillis/miniconda3/envs/bfx-bp-antibody/lib/python3.8/site-packages/Bio/Seq.py:2573: BiopythonWarning: Partial codon, len(sequence) not a multiple of three. Explicitly trim the sequence or add trailing N before translation. This may become an error in future.\n",
      "  warnings.warn(\"Partial codon, len(sequence) not a multiple of three. \"\n"
     ]
    },
    {
     "name": "stdout",
     "output_type": "stream",
     "text": [
      "1774|IGLV1-118*01|Canis_lupus_familiaris_boxer|P|V-REGION||98 AA|||||||||\n",
      "QSVLTQPAS.VSGSLGQRVTISCTESSSNI....GGYYVGWYQQLPGTGPRTIIYSS.......SNRPSGVP..D*FSGSR..SGSTATLTISGLQAEDEADYYCSTWDSSLKA\n",
      "CAGTCTGTGCTGACTCAGCCGGCCTCAGTGTCTGGGTCCCTGGGCCAGAGGGTCACCATCTCCTGCACTGAAAGCAGCTCCAACATCGGTGGATATTATGTGGGCTGGTACCAACAGCTCCCAGGAACAGGCCCCAGAACCATCATCTATAGTAGTAGTAACCGACCCTCAGGGGTCCCTGATTGATTCTCTGGCTCCAGGTCAGGCAGCACAGCCACCCTGACCATCTCTGGGCTCCAGGCTGAGGACGAGGCTGATTATTACTGCTCTACATGGGACAGCAGTCTCAAAGCTCC\n",
      "1775|IGLV1-118-2*01|Canis_lupus_familiaris_boxer|P|V-REGION||98 AA|||||||||\n",
      "LPVLTQPPS.RSGGLVQRFTIFCSGSTNNI....GDNYFNWYKQLPGTAPKTII*VD.......HIRPSGVL.ERFSVSN..SGSSANLTISGLQAE.D*ADYYCSSWDDSLNA\n",
      "CTGCCTGTGCTGACCCAGCCGCCCTCAAGGTCTGGGGGTCTGGTTCAGAGGTTCACCATCTTCTGTTCTGGAAGCACAAACAACATAGGTGATAATTATTTTAACTGGTACAAACAGCTTCCAGGAACGGCCCCTAAAACCATCATCTAAGTGGATCATATCAGACCCTCAGGGGTCCTGGAGAGATTCTCTGTCTCCAATTCTGGCAGCTCAGCCAACCTGACCATCTCTGGGCTCCAGGCTGAGGACTAGGCTGATTATTATTGCTCATCCTGGGATGATAGTCTCAATGCTCC\n",
      "Did not detect anything in summary dataframe,[],[]\n",
      "having trouble with 1776|IGLV1-122*01|Canis_lupus_familiaris_boxer|P|V-REGION||98 AA|||||||||-QAVLTQLPSVSAALGQRVTICTGSSTNIGSGYYTLWYQ*LQESPLKLSSMVIAIDP*GSRIDSLAPSMAIQPR*PSLGSRLRTRMIITASPLMTTSMV\n",
      "1776|IGLV1-122*01|Canis_lupus_familiaris_boxer|P|V-REGION||98 AA|||||||||\n",
      "LPVLTQPPS.RSGGLVQRFTIFCSGSTNNI....GDNYFNWYKQLPGTAPKTII*VD.......HIRPSGVL.ERFSVSN..SGSSANLTISGLQAE.D*ADYYCSSWDDSLNA\n",
      "CAGGCTGTGCTGACTCAGCTGCCCTCAGTGTCTGCAGCCCTGGGACAGAGGGTCACCATCTGCACTGGAAGCAGCACCAACATCGGCAGTGGTTATTATACACTATGGTACCAGTAGCTGCAGGAAAGTCCCCTAAAACTATCATCTATGGTAATAGCAATCGACCCTTGAGGGTCCCGGATCGATTCTCTGGCTCCAAGTATGGCAATTCAGCCACGCTGACCATCACTGGGCTCCAGGCTGAGGACGAGGATGATTATTACTGCCAGTCCTCTGATGACAACCTCGATGGTCA\n",
      "1777|IGLV1-123*01|Canis_lupus_familiaris_boxer|P|V-REGION||97 AA|||||||||\n",
      "QSVLTQPAS.VSGSLGQRVTISCTGSSSNI....GEYYVSWLQQLPGTRPRTVIYSS.......SNRPSGVP.DRFSGSK..SGSIATLSL..........................GSRLKTRLIITVLRGTAVSML\n",
      "CAGTCTGTGCTGACTCAGCCGGCCTCAGTGTCTGGGTCCCTGGGTCAGAGGGTCACCATCTCCTGCACTGGAAGCAGCTCCAACATCGGTGAATATTATGTGAGTTGGCTCCAGCAGCTCCCGGGAACACGCCCCAGAACCGTCATCTATAGTAGTAGTAACCGACCCTCAGGGGTCCCTGATCGATTCTCTGGCTCCAAGTCAGGTAGCATAGCCACCCTATCTCTGGGCTCCAGGCTGAAGACGAGGCTGATTATTACTGTACTACGTGGGACAGCAGTCTCAATGCTGG\n"
     ]
    },
    {
     "name": "stderr",
     "output_type": "stream",
     "text": [
      "/Users/jwillis/miniconda3/envs/bfx-bp-antibody/lib/python3.8/site-packages/Bio/Seq.py:2573: BiopythonWarning: Partial codon, len(sequence) not a multiple of three. Explicitly trim the sequence or add trailing N before translation. This may become an error in future.\n",
      "  warnings.warn(\"Partial codon, len(sequence) not a multiple of three. \"\n",
      "/Users/jwillis/miniconda3/envs/bfx-bp-antibody/lib/python3.8/site-packages/Bio/Seq.py:2573: BiopythonWarning: Partial codon, len(sequence) not a multiple of three. Explicitly trim the sequence or add trailing N before translation. This may become an error in future.\n",
      "  warnings.warn(\"Partial codon, len(sequence) not a multiple of three. \"\n",
      "/Users/jwillis/miniconda3/envs/bfx-bp-antibody/lib/python3.8/site-packages/Bio/Seq.py:2573: BiopythonWarning: Partial codon, len(sequence) not a multiple of three. Explicitly trim the sequence or add trailing N before translation. This may become an error in future.\n",
      "  warnings.warn(\"Partial codon, len(sequence) not a multiple of three. \"\n",
      "/Users/jwillis/miniconda3/envs/bfx-bp-antibody/lib/python3.8/site-packages/Bio/Seq.py:2573: BiopythonWarning: Partial codon, len(sequence) not a multiple of three. Explicitly trim the sequence or add trailing N before translation. This may become an error in future.\n",
      "  warnings.warn(\"Partial codon, len(sequence) not a multiple of three. \"\n",
      "/Users/jwillis/miniconda3/envs/bfx-bp-antibody/lib/python3.8/site-packages/Bio/Seq.py:2573: BiopythonWarning: Partial codon, len(sequence) not a multiple of three. Explicitly trim the sequence or add trailing N before translation. This may become an error in future.\n",
      "  warnings.warn(\"Partial codon, len(sequence) not a multiple of three. \"\n"
     ]
    },
    {
     "name": "stdout",
     "output_type": "stream",
     "text": [
      "1778|IGLV1-125*01|Canis_lupus_familiaris_boxer|F|V-REGION||98 AA|||||||||\n",
      "QSVLTQPAS.VSGSLGQRVTISCTGSSSNI....GRGYVGWYQQLPGTGPRTLIYGN.......SNRPSGVP.DRFSGSR..SGSTATLTISGLQAEDEADYYCSSWDSSLSA\n",
      "CAGTCTGTGCTGACTCAGCCGGCCTCAGTGTCCGGGTCCCTGGGCCAGAGGGTCACCATCTCCTGCACTGGAAGCAGCTCCAACATCGGTAGAGGTTATGTGGGCTGGTACCAACAGCTCCCGGGAACAGGCCCCAGAACCCTCATCTATGGTAATAGTAACCGACCCTCAGGGGTCCCCGATCGGTTCTCTGGCTCCAGGTCAGGCAGCACAGCCACCCTGACCATCTCTGGGCTCCAGGCTGAGGATGAGGCTGATTATTACTGCTCATCGTGGGACAGCAGTCTCAGTGCTCT\n",
      "Did not detect anything in summary dataframe,[],[]\n",
      "having trouble with 1779|IGLV1-127*01|Canis_lupus_familiaris_boxer|P|V-REGION||98 AA|||||||||-QSVLTQPPSVSGSLGQRSPSPALEAASTLVDIV*AGSSSSREQAPEPSSIMIVADPQGFPIDSLAPSQAAQPP*PSLGSRLRTRLIITAHPMTAVSKV\n",
      "1779|IGLV1-127*01|Canis_lupus_familiaris_boxer|P|V-REGION||98 AA|||||||||\n",
      "QSVLTQPAS.VSGSLGQRVTISCTGSSSNI....GRGYVGWYQQLPGTGPRTLIYGN.......SNRPSGVP.DRFSGSR..SGSTATLTISGLQAEDEADYYCSSWDSSLSA\n",
      "CAGTCTGTGCTGACTCAGCCTCCCTCAGTGTCTGGGTCCCTGGGCCAGAGGTCACCGTCTCCTGCACTGGAAGCTGCTTCAACATTGGTAGATATAGTGTGAGCTGGCTCCAGCAGCTCCCGGGAACAGGCCCCAGAACCATCATCTATTATGATCGTAGCCGACCCTCAGGGGTTCCCGATCGATTCTCTGGCTCCAAGTCAGGCAGCACAGCCACCCTGACCATCTCTGGGCTCCAGGCTGAGGACGAGGCTGATTATTACTGCTCATCCTATGACAGCAGTCTCAAAGGTCA\n",
      "1780|IGLV1-129*01|Canis_lupus_familiaris_boxer|P|V-REGION||99 AA|||||||||\n",
      "QSVLTQPVS.VSGALCQRVTISCTGSSSNI....GYSSCVS*YQQLPGTGPRTIIYSM.......NTLPSGVP.DRLSGSR..SGNSATLTISGLQAEDKADYYCSTYDSSLNA\n",
      "CAGTCTGTGCTGACTCAACCAGTCTCAGTGTCTGGGGCCCTGTGCCAGAGGGTCACCATCTCCTGCACTGGAAGCAGCTCCAACATTGGTTATAGCAGCTGTGTGAGCTGATATCAGCAGCTCCCAGGAACAGGCCCCAGAACCATCATCTATAGTATGAATACTCTACCCTCTGGGGTTCCTGATCGATTGTCTGGCTCCAGGTCAGGCAACTCAGCCACCCTAACCATCTCTGGGCTCCAGGCTGAGGACAAGGCTGACTATTACTGCTCAACATATGACAGCAGTCTCAATGCTCA\n"
     ]
    },
    {
     "name": "stderr",
     "output_type": "stream",
     "text": [
      "/Users/jwillis/miniconda3/envs/bfx-bp-antibody/lib/python3.8/site-packages/Bio/Seq.py:2573: BiopythonWarning: Partial codon, len(sequence) not a multiple of three. Explicitly trim the sequence or add trailing N before translation. This may become an error in future.\n",
      "  warnings.warn(\"Partial codon, len(sequence) not a multiple of three. \"\n",
      "/Users/jwillis/miniconda3/envs/bfx-bp-antibody/lib/python3.8/site-packages/Bio/Seq.py:2573: BiopythonWarning: Partial codon, len(sequence) not a multiple of three. Explicitly trim the sequence or add trailing N before translation. This may become an error in future.\n",
      "  warnings.warn(\"Partial codon, len(sequence) not a multiple of three. \"\n"
     ]
    },
    {
     "name": "stdout",
     "output_type": "stream",
     "text": [
      "1781|IGLV1-130*01|Canis_lupus_familiaris_boxer|P|V-REGION||98 AA|||||||||\n",
      "QSVLTQLAS.VSGSLGQRVTITCTGSSSNI....GSDYVGWFQQLPGTGPRTLI*GN.......SNRPSGVP.DQFSGSK..SGSTATLTISGLQAEDDADYYCTSWDSSLKA\n",
      "CAGTCTGTGCTGACCCAGCTGGCCTCAGTGTCTGGGTCCCTGGGCCAGAGGGTCACCATCACCTGCACTGGAAGCAGCTCCAACATTGGTAGTGATTATGTGGGCTGGTTCCAACAGCTCCCAGGAACAGGCCCTAGAACCCTCATCTAAGGCAATAGTAACCGACCCTCGGGGGTCCCTGATCAATTCTCTGGCTCCAAGTCTGGCAGTACAGCCACCCTGACCATCTCTGGGCTCCAGGCTGAGGATGATGCTGATTATTACTGCACATCATGGGATAGCAGTCTCAAGGCTCC\n",
      "1782|IGLV1-132*01|Canis_lupus_familiaris_boxer|ORF|V-REGION||104 AA|||||||||\n",
      "QSVLTQPPS.VSGTLGQRVIISCTGIPSNINLEELGIATKVNWYQQLPGKAPSLLIYDD.......DSRGSGIP.DRFSGSK..SGNSGTLTITGLQAEDEADYYCQSYDESLGV\n",
      "CAGTCTGTGCTGACTCAGCCTCCCTCAGTGTCTGGGACCCTGGGGCAAAGGGTCATCATCTCCTGCACTGGAATCCCCAGCAACATAAATTTAGAAGAATTGGGAATCGCTACTAAGGTGAACTGGTACCAACAGCTCCCAGGAAAGGCACCCAGTCTCCTCATCTATGATGATGATAGCAGAGGTTCTGGGATTCCTGATCGATTCTCTGGCTCCAAGTCTGGCAACTCAGGCACCCTGACCATCACTGGGCTCCAGGCTGAGGATGAGGCTGATTATTATTGCCAATCCTATGATGAAAGCCTTGGTGTT\n",
      "Did not detect anything in summary dataframe,[],[]\n",
      "having trouble with 1783|IGLV1-133*01|Canis_lupus_familiaris_boxer|P|V-REGION||98 AA|||||||||-QSVLTQPPSVFRSLGQRVTISCTGSSSNVGRGYVIWYQSSWEHAQEPSYMVVVTNPQGSPIDSLAPGQAAQTL*QSLCSRLRMRLIITAHPGTAVSVL\n",
      "1783|IGLV1-133*01|Canis_lupus_familiaris_boxer|P|V-REGION||98 AA|||||||||\n",
      "QSVLTQPPS.VSGTLGQRVIISCTGIPSNINLEELGIATKVNWYQQLPGKAPSLLIYDD.......DSRGSGIP.DRFSGSK..SGNSGTLTITGLQAEDEADYYCQSYDESLGV\n",
      "CAGTCTGTGCTGACTCAGCCTCCCTCAGTGTTCAGGTCCCTGGGCCAGAGGGTCACCATCTCCTGCACTGGAAGCAGCTCCAACGTCGGTAGAGGTTATGTGATCTGGTACCAAAGCTCCTGGGAACACGCCCAAGAACCCTCATATATGGTAGTAGTAACCAACCCTCAGGGGTCCCCAATCGATTCTCTGGCTCCAGGTCAGGCAGCACAGACACTCTGACAATCTCTGTGTTCCAGGCTGAGGATGAGGCTGATTATTACTGCTCATCCTGGGACAGCAGTCTCAGTGCTCT\n",
      "1784|IGLV1-135*01|Canis_lupus_familiaris_boxer|F|V-REGION||98 AA|||||||||\n",
      "QSVLNQLPS.VLGSLGQRITISCSGSTNDI....GMLGVNWYQELPGKAPKLLVDGT.......GNRPSGVP.DRFSGSK..SGNSGTLTITGLQAEDEADYYCQSTDLTLGA\n",
      "CAGTCTGTGCTGAATCAGCTGCCTTCAGTGTTAGGATCCCTGGGCCAGAGAATCACCATCTCCTGCTCTGGAAGCACGAATGACATCGGTATGCTTGGTGTGAACTGGTACCAAGAGCTCCCAGGAAAGGCCCCTAAACTCCTCGTAGATGGTACTGGGAATCGACCCTCAGGGGTCCCTGACCGATTTTCTGGCTCCAAATCTGGCAACTCAGGCACTCTGACCATCACTGGGCTCCAGGCTGAGGACGAGGCTGATTATTATTGTCAGTCCACTGATCTCACGCTTGGTGCTCC\n"
     ]
    },
    {
     "name": "stderr",
     "output_type": "stream",
     "text": [
      "/Users/jwillis/miniconda3/envs/bfx-bp-antibody/lib/python3.8/site-packages/Bio/Seq.py:2573: BiopythonWarning: Partial codon, len(sequence) not a multiple of three. Explicitly trim the sequence or add trailing N before translation. This may become an error in future.\n",
      "  warnings.warn(\"Partial codon, len(sequence) not a multiple of three. \"\n",
      "/Users/jwillis/miniconda3/envs/bfx-bp-antibody/lib/python3.8/site-packages/Bio/Seq.py:2573: BiopythonWarning: Partial codon, len(sequence) not a multiple of three. Explicitly trim the sequence or add trailing N before translation. This may become an error in future.\n",
      "  warnings.warn(\"Partial codon, len(sequence) not a multiple of three. \"\n",
      "/Users/jwillis/miniconda3/envs/bfx-bp-antibody/lib/python3.8/site-packages/Bio/Seq.py:2573: BiopythonWarning: Partial codon, len(sequence) not a multiple of three. Explicitly trim the sequence or add trailing N before translation. This may become an error in future.\n",
      "  warnings.warn(\"Partial codon, len(sequence) not a multiple of three. \"\n"
     ]
    },
    {
     "name": "stdout",
     "output_type": "stream",
     "text": [
      "1785|IGLV1-136*01|Canis_lupus_familiaris_boxer|F|V-REGION||98 AA|||||||||\n",
      "QSVLTQPAS.VSGSLGQRVTISCTGSSSNI....GRGYVGWYQQLPGTGPRTLIYDS.......SSRPSGVP.DRFSGSR..SGSTATLTISGLQAEDEADYYCSAYDSSLSG\n",
      "CAGTCTGTGCTGACTCAGCCGGCCTCAGTGTCTGGGTCCCTGGGCCAGAGGGTCACCATCTCCTGCACTGGAAGCAGCTCCAACATCGGTAGAGGTTATGTGGGCTGGTACCAGCAGCTCCCAGGAACAGGCCCCAGAACCCTCATCTATGATAGTAGTAGCCGACCCTCGGGGGTCCCTGATCGATTCTCTGGCTCCAGGTCAGGCAGCACAGCAACCCTGACCATCTCTGGGCTCCAGGCTGAGGACGAGGCTGATTATTACTGCTCAGCATATGACAGCAGTCTCAGTGGTGG\n",
      "1786|IGLV1-138*01|Canis_lupus_familiaris_boxer|F|V-REGION||99 AA|||||||||\n",
      "QSVLTQPAS.VSGSLGQRVTISCTGSSSNVG...YGNYVGWYQQLPGTSPRTLIYDS.......SSRPSGVP.DRFSGSR..SGSTATLTISGLQAEDEADYYCSSYDSSLSG\n",
      "CAGTCTGTGCTGACTCAGCCGGCCTCAGTGTCTGGGTCCCTGGGCCAGAGGGTCACCATCTCCTGCACTGGAAGCAGCTCCAATGTTGGTTATGGCAATTATGTGGGCTGGTACCAGCAGCTCCCAGGAACAAGCCCCAGAACCCTCATCTATGATAGTAGTAGCCGACCCTCGGGGGTCCCTGATCGATTCTCTGGCTCCAGGTCAGGCAGCACAGCAACCCTGACCATCTCTGGGCTCCAGGCTGAGGATGAAGCCGATTATTACTGCTCATCCTATGACAGCAGTCTCAGTGGTGG\n",
      "1787|IGLV1-139*01|Canis_lupus_familiaris_boxer|F|V-REGION||99 AA|||||||||\n",
      "QAVLTPLPS.VSAALGQTVTISCTGNSTQIS...SGYAVQWYQQLPGKSPETIIYGD.......SNRPSGVP.DRFSGFS..SGNSATLAITGLQDEDEADYYCQSLDDNLNG\n",
      "CAGGCTGTGCTGACTCCGCTGCCCTCAGTGTCTGCGGCCCTGGGACAGACGGTCACCATCTCTTGTACTGGAAATAGCACCCAAATCAGCAGTGGTTATGCTGTACAATGGTACCAGCAGCTCCCAGGAAAGTCCCCTGAAACTATCATCTATGGTGATAGCAATCGACCCTCGGGGGTCCCAGATCGATTCTCTGGCTTCAGCTCTGGCAATTCAGCCACACTGGCCATCACTGGGCTCCAGGATGAGGACGAGGCTGATTATTACTGCCAGTCCTTAGATGACAACCTCAATGGTCA\n",
      "1788|IGLV1-140*01|Canis_lupus_familiaris_boxer|P|V-REGION||99 AA|||||||||\n",
      "QSVLTQPAS.VSGDLGQRVTISCTGSSSNFG...YSSYVGLYQQLPGTGPRTIIYNT.......NTRPSGVP.DRFSGSK..SGSTAT.............................*PLLDFKLRTRLIITAHPMTAVSKL\n",
      "CAGTCTGTGCTGACTCAACCGGCCTCCGTGTCTGGGGACTTGGGCCAGAGGGTCACCATCTCCTGCACTGGAAGCAGCTCCAATTTTGGTTATAGCAGCTATGTGGGCTTGTACCAGCAGCTCCCAGGAACAGGCCCCAGAACCATCATCTATAATACCAATACTCGACCCTCTGGGGTTCCTGATCGATTCTCTGGCTCCAAATCAGGCAGCACAGCCACCTGACCATTGCTGGACTTCAAGCTGAGGACGAGGCTGATTATTACTGCTCATCCTATGACAGCAGTCTCAAAGCTCC\n"
     ]
    },
    {
     "name": "stderr",
     "output_type": "stream",
     "text": [
      "/Users/jwillis/miniconda3/envs/bfx-bp-antibody/lib/python3.8/site-packages/Bio/Seq.py:2573: BiopythonWarning: Partial codon, len(sequence) not a multiple of three. Explicitly trim the sequence or add trailing N before translation. This may become an error in future.\n",
      "  warnings.warn(\"Partial codon, len(sequence) not a multiple of three. \"\n",
      "/Users/jwillis/miniconda3/envs/bfx-bp-antibody/lib/python3.8/site-packages/Bio/Seq.py:2573: BiopythonWarning: Partial codon, len(sequence) not a multiple of three. Explicitly trim the sequence or add trailing N before translation. This may become an error in future.\n",
      "  warnings.warn(\"Partial codon, len(sequence) not a multiple of three. \"\n",
      "/Users/jwillis/miniconda3/envs/bfx-bp-antibody/lib/python3.8/site-packages/Bio/Seq.py:2573: BiopythonWarning: Partial codon, len(sequence) not a multiple of three. Explicitly trim the sequence or add trailing N before translation. This may become an error in future.\n",
      "  warnings.warn(\"Partial codon, len(sequence) not a multiple of three. \"\n"
     ]
    },
    {
     "name": "stdout",
     "output_type": "stream",
     "text": [
      "Did not detect anything in summary dataframe,[],[]\n",
      "having trouble with 1789|IGLV1-140-1*01|Canis_lupus_familiaris_boxer|P|V-REGION||93 AA|||||||||-QSVLTQPPLVLGALARGSPSPALEESQYW*LWCEMVQAAQKDRPQTSHLWQ*QLILGSPINFLALVLASLAP*PPMGSRLKNRLITSASPVIQ\n",
      "1789|IGLV1-140-1*01|Canis_lupus_familiaris_boxer|P|V-REGION||93 AA|||||||||\n",
      "QSVLTQPAS.VSGDLGQRVTISCTGSSSNFG...YSSYVGLYQQLPGTGPRTIIYNT.......NTRPSGVP.DRFSGSK..SGSTAT.............................*PLLDFKLRTRLIITAHPMTAVSKL\n",
      "CAGTCTGTACTGACTCAGCCGCCATTAGTGCTTGGGGCCCTGGCCAGAGGGTCACCTTCTCCTGCCTTGGAAGAGTCCCAGTATTGGTGATTATGGTGTGAAATGGTACAAGCAGCTCAAAAGGACAGACCCCAGACTTCTCATCTATGGCAATAGCAATTGATCCTCGGGTCCCCAATCAATTTTCTGGCTCTGGTTTTGGCATCACTGGCTCCTTGACCACCTATGGGCTCCAGACTGAAAAATAGGCTGATTACTAGTGCTTCTCCGGTGATCCAG\n",
      "1790|IGLV1-141*01|Canis_lupus_familiaris_boxer|F|V-REGION||98 AA|||||||||\n",
      "QSVLTQPTS.VSGSLGQRVTISCSGSTNNI....GIVGASWYQQLPGKAPKLLVYSV.......GDRPSGVP.DRFSGSN..SGNSATLTITGLQAEDEADYYCQSFDTTLGA\n",
      "CAGTCTGTGCTGACTCAGCCGACCTCAGTGTCGGGGTCCCTTGGCCAGAGGGTCACCATCTCCTGCTCTGGAAGCACGAACAACATCGGTATTGTTGGTGCGAGCTGGTACCAACAGCTCCCAGGAAAGGCCCCTAAACTCCTCGTGTACAGTGTTGGGGATCGACCGTCAGGGGTCCCTGACCGGTTTTCCGGCTCCAACTCTGGCAACTCAGCCACCCTGACCATCACTGGGCTTCAGGCTGAGGACGAGGCTGATTATTACTGCCAGTCCTTTGATACCACGCTTGGTGCTCA\n",
      "1791|IGLV1-143*01|Canis_lupus_familiaris_boxer|P|V-REGION||99 AA|||||||||\n",
      "QSVLTQPVS.VSGALCQRVTISCTGSSSNI....GYSSCVS*YQQLPGTGPRTIIYSM.......NTLPSGVP.DRLSGSR..SGNSATLTISGLQAEDKADYYCSTYDSSLNA\n",
      "CAGTCTGTGCTGACTCAACCAGTCTCAGTGTCTGGGGCCCTGTGCCAGAGGGTCACCATCTCCTGCACTGGAAGCAGCTCCAACATTGGTTATAGCAGCTGTGTGAGCTGATATCAGCAGCTCCCAGGAACAGGCCCCAGAACCATCATCTATAGTATGAATACTCTACCCTCTGGGGTTCCTGATCGATTGTCTGGCTCCAGGTCAGGCAACTCAGCCACCCTAACCATCTCTGGGCTCCAGGCTGAGGACAAGGCTGACTATTACTGCTCAACATATGACAGCAGTCTCAATGCTCA\n"
     ]
    },
    {
     "name": "stderr",
     "output_type": "stream",
     "text": [
      "/Users/jwillis/miniconda3/envs/bfx-bp-antibody/lib/python3.8/site-packages/Bio/Seq.py:2573: BiopythonWarning: Partial codon, len(sequence) not a multiple of three. Explicitly trim the sequence or add trailing N before translation. This may become an error in future.\n",
      "  warnings.warn(\"Partial codon, len(sequence) not a multiple of three. \"\n",
      "/Users/jwillis/miniconda3/envs/bfx-bp-antibody/lib/python3.8/site-packages/Bio/Seq.py:2573: BiopythonWarning: Partial codon, len(sequence) not a multiple of three. Explicitly trim the sequence or add trailing N before translation. This may become an error in future.\n",
      "  warnings.warn(\"Partial codon, len(sequence) not a multiple of three. \"\n",
      "/Users/jwillis/miniconda3/envs/bfx-bp-antibody/lib/python3.8/site-packages/Bio/Seq.py:2573: BiopythonWarning: Partial codon, len(sequence) not a multiple of three. Explicitly trim the sequence or add trailing N before translation. This may become an error in future.\n",
      "  warnings.warn(\"Partial codon, len(sequence) not a multiple of three. \"\n"
     ]
    },
    {
     "name": "stdout",
     "output_type": "stream",
     "text": [
      "1792|IGLV1-144*01|Canis_lupus_familiaris_boxer|F|V-REGION||98 AA|||||||||\n",
      "QSVLTQPPS.VFRSLGQRVTISCTGSSCNV....GRGYVIWYQQLLGTRPRTLIYGS.......SNQPSGVP.NRFSGSR..SGSTATLTISGFQAEDEADYYCSSWDSSLSA\n",
      "CAGTCTGTGCTGACTCAGCCTCCCTCAGTGTTCAGGTCCCTGGGCCAGAGGGTCACCATCTCCTGCACTGGAAGCAGCTGCAACGTCGGTAGAGGTTATGTGATCTGGTACCAACAGCTCCTGGGAACACGCCCAAGAACCCTCATATATGGTAGTAGTAACCAACCCTCAGGGGTCCCCAATCGATTCTCTGGCTCCAGGTCAGGCAGCACAGCCACTCTGACAATCTCTGGGTTCCAGGCTGAGGATGAGGCTGATTATTACTGCTCATCCTGGGACAGCAGTCTCAGTGCTCT\n",
      "1793|IGLV1-146*01|Canis_lupus_familiaris_boxer|P|V-REGION||98 AA|||||||||\n",
      "QSVLNQLPS.VLGSLGQRITISCSGSTNDI....GMLGVNWYQELPGKAPKLLVDGT.......GNRPSGVP..D*FSGSK..SGNSGTLTITGLQAEDEADYYCQSTDLTLGA\n",
      "CAGTCTGTGCTGAATCAGCTGCCTTCAGTGTTAGGATCCCTGGGCCAGAGAATCACCATCTCCTGCTCTGGAAGCACGAATGACATCGGTATGCTTGGTGTGAACTGGTACCAAGAGCTCCCAGGAAAGGCCCCTAAACTCCTCGTAGATGGTACTGGGAATCGACCCTCAGGGGTCCCTGACTGATTTTCTGGCTCCAAATCTGGCAACTCAGGCACTCTGACCATCACTGGGCTCCAGGCTGAGGACGAGGCTGATTATTATTGTCAGTCCACTGATCTCACGCTTGGTGCTCC\n",
      "1794|IGLV1-147*01|Canis_lupus_familiaris_boxer|F|V-REGION||98 AA|||||||||\n",
      "QSVLTQPAS.VSGSLGQRVTISCTGSSSNI....GRGYVGWYQQLPGTGPRTLIYDN.......SNRPSGVP.DRFSGSK..SGSTATLTISGLQAEDEADYYCSTYDSSLSG\n",
      "CAGTCTGTGCTGACTCAGCCGGCCTCAGTGTCTGGGTCCCTGGGCCAGAGGGTCACCATCTCCTGCACTGGAAGCAGCTCCAACATCGGTAGAGGTTATGTGGGCTGGTACCAGCAGCTCCCAGGAACAGGCCCCAGAACCCTCATCTATGATAATAGTAACCGACCCTCGGGGGTCCCTGATCGATTCTCTGGCTCCAAGTCAGGCAGCACAGCCACCCTGACCATCTCTGGGCTCCAGGCTGAGGACGAGGCTGATTATTACTGCTCAACATACGACAGCAGTCTCAGTGGTGG\n"
     ]
    },
    {
     "name": "stderr",
     "output_type": "stream",
     "text": [
      "/Users/jwillis/miniconda3/envs/bfx-bp-antibody/lib/python3.8/site-packages/Bio/Seq.py:2573: BiopythonWarning: Partial codon, len(sequence) not a multiple of three. Explicitly trim the sequence or add trailing N before translation. This may become an error in future.\n",
      "  warnings.warn(\"Partial codon, len(sequence) not a multiple of three. \"\n",
      "/Users/jwillis/miniconda3/envs/bfx-bp-antibody/lib/python3.8/site-packages/Bio/Seq.py:2573: BiopythonWarning: Partial codon, len(sequence) not a multiple of three. Explicitly trim the sequence or add trailing N before translation. This may become an error in future.\n",
      "  warnings.warn(\"Partial codon, len(sequence) not a multiple of three. \"\n",
      "/Users/jwillis/miniconda3/envs/bfx-bp-antibody/lib/python3.8/site-packages/Bio/Seq.py:2573: BiopythonWarning: Partial codon, len(sequence) not a multiple of three. Explicitly trim the sequence or add trailing N before translation. This may become an error in future.\n",
      "  warnings.warn(\"Partial codon, len(sequence) not a multiple of three. \"\n"
     ]
    },
    {
     "name": "stdout",
     "output_type": "stream",
     "text": [
      "1795|IGLV1-149*01|Canis_lupus_familiaris_boxer|F|V-REGION||99 AA|||||||||\n",
      "QSVLTQPAS.VSGSLGQRVTISCTGSSSNVG...YGNYVGWYQQLPGTGPRTLIYRS.......SSRPSGVP.DRFSGSR..SGSTATLTISGLQAEDEADYYCSSYDSSLSG\n",
      "CAGTCTGTGCTGACTCAGCCGGCCTCAGTGTCTGGGTCCCTGGGCCAGAGGGTCACCATCTCCTGCACTGGAAGCAGCTCCAATGTTGGTTATGGCAATTATGTGGGCTGGTACCAGCAGCTCCCAGGAACAGGCCCCAGAACCCTCATCTATCGTAGTAGTAGCCGACCCTCGGGGGTCCCTGATCGATTCTCTGGCTCCAGGTCAGGCAGCACAGCAACCCTGACCATCTCTGGGCTCCAGGCTGAGGATGAAGCCGATTATTACTGCTCATCCTATGACAGCAGTCTCAGTGGTGG\n",
      "1796|IGLV1-150*01|Canis_lupus_familiaris_boxer|F|V-REGION||99 AA|||||||||\n",
      "QAVLTPLPS.VSAALGQTVTISCTGNSTQIG...SGYAVQWYQQLPGKSPETIIYGD.......SNRPSGVP.DRFSGFS..SGNSATLAITGLQDEDEADYYCQSLDDNLDG\n",
      "CAGGCTGTGCTGACTCCGCTGCCCTCAGTGTCTGCGGCCCTGGGACAGACGGTCACCATCTCTTGTACTGGAAATAGCACCCAAATCGGCAGTGGTTATGCTGTACAATGGTACCAGCAGCTCCCAGGAAAGTCCCCTGAAACTATCATCTATGGTGATAGCAATCGACCCTCGGGGGTCCCAGATCGATTCTCTGGCTTCAGCTCTGGCAATTCAGCCACACTGGCCATCACTGGGCTCCAGGATGAGGACGAGGCTGATTATTACTGCCAGTCCTTAGATGACAACCTCGATGGTCA\n",
      "1797|IGLV1-151*01|Canis_lupus_familiaris_boxer|F|V-REGION||99 AA|||||||||\n",
      "QSALTQTAS.MSGSLGQRVTVSCTGSSSNVG...YRSYVGWYQQLPGTGPRTIIYNT.......NTRPSGVP.DRFSGSI..SGSTATLTIAGLQAEDEADYYCSSYDSSLKA\n",
      "CAGTCTGCGCTGACTCAAACGGCCTCCATGTCTGGGTCTCTGGGCCAGAGGGTCACCGTCTCCTGCACTGGAAGCAGTTCCAACGTTGGTTATAGAAGTTATGTGGGCTGGTACCAGCAGCTCCCAGGAACAGGCCCCAGAACCATCATCTATAATACCAATACTCGACCCTCTGGGGTTCCTGATCGATTCTCTGGCTCCATATCAGGCAGCACAGCCACCCTGACTATTGCTGGACTCCAGGCTGAGGACGAGGCTGATTATTACTGCTCATCCTATGACAGCAGTCTCAAAGCTCC\n"
     ]
    },
    {
     "name": "stderr",
     "output_type": "stream",
     "text": [
      "/Users/jwillis/miniconda3/envs/bfx-bp-antibody/lib/python3.8/site-packages/Bio/Seq.py:2573: BiopythonWarning: Partial codon, len(sequence) not a multiple of three. Explicitly trim the sequence or add trailing N before translation. This may become an error in future.\n",
      "  warnings.warn(\"Partial codon, len(sequence) not a multiple of three. \"\n",
      "/Users/jwillis/miniconda3/envs/bfx-bp-antibody/lib/python3.8/site-packages/Bio/Seq.py:2573: BiopythonWarning: Partial codon, len(sequence) not a multiple of three. Explicitly trim the sequence or add trailing N before translation. This may become an error in future.\n",
      "  warnings.warn(\"Partial codon, len(sequence) not a multiple of three. \"\n",
      "/Users/jwillis/miniconda3/envs/bfx-bp-antibody/lib/python3.8/site-packages/Bio/Seq.py:2573: BiopythonWarning: Partial codon, len(sequence) not a multiple of three. Explicitly trim the sequence or add trailing N before translation. This may become an error in future.\n",
      "  warnings.warn(\"Partial codon, len(sequence) not a multiple of three. \"\n"
     ]
    },
    {
     "name": "stdout",
     "output_type": "stream",
     "text": [
      "1798|IGLV1-152*01|Canis_lupus_familiaris_boxer|P|V-REGION||98 AA|||||||||\n",
      "QSVLIQPAS.VSGSLGQRVTISCSGRTNNI....GRFGASWYQQLPGKAPKLLVDS........DGD*PSGVP.DRFSGSR..SGSSATLTITGVQAEDEADYYCQSFDPTLGA\n",
      "CAATCTGTGCTGATCCAGCCGGCCTCAGTGTCGGGATCCCTGGGCCAGAGAGTCACCATCTCCTGCTCTGGAAGGACAAACAACATCGGTAGGTTTGGTGCGAGCTGGTACCAACAGCTCCCAGGAAAGGCCCCTAAACTCCTCGTGGACAGTGATGGGGATTGACCGTCAGGGGTCCCTGACCGGTTTTCCGGCTCCAGGTCTGGCAGCTCAGCCACCCTGACCATCACTGGGGTCCAGGCTGAGGATGAGGCTGATTATTACTGCCAGTCCTTTGATCCCACGCTTGGTGCTCA\n",
      "1800|IGLV1-155*01|Canis_lupus_familiaris_boxer|F|V-REGION||98 AA|||||||||\n",
      "QSVLTQPPS.VSGFLGQRVTISCTGSSSNI....GRGYVHWYQQLPGTGPRTLIYGI.......SNRPSGVP.DRFSGSR..SGSTATLTISGLQAEDEADYYCSSWDSSLSA\n",
      "CAGTCTGTGCTGACTCAGCCTCCCTCAGTGTCCGGGTTCCTGGGCCAGAGGGTCACCATCTCCTGCACTGGAAGCAGCTCCAACATCGGTAGAGGTTATGTGCACTGGTACCAACAGCTCCCAGGAACAGGCCCCAGAACCCTCATCTATGGTATTAGTAACCGACCCTCAGGGGTCCCCGATCGATTCTCTGGCTCCAGGTCAGGCAGCACAGCCACTCTGACAATCTCTGGGCTCCAGGCTGAGGATGAGGCTGATTATTACTGCTCATCCTGGGACAGCAGTCTCAGTGCTCT\n",
      "1801|IGLV1-157*01|Canis_lupus_familiaris_boxer|F|V-REGION||98 AA|||||||||\n",
      "QSVLTQPAS.VSGSLGQRVTISCTGSSSNI....GRGYVGWYQQLPGTGPRTLIYDN.......SNRPSGVP.DRFSGSK..SGSTATLTISGLQAEDEADYYCSTYDSSLSG\n",
      "CAGTCTGTGCTGACTCAGCCGGCCTCAGTGTCTGGGTCCCTGGGCCAGAGGGTCACCATCTCCTGCACTGGAAGCAGCTCCAACATCGGTAGAGGTTATGTGGGCTGGTACCAGCAGCTCCCAGGAACAGGCCCCAGAACCCTCATCTATGATAATAGTAACCGACCCTCGGGGGTCCCTGATCGATTCTCTGGCTCCAAGTCAGGCAGCACAGCCACCCTGACCATCTCTGGGCTCCAGGCTGAGGACGAGGCTGATTATTACTGCTCAACATACGACAGCAGTCTCAGTGGTGG\n",
      "1802|IGLV1-158*01|Canis_lupus_familiaris_boxer|F|V-REGION||98 AA|||||||||\n",
      "QSVLNQLPS.VLGSLGQRITISCSGSTNDI....GMLGVNWYQELPGKAPKLLVDGT.......GNRPSGVP.DRFSGSK..SGNSGTLTITGLQAEDEADYYCQSTDLTLGA\n",
      "CAGTCTGTGCTGAATCAGCTGCCTTCAGTGTTAGGATCCCTGGGCCAGAGAATCACCATCTCCTGCTCTGGAAGCACGAATGACATCGGTATGCTTGGTGTGAACTGGTACCAAGAGCTCCCAGGAAAGGCCCCTAAACTCCTCGTAGATGGTACTGGGAATCGACCCTCAGGGGTCCCTGACCGATTTTCTGGCTCCAAATCTGGCAACTCAGGCACTCTGACCATCACTGGGCTCCAGGCTGAGGACGAGGCTGATTATTATTGTCAGTCCACTGATCTCACGCTTGGTGCTCC\n"
     ]
    },
    {
     "name": "stderr",
     "output_type": "stream",
     "text": [
      "/Users/jwillis/miniconda3/envs/bfx-bp-antibody/lib/python3.8/site-packages/Bio/Seq.py:2573: BiopythonWarning: Partial codon, len(sequence) not a multiple of three. Explicitly trim the sequence or add trailing N before translation. This may become an error in future.\n",
      "  warnings.warn(\"Partial codon, len(sequence) not a multiple of three. \"\n",
      "/Users/jwillis/miniconda3/envs/bfx-bp-antibody/lib/python3.8/site-packages/Bio/Seq.py:2573: BiopythonWarning: Partial codon, len(sequence) not a multiple of three. Explicitly trim the sequence or add trailing N before translation. This may become an error in future.\n",
      "  warnings.warn(\"Partial codon, len(sequence) not a multiple of three. \"\n",
      "/Users/jwillis/miniconda3/envs/bfx-bp-antibody/lib/python3.8/site-packages/Bio/Seq.py:2573: BiopythonWarning: Partial codon, len(sequence) not a multiple of three. Explicitly trim the sequence or add trailing N before translation. This may become an error in future.\n",
      "  warnings.warn(\"Partial codon, len(sequence) not a multiple of three. \"\n",
      "/Users/jwillis/miniconda3/envs/bfx-bp-antibody/lib/python3.8/site-packages/Bio/Seq.py:2573: BiopythonWarning: Partial codon, len(sequence) not a multiple of three. Explicitly trim the sequence or add trailing N before translation. This may become an error in future.\n",
      "  warnings.warn(\"Partial codon, len(sequence) not a multiple of three. \"\n"
     ]
    },
    {
     "name": "stdout",
     "output_type": "stream",
     "text": [
      "1803|IGLV1-159*01|Canis_lupus_familiaris_boxer|F|V-REGION||98 AA|||||||||\n",
      "QSVLTQPPS.VFRSLGQRVTISCTGSSCNV....GRGYVIWYQQLLGTRPRTLIYGS.......SNQPSGVP.NRFSGSR..SGSTATLTISGFQAEDEADYYCSSWDSSLSA\n",
      "CAGTCTGTGCTGACTCAGCCTCCCTCAGTGTTCAGGTCCCTGGGCCAGAGGGTCACCATCTCCTGCACTGGAAGCAGCTGCAACGTCGGTAGAGGTTATGTGATCTGGTACCAACAGCTCCTGGGAACACGCCCAAGAACCCTCATATATGGTAGTAGTAACCAACCCTCAGGGGTCCCCAATCGATTCTCTGGCTCCAGGTCAGGCAGCACAGCCACTCTGACAATCTCTGGGTTCCAGGCTGAGGATGAGGCTGATTATTACTGCTCATCCTGGGACAGCAGTCTCAGTGCTCT\n",
      "1804|IGLV1-160*01|Canis_lupus_familiaris_boxer|P|V-REGION||99 AA|||||||||\n",
      "QSVLTQPVS.VSGALCQRVTISCTGSSSNI....GYSSCVS*YQQLPGTGPRTIIYSM.......NTLPSGVP.DRLSGSR..SGNSATLTISGLQAEDKADYYCSTYDSSLNA\n",
      "CAGTCTGTGCTGACTCAACCAGTCTCAGTGTCTGGGGCCCTGTGCCAGAGGGTCACCATCTCCTGCACTGGAAGCAGCTCCAACATTGGTTATAGCAGCTGTGTGAGCTGATATCAGCAGCTCCCAGGAACAGGCCCCAGAACCATCATCTATAGTATGAATACTCTACCCTCTGGGGTTCCTGATCGATTGTCTGGCTCCAGGTCAGGCAACTCAGCCACCCTAACCATCTCTGGGCTCCAGGCTGAGGACAAGGCTGACTATTACTGCTCAACATATGACAGCAGTCTCAATGCTCA\n",
      "1805|IGLV1-162*01|Canis_lupus_familiaris_boxer|F|V-REGION||98 AA|||||||||\n",
      "QSVLTQPTS.VSGSLGQRVTISCSGSTNNI....GIVGASWYQQLPGKAPKLLVYSD.......GDRPSGVP.DRFSGSN..SGNSDTLTITGLQAEDEADYYCQSFDTTLDA\n",
      "CAGTCTGTGCTGACTCAGCCGACCTCAGTGTCGGGGTCCCTTGGCCAGAGGGTCACCATCTCCTGCTCTGGAAGCACGAACAACATCGGTATTGTTGGTGCGAGCTGGTACCAACAGCTCCCAGGAAAGGCCCCTAAACTCCTCGTGTACAGTGATGGGGATCGACCGTCAGGGGTCCCTGACCGGTTTTCCGGCTCCAACTCTGGCAACTCAGACACCCTGACCATCACTGGGCTTCAGGCTGAGGACGAGGCTGATTATTACTGCCAGTCCTTTGATACCACGCTTGATGCTCA\n",
      "Did not detect anything in summary dataframe,[],[]\n",
      "having trouble with 1808|IGLV1-35*01|Canis_lupus_familiaris_boxer|P|V-REGION||102 AA|||||||||-QSVLTQLASVSGALGHRVSISWTGSSSNIRVDYPLS*YQQLPE*RTNPNSSSMVTAIGSQGFQIHSLEAPSLAPQAP*PTLASRLRTRLIVTAQRGTWISVL\n",
      "1808|IGLV1-35*01|Canis_lupus_familiaris_boxer|P|V-REGION||102 AA|||||||||\n",
      "QSVLTQPTS.VSGSLGQRVTISCSGSTNNI....GIVGASWYQQLPGKAPKLLVYSD.......GDRPSGVP.DRFSGSN..SGNSDTLTITGLQAEDEADYYCQSFDTTLDA\n",
      "CAGTCTGTGCTGACTCAGCTGGCCTCGGTGTCTGGGGCCCTGGGCCACAGGGTCAGCATCTCCTGGACTGGAAGCAGCTCCAACATAAGGGTTGATTATCCTTTGAGCTGATACCAACAGCTCCCAGAATGAAGAACGAACCCAAACTCCTCATCTATGGTAACAGCAATTGGCTCTCAGGGGTTCCAGATCCATTCTCTAGAGGCTCCAAGTCTGGCACCTCAGGCTCCCTGACCAACTCTGGCCTCCAGGCTGAGGACGAGGCTGATTGTTACTGCGCAGCGTGGGACATGGATCTCAGTGCTC\n"
     ]
    },
    {
     "name": "stderr",
     "output_type": "stream",
     "text": [
      "/Users/jwillis/miniconda3/envs/bfx-bp-antibody/lib/python3.8/site-packages/Bio/Seq.py:2573: BiopythonWarning: Partial codon, len(sequence) not a multiple of three. Explicitly trim the sequence or add trailing N before translation. This may become an error in future.\n",
      "  warnings.warn(\"Partial codon, len(sequence) not a multiple of three. \"\n"
     ]
    },
    {
     "name": "stdout",
     "output_type": "stream",
     "text": [
      "1812|IGLV1-37*01|Canis_lupus_familiaris_boxer|ORF|V-REGION||98 AA|||||||||\n",
      "QSVLTQLAS.VSGSLGQRVTISCSGSTNDI....GIIGVNWYQQLPGKAPKLLIYDN.......EKRPSGIP.DRFSGSK..SGNSGTLTITGLQAEDEADYYCQSMDFSLGG\n",
      "CAATCTGTGCTGACTCAGCTGGCCTCAGTGTCTGGGTCCTTGGGCCAGAGGGTCACCATCTCCTGCTCTGGAAGCACAAATGACATTGGTATTATTGGTGTGAACTGGTACCAGCAGCTCCCAGGGAAGGCCCCTAAACTCCTCATATACGATAATGAGAAGCGACCCTCAGGTATCCCCGATCGATTCTCTGGCTCCAAGTCTGGCAACTCAGGCACCCTGACCATCACTGGGCTCCAGGCTGAGGACGAGGCTGATTATTACTGCCAGTCCATGGATTTCAGCCTCGGTGGT\n",
      "1819|IGLV1-41*01|Canis_lupus_familiaris_boxer|ORF|V-REGION||99 AA|||||||||\n",
      "QSVLTQPAS.VSGSLGQRVTISCTGSSSNVG...YSSSVGWYQQFPGTGPRTIIYYD.......SSRPSGVP.DRFSGSK..SGSTATLTISGLQAEDEADYYCSSWDNSLKA\n",
      "CAGTCTGTGCTGACTCAGCCAGCCTCCGTGTCTGGGTCCCTGGGCCAGAGGGTCACCATTTCCTGCACTGGAAGCAGCTCCAACGTTGGTTATAGCAGTAGTGTGGGCTGGTACCAGCAGTTCCCAGGAACAGGCCCCAGAACCATCATCTATTATGATAGTAGCCGACCCTCGGGGGTCCCCGATCGATTCTCTGGCTCCAAGTCTGGCAGCACAGCCACCCTGACCATCTCTGGGCTCCAGGCTGAGGATGAGGCTGATTATTACTGCTCATCTTGGGACAACAGTCTCAAAGCTCC\n",
      "1824|IGLV1-44*01|Canis_lupus_familiaris_boxer|F|V-REGION||98 AA|||||||||\n",
      "QAVLNQPAS.VSGALGQKVTISCSGSTNDI....DIFGVSWYQQLPGKAPKLLVDSD.......GDRPSGVP.DRFSGSS..SGNSGTLTITGLQAEDEADYYCQSVDSTLGA\n",
      "CAGGCTGTGCTGAATCAGCCGGCCTCAGTGTCTGGGGCCCTGGGCCAGAAGGTCACCATCTCCTGCTCTGGAAGCACAAATGACATTGATATATTTGGTGTGAGCTGGTACCAACAGCTCCCAGGAAAGGCCCCTAAACTCCTCGTGGACAGTGATGGGGATCGACCCTCAGGGGTCCCTGACAGATTTTCTGGCTCCAGCTCTGGCAACTCAGGCACCCTGACCATCACTGGGCTCCAGGCTGAGGACGAGGCTGATTATTACTGTCAGTCTGTTGATTCCACGCTTGGTGCTCA\n",
      "1827|IGLV1-45*01|Canis_lupus_familiaris_boxer|P|V-REGION||98 AA|||||||||\n",
      "QSVLTQSAS.ASGSLGQRVSVSCSSSTNNI....GIIGVKWYQQIPRKAPKLLIYDN.......EKRPSGVP..N*FSGSK..SGNLGTLTINGLQAEGEADYYCQSMDFSLGG\n",
      "CAGTCTGTACTGACTCAATCAGCCTCAGCGTCTGGGTCCTTGGGCCAGAGGGTCTCCGTCTCCTGCTCTAGCAGCACAAACAACATTGGTATTATTGGTGTGAAGTGGTACCAGCAGATCCCAAGAAAGGCCCCTAAACTCCTCATATATGATAATGAGAAGAGACCCTCAGGTGTCCCCAATTGATTCTCTGGCTCCAAGTCTGGCAACTTAGGCACCCTAACCATCAATGGGCTTCAGGCTGAGGGCGAGGCTGATTATTACTGCCAGTCCATGGATTTCAGCCTCGGTGGT\n"
     ]
    },
    {
     "name": "stderr",
     "output_type": "stream",
     "text": [
      "/Users/jwillis/miniconda3/envs/bfx-bp-antibody/lib/python3.8/site-packages/Bio/Seq.py:2573: BiopythonWarning: Partial codon, len(sequence) not a multiple of three. Explicitly trim the sequence or add trailing N before translation. This may become an error in future.\n",
      "  warnings.warn(\"Partial codon, len(sequence) not a multiple of three. \"\n",
      "/Users/jwillis/miniconda3/envs/bfx-bp-antibody/lib/python3.8/site-packages/Bio/Seq.py:2573: BiopythonWarning: Partial codon, len(sequence) not a multiple of three. Explicitly trim the sequence or add trailing N before translation. This may become an error in future.\n",
      "  warnings.warn(\"Partial codon, len(sequence) not a multiple of three. \"\n",
      "/Users/jwillis/miniconda3/envs/bfx-bp-antibody/lib/python3.8/site-packages/Bio/Seq.py:2573: BiopythonWarning: Partial codon, len(sequence) not a multiple of three. Explicitly trim the sequence or add trailing N before translation. This may become an error in future.\n",
      "  warnings.warn(\"Partial codon, len(sequence) not a multiple of three. \"\n"
     ]
    },
    {
     "name": "stdout",
     "output_type": "stream",
     "text": [
      "1828|IGLV1-46*01|Canis_lupus_familiaris_boxer|F|V-REGION||98 AA|||||||||\n",
      "QSVLTQPAS.VSGSLGQRVTISCTGSSSNI....GRDYVGWYQQLPGTRPRTLIYGN.......SNRPSGVP.DRFSGSK..SGSTATLTISGLQAEDEADYYCSTWDNSLTV\n",
      "CAGTCTGTGCTGACTCAACCAGCCTCAGTGTCCGGGTCTCTGGGCCAGAGGGTCACCATCTCCTGCACTGGAAGCAGCTCCAACATTGGTAGAGATTATGTGGGCTGGTACCAACAGCTCCCGGGAACACGCCCCAGAACCCTCATCTATGGTAATAGTAACCGACCCTCGGGGGTCCCCGATCGATTCTCTGGCTCCAAGTCAGGCAGCACAGCCACCCTGACCATCTCTGGGCTCCAGGCTGAGGACGAGGCTGATTATTACTGCTCTACATGGGACAACAGTCTCACTGTTCC\n",
      "1834|IGLV1-48*01|Canis_lupus_familiaris_boxer|F|V-REGION||98 AA|||||||||\n",
      "QSMLTQPAS.VSGSLGQKVTISCTGSSSNI....GGNYVGWYQQLPGIGPRTVIYGN.......NYRPSGVP.DRFSGSK..SGSSATLTISGLQAEDEAEYYCSSWDDSLRG\n",
      "CAGTCTATGCTGACTCAGCCAGCCTCAGTGTCTGGGTCCCTGGGCCAGAAGGTCACCATCTCCTGCACTGGAAGCAGCTCCAACATCGGTGGTAATTATGTGGGCTGGTACCAACAGCTCCCAGGAATAGGCCCTAGAACCGTCATCTATGGTAATAATTACCGACCTTCAGGGGTCCCCGATCGATTCTCTGGCTCCAAGTCAGGCAGTTCAGCCACCCTGACCATCTCTGGGCTCCAGGCTGAGGACGAGGCTGAGTATTACTGCTCATCATGGGATGATAGTCTCAGAGGTCA\n",
      "1835|IGLV1-49*01|Canis_lupus_familiaris_boxer|F|V-REGION||99 AA|||||||||\n",
      "QAVLTQPPS.VSAVLGQRVTISCTGSSTNIG...SGYDVQWYQQLPGKSPKTIIYGN.......SNRPSGVP.DRFSGSK..SGSTASLTITGLQAEDEADYYCQSSDDNLDD\n",
      "CAGGCTGTGCTGACTCAGCCGCCCTCAGTGTCTGCGGTCCTGGGACAGAGGGTCACCATCTCCTGCACTGGAAGCAGCACCAACATTGGCAGTGGTTATGATGTACAATGGTACCAGCAGCTCCCAGGAAAGTCCCCTAAAACTATCATCTATGGTAATAGCAATCGACCCTCAGGGGTCCCGGATCGCTTCTCTGGCTCCAAGTCAGGCAGCACAGCCTCTCTGACCATCACTGGGCTCCAGGCTGAGGACGAGGCTGATTATTACTGCCAGTCCTCTGATGACAACCTCGATGATCA\n",
      "1836|IGLV1-50*01|Canis_lupus_familiaris_boxer|P|V-REGION||98 AA|||||||||\n",
      "QSVLTQPAS.VSGSLGQRVTISCTGSSSNI....DRKYVGWYQQLPGTGPRTVIYDN.......SNRPSGVP.DRFSGSK..SGSTATLTISGLQAEDEADYYCSTYDSSLSS\n",
      "CAGTCTGTGCTGACTCAGCCGGCCTCAGTGTCCGGGTCTCTGGGCCAGAGAGTCACCATCTCCTGCACTGGAAGCAGCTCCAACATCGATAGAAAATATGTTGGCTGGTACCAACAGCTCCCGGGAACAGGCCCCAGAACCGTCATCTATGATAATAGTAACCGACCCTCGGGGGTCCCTGATCGATTCTCTGGCTCCAAGTCAGGCAGCACAGCCACCCTGACCATCTCTGGGCTCCAGGCTGAGGACGAGGCTGATTATTACTGCTCAACATACGACAGCAGTCTCAGTAGTGG\n"
     ]
    },
    {
     "name": "stderr",
     "output_type": "stream",
     "text": [
      "/Users/jwillis/miniconda3/envs/bfx-bp-antibody/lib/python3.8/site-packages/Bio/Seq.py:2573: BiopythonWarning: Partial codon, len(sequence) not a multiple of three. Explicitly trim the sequence or add trailing N before translation. This may become an error in future.\n",
      "  warnings.warn(\"Partial codon, len(sequence) not a multiple of three. \"\n",
      "/Users/jwillis/miniconda3/envs/bfx-bp-antibody/lib/python3.8/site-packages/Bio/Seq.py:2573: BiopythonWarning: Partial codon, len(sequence) not a multiple of three. Explicitly trim the sequence or add trailing N before translation. This may become an error in future.\n",
      "  warnings.warn(\"Partial codon, len(sequence) not a multiple of three. \"\n",
      "/Users/jwillis/miniconda3/envs/bfx-bp-antibody/lib/python3.8/site-packages/Bio/Seq.py:2573: BiopythonWarning: Partial codon, len(sequence) not a multiple of three. Explicitly trim the sequence or add trailing N before translation. This may become an error in future.\n",
      "  warnings.warn(\"Partial codon, len(sequence) not a multiple of three. \"\n",
      "/Users/jwillis/miniconda3/envs/bfx-bp-antibody/lib/python3.8/site-packages/Bio/Seq.py:2573: BiopythonWarning: Partial codon, len(sequence) not a multiple of three. Explicitly trim the sequence or add trailing N before translation. This may become an error in future.\n",
      "  warnings.warn(\"Partial codon, len(sequence) not a multiple of three. \"\n"
     ]
    },
    {
     "name": "stdout",
     "output_type": "stream",
     "text": [
      "1842|IGLV1-52*01|Canis_lupus_familiaris_boxer|P|V-REGION||98 AA|||||||||\n",
      "QSVLTQPAS.VSGSLGQRVTISCTGSSSNI....SRYNVNWYQQLLGTGPRTLIYGS.......SNRPSGVP..D*FSGSK..SGSPATLTISGLQAEDEADYYCSTYDRGLSA\n",
      "CAGTCTGTGCTGACTCAGCCGGCCTCAGTGTCTGGGTCCCTGGGCCAGAGGGTCACCATCTCCTGCACTGGAAGCAGCTCCAACATCAGTAGATATAATGTGAACTGGTACCAACAGCTCCTGGGAACAGGCCCCAGAACCCTCATCTATGGTAGTAGTAACCGACCCTCGGGGGTCCCCGATTGATTCTCTGGCTCCAAGTCAGGCAGCCCAGCTACCCTGACCATCTCTGGGCTCCAGGCTGAGGATGAGGCTGATTATTACTGCTCAACATACGACAGGGGTCTCAGTGCTCG\n",
      "1845|IGLV1-54*01|Canis_lupus_familiaris_boxer|P|V-REGION||98 AA|||||||||\n",
      "QPVLTQPPS.GSGGLGQRFSISCSGSTNNI....SDYYVNWY*Q.LPGTAPKTIIYLD.......DTRPPGVP..D*FSVSK..SSSSATLTISGLQAEDEADYYCSSWGDSLNA\n",
      "CAGCCTGTGCTGACTCAGCCGCCCTCAGGGTCTGGGGGCCTGGGCCAGAGGTTCAGCATCTCCTGTTCTGGAAGCACAAACAACATCAGTGATTATTATGTGAACTGGTACTAACAGCTCCCAGGGACAGCCCCTAAAACCATTATCTATTTGGATGATACCAGACCCCCTGGGGTCCCGGATTGATTCTCTGTCTCCAAGTCTAGCAGCTCAGCTACCCTGACCATCTCTGGGCTCCAGGCTGAGGATGAAGCTGATTATTACTGCTCATCCTGGGGTGATAGTCTCAATGCTCC\n",
      "1846|IGLV1-55*01|Canis_lupus_familiaris_boxer|F|V-REGION||98 AA|||||||||\n",
      "QSVLTQPAS.VSGSLGQRITISCTGSSSNI....GGNNVGWYQQLPGRGPRTVIYST.......NSRPSGVP.DRFSGSK..SGSTATLTISGLQAEDEADYYCSTWDDSLSA\n",
      "CAGTCTGTGCTGACTCAGCCGGCCTCAGTGTCTGGGTCCCTGGGCCAGAGGATCACCATCTCCTGCACTGGAAGCAGCTCCAACATTGGAGGTAATAATGTGGGTTGGTACCAGCAGCTCCCAGGAAGAGGCCCCAGAACTGTCATCTATAGTACAAATAGTCGACCCTCGGGGGTGCCCGATCGATTCTCTGGCTCCAAGTCTGGCAGCACAGCCACCCTGACCATCTCTGGGCTCCAGGCTGAGGATGAGGCTGATTATTACTGCTCAACGTGGGATGATAGTCTCAGTGCTCC\n",
      "1847|IGLV1-56*01|Canis_lupus_familiaris_boxer|ORF|V-REGION||98 AA|||||||||\n",
      "RSVLTQPPS.VSGSVGQRITISRSGSTNSI....GILGVNWYQELPGKAPKLLVDGT.......GNRPSGVP.DRFSGSK..SGNSGTLTITGLQPEDEADYYCQSIEPMLGA\n",
      "CGGTCTGTGCTGACTCAGCCGCCCTCAGTGTCGGGATCTGTGGGCCAGAGAATCACCATCTCCCGCTCTGGAAGCACAAACAGCATTGGTATACTTGGTGTGAACTGGTACCAAGAGCTCCCAGGAAAGGCCCCTAAACTCCTCGTAGATGGTACTGGGAATAGACCCTCAGGGGTCCCTGACCGATTTTCTGGCTCCAAATCTGGCAACTCAGGCACTCTGACCATCACTGGGCTTCAGCCTGAGGACGAGGCTGATTATTATTGTCAGTCCATTGAACCCATGCTTGGTGCTCC\n"
     ]
    },
    {
     "name": "stderr",
     "output_type": "stream",
     "text": [
      "/Users/jwillis/miniconda3/envs/bfx-bp-antibody/lib/python3.8/site-packages/Bio/Seq.py:2573: BiopythonWarning: Partial codon, len(sequence) not a multiple of three. Explicitly trim the sequence or add trailing N before translation. This may become an error in future.\n",
      "  warnings.warn(\"Partial codon, len(sequence) not a multiple of three. \"\n",
      "/Users/jwillis/miniconda3/envs/bfx-bp-antibody/lib/python3.8/site-packages/Bio/Seq.py:2573: BiopythonWarning: Partial codon, len(sequence) not a multiple of three. Explicitly trim the sequence or add trailing N before translation. This may become an error in future.\n",
      "  warnings.warn(\"Partial codon, len(sequence) not a multiple of three. \"\n",
      "/Users/jwillis/miniconda3/envs/bfx-bp-antibody/lib/python3.8/site-packages/Bio/Seq.py:2573: BiopythonWarning: Partial codon, len(sequence) not a multiple of three. Explicitly trim the sequence or add trailing N before translation. This may become an error in future.\n",
      "  warnings.warn(\"Partial codon, len(sequence) not a multiple of three. \"\n",
      "/Users/jwillis/miniconda3/envs/bfx-bp-antibody/lib/python3.8/site-packages/Bio/Seq.py:2573: BiopythonWarning: Partial codon, len(sequence) not a multiple of three. Explicitly trim the sequence or add trailing N before translation. This may become an error in future.\n",
      "  warnings.warn(\"Partial codon, len(sequence) not a multiple of three. \"\n"
     ]
    },
    {
     "name": "stdout",
     "output_type": "stream",
     "text": [
      "1849|IGLV1-57*01|Canis_lupus_familiaris_boxer|F|V-REGION||99 AA|||||||||\n",
      "QAVLTPLPS.VSAALGQTVTISCTGNSTQIS...SGYAVQWYQQLPGKSPETIIYGD.......SNRPSGVP.DRFSGFS..SGNSATLAITGLQDEDEADYYCQSLDDNLNG\n",
      "CAGGCTGTGCTGACTCCGCTGCCCTCAGTGTCTGCGGCCCTGGGACAGACGGTCACCATCTCTTGTACTGGAAATAGCACCCAAATCAGCAGTGGTTATGCTGTACAATGGTACCAGCAGCTCCCAGGAAAGTCCCCTGAAACTATCATCTATGGTGATAGCAATCGACCCTCGGGGGTCCCAGATCGATTCTCTGGCTTCAGCTCTGGCAATTCAGCCACACTGGCCATCACTGGGCTCCAGGATGAGGACGAGGCTGATTATTACTGCCAGTCCTTAGATGACAACCTCAATGGTCA\n",
      "1850|IGLV1-58*01|Canis_lupus_familiaris_boxer|F|V-REGION||98 AA|||||||||\n",
      "QSVLTQPAS.VSGSLGQRVTISCTGSSSNI....GRYSVGWFQQLPGKGPRTVIYSS.......SNRPSGVP.DRFSGSK..SGSTATLTISGLQAEDEADYYCSTYDSSLSS\n",
      "CAGTCTGTGCTGACTCAGCCGGCCTCAGTGTCTGGGTCCCTGGGCCAGAGGGTCACCATCTCCTGCACTGGAAGCAGCTCCAACATCGGTAGATATAGTGTTGGCTGGTTCCAGCAGCTCCCGGGAAAAGGCCCCAGAACCGTCATCTATAGTAGTAGTAACCGACCCTCAGGGGTCCCTGATCGATTCTCTGGCTCCAAGTCAGGCAGCACAGCCACCCTGACCATCTCTGGGCTCCAGGCTGAGGACGAGGCTGATTATTACTGCTCAACATACGACAGCAGTCTCAGTAGTAG\n",
      "Did not detect anything in summary dataframe,[],[]\n",
      "having trouble with 1852|IGLV1-61*01|Canis_lupus_familiaris_boxer|P|V-REGION||98 AA|||||||||-QSVLT*PPSVSGALGQRVTISCTGSSSSMGSYYVSWHKQLPGTGPRTIMCCKNIDLRESPIKSLAPILATQPP*PSLGSWLRMRLIITVQHGMTISMH\n",
      "1852|IGLV1-61*01|Canis_lupus_familiaris_boxer|P|V-REGION||98 AA|||||||||\n",
      "QSVLTQPAS.VSGSLGQRVTISCTGSSSNI....GRYSVGWFQQLPGKGPRTVIYSS.......SNRPSGVP.DRFSGSK..SGSTATLTISGLQAEDEADYYCSTYDSSLSS\n",
      "CAGTCTGTGCTGACATAGCCACCCTCAGTGTCTGGGGCCCTGGGCCAGAGGGTCACCATCTCCTGCACTGGAAGCAGCTCAAGCATGGGTAGTTATTATGTGAGCTGGCACAAGCAGCTCCCAGGAACAGGCCCCAGAACCATCATGTGTTGTAAAAACATCGACCTTCGGGAATCTCCAATCAAGTCTCTGGCTCCCATTCTGGCAACACAGCCACCCTGACCATCACTGGGCTCCTGGCTGAGGATGAGGCTGATTATTACTGTTCAACATGGGATGACAATCTCAATGCACC\n",
      "Did not detect anything in summary dataframe,[],[]\n",
      "having trouble with 1855|IGLV1-63*01|Canis_lupus_familiaris_boxer|P|V-REGION||98 AA|||||||||-QSVLTQLPSVSGALGQRVTISCSGSSSKLGAYALN*NQQFPGTDSNFLIYDDSN*SFWMPD*FCGSTSSSSGSLTITGLWDEDKADYYCQCHYHSLRA\n",
      "1855|IGLV1-63*01|Canis_lupus_familiaris_boxer|P|V-REGION||98 AA|||||||||\n",
      "QSVLTQPAS.VSGSLGQRVTISCTGSSSNI....GRYSVGWFQQLPGKGPRTVIYSS.......SNRPSGVP.DRFSGSK..SGSTATLTISGLQAEDEADYYCSTYDSSLSS\n",
      "CAGTCTGTGCTGACTCAGCTGCCCTCAGTGTCTGGGGCCCTGGGCCAGAGGGTCACCATCTCCTGCTCTGGAAGCAGCTCTAAACTTGGGGCTTATGCTCTGAACTAGAACCAACAATTCCCAGGAACAGATTCCAATTTCCTCATCTATGATGATAGTAATTGATCTTTCTGGATGCCTGATTAATTCTGTGGCTCCACATCCAGCAGTTCAGGCTCCCTGACCATCACTGGGCTCTGGGATGAGGACAAGGCTGATTATTACTGCCAGTGCCATTACCATAGCCTCCGTGCT\n"
     ]
    },
    {
     "name": "stderr",
     "output_type": "stream",
     "text": [
      "/Users/jwillis/miniconda3/envs/bfx-bp-antibody/lib/python3.8/site-packages/Bio/Seq.py:2573: BiopythonWarning: Partial codon, len(sequence) not a multiple of three. Explicitly trim the sequence or add trailing N before translation. This may become an error in future.\n",
      "  warnings.warn(\"Partial codon, len(sequence) not a multiple of three. \"\n",
      "/Users/jwillis/miniconda3/envs/bfx-bp-antibody/lib/python3.8/site-packages/Bio/Seq.py:2573: BiopythonWarning: Partial codon, len(sequence) not a multiple of three. Explicitly trim the sequence or add trailing N before translation. This may become an error in future.\n",
      "  warnings.warn(\"Partial codon, len(sequence) not a multiple of three. \"\n",
      "/Users/jwillis/miniconda3/envs/bfx-bp-antibody/lib/python3.8/site-packages/Bio/Seq.py:2573: BiopythonWarning: Partial codon, len(sequence) not a multiple of three. Explicitly trim the sequence or add trailing N before translation. This may become an error in future.\n",
      "  warnings.warn(\"Partial codon, len(sequence) not a multiple of three. \"\n"
     ]
    },
    {
     "name": "stdout",
     "output_type": "stream",
     "text": [
      "1857|IGLV1-65*01|Canis_lupus_familiaris_boxer|P|V-REGION||98 AA|||||||||\n",
      "QSVLTQPAS.VSGSLGQRVTISCTGTNNIG....GDNYVHWYQQLPGKAPSLLIYGD.......DNRESGVP.ERFSGSK..SGSSATLTITGLHAEDEADI......IASPTMTASIL\n",
      "CAGTCTGTGCTGACTCAGCCAGCCTCAGTGTCTGGATCCCTGGGCCAAAGGGTCACCATCTCCTGCACTGGAACAAACAACATCGGTGGTGATAATTATGTGCACTGGTACCAACAGCTCCCAGGAAAGGCACCCAGTCTCCTCATCTATGGTGATGATAACAGAGAATCTGGGGTCCCGGAACGATTCTCTGGCTCCAAGTCAGGCAGCTCAGCCACTCTGACCATCACTGGGCTCCATGCTGAGGACGAGGCTGATATTATTGCCAGTCCTACGATGACAGCCTCAATACTCA\n",
      "1859|IGLV1-66*01|Canis_lupus_familiaris_boxer|F|V-REGION||98 AA|||||||||\n",
      "QSVLTQPPS.VSGSVGQRITISCSGSTNSI....GILGVNWYQLLSGKAPKLLVDGT.......GNRPSGVP.DRFSGSK..SGNSGTLTITGLQPEDEADYYCQSIEPMLGA\n",
      "CAGTCTGTGCTGACTCAGCCGCCCTCAGTGTCAGGATCTGTGGGCCAGAGAATCACCATCTCCTGCTCTGGAAGCACAAACAGCATTGGTATACTTGGTGTGAACTGGTACCAACTGCTCTCAGGAAAGGCCCCTAAACTCCTCGTAGATGGTACTGGAAATCGACCCTCAGGGGTCCCTGACCGATTTTCTGGCTCCAAATCTGGCAACTCAGGCACTCTGACCATCACTGGGCTTCAGCCTGAGGACGAGGCTGATTATTATTGTCAGTCCATTGAACCCATGCTTGGTGCTCC\n",
      "1860|IGLV1-67*01|Canis_lupus_familiaris_boxer|F|V-REGION||98 AA|||||||||\n",
      "QSVLTQPAS.VSGVLGQRVTISCTGSSSNI....GGNYVSWHQQVPETGPRNIIYAD.......NYRASGVP.DRFSGSK..SGSTATLTISVLQAEDEADYYCSVGDDSLKA\n",
      "CAGTCTGTCCTGACTCAGCCGGCCTCAGTGTCTGGGGTTCTGGGCCAGAGGGTCACCATCTCCTGCACTGGAAGCAGCTCCAACATTGGTGGAAATTATGTGAGCTGGCACCAGCAGGTCCCAGAAACAGGCCCCAGAAACATCATCTATGCTGATAACTACCGAGCCTCGGGGGTCCCTGATCGATTCTCTGGCTCCAAGTCAGGCAGCACAGCCACCCTGACCATCTCTGTGCTCCAGGCTGAGGATGAGGCTGATTATTACTGCTCAGTGGGGGATGATAGTCTCAAAGCACC\n",
      "1861|IGLV1-68*01|Canis_lupus_familiaris_boxer|P|V-REGION||103 AA|||||||||\n",
      "QSILTQQPS.VSGSLGQRVTISCTGFPSNNDYDAMKIHT*VGWYQQSPGKSPSLLIYD........ETRNSGVP.DRFSGSR..TGSSASLPISGLQAEDKTEYYCSAWDDRLDA\n",
      "CAGTCCATCCTGACTCAGCAGCCCTCAGTCTCTGGGTCACTGGGCCAGAGGGTCACCATCTCTTGCACTGGATTCCCTAGCAACAATGATTATGATGCAATGAAAATTCATACTTAAGTGGGCTGGTACCAACAGTCCCCAGGAAAGTCACCCAGTCTCCTCATTTATGATGAAACCAGAAACTCTGGGGTCCCTGATCGATTCTCTGGCTCCAGAACTGGTAGCTCAGCCTCCCTGCCCATCTCTGGACTCCAGGCTGAGGACAAGACTGAGTATTACTGCTCAGCATGGGATGATCGTCTTGATGCTCA\n"
     ]
    },
    {
     "name": "stderr",
     "output_type": "stream",
     "text": [
      "/Users/jwillis/miniconda3/envs/bfx-bp-antibody/lib/python3.8/site-packages/Bio/Seq.py:2573: BiopythonWarning: Partial codon, len(sequence) not a multiple of three. Explicitly trim the sequence or add trailing N before translation. This may become an error in future.\n",
      "  warnings.warn(\"Partial codon, len(sequence) not a multiple of three. \"\n",
      "/Users/jwillis/miniconda3/envs/bfx-bp-antibody/lib/python3.8/site-packages/Bio/Seq.py:2573: BiopythonWarning: Partial codon, len(sequence) not a multiple of three. Explicitly trim the sequence or add trailing N before translation. This may become an error in future.\n",
      "  warnings.warn(\"Partial codon, len(sequence) not a multiple of three. \"\n",
      "/Users/jwillis/miniconda3/envs/bfx-bp-antibody/lib/python3.8/site-packages/Bio/Seq.py:2573: BiopythonWarning: Partial codon, len(sequence) not a multiple of three. Explicitly trim the sequence or add trailing N before translation. This may become an error in future.\n",
      "  warnings.warn(\"Partial codon, len(sequence) not a multiple of three. \"\n",
      "/Users/jwillis/miniconda3/envs/bfx-bp-antibody/lib/python3.8/site-packages/Bio/Seq.py:2573: BiopythonWarning: Partial codon, len(sequence) not a multiple of three. Explicitly trim the sequence or add trailing N before translation. This may become an error in future.\n",
      "  warnings.warn(\"Partial codon, len(sequence) not a multiple of three. \"\n"
     ]
    },
    {
     "name": "stdout",
     "output_type": "stream",
     "text": [
      "1862|IGLV1-69*01|Canis_lupus_familiaris_boxer|P|V-REGION||97 AA|||||||||\n",
      "QSVLTQPPS.VSGSLGQRVTISCSGSTNNI....SIVGASWYQQLPGKAPKLLVDSD.......GDRPSGVP.DRFSGSK..SGKSATLTITGLQAEDEADYYCILVPRFVL\n",
      "CAGTCTGTGCTAACTCAGCCACCCTCAGTGTCGGGGTCGCTGGGCCAGAGGGTCACCATCTCCTGCTCTGGAAGCACAAACAACATCAGTATTGTTGGTGCGAGCTGGTACCAACAGCTCCCAGGAAAGGCCCCTAAACTCCTCGTGGACAGTGATGGGGATCGACCGTCAGGGGTCCCTGACCGATTTTCTGGCTCTAAGTCTGGCAAATCAGCCACCCTGACCATCACTGGGCTTCAGGCTGAGGACGAGGCTGATTATTACTGTATATTGGTCCCACGCTTTGTGCTCA\n",
      "1864|IGLV1-70*01|Canis_lupus_familiaris_boxer|F|V-REGION||99 AA|||||||||\n",
      "QSVLTQPAS.VSGSLGQRVTISCTRSSSNVG...YGNDVGWYQQLPGTGPRTIIYNT.......NTRPSGVP.DRFSGSK..SGSTATLTISGLQAEDEADYYCSSYDSSLNA\n",
      "CAGTCTGTGCTGACTCAACCGGCCTCCGTGTCTGGGTCCCTGGGCCAGAGAGTCACCATCTCTTGCACTAGAAGCAGCTCGAACGTTGGCTATGGCAATGATGTGGGATGGTACCAGCAGCTCCCAGGAACAGGCCCCAGAACCATCATCTATAATACCAATACTCGACCCTCTGGGGTTCCTGATCGATTCTCTGGCTCCAAATCAGGCAGCACAGCCACCCTGACCATCTCTGGACTCCAGGCTGAGGACGAGGCTGATTATTACTGCTCTTCCTATGACAGCAGTCTCAATGCTCA\n",
      "1866|IGLV1-72*01|Canis_lupus_familiaris_boxer|ORF|V-REGION||97 AA|||||||||\n",
      "QSVLTQPAS.VSGSLGQRVTI.CTGSSSNI....GTYSVGWYQQLPGSGPRTIIYGS.......SNRPLGVP.DRFSGSR..SGSTATLTISGLQAEDEADYYCFTYDSSLKA\n",
      "CAGTCTGTGCTAACTCAGCCGGCCTCAGTGTCTGGTTCCCTGGGTCAGAGGGTCACCATCTGCACTGGAAGCAGCTCCAACATTGGTACATATAGTGTAGGCTGGTACCAACAGCTCCCAGGATCAGGCCCCAGAACCATCATCTATGGTAGTAGTAACCGACCGTTGGGGGTCCCTGATCGATTCTCTGGCTCCAGGTCAGGCAGCACAGCCACCCTGACCATCTCTGGGCTCCAGGCTGAGGACGAAGCTGATTATTACTGCTTCACATACGACAGTAGTCTCAAAGCTCC\n",
      "1868|IGLV1-73*01|Canis_lupus_familiaris_boxer|F|V-REGION||98 AA|||||||||\n",
      "QSVLNQPPS.VSGSLGQRITISCSGSTNDI....GMLGVNWYQQLPGNAPKLLVDGT.......GNRPSGVP.DQFSGSK..SGNSGTLTITGLQAEDEADYYCQSYDLTLGA\n",
      "CAGTCTGTGCTGAATCAGCCACCTTCAGTGTCTGGATCCCTGGGCCAGAGAATCACCATCTCCTGCTCTGGAAGCACGAATGACATCGGTATGCTTGGTGTGAACTGGTACCAACAGCTCCCAGGAAATGCCCCTAAACTCCTTGTAGATGGTACTGGGAATCGACCCTCAGGGGTCCCTGACCAATTTTCTGGCTCCAAATCTGGCAATTCAGGCACTCTGACCATCACTGGGCTCCAGGCTGAGGACGAGGCTGATTATTATTGTCAGTCCTATGATCTCACGCTTGGTGCTCC\n"
     ]
    },
    {
     "name": "stderr",
     "output_type": "stream",
     "text": [
      "/Users/jwillis/miniconda3/envs/bfx-bp-antibody/lib/python3.8/site-packages/Bio/Seq.py:2573: BiopythonWarning: Partial codon, len(sequence) not a multiple of three. Explicitly trim the sequence or add trailing N before translation. This may become an error in future.\n",
      "  warnings.warn(\"Partial codon, len(sequence) not a multiple of three. \"\n",
      "/Users/jwillis/miniconda3/envs/bfx-bp-antibody/lib/python3.8/site-packages/Bio/Seq.py:2573: BiopythonWarning: Partial codon, len(sequence) not a multiple of three. Explicitly trim the sequence or add trailing N before translation. This may become an error in future.\n",
      "  warnings.warn(\"Partial codon, len(sequence) not a multiple of three. \"\n",
      "/Users/jwillis/miniconda3/envs/bfx-bp-antibody/lib/python3.8/site-packages/Bio/Seq.py:2573: BiopythonWarning: Partial codon, len(sequence) not a multiple of three. Explicitly trim the sequence or add trailing N before translation. This may become an error in future.\n",
      "  warnings.warn(\"Partial codon, len(sequence) not a multiple of three. \"\n",
      "/Users/jwillis/miniconda3/envs/bfx-bp-antibody/lib/python3.8/site-packages/Bio/Seq.py:2573: BiopythonWarning: Partial codon, len(sequence) not a multiple of three. Explicitly trim the sequence or add trailing N before translation. This may become an error in future.\n",
      "  warnings.warn(\"Partial codon, len(sequence) not a multiple of three. \"\n"
     ]
    },
    {
     "name": "stdout",
     "output_type": "stream",
     "text": [
      "Did not detect anything in summary dataframe,[],[]\n",
      "having trouble with 1870|IGLV1-74*01|Canis_lupus_familiaris_boxer|P|V-REGION||93 AA|||||||||-QSMMTQPPSVSGSLGQRVTIYCTGIPSNTDYSGLEIYTYVSWYQQYKERHPVSSSMGMIPETLRSLINSLAPGLVAQPP*PSLDSRLRIVLML\n",
      "1870|IGLV1-74*01|Canis_lupus_familiaris_boxer|P|V-REGION||93 AA|||||||||\n",
      "QSVLNQPPS.VSGSLGQRITISCSGSTNDI....GMLGVNWYQQLPGNAPKLLVDGT.......GNRPSGVP.DQFSGSK..SGNSGTLTITGLQAEDEADYYCQSYDLTLGA\n",
      "CAGTCCATGATGACTCAGCCACCCTCAGTGTCTGGGTCACTGGGCCAGAGGGTCACCATCTACTGCACTGGAATCCCTAGCAACACTGATTATAGTGGATTGGAAATTTATACTTATGTGAGCTGGTACCAACAGTATAAGGAAAGGCACCCAGTCTCCTCATCTATGGGGATGATACCGGAAACTCTGAGGTCCCTGATCAATTCTCTGGCTCCAGGTCTGGTAGCTCAACCTCCCTGACCATCTCTGGACTCCAGGCTGAGGATAGTCTTAATGCTCA\n",
      "1871|IGLV1-75*01|Canis_lupus_familiaris_boxer|F|V-REGION||98 AA|||||||||\n",
      "QSVLTQPAS.VTGSLGQRVTISCTGSSSNI....GGYNVGWFQQLPGTGPRTVIYSS.......SNRPSGVP.DRFSGSR..SGSTATLTISGLQAEDEAEYYCSTWDSSLKA\n",
      "CAGTCTGTGCTGACTCAGCCGGCCTCAGTGACTGGGTCCCTGGGCCAGAGGGTCACCATCTCCTGCACTGGAAGCAGCTCCAACATCGGTGGATATAATGTTGGCTGGTTCCAGCAGCTCCCGGGAACAGGCCCCAGAACCGTCATCTATAGTAGTAGTAACCGACCCTCGGGGGTCCCGGATCGATTCTCTGGCTCCAGGTCAGGCAGCACAGCCACCCTGACCATCTCTGGGCTCCAGGCTGAGGACGAGGCTGAGTATTACTGCTCAACATGGGACAGCAGTCTCAAAGCTCC\n",
      "1873|IGLV1-78*01|Canis_lupus_familiaris_boxer|P|V-REGION||98 AA|||||||||\n",
      "QSVLTQPAS.VSRSLGQIVTISCAGSSSNI....RTKYVGWY*Q.LPRTGPRTVIYG........NSN*PSGVL.DQFSGSK..SGSIATLTISVLQAEDEAYYYCSTYDSSLSA\n",
      "CAGTCTGTGCTGACTCAACCGGCCTCAGTGTCCAGGTCCCTGGGCCAGATAGTCACCATCTCTTGCGCTGGAAGCAGCTCCAACATCCGTACAAAATATGTGGGCTGGTACTAACAGCTCCCGAGAACAGGCCCCAGAACCGTCATCTATGGTAATAGTAACTGACCCTCGGGGGTCCTCGATCAATTCTCTGGCTCCAAGTCAGGCAGCATAGCCACCCTGACCATCTCTGTGCTCCAGGCTGAGGACGAGGCTTATTATTACTGCTCAACATATGACAGCAGTCTCAGTGCTCT\n",
      "Did not detect anything in summary dataframe,[],[]\n",
      "having trouble with 1875|IGLV1-79*01|Canis_lupus_familiaris_boxer|P|V-REGION||99 AA|||||||||-QSVLTQPASVSGALGQRSPSPALGAAPMLVIAVMWAGTSSSQEQAPKPSSIIPILDPLGFLIDSLAPNQAAQPPLPLLDSRLRTRLIITAHPMTAVSKL\n",
      "1875|IGLV1-79*01|Canis_lupus_familiaris_boxer|P|V-REGION||99 AA|||||||||\n",
      "QSVLTQPAS.VSRSLGQIVTISCAGSSSNI....RTKYVGWY*Q.LPRTGPRTVIYG........NSN*PSGVL.DQFSGSK..SGSIATLTISVLQAEDEAYYYCSTYDSSLSA\n",
      "CAGTCTGTGCTGACTCAACCGGCCTCTGTGTCTGGGGCCCTGGGCCAGAGGTCACCATCTCCTGCACTAGGAGCAGCTCCAATGTTGGTTATAGCAGTTATGTGGGCTGGTACCAGCAGCTCCCAGGAACAGGCCCCAAAACCATCATCTATAATACCAATACTCGACCCTCTGGGGTTCCTGATCGATTCTCTGGCTCCAAATCAGGCAGCACAGCCACCCTTACCATTGCTGGACTCCAGGCTGAGGACGAGGCTGATTATTACTGCTCATCCTATGACAGCAGTCTCAAAGCTCC\n"
     ]
    },
    {
     "name": "stderr",
     "output_type": "stream",
     "text": [
      "/Users/jwillis/miniconda3/envs/bfx-bp-antibody/lib/python3.8/site-packages/Bio/Seq.py:2573: BiopythonWarning: Partial codon, len(sequence) not a multiple of three. Explicitly trim the sequence or add trailing N before translation. This may become an error in future.\n",
      "  warnings.warn(\"Partial codon, len(sequence) not a multiple of three. \"\n",
      "/Users/jwillis/miniconda3/envs/bfx-bp-antibody/lib/python3.8/site-packages/Bio/Seq.py:2573: BiopythonWarning: Partial codon, len(sequence) not a multiple of three. Explicitly trim the sequence or add trailing N before translation. This may become an error in future.\n",
      "  warnings.warn(\"Partial codon, len(sequence) not a multiple of three. \"\n",
      "/Users/jwillis/miniconda3/envs/bfx-bp-antibody/lib/python3.8/site-packages/Bio/Seq.py:2573: BiopythonWarning: Partial codon, len(sequence) not a multiple of three. Explicitly trim the sequence or add trailing N before translation. This may become an error in future.\n",
      "  warnings.warn(\"Partial codon, len(sequence) not a multiple of three. \"\n",
      "/Users/jwillis/miniconda3/envs/bfx-bp-antibody/lib/python3.8/site-packages/Bio/Seq.py:2573: BiopythonWarning: Partial codon, len(sequence) not a multiple of three. Explicitly trim the sequence or add trailing N before translation. This may become an error in future.\n",
      "  warnings.warn(\"Partial codon, len(sequence) not a multiple of three. \"\n"
     ]
    },
    {
     "name": "stdout",
     "output_type": "stream",
     "text": [
      "1877|IGLV1-80*01|Canis_lupus_familiaris_boxer|F|V-REGION||98 AA|||||||||\n",
      "QSVLTQPTS.VSWSLGQRVTISCSRSTNNI....GIVGASWYQQLPGKAPKLLVDSD.......GDQLSGVP.DRFSGSK..SGNSANLTITGLQAEDKADYYCQSFDHTLGA\n",
      "CAGTCTGTGCTGACTCAGCCGACCTCAGTGTCGTGGTCCCTGGGCCAGAGGGTCACAATCTCATGCTCTAGAAGCACGAATAACATCGGTATTGTCGGGGCGAGCTGGTACCAACAGCTCCCAGGAAAGGCCCCTAAACTCCTCGTGGACAGTGATGGGGATCAACTGTCAGGGGTCCCTGACCGATTTTCTGGCTCCAAGTCTGGCAACTCAGCCAACCTGACCATCACTGGGCTCCAGGCTGAGGACAAGGCTGATTATTACTGCCAGTCCTTTGATCACACGCTTGGTGCTCG\n",
      "1878|IGLV1-81*01|Canis_lupus_familiaris_boxer|P|V-REGION||98 AA|||||||||\n",
      "QSVLSQPAS.VSGVLGQRVTISCTGSSSNI....GGNYVSWHQQVPETGPRNIIYA........DNY*ASGVP.DGFSGSK*G...STATPTISVLQAEDEADYYCSVGDNSLKA\n",
      "CAGTCTGTGTTGAGTCAGCCAGCCTCAGTGTCTGGGGTTCTGGGCCAGAGGGTCACCATCTCCTGCACTGGAAGCAGCTCCAACATCGGTGGAAATTACGTGAGCTGGCACCAGCAGGTCCCAGAAACAGGCCCCAGAAACATCATCTATGCTGATAACTACTGAGCCTCGGGGGTCCCTGATGGATTCTCTGGCTCCAAGTAAGGCAGCACAGCCACCCCGACCATCTCTGTGCTCCAGGCTGAGGATGAGGCTGATTATTACTGCTCAGTGGGGGATAATAGTCTCAAAGCACC\n",
      "1879|IGLV1-82*01|Canis_lupus_familiaris_boxer|F|V-REGION||97 AA|||||||||\n",
      "QSVLTQPAS.VSGSLGQRVTISCSGRTNIG.....RFGASWYQQLPGKAPKLLVDSD.......GDRPSGVP.DRFSGSK..SGNSATLTITGLHAEDEADYYCLSIGPTLGA\n",
      "CAGTCTGTGCTGACTCAGCCAGCCTCAGTGTCGGGGTCCCTGGGCCAGAGAGTCACCATCTCCTGCTCTGGAAGGACAAACATCGGTAGGTTTGGTGCTAGCTGGTACCAACAGCTCCCAGGAAAGGCCCCTAAACTCCTCGTGGACAGTGATGGGGATCGACCGTCAGGGGTCCCTGACCGATTTTCCGGCTCCAAGTCTGGCAACTCGGCCACTCTGACCATCACTGGTCTCCATGCTGAGGACGAGGCTGATTATTACTGTCTGTCTATTGGTCCCACGCTTGGTGCTCA\n",
      "Did not detect anything in summary dataframe,[],[]\n",
      "having trouble with 1881|IGLV1-83*01|Canis_lupus_familiaris_boxer|P|V-REGION||99 AA|||||||||-QSVLTQPASVSGALGQRSPSPALGAAPMLVIAVMWAGTSSSQEQAPKPSSIIPILDPLGSLIDSLAPNQAGQPPLPLLDSRLRTRLIITAHPMTAVSKL\n",
      "1881|IGLV1-83*01|Canis_lupus_familiaris_boxer|P|V-REGION||99 AA|||||||||\n",
      "QSVLTQPAS.VSGSLGQRVTISCSGRTNIG.....RFGASWYQQLPGKAPKLLVDSD.......GDRPSGVP.DRFSGSK..SGNSATLTITGLHAEDEADYYCLSIGPTLGA\n",
      "CAGTCTGTGCTGACTCAACCGGCCTCTGTGTCTGGGGCCCTGGGCCAGAGGTCACCATCTCCTGCACTAGGAGCAGCTCCAATGTTGGTTATAGCAGTTATGTGGGCTGGTACCAGCAGCTCCCAGGAACAGGCCCCAAAACCATCATCTATAATACCAATACTCGACCCTCTGGGGTCCCTGATCGATTCTCTGGCTCCAAATCAGGCAGGACAGCCACCCTTACCATTGCTGGACTCCAGGCTGAGGACGAGGCTGATTATTACTGCTCATCCTATGACAGCAGTCTCAAAGCTCC\n"
     ]
    },
    {
     "name": "stderr",
     "output_type": "stream",
     "text": [
      "/Users/jwillis/miniconda3/envs/bfx-bp-antibody/lib/python3.8/site-packages/Bio/Seq.py:2573: BiopythonWarning: Partial codon, len(sequence) not a multiple of three. Explicitly trim the sequence or add trailing N before translation. This may become an error in future.\n",
      "  warnings.warn(\"Partial codon, len(sequence) not a multiple of three. \"\n",
      "/Users/jwillis/miniconda3/envs/bfx-bp-antibody/lib/python3.8/site-packages/Bio/Seq.py:2573: BiopythonWarning: Partial codon, len(sequence) not a multiple of three. Explicitly trim the sequence or add trailing N before translation. This may become an error in future.\n",
      "  warnings.warn(\"Partial codon, len(sequence) not a multiple of three. \"\n",
      "/Users/jwillis/miniconda3/envs/bfx-bp-antibody/lib/python3.8/site-packages/Bio/Seq.py:2573: BiopythonWarning: Partial codon, len(sequence) not a multiple of three. Explicitly trim the sequence or add trailing N before translation. This may become an error in future.\n",
      "  warnings.warn(\"Partial codon, len(sequence) not a multiple of three. \"\n",
      "/Users/jwillis/miniconda3/envs/bfx-bp-antibody/lib/python3.8/site-packages/Bio/Seq.py:2573: BiopythonWarning: Partial codon, len(sequence) not a multiple of three. Explicitly trim the sequence or add trailing N before translation. This may become an error in future.\n",
      "  warnings.warn(\"Partial codon, len(sequence) not a multiple of three. \"\n"
     ]
    },
    {
     "name": "stdout",
     "output_type": "stream",
     "text": [
      "1882|IGLV1-84*01|Canis_lupus_familiaris_boxer|F|V-REGION||99 AA|||||||||\n",
      "QAVLTQPAS.VSGSLGQRVTISCTGSSSNVG...YGNYVGWYQQLPGTGPRTLIYGS.......SYRPSGVP.DRFSGSS..SGSSATLTISGLQAEDEADYYCSSYDSSLSG\n",
      "CAGGCTGTGCTGACTCAGCCGGCCTCAGTGTCTGGGTCCCTGGGCCAGAGGGTCACCATCTCCTGCACTGGAAGCAGCTCCAATGTTGGTTATGGCAATTATGTGGGCTGGTACCAGCAGCTCCCAGGAACAGGCCCCAGAACCCTCATCTATGGTAGTAGTTACCGACCCTCGGGGGTCCCTGATCGATTCTCTGGCTCCAGTTCAGGCAGCTCAGCCACACTGACCATCTCTGGGCTCCAGGCTGAGGATGAAGCTGATTATTACTGCTCATCCTATGACAGCAGTCTCAGTGGTGG\n",
      "1883|IGLV1-84-1*01|Canis_lupus_familiaris_boxer|ORF|V-REGION||98 AA|||||||||\n",
      "QSVLTQPAS.ASGSLGQRVTVSCSSSTNNI....GIIGVKWYQQIPGKAHKLLIYDN.......EKRPSGVP.NRFSGSK..SGDLSTLTINGLQGEDEADYYCQSMDFSLGG\n",
      "CAGTCTGTGCTGACTCAGCCAGCCTCAGCGTCTGGGTCCTTGGGCCAGAGGGTCACTGTCTCCTGCTCTAGCAGCACAAACAACATCGGTATTATTGGTGTGAAGTGGTACCAGCAGATCCCAGGAAAGGCCCATAAACTCCTCATATATGATAATGAGAAGCGACCCTCAGGTGTCCCCAATCGATTCTCTGGCTCCAAGTCTGGCGACTTAAGCACCCTGACCATCAATGGGCTTCAGGGTGAGGACGAGGCTGATTATTATTGCCAGTCCATGGATTTCAGCCTCGGTGGTCA\n",
      "1884|IGLV1-86*01|Canis_lupus_familiaris_boxer|ORF|V-REGION||104 AA|||||||||\n",
      "QSVLTQPAS.VSGSLGQRVTISCTGIPSNTDFDGIEFDTSVSWYQQLPEKPPKTIIYGS.......TLSFSGVP.DRFSGSR..SGSTATLTISGLQAEDEADYYCSSWDDSLKS\n",
      "CAGTCTGTGCTGACTCAGCCAGCCTCAGTGTCTGGGTCCCTGGGCCAGAGGGTCACCATCTCCTGCACTGGAATCCCCAGCAACACAGATTTTGATGGAATAGAATTTGATACTTCTGTGAGCTGGTACCAACAGCTCCCAGAAAAGCCCCCTAAAACCATCATCTATGGTAGTACTCTTTCATTCTCGGGGGTCCCCGATCGATTCTCTGGCTCCAGGTCTGGCAGCACAGCCACCCTGACCATCTCTGGGCTCCAGGCTGAGGACGAGGCTGATTATTACTGCTCATCCTGGGATGATAGTCTCAAATCATA\n",
      "1885|IGLV1-87*01|Canis_lupus_familiaris_boxer|F|V-REGION||99 AA|||||||||\n",
      "QSVLTQPAS.VSGSLGQRVTISCTGSTNNIG...GDNYVHWYQQLPGKAPSLLIYGD.......DNRESGVP.ERFSGSK..SGSSATLTITGLQAEDEADYYCQSYDDSLNT\n",
      "CAGTCTGTGCTGACTCAGCCAGCCTCAGTGTCTGGATCCCTGGGCCAAAGGGTCACCATCTCCTGCACTGGAAGCACAAACAACATCGGTGGTGATAATTATGTGCACTGGTACCAACAGCTCCCAGGAAAGGCACCCAGTCTCCTCATCTATGGTGATGATAACAGAGAATCTGGGGTCCCTGAACGATTCTCTGGCTCCAAGTCAGGCAGCTCAGCCACTCTGACCATCACTGGGCTCCAGGCTGAGGACGAGGCTGATTATTATTGCCAGTCCTACGATGACAGCCTCAATACTCA\n"
     ]
    },
    {
     "name": "stderr",
     "output_type": "stream",
     "text": [
      "/Users/jwillis/miniconda3/envs/bfx-bp-antibody/lib/python3.8/site-packages/Bio/Seq.py:2573: BiopythonWarning: Partial codon, len(sequence) not a multiple of three. Explicitly trim the sequence or add trailing N before translation. This may become an error in future.\n",
      "  warnings.warn(\"Partial codon, len(sequence) not a multiple of three. \"\n",
      "/Users/jwillis/miniconda3/envs/bfx-bp-antibody/lib/python3.8/site-packages/Bio/Seq.py:2573: BiopythonWarning: Partial codon, len(sequence) not a multiple of three. Explicitly trim the sequence or add trailing N before translation. This may become an error in future.\n",
      "  warnings.warn(\"Partial codon, len(sequence) not a multiple of three. \"\n",
      "/Users/jwillis/miniconda3/envs/bfx-bp-antibody/lib/python3.8/site-packages/Bio/Seq.py:2573: BiopythonWarning: Partial codon, len(sequence) not a multiple of three. Explicitly trim the sequence or add trailing N before translation. This may become an error in future.\n",
      "  warnings.warn(\"Partial codon, len(sequence) not a multiple of three. \"\n",
      "/Users/jwillis/miniconda3/envs/bfx-bp-antibody/lib/python3.8/site-packages/Bio/Seq.py:2573: BiopythonWarning: Partial codon, len(sequence) not a multiple of three. Explicitly trim the sequence or add trailing N before translation. This may become an error in future.\n",
      "  warnings.warn(\"Partial codon, len(sequence) not a multiple of three. \"\n"
     ]
    },
    {
     "name": "stdout",
     "output_type": "stream",
     "text": [
      "Did not detect anything in summary dataframe,[],[]\n",
      "having trouble with 1886|IGLV1-88*01|Canis_lupus_familiaris_boxer|P|V-REGION||96 AA|||||||||-QSVLTQPPSVSGSVGQRITISCSGSTNSYQQLSGKASKLLVDGTGNRPSGVPDRFSGSKSGNSGTLTITGLGTRLRTRLRTRLIIIVSPLISRLVL\n",
      "1886|IGLV1-88*01|Canis_lupus_familiaris_boxer|P|V-REGION||96 AA|||||||||\n",
      "QSVLTQPAS.VSGSLGQRVTISCTGSTNNIG...GDNYVHWYQQLPGKAPSLLIYGD.......DNRESGVP.ERFSGSK..SGSSATLTITGLQAEDEADYYCQSYDDSLNT\n",
      "CAGTCTGTGCTGACTCAGCCGCCCTCAGTGTCGGGATCTGTGGGCCAGAGAATCACCATCTCCTGCTCTGGAAGCACAAACAGCTACCAACAGCTCTCAGGAAAGGCCTCTAAACTCCTCGTAGATGGTACTGGGAACCGACCCTCAGGGGTCCCCGACCGATTTTCTGGCTCCAAATCTGGCAACTCAGGCACTCTGACCATCACTGGGCTTGGGACGAGGCTGAGGACGAGGCTGAGGACGAGGCTGATTATTATTGTTAGTCCACTGATCTCACGCTTGGTGCTCC\n",
      "1888|IGLV1-89*01|Canis_lupus_familiaris_boxer|P|V-REGION||98 AA|||||||||\n",
      "QSVLTQPAS.VSGSLGQRVTISCTGSSSNI....GGYYVSWL*Q.LPGTGPRTIIYSS.......SNRPSGVP.DRFSGSR..SGSTATLTISGLQAEDEADYYCSTYDSSLKA\n",
      "CAGTCTGTACTGACTCAGCCGGCCTCAGTGTCTGGGTCCCTGGGCCAGAGGGTCACCATCTCCTGCACTGGAAGCAGCTCCAACATCGGTGGATATTATGTGAGCTGGCTCTAGCAGCTCCCGGGAACAGGCCCCAGAACCATCATCTATAGTAGTAGTAACCGACCTTCAGGGGTCCCTGATCGATTCTCTGGCTCCAGGTCAGGCAGCACAGCCACCCTGACCATCTCTGGGCTCCAGGCTGAGGATGAGGCTGATTATTACTGTTCAACATACGACAGCAGTCTCAAAGCTCC\n",
      "1889|IGLV1-89-2*01|Canis_lupus_familiaris_boxer|P|V-REGION||98 AA|||||||||\n",
      "LPVLTQPPS.RSGGLVQKITIFCSGSTNNM....GDNYVNWYKQLPGTAPKTII*VD.......HIRPSGVL.ERFSVSN..SGSSANLTISGLQDE.D*ADYYCSSWHDSLSA\n",
      "CTTCCTGTGCTGACCCAGCCACCCTCAAGGTCTGGGGGTCTGGTTCAGAAGATCACCATCTTCTGTTCTGGAAGCACAAACAACATGGGTGATAATTATGTTAACTGGTACAAACAGCTTCCAGGAACGGCCCCTAAAACCATCATCTAAGTGGATCATATCAGACCCTCAGGGGTCCTGGAGAGATTCTCTGTCTCCAATTCTGGCAGCTCAGCCAACCTGACCATCTCTGGGCTCCAGGATGAGGACTAGGCTGATTATTATTGCTCATCCTGGCATGATAGTCTCAGTGCTCC\n",
      "Did not detect anything in summary dataframe,[],[]\n",
      "having trouble with 1890|IGLV1-91*01|Canis_lupus_familiaris_boxer|P|V-REGION||98 AA|||||||||-QAVLTQLPSVSAALGQRVTICTGSSTNIGSGYYTLWYQQLQESPLKLSSMVIAIDP*GSRIDSLAPSMAIQPR*PSLGSRLRTRMIITASPLMTTSMV\n",
      "1890|IGLV1-91*01|Canis_lupus_familiaris_boxer|P|V-REGION||98 AA|||||||||\n",
      "LPVLTQPPS.RSGGLVQKITIFCSGSTNNM....GDNYVNWYKQLPGTAPKTII*VD.......HIRPSGVL.ERFSVSN..SGSSANLTISGLQDE.D*ADYYCSSWHDSLSA\n",
      "CAGGCTGTGCTGACTCAGCTGCCCTCAGTGTCTGCAGCCCTGGGACAGAGGGTCACCATCTGCACTGGAAGCAGCACCAACATCGGCAGTGGTTATTATACACTATGGTACCAGCAGCTGCAGGAAAGTCCCCTAAAACTATCATCTATGGTAATAGCAATCGACCCTTGAGGGTCCCGGATCGATTCTCTGGCTCCAAGTATGGCAATTCAGCCACGCTGACCATCACTGGGCTCCAGGCTGAGGACGAGGATGATTATTACTGCCAGTCCTCTGATGACAACCTCGATGGTCA\n"
     ]
    },
    {
     "name": "stderr",
     "output_type": "stream",
     "text": [
      "/Users/jwillis/miniconda3/envs/bfx-bp-antibody/lib/python3.8/site-packages/Bio/Seq.py:2573: BiopythonWarning: Partial codon, len(sequence) not a multiple of three. Explicitly trim the sequence or add trailing N before translation. This may become an error in future.\n",
      "  warnings.warn(\"Partial codon, len(sequence) not a multiple of three. \"\n",
      "/Users/jwillis/miniconda3/envs/bfx-bp-antibody/lib/python3.8/site-packages/Bio/Seq.py:2573: BiopythonWarning: Partial codon, len(sequence) not a multiple of three. Explicitly trim the sequence or add trailing N before translation. This may become an error in future.\n",
      "  warnings.warn(\"Partial codon, len(sequence) not a multiple of three. \"\n",
      "/Users/jwillis/miniconda3/envs/bfx-bp-antibody/lib/python3.8/site-packages/Bio/Seq.py:2573: BiopythonWarning: Partial codon, len(sequence) not a multiple of three. Explicitly trim the sequence or add trailing N before translation. This may become an error in future.\n",
      "  warnings.warn(\"Partial codon, len(sequence) not a multiple of three. \"\n",
      "/Users/jwillis/miniconda3/envs/bfx-bp-antibody/lib/python3.8/site-packages/Bio/Seq.py:2573: BiopythonWarning: Partial codon, len(sequence) not a multiple of three. Explicitly trim the sequence or add trailing N before translation. This may become an error in future.\n",
      "  warnings.warn(\"Partial codon, len(sequence) not a multiple of three. \"\n"
     ]
    },
    {
     "name": "stdout",
     "output_type": "stream",
     "text": [
      "1891|IGLV1-92*01|Canis_lupus_familiaris_boxer|F|V-REGION||99 AA|||||||||\n",
      "QSVLTQPAS.VSGSLGQRVTISCTGSSSNVG...YGNYVGWYQQLPGTGPRTIICYT.......NTRPSGVP.DRYSGSK..SGSTATLTISGLQAEDETDYYCTTCDSSLNA\n",
      "CAGTCTGTGCTGACTCAGCCGGCCTCGGTGTCTGGGTCCCTGGGCCAGAGGGTCACCATCTCCTGCACTGGAAGCAGCTCCAATGTTGGTTATGGCAATTATGTGGGCTGGTACCAGCAGCTTCCAGGAACAGGCCCCAGAACCATTATCTGTTATACCAATACTCGACCCTCTGGGGTTCCTGATCGATACTCTGGCTCCAAGTCAGGCAGCACAGCCACCCTGACCATCTCTGGGCTCCAGGCTGAAGACGAGACTGATTATTACTGTACTACGTGTGACAGCAGTCTCAATGCTAG\n",
      "1892|IGLV1-94*01|Canis_lupus_familiaris_boxer|F|V-REGION||98 AA|||||||||\n",
      "QSVLTQPPS.VSGFLGQRVTISCTGSSSNI....GRGYVHWYQQLPGTGPRTLIYGI.......SNRPSGVP.DRFSGSR..SGSTATLTISGLQAEDEADYYCSSWDSSLSA\n",
      "CAGTCTGTGCTGACTCAGCCTCCCTCAGTGTCCGGGTTCCTGGGCCAGAGGGTCACCATCTCCTGCACTGGAAGCAGCTCCAACATCGGTAGAGGTTATGTGCACTGGTACCAACAGCTCCCAGGAACAGGCCCCAGAACCCTCATCTATGGTATTAGTAACCGACCCTCAGGGGTCCCCGATCGATTCTCTGGCTCCAGGTCAGGCAGCACAGCCACTCTGACAATCTCTGGGCTCCAGGCTGAGGATGAGGCTGATTATTACTGCTCATCCTGGGACAGCAGTCTCAGTGCTCT\n",
      "Did not detect anything in summary dataframe,[],[]\n",
      "having trouble with 1893|IGLV1-95-1*01|Canis_lupus_familiaris_boxer|P|V-REGION||95 AA|||||||||-QSVLTQPLLGPGFLARGSPSPALEESQFW*LWCETVQEARMDRPQTPHLWQ*QLILGSPVYFLALVLASLAP*PPPGSRLKNRLISSASPVIQAF\n",
      "1893|IGLV1-95-1*01|Canis_lupus_familiaris_boxer|P|V-REGION||95 AA|||||||||\n",
      "QSVLTQPPS.VSGFLGQRVTISCTGSSSNI....GRGYVHWYQQLPGTGPRTLIYGI.......SNRPSGVP.DRFSGSR..SGSTATLTISGLQAEDEADYYCSSWDSSLSA\n",
      "CAGTCTGTGCTGACTCAGCCACTGTTAGGGCCTGGGTTCCTGGCCAGAGGGTCACCCTCTCCTGCCCTGGAAGAGTCTCAGTTTTGGTGATTATGGTGTGAAACGGTACAGGAAGCTCGCATGGACAGACCCCAGACTCCTCATCTATGGCAATAGCAATTGATTCTCGGGTCCCCAGTCTATTTTCTGGCTCTGGTTTTGGCATCACTGGCTCCTTGACCACCTCCGGGCTCCAGACTGAAAAATAGGCTGATTTCTAGTGCTTCTCCAGTGATCCAGGCCTTT\n",
      "1894|IGLV1-96*01|Canis_lupus_familiaris_boxer|F|V-REGION||99 AA|||||||||\n",
      "QSALTQTAS.MSGSLGQRVTVSCTGSSSNVG...YRSYVGWYQQLPGTGPRTIIYNT.......NTRPSGVP.DRFSGSI..SGSTATLTIAGLQAEDEADYYCSSYDSSLKA\n",
      "CAGTCTGCGCTGACTCAAACGGCCTCCATGTCTGGGTCTCTGGGCCAGAGGGTCACCGTCTCCTGCACTGGAAGCAGTTCCAACGTTGGTTATAGAAGTTATGTGGGCTGGTACCAGCAGCTCCCAGGAACAGGCCCCAGAACCATCATCTATAATACCAATACTCGACCCTCTGGGGTTCCTGATCGATTCTCTGGCTCCATATCAGGCAGCACAGCCACCCTGACTATTGCTGGACTCCAGGCTGAGGACGAGGCTGATTATTACTGCTCATCCTATGACAGCAGTCTCAAAGCTCC\n",
      "Did not detect anything in summary dataframe,[],[]\n",
      "having trouble with 1895|IGLV1-97*01|Canis_lupus_familiaris_boxer|P|V-REGION||98 AA|||||||||-QSVLNQLPSVLGSLGQRITISCSGSTNDIGMLGVNWYQEPPGKAPKLLVDGTGNRPSGSLPIFWLQIWQLRHSDHHWAPG*GRG*LLLSVH*SHAWCS\n",
      "1895|IGLV1-97*01|Canis_lupus_familiaris_boxer|P|V-REGION||98 AA|||||||||\n",
      "QSALTQTAS.MSGSLGQRVTVSCTGSSSNVG...YRSYVGWYQQLPGTGPRTIIYNT.......NTRPSGVP.DRFSGSI..SGSTATLTIAGLQAEDEADYYCSSYDSSLKA\n",
      "CAGTCTGTGCTGAATCAGCTGCCTTCAGTGTTAGGATCCCTGGGCCAGAGAATCACCATCTCCTGCTCTGGAAGCACGAATGACATCGGTATGCTTGGTGTGAACTGGTACCAAGAGCCGCCAGGAAAGGCCCCTAAACTCCTCGTAGATGGTACTGGGAATCGACCCTCAGGGTCCCTGCCGATTTTCTGGCTCCAAATCTGGCAACTCAGGCACTCTGACCATCACTGGGCTCCAGGCTGAGGACGAGGCTGATTATTATTGTCAGTCCACTGATCTCACGCTTGGTGCTCC\n"
     ]
    },
    {
     "name": "stderr",
     "output_type": "stream",
     "text": [
      "/Users/jwillis/miniconda3/envs/bfx-bp-antibody/lib/python3.8/site-packages/Bio/Seq.py:2573: BiopythonWarning: Partial codon, len(sequence) not a multiple of three. Explicitly trim the sequence or add trailing N before translation. This may become an error in future.\n",
      "  warnings.warn(\"Partial codon, len(sequence) not a multiple of three. \"\n",
      "/Users/jwillis/miniconda3/envs/bfx-bp-antibody/lib/python3.8/site-packages/Bio/Seq.py:2573: BiopythonWarning: Partial codon, len(sequence) not a multiple of three. Explicitly trim the sequence or add trailing N before translation. This may become an error in future.\n",
      "  warnings.warn(\"Partial codon, len(sequence) not a multiple of three. \"\n",
      "/Users/jwillis/miniconda3/envs/bfx-bp-antibody/lib/python3.8/site-packages/Bio/Seq.py:2573: BiopythonWarning: Partial codon, len(sequence) not a multiple of three. Explicitly trim the sequence or add trailing N before translation. This may become an error in future.\n",
      "  warnings.warn(\"Partial codon, len(sequence) not a multiple of three. \"\n"
     ]
    },
    {
     "name": "stdout",
     "output_type": "stream",
     "text": [
      "1896|IGLV1-97-4*01|Canis_lupus_familiaris_boxer|F|V-REGION||98 AA|||||||||\n",
      "QSVLTQPPS.VFRSLGQRVTISCTGSSSNV....GRGYVIWYQQLLGTRPRTLIYGS.......SNQPSGVP.NQFSGSR..SGSTDTLTISGFQAEDEADYYCSSWDSSLSA\n",
      "CAGTCTGTGCTGACTCAGCCTCCCTCAGTGTTCAGGTCCCTGGGCCAGAGGGTCACTATATCCTGCACTGGAAGCAGCTCCAACGTCGGTAGAGGTTATGTGATCTGGTACCAACAGCTCCTGGGAACACGCCCAAGAACCCTCATATATGGTAGTAGTAACCAACCCTCAGGGGTCCCCAATCAATTCTCTGGCTCCAGGTCAGGCAGCACAGACACTCTGACAATCTCTGGGTTCCAGGCTGAGGATGAGGCTGATTATTACTGCTCATCCTGGGACAGCAGTCTCAGTGCTCT\n",
      "1897|IGLV1-98*01|Canis_lupus_familiaris_boxer|P|V-REGION||99 AA|||||||||\n",
      "QSVLTQPVS.VSGALCQRVTISCTGNSSNI....GYSSCVS*YQQLPGTGPRTIIYSM.......NTQPSGVP.DRFSGSR..SGNSATLTISGLQAEDKADYYCSTYDSSLSA\n",
      "CAGTCTGTGCTGACTCAACCAGTCTCAGTGTCTGGGGCCCTGTGCCAGAGGGTCACCATCTCCTGCACTGGAAACAGCTCCAACATTGGTTATAGCAGTTGTGTGAGCTGATATCAGCAGCTCCCAGGAACAGGCCCCAGAACCATCATCTATAGTATGAATACTCAACCCTCTGGGGTTCCTGATCGATTCTCTGGCTCCAGGTCAGGCAACTCAGCCACCCTAACCATCTCTGGGCTCCAGGCTGAGGACAAGGCTGACTATTACTGCTCAACATATGACAGCAGTCTCAGTGCTCA\n",
      "1926|IGLV2-31*01|Canis_lupus_familiaris_boxer|F|V-REGION||99 AA|||||||||\n",
      "QSALTQPSS.VSGTLGQTVTISCDGSSSNIG...SSNYIEWYQQFPGTSPKLLIYYT.......NNRPSGIP.ARFSGSK..SGNTASLTISGLQAEDEADYYCSAYTGSNTF\n",
      "CAGTCTGCCCTGACTCAACCTTCCTCGGTGTCTGGGACTTTGGGCCAGACTGTCACCATCTCCTGTGATGGAAGCAGCAGTAACATTGGCAGTAGTAATTATATCGAATGGTACCAACAGTTCCCAGGCACCTCCCCCAAACTCCTGATTTACTATACCAATAATCGGCCATCAGGGATCCCTGCTCGCTTCTCTGGCTCCAAGTCTGGGAACACGGCCTCCTTGACCATCTCTGGGCTCCAGGCTGAAGATGAGGCTGATTATTACTGCAGCGCATATACTGGTAGTAATACTTTC\n",
      "Did not detect anything in summary dataframe,[],[]\n",
      "having trouble with 1927|IGLV2-31-1*01|Canis_lupus_familiaris_boxer|P|V-REGION||99 AA|||||||||-QSNLIEPPFLSRILGWTVTVSCVLSSCDIRSDNEISWYQ*HPSMTQKFLIYYTSSWASDIPDCFPGSQSGNMACLTISRLQANDDADYHCYLYDGSGAF\n",
      "1927|IGLV2-31-1*01|Canis_lupus_familiaris_boxer|P|V-REGION||99 AA|||||||||\n",
      "QSALTQPSS.VSGTLGQTVTISCDGSSSNIG...SSNYIEWYQQFPGTSPKLLIYYT.......NNRPSGIP.ARFSGSK..SGNTASLTISGLQAEDEADYYCSAYTGSNTF\n",
      "CAGTCTAACCTAATTGAGCCCCCCTTTTTGTCCAGGATTCTAGGATGGACTGTCACTGTCTCCTGTGTTTTAAGCAGCTGTGACATCAGGAGTGATAATGAAATATCCTGGTACCAATAGCACCCGAGCATGACTCAGAAATTCCTGATTTACTATACCAGTTCTTGGGCATCAGATATCCCTGATTGCTTTCCTGGCTCCCAGTCTGGAAACATGGCCTGTCTGACCATTTCCAGGCTCCAGGCTAATGATGACGCTGATTATCATTGTTACTTATATGATGGTAGTGGCGCTTTT\n"
     ]
    },
    {
     "name": "stderr",
     "output_type": "stream",
     "text": [
      "/Users/jwillis/miniconda3/envs/bfx-bp-antibody/lib/python3.8/site-packages/Bio/Seq.py:2573: BiopythonWarning: Partial codon, len(sequence) not a multiple of three. Explicitly trim the sequence or add trailing N before translation. This may become an error in future.\n",
      "  warnings.warn(\"Partial codon, len(sequence) not a multiple of three. \"\n",
      "/Users/jwillis/miniconda3/envs/bfx-bp-antibody/lib/python3.8/site-packages/Bio/Seq.py:2573: BiopythonWarning: Partial codon, len(sequence) not a multiple of three. Explicitly trim the sequence or add trailing N before translation. This may become an error in future.\n",
      "  warnings.warn(\"Partial codon, len(sequence) not a multiple of three. \"\n"
     ]
    },
    {
     "name": "stdout",
     "output_type": "stream",
     "text": [
      "1928|IGLV2-32*01|Canis_lupus_familiaris_boxer|P|V-REGION||98 AA|||||||||\n",
      "QSALTQPPS.MSGTLGQTIIISCTGSGSDIG...RYSYVSWYQELPSTSPTLLIYGT.......NNRPLEIP.ARFSGSK..SGNTAPMTISGLQAEDEANYYCCSYTTSGT\n",
      "CAGTCTGCCCTGACTCAGCCTCCCTCGATGTCTGGGACACTGGGACAGACCATCATCATTTCCTGTACTGGAAGCGGCAGTGACATTGGGAGGTATAGTTATGTCTCCTGGTACCAAGAGCTCCCAAGCACGTCCCCCACACTCCTGATTTATGGTACCAATAATCGGCCATTAGAGATCCCTGCTCGCTTCTCTGGCTCCAAGTCTGGAAACACAGCCCCCATGACCATCTCTGGGCTTCAGGCTGAAGATGAGGCTAATTATTACTGTTGCTCATATACAACCAGTGGCACACA\n",
      "Did not detect anything in summary dataframe,[],[]\n",
      "having trouble with 1941|IGLV3-1*01|Canis_lupus_familiaris_boxer|P|V-REGION||94 AA|||||||||-ANKLTQSLFMSVALGQMARITCGRDNSGRKSAHWYQQKPSQAPVMLIDDDCFQPSGFSEQFSGTNSGNTATLTISGPPARTRLLLCHQPWQLEH\n",
      "1941|IGLV3-1*01|Canis_lupus_familiaris_boxer|P|V-REGION||94 AA|||||||||\n",
      "QSALTQPPS.MSGTLGQTIIISCTGSGSDIG...RYSYVSWYQELPSTSPTLLIYGT.......NNRPLEIP.ARFSGSK..SGNTAPMTISGLQAEDEANYYCCSYTTSGT\n",
      "GCCAACAAGCTGACTCAATCCCTGTTTATGTCAGTGGCCCTGGGACAGATGGCCAGGATCACCTGTGGGAGAGACAACTCTGGAAGAAAAAGTGCTCACTGGTACCAGCAGAAGCCAAGCCAGGCTCCCGTGATGCTTATCGATGATGATTGCTTCCAGCCCTCAGGATTCTCTGAGCAATTCTCAGGCACTAACTCGGGGAACACAGCCACCCTGACCATTAGTGGGCCCCCAGCGAGGACGCGGCTATTACTGTGCCACCAGCCATGGCAGTTGGAGCACCT\n",
      "Did not detect anything in summary dataframe,[],[]\n",
      "having trouble with 1943|IGLV3-1-1*01|Canis_lupus_familiaris_boxer|P|V-REGION||94 AA|||||||||-SNVLTQPPLVSVNLGQKASLTCGRNSIEDKYVSWSQQEPGQAPMLVIYYSTQETLSDFLPPALARGT*SP*PTVGPRTRTRMAITVSPMTVVVL\n",
      "1943|IGLV3-1-1*01|Canis_lupus_familiaris_boxer|P|V-REGION||94 AA|||||||||\n",
      "QSALTQPPS.MSGTLGQTIIISCTGSGSDIG...RYSYVSWYQELPSTSPTLLIYGT.......NNRPLEIP.ARFSGSK..SGNTAPMTISGLQAEDEANYYCCSYTTSGT\n",
      "TCCAATGTACTGACACAGCCACCCTTGGTGTCAGTGAACCTGGGACAGAAGGCCAGCCTCACCTGTGGAAGAAACAGCATTGAAGATAAATATGTTTCATGGTCCCAGCAGGAGCCAGGCCAGGCCCCCATGCTGGTCATCTATTATAGTACACAAGAAACCCTGAGCGATTTTCTGCCTCCAGCTCTAGCTCGGGGTACATGATCACCCTGACCAACAGTGGGGCCTAGGACAAGGACGAGGATGGCTATTACTGTCAGTCCTATGACAGTAGTGGTACTCCT\n",
      "1948|IGLV3-11*01|Canis_lupus_familiaris_boxer|F|V-REGION||96 AA|||||||||\n",
      "SYVLSQPPS.ATVTLRQTARLTCGGDSIG......SKSVEWYQQKPGQPPVLIIYGD.......SSRPSGIP.ERFSGAN..SGNTATLTISGALAEDEADYYCQVWDSSTKA\n",
      "TCCTATGTGCTGTCTCAGCCGCCATCAGCGACTGTGACTCTGAGGCAGACGGCCCGCCTCACCTGTGGGGGAGACAGCATTGGAAGTAAAAGTGTTGAATGGTACCAGCAGAAGCCGGGCCAGCCCCCCGTGCTCATTATCTATGGTGATAGCAGCAGGCCGTCAGGGATCCCTGAGCGATTCTCCGGCGCCAACTCGGGGAACACGGCCACCCTGACCATCAGCGGGGCCCTGGCCGAGGACGAGGCTGACTATTACTGCCAGGTGTGGGACAGCAGTACTAAGGCT\n",
      "1954|IGLV3-13*01|Canis_lupus_familiaris_boxer|P|V-REGION||96 AA|||||||||\n",
      "SYVLTQLPS.VTVNLGQTTSITCGGDSIG......GRTVYWYQQKPGQRPLLIIYND.......SNWPSEIP..A*FSGSN..SGNRASLTIIGAW.A*DESEYYGEVWDSSAKA\n",
      "TCCTATGTACTGACTCAGCTGCCATCAGTGACTGTGAACCTGGGACAGACCACCAGCATCACCTGTGGTGGAGACAGCATTGGAGGGAGAACTGTTTACTGGTACCAGCAGAAGCCTGGCCAGCGCCCCCTGCTGATTATCTATAATGATAGCAATTGGCCCTCAGAGATCCCTGCCTGATTCTCTGGCTCCAACTCAGGGAACAGGGCCTCCCTAACCATCATTGGGGCCTGGGCCTAAGATGAGTCTGAGTATTACGGAGAGGTGTGGGACAGCAGTGCTAAGGCT\n"
     ]
    },
    {
     "name": "stderr",
     "output_type": "stream",
     "text": [
      "/Users/jwillis/miniconda3/envs/bfx-bp-antibody/lib/python3.8/site-packages/Bio/Seq.py:2573: BiopythonWarning: Partial codon, len(sequence) not a multiple of three. Explicitly trim the sequence or add trailing N before translation. This may become an error in future.\n",
      "  warnings.warn(\"Partial codon, len(sequence) not a multiple of three. \"\n",
      "/Users/jwillis/miniconda3/envs/bfx-bp-antibody/lib/python3.8/site-packages/Bio/Seq.py:2573: BiopythonWarning: Partial codon, len(sequence) not a multiple of three. Explicitly trim the sequence or add trailing N before translation. This may become an error in future.\n",
      "  warnings.warn(\"Partial codon, len(sequence) not a multiple of three. \"\n",
      "/Users/jwillis/miniconda3/envs/bfx-bp-antibody/lib/python3.8/site-packages/Bio/Seq.py:2573: BiopythonWarning: Partial codon, len(sequence) not a multiple of three. Explicitly trim the sequence or add trailing N before translation. This may become an error in future.\n",
      "  warnings.warn(\"Partial codon, len(sequence) not a multiple of three. \"\n"
     ]
    },
    {
     "name": "stdout",
     "output_type": "stream",
     "text": [
      "Did not detect anything in summary dataframe,[],[]\n",
      "having trouble with 1957|IGLV3-13-1*01|Canis_lupus_familiaris_boxer|P|V-REGION||93 AA|||||||||-SYMLTQQPLASVNLSQWASTTCGGDNIGEKTVQWNQQKPG*ALIMAIYKGSDLPSGIPEQFPGPNSGRGLPEHQRGYADD*AITASQQTLVVR\n",
      "1957|IGLV3-13-1*01|Canis_lupus_familiaris_boxer|P|V-REGION||93 AA|||||||||\n",
      "SYVLTQLPS.VTVNLGQTTSITCGGDSIG......GRTVYWYQQKPGQRPLLIIYND.......SNWPSEIP..A*FSGSN..SGNRASLTIIGAW.A*DESEYYGEVWDSSAKA\n",
      "TCCTATATGCTGACTCAGCAGCCATTGGCAAGTGTAAACCTCAGCCAGTGGGCCAGCACCACCTGTGGTGGAGATAACATTGGAGAGAAAACTGTCCAATGGAACCAGCAGAAGCCTGGCTAAGCTCTCATTATGGCTATCTATAAAGGTAGTGATCTACCCTCAGGGATCCCTGAGCAATTCCCTGGCCCCAACTCGGGTCGGGGCCTCCCTGAACATCAGCGGGGCTACGCCGACGACTAGGCTATTACTGCCAGTCAGCAGACATTAGTGGTAAGGCT\n",
      "1959|IGLV3-14*01|Canis_lupus_familiaris_boxer|F|V-REGION||96 AA|||||||||\n",
      "SYVLTQLPS.MSVTLRQTARITCEGDSIG......SKRVYWYQQKLGQVPVLIIYDD.......SSRPSGIP.ERFSGAN..SGNTATLTISGALAEDEADYYCQVWDSSTKA\n",
      "TCCTATGTGCTGACACAGCTGCCATCCATGAGTGTGACCCTGAGGCAGACGGCCCGCATCACCTGTGAGGGAGACAGCATTGGAAGTAAAAGAGTTTACTGGTACCAGCAGAAGCTGGGCCAGGTCCCTGTACTGATTATCTATGATGATAGCAGCAGGCCGTCAGGGATCCCTGAGCGATTCTCCGGCGCCAACTCGGGGAACACAGCCACCCTGACCATCAGCGGGGCCCTGGCCGAGGACGAGGCTGACTATTACTGCCAGGTGTGGGACAGCAGTACTAAGGCT\n",
      "1961|IGLV3-15*01|Canis_lupus_familiaris_boxer|P|V-REGION||96 AA|||||||||\n",
      "STGLNQAPS.VLVALGQMETITCSRDVLG......KRYAYRYQHKPSQAPVLLINKN.......NEQDSGIP.DRFSGSN..SGNTATLTISGARAEDEAEYYCQSYDSSGNV\n",
      "TCCACTGGGTTGAATCAGGCTCCCTCCGTGTTGGTGGCCCTGGGACAGATGGAAACAATCACCTGCTCGAGAGATGTCTTAGGGAAAAGATATGCATATAGGTACCAGCATAAGCCAAGCCAAGCCCCTGTGCTCCTAATCAATAAAAATAATGAGCAGGATTCTGGGATCCCTGACCGGTTCTCTGGCTCCAACTCGGGCAACACGGCCACCCTGACCATCAGTGGGGCCCGGGCTGAGGACGAGGCTGAGTATTACTGCCAGTCCTATGACAGCAGTGGAAATGTT\n",
      "1967|IGLV3-19*01|Canis_lupus_familiaris_boxer|ORF|V-REGION||96 AA|||||||||\n",
      "SPGLNQPPS.VLVALGQMATNTCSGDVLG......KRYAYWYQHKPSQAPVLLINKN.......NELGSGIP.DRFSGSN..SGNTATLTISGARAEDEADYYCQSYDSSGNA\n",
      "TCCCCTGGGCTGAATCAGCCTCCCTCCGTGTTGGTGGCCCTGGGACAGATGGCAACAAACACCTGCTCCGGAGATGTCTTAGGGAAAAGATATGCATATTGGTACCAGCATAAGCCAAGCCAAGCCCCTGTGCTCCTAATCAATAAAAATAATGAGCTGGGTTCTGGGATCCCTGACCGATTCTCTGGCTCCAACTCGGGCAACACGGCCACCCTGACCATCAGTGGGGCCCGGGCCGAGGACGAGGCTGACTATTACTGCCAGTCCTATGACAGCAGTGGAAATGCT\n"
     ]
    },
    {
     "name": "stderr",
     "output_type": "stream",
     "text": [
      "/Users/jwillis/miniconda3/envs/bfx-bp-antibody/lib/python3.8/site-packages/Bio/Seq.py:2573: BiopythonWarning: Partial codon, len(sequence) not a multiple of three. Explicitly trim the sequence or add trailing N before translation. This may become an error in future.\n",
      "  warnings.warn(\"Partial codon, len(sequence) not a multiple of three. \"\n"
     ]
    },
    {
     "name": "stdout",
     "output_type": "stream",
     "text": [
      "1970|IGLV3-2*01|Canis_lupus_familiaris_boxer|F|V-REGION||96 AA|||||||||\n",
      "SYVLTQSPS.VSVTLGQTASITCRGNSIG......RKDVHWYQQKPGQAPLLIIYND.......NSQPSGIP.ERFSGTN..SGSTATLTISEAQTNDEADYYCQVWESSADA\n",
      "TCCTATGTGCTGACTCAGTCACCCTCAGTGTCAGTGACCCTGGGACAGACGGCCAGCATCACCTGTAGGGGAAACAGCATTGGAAGGAAAGATGTTCATTGGTACCAGCAGAAGCCGGGCCAAGCCCCCCTGCTGATTATCTATAATGATAACAGCCAGCCCTCAGGGATCCCTGAGCGATTCTCTGGGACCAACTCAGGGAGCACGGCCACCCTGACCATCAGTGAGGCCCAAACCAACGATGAGGCTGACTATTACTGCCAGGTGTGGGAAAGTAGCGCTGATGCT\n",
      "1976|IGLV3-21*01|Canis_lupus_familiaris_boxer|F|V-REGION||96 AA|||||||||\n",
      "SYELTQPPS.VNVTLRETAHITCGGDSIG......SKYVQWIQQNPGQAPVVIIYKD.......SNRPTGIP.ERFSGAN..SGNTATLTISGALAEDEADYYCQVGDSGTKA\n",
      "TCCTATGAGCTGACTCAGCCACCATCCGTGAATGTGACCCTGAGGGAGACGGCCCACATCACCTGTGGGGGAGACAGCATTGGAAGTAAATATGTTCAATGGATCCAGCAGAATCCAGGCCAGGCCCCCGTGGTGATTATCTATAAAGATAGCAACAGGCCGACAGGGATCCCTGAGCGATTCTCTGGCGCCAACTCAGGGAACACGGCTACCCTGACCATCAGTGGGGCCCTGGCCGAAGACGAGGCTGACTATTACTGCCAGGTGGGGGACAGTGGTACTAAGGCT\n",
      "1985|IGLV3-23*01|Canis_lupus_familiaris_boxer|P|V-REGION||96 AA|||||||||\n",
      "SYVLTQLPS.VTVNLGQTTSITCGGDSIG......GRTVYWYQQKPGQRPLLIIYND.......SNWPSEIP..A*FSGSN..SGNRASLTIIGAW.A*DESEYYGEVWDSSAKA\n",
      "TCCTATGTACTGACTCAGCTGCCATCAGTGACTGTGAACCTGGGACAGACCACCAGCATCACCTGTGGTGGAGACAGCATTGGAGGGAGAACTGTTTACTGGTACCAGCAGAAGCCTGGCCAGCGCCCCCTGCTGATTATCTATAATGATAGCAATTGGCCCTCAGAGATCCCTGCCTGATTCTCTGGCTCCAACTCAGGGAACAGGGCCTCCCTAACCATCATTGGGGCCTGGGCCTAAGACGAGTCTGAGTATTACGGAGAGGTGTGGGACAGCAGTGCTAAGGCT\n",
      "Did not detect anything in summary dataframe,[],[]\n",
      "having trouble with 1987|IGLV3-23-1*01|Canis_lupus_familiaris_boxer|P|V-REGION||92 AA|||||||||-SYMLTQQPLASVNLSQWASTTCGGDNIGEKTVQWNQQKPG*APITAIYKGSDLPSGIPEQFPGPNSGNGASLNISGAKPTTRLLLQQTLVVR\n",
      "1987|IGLV3-23-1*01|Canis_lupus_familiaris_boxer|P|V-REGION||92 AA|||||||||\n",
      "SYVLTQLPS.VTVNLGQTTSITCGGDSIG......GRTVYWYQQKPGQRPLLIIYND.......SNWPSEIP..A*FSGSN..SGNRASLTIIGAW.A*DESEYYGEVWDSSAKA\n",
      "TCCTATATGCTGACTCAGCAGCCATTGGCAAGTGTAAACCTCAGCCAGTGGGCCAGCACCACCTGTGGTGGAGATAACATTGGAGAAAAAACTGTCCAATGGAACCAGCAGAAGCCTGGCTAAGCTCCCATTACGGCTATCTATAAAGGTAGTGATCTGCCCTCAGGGATTCCTGAGCAATTCCCTGGCCCCAACTCGGGAAACGGGGCCTCCCTGAACATCAGCGGGGCTAAGCCGACGACTAGGCTATTACTGCAGCAGACATTAGTGGTAAGGCT\n"
     ]
    },
    {
     "name": "stderr",
     "output_type": "stream",
     "text": [
      "/Users/jwillis/miniconda3/envs/bfx-bp-antibody/lib/python3.8/site-packages/Bio/Seq.py:2573: BiopythonWarning: Partial codon, len(sequence) not a multiple of three. Explicitly trim the sequence or add trailing N before translation. This may become an error in future.\n",
      "  warnings.warn(\"Partial codon, len(sequence) not a multiple of three. \"\n"
     ]
    },
    {
     "name": "stdout",
     "output_type": "stream",
     "text": [
      "1988|IGLV3-24*01|Canis_lupus_familiaris_boxer|F|V-REGION||96 AA|||||||||\n",
      "SYVLTQLPS.VSVTLRQTARITCGGDSIG......SKNVYWYQQKLGQAPVLIIYDD.......SSRPSGIP.ERFSGAN..SGNTATLTISGALAEDEADYYCQVWDSSTKP\n",
      "TCCTATGTGCTGACACAGCTGCCATCCGTGAGTGTGACCCTGAGGCAGACGGCCCGCATCACCTGTGGGGGAGACAGCATTGGAAGTAAAAATGTTTACTGGTACCAGCAGAAGCTGGGCCAGGCCCCTGTACTGATTATCTATGATGATAGCAGCAGGCCGTCAGGGATCCCTGAGCGATTCTCCGGCGCCAACTCGGGGAACACGGCCACCCTGACCATCAGCGGGGCCCTGGCCGAGGATGAGGCTGACTATTACTGCCAGGTGTGGGACAGCAGTACTAAGCCT\n",
      "1992|IGLV3-25*01|Canis_lupus_familiaris_boxer|ORF|V-REGION||96 AA|||||||||\n",
      "STGLNQASS.VLVALGQMETITCSRDVLG......KRYAYRYQHKPSQAPVLLINKN.......NEQDSGIP.DRFSGSN..SGNTATLTISGARAEDEAEYYCQSYDSSGNV\n",
      "TCCACTGGGTTGAATCAGGCTTCCTCCGTGTTGGTGGCCCTGGGACAGATGGAAACAATCACCTGCTCGAGAGATGTCTTAGGGAAAAGATATGCATATAGGTACCAGCATAAGCCAAGCCAAGCCCCTGTGCTCCTAATCAATAAAAATAATGAGCAGGATTCTGGGATCCCTGACCGGTTCTCTGGCTCCAACTCGGGCAACACGGCCACCCTGACCATCAGTGGGGCCCGGGCTGAGGACGAGGCTGAGTATTACTGCCAGTCCTATGACAGCAGTGGAAATGTT\n",
      "1996|IGLV3-26*01|Canis_lupus_familiaris_boxer|F|V-REGION||96 AA|||||||||\n",
      "SYVLTQLPS.VNVTLRQPAHITCGGDSIG......SKSVHWYQQKLGQAPVLIIYGD.......SNRPSGIP.ERFSGDN..SGNTATLTISGALAEDEAYYYCQVWDSSAQA\n",
      "TCCTATGTGCTGACACAGCTGCCATCCGTGAATGTGACCCTGAGGCAGCCGGCCCACATCACCTGTGGGGGAGACAGCATTGGAAGTAAAAGTGTTCACTGGTACCAACAGAAGCTGGGCCAGGCCCCTGTACTGATTATCTATGGTGATAGCAACAGGCCGTCAGGGATCCCTGAGCGATTCTCTGGTGACAACTCGGGGAACACGGCCACCCTGACCATCAGTGGGGCCCTGGCCGAGGACGAGGCTTACTATTACTGCCAGGTGTGGGACAGCAGTGCTCAGGCT\n",
      "1998|IGLV3-27*01|Canis_lupus_familiaris_boxer|F|V-REGION||96 AA|||||||||\n",
      "SSVLTQPPS.VSVSLGQTATISCSGESLS......KYYAQWFQQKAGQVPVLVIYKD.......TERPSGIP.DRFSGSS..SGNTHTLTISGARAEDEADYYCESEVSTGTA\n",
      "TCCAGTGTGCTGACTCAGCCTCCTTCAGTATCAGTGTCTCTGGGACAGACAGCAACCATCTCCTGCTCTGGAGAGAGTCTGAGTAAATATTATGCACAATGGTTCCAGCAGAAGGCAGGCCAAGTCCCTGTGTTGGTCATATATAAGGACACTGAGCGGCCCTCTGGGATCCCTGACCGATTCTCCGGCTCCAGTTCAGGGAACACACACACCCTGACCATCAGCGGGGCTCGGGCCGAGGACGAGGCTGACTATTACTGCGAGTCAGAAGTCAGTACTGGTACTGCT\n",
      "2000|IGLV3-28*01|Canis_lupus_familiaris_boxer|F|V-REGION||96 AA|||||||||\n",
      "SYVLTQLPS.VSVNLGKTASITCEGNNIG......DKYAYWYQQKPGQAPVLIIYED.......SKRPSGIP.ERFSGSN..SGNTATLTISGARAEDEADYYCQVWDNSAKA\n",
      "TCCTATGTGTTGACTCAGCTGCCTTCAGTGTCAGTGAACCTGGGAAAGACAGCCAGCATCACCTGTGAGGGAAATAACATAGGAGATAAATATGCTTATTGGTACCAGCAGAAGCCTGGCCAGGCCCCCGTGCTGATTATTTATGAGGATAGCAAGCGGCCCTCAGGGATCCCTGAGCGATTCTCTGGCTCCAACTCGGGGAACACGGCCACCCTGACCATCAGCGGGGCCAGGGCCGAGGATGAGGCTGACTATTACTGTCAGGTGTGGGACAACAGTGCTAAGGCT\n",
      "2001|IGLV3-29*01|Canis_lupus_familiaris_boxer|F|V-REGION||96 AA|||||||||\n",
      "SSVLTQPPS.VSVSLGQTATITCSGESLS......RYYAQWYQQKPGQAPMTVIYGD.......RERPSGIP.DRFSSSS..SENTHTLTISGAQAEDEAEYYCEIWDASADD\n",
      "TCCAGTGTGCTGACTCAGCCTCCCTCGGTGTCAGTGTCCCTGGGACAGACGGCGACCATCACCTGCTCTGGAGAGAGTCTGAGCAGATACTATGCACAATGGTATCAGCAGAAGCCAGGCCAAGCCCCCATGACAGTCATATATGGGGACAGAGAGCGACCCTCAGGGATCCCTGACCGATTCTCCAGCTCCAGTTCAGAGAACACACACACCTTGACAATCAGTGGAGCCCAGGCTGAGGATGAGGCTGAATATTACTGTGAGATATGGGACGCCAGTGCTGATGAT\n",
      "2003|IGLV3-3*01|Canis_lupus_familiaris_boxer|F|V-REGION||96 AA|||||||||\n",
      "SYVLTQLPS.KNVTLKQPAHITCGGDNIG......SKSVHWYQQKLGQAPVLIIYYD.......SSRPTGIP.ERFSGAN..SGNTATLTISGALAEDEADYYCQVWDSSAKA\n",
      "TCCTATGTGCTGACACAGCTGCCATCCAAAAATGTGACCCTGAAGCAGCCGGCCCACATCACCTGTGGGGGAGACAACATTGGAAGTAAAAGTGTTCACTGGTACCAGCAGAAGCTGGGCCAGGCCCCTGTACTGATTATCTATTATGATAGCAGCAGGCCGACAGGGATCCCTGAGCGATTCTCCGGCGCCAACTCGGGGAACACGGCCACCCTGACCATCAGCGGGGCCCTGGCCGAGGACGAGGCTGACTATTACTGCCAGGTGTGGGACAGCAGTGCTAAGGCT\n",
      "2005|IGLV3-30*01|Canis_lupus_familiaris_boxer|F|V-REGION||96 AA|||||||||\n",
      "SYVVTQPPS.VSVNLGQTASITCGGDNIA......STYVSWQQQKSGQAPVTIIYRD.......SNRPSGIP.ERFSGSN..SGNTATLTISRAQAEDEADYYCQVWKSGNKA\n",
      "TCCTACGTGGTGACCCAGCCACCCTCAGTGTCAGTGAACCTGGGACAGACGGCCAGCATCACCTGTGGGGGAGACAACATTGCAAGCACATATGTTTCCTGGCAGCAGCAGAAGTCGGGTCAAGCCCCTGTGACGATTATCTATCGTGATAGCAACCGGCCCTCAGGGATCCCTGAGCGATTCTCTGGCTCCAACTCGGGGAACACGGCCACCCTGACCATCAGCAGGGCCCAGGCCGAGGATGAGGCTGACTATTACTGCCAGGTGTGGAAGAGTGGTAATAAGGCT\n",
      "2011|IGLV3-4*01|Canis_lupus_familiaris_boxer|F|V-REGION||96 AA|||||||||\n",
      "STGLNQAPS.MLVALGQMETITCSGDILG......KRYAYWYQHKPSQAPVLLINKN.......NERASGIP.HWFSGSN..SGNMATLTISGARAEDEADYYCQSYDSSGNA\n",
      "TCCACTGGGTTGAATCAGGCTCCCTCCATGTTGGTGGCCCTGGGACAGATGGAAACAATCACCTGCTCCGGAGATATCTTAGGGAAAAGATATGCATATTGGTACCAGCATAAGCCAAGCCAAGCCCCTGTGCTCCTAATCAATAAAAATAATGAGCGGGCTTCTGGGATCCCTCACTGGTTCTCTGGTTCCAACTCGGGCAACATGGCCACCCTGACCATCAGTGGGGCCCGGGCTGAGGACGAGGCTGACTATTACTGCCAGTCCTATGACAGCAGTGGAAATGCT\n",
      "Did not detect anything in summary dataframe,[],[]\n",
      "having trouble with 2017|IGLV3-7*01|Canis_lupus_familiaris_boxer|P|V-REGION||96 AA|||||||||-SYVLTLLLSVTVNLGQTTSITCGGDSIGGRTVYWYQQKPGQRPLLIIYNDSN*PSGIPA*FSGSNSGNRASLTIIGAWA*DESEYYGEVWDSSAKA\n",
      "2017|IGLV3-7*01|Canis_lupus_familiaris_boxer|P|V-REGION||96 AA|||||||||\n",
      "STGLNQAPS.MLVALGQMETITCSGDILG......KRYAYWYQHKPSQAPVLLINKN.......NERASGIP.HWFSGSN..SGNMATLTISGARAEDEADYYCQSYDSSGNA\n",
      "TCCTATGTGCTGACTCTGCTGCTATCAGTGACCGTGAACCTGGGACAGACCACCAGCATCACCTGTGGTGGAGACAGCATTGGAGGGAGAACTGTTTACTGGTACCAGCAGAAGCCTGGCCAGCGCCCCCTGCTGATTATCTATAATGATAGCAATTGACCCTCAGGGATCCCTGCCTGATTCTCTGGCTCCAACTCAGGGAACAGGGCCTCCCTAACCATCATTGGGGCCTGGGCCTAAGACGAGTCTGAGTATTACGGAGAGGTGTGGGACAGCAGTGCTAAGGCT\n",
      "Did not detect anything in summary dataframe,[],[]\n",
      "having trouble with 2020|IGLV3-7-1*01|Canis_lupus_familiaris_boxer|P|V-REGION||95 AA|||||||||-SYMLTQQPLASVNLSQWASTTCGGDNIGEKTVQWNQQKPG*APITAIYKGSDLPSGIPEQFPGPNLGNGASLNISGAKPTTRLLLLPVSRH*W*G\n",
      "2020|IGLV3-7-1*01|Canis_lupus_familiaris_boxer|P|V-REGION||95 AA|||||||||\n",
      "STGLNQAPS.MLVALGQMETITCSGDILG......KRYAYWYQHKPSQAPVLLINKN.......NERASGIP.HWFSGSN..SGNMATLTISGARAEDEADYYCQSYDSSGNA\n",
      "TCCTATATGCTGACTCAGCAGCCATTGGCAAGTGTAAACCTCAGCCAGTGGGCCAGCACCACCTGTGGTGGAGATAACATTGGAGAAAAAACCGTCCAATGGAACCAGCAGAAGCCTGGCTAAGCTCCCATTACGGCTATCTATAAAGGTAGTGATCTGCCCTCAGGGATCCCTGAGCAATTCCCTGGCCCCAATTTGGGGAACGGGGCCTCCCTGAACATCAGCGGGGCTAAGCCGACGACGAGGCTATTACTGCTGCCAGTCAGCAGACATTAGTGGTAAGGCT\n",
      "2021|IGLV3-8*01|Canis_lupus_familiaris_boxer|F|V-REGION||96 AA|||||||||\n",
      "SYVLTQLPS.VSVTLRQTARITCGGDSIG......SKSVYWYQQKLGQAPVLIIYRD.......SNRPTGIP.ERFSGAN..SGNTATLTISGALAEDEADYYCQVWDSSTKA\n",
      "TCCTATGTGCTGACACAGCTGCCATCCGTGAGTGTGACCCTGAGGCAGACGGCCCGCATCACCTGTGGGGGAGACAGCATTGGAAGTAAAAGTGTTTACTGGTACCAGCAGAAGCTGGGCCAGGCCCCTGTACTGATTATCTATAGAGATAGCAACAGGCCGACAGGGATCCCTGAGCGATTCTCTGGCGCCAACTCGGGGAACACGGCCACCCTGACCATCAGCGGGGCCCTGGCCGAGGACGAGGCTGACTATTACTGCCAGGTGTGGGACAGCAGTACTAAGGCT\n",
      "Did not detect anything in summary dataframe,[],[]\n",
      "having trouble with 2024|IGLV3-9*01|Canis_lupus_familiaris_boxer|P|V-REGION||95 AA|||||||||-STGLNQAPSVLLALGQMATIT*SRDVFGKNMHIGTSRSQAKPLCS*SIKIMSRILGSLTGSLAPTRATRPP*PSVGPGPRTRLTITASPMTAVEM\n",
      "2024|IGLV3-9*01|Canis_lupus_familiaris_boxer|P|V-REGION||95 AA|||||||||\n",
      "SYVLTQLPS.VSVTLRQTARITCGGDSIG......SKSVYWYQQKLGQAPVLIIYRD.......SNRPTGIP.ERFSGAN..SGNTATLTISGALAEDEADYYCQVWDSSTKA\n",
      "TCCACTGGGTTGAATCAGGCTCCCTCCGTGTTGCTGGCACTGGGACAGATGGCAACAATCACCTGATCCAGAGATGTCTTTGGGAAAAATATGCATATTGGTACCAGCAGAAGCCAAGCCAAGCCCCTGTGCTCCTAATCAATAAAAATAATGAGCAGGATTCTGGGATCCCTGACCGGTTCTCTGGCTCCAACTCGGGCAACACGGCCACCCTGACCATCAGTGGGGCCCGGGCCGAGGACGAGGCTGACTATTACTGCCAGTCCTATGACAGCAGTGGAAATGTT\n"
     ]
    },
    {
     "name": "stderr",
     "output_type": "stream",
     "text": [
      "/Users/jwillis/miniconda3/envs/bfx-bp-antibody/lib/python3.8/site-packages/Bio/Seq.py:2573: BiopythonWarning: Partial codon, len(sequence) not a multiple of three. Explicitly trim the sequence or add trailing N before translation. This may become an error in future.\n",
      "  warnings.warn(\"Partial codon, len(sequence) not a multiple of three. \"\n",
      "/Users/jwillis/miniconda3/envs/bfx-bp-antibody/lib/python3.8/site-packages/Bio/Seq.py:2573: BiopythonWarning: Partial codon, len(sequence) not a multiple of three. Explicitly trim the sequence or add trailing N before translation. This may become an error in future.\n",
      "  warnings.warn(\"Partial codon, len(sequence) not a multiple of three. \"\n",
      "/Users/jwillis/miniconda3/envs/bfx-bp-antibody/lib/python3.8/site-packages/Bio/Seq.py:2573: BiopythonWarning: Partial codon, len(sequence) not a multiple of three. Explicitly trim the sequence or add trailing N before translation. This may become an error in future.\n",
      "  warnings.warn(\"Partial codon, len(sequence) not a multiple of three. \"\n",
      "/Users/jwillis/miniconda3/envs/bfx-bp-antibody/lib/python3.8/site-packages/Bio/Seq.py:2573: BiopythonWarning: Partial codon, len(sequence) not a multiple of three. Explicitly trim the sequence or add trailing N before translation. This may become an error in future.\n",
      "  warnings.warn(\"Partial codon, len(sequence) not a multiple of three. \"\n"
     ]
    },
    {
     "name": "stdout",
     "output_type": "stream",
     "text": [
      "2036|IGLV4-10*01|Canis_lupus_familiaris_boxer|F|V-REGION||105 AA|||||||||\n",
      "LPVLTQPTN.ASASLEESVKLTCTLSSEHS.....NYIVHWYQQQPGKAPRYLMYVRSD...GSYKRGDGIP.SRFSGSS..SGADRYLTISNIKSEDEDDYYYCGADYTISGQYG*\n",
      "TTGCCCGTGCTGACCCAGCCTACAAATGCATCTGCCTCCCTGGAAGAGTCGGTCAAGCTGACCTGCACTTTGAGCAGTGAGCACAGCAATTACATTGTTCATTGGTATCAACAACAACCAGGGAAGGCCCCTCGGTATCTGATGTATGTCAGGAGTGATGGAAGCTACAAAAGGGGGGACGGGATCCCCAGTCGCTTCTCAGGCTCCAGCTCTGGGGCTGACCGCTATTTAACCATCTCCAACATCAAGTCTGAAGATGAGGATGACTATTATTACTGTGGTGCAGACTATACAATCAGTGGCCAATACGGTTAAGC\n",
      "2037|IGLV4-12*01|Canis_lupus_familiaris_boxer|P|V-REGION||99 AA|||||||||\n",
      "LPVLTQPPS.ASASLEASVKLTCTLSSEHS.....SYYIYWYQQQPGKAPRYLMKVNSD...GSHSRGDGIP.SRFSGSS..SGADRYLTISNIQSEDEAGY....YYGVPLVAV\n",
      "TTGCCCGTGCTGACCCAGCCTCCAAGTGCATCTGCCTCCCTGGAAGCCTCGGTCAAGCTCACATGCACTCTGAGCAGTGAGCACAGCAGTTACTATATTTACTGGTATCAACAACAACCAGGGAAGGCCCCTCGGTATCTGATGAAGGTTAACAGTGATGGAAGCCACAGCAGGGGGGACGGGATCCCCAGTCGCTTCTCAGGCTCCAGCTCTGGGGCTGACCGCTATTTAACCATCTCCAACATCCAGTCTGAGGATGAGGCAGGTTATTACTATGGTGTACCCCTGGTAGCAGTAGC\n",
      "2039|IGLV4-16*01|Canis_lupus_familiaris_boxer|ORF|V-REGION||105 AA|||||||||\n",
      "LPMLTQPTN.ASASLEESVKLTCTLSSEHS.....NYIVQWYQQQPGKAPRYLMHVRSD...GSYNRGDGIP.SRFSGSS..SGADRYLTISNIKSEDEDDYYYSGAYYTISGQYG*\n",
      "TTGCCCATGCTGACCCAGCCTACAAATGCATCTGCCTCCCTGGAAGAGTCGGTCAAGCTCACATGCACTTTGAGCAGTGAGCACAGCAATTACATTGTTCAATGGTATCAACAACAACCAGGGAAGGCCCCTCGGTATCTGATGCATGTCAGGAGTGATGGAAGCTACAACAGGGGGGACGGGATCCCCAGTCGCTTCTCAGGCTCCAGCTCTGGGGCTGACCGCTATTTAACCATCTCCAACATCAAGTCTGAAGATGAGGATGACTATTATTACAGTGGTGCATACTATACAATCAGTGGCCAATACGGTTAAGC\n",
      "Did not detect anything in summary dataframe,[],[]\n",
      "having trouble with 2040|IGLV4-17*01|Canis_lupus_familiaris_boxer|P|V-REGION||100 AA|||||||||-LPMLTQPPSASASLEASVKLTCTLSSEQSSYYIYWYQQQQPGKAPRYLMKVNSDGSHSRASGSPVASQAPALGLTAI*PSPTSSLRMRQIITVCTHW*Q*\n",
      "2040|IGLV4-17*01|Canis_lupus_familiaris_boxer|P|V-REGION||100 AA|||||||||\n",
      "LPMLTQPTN.ASASLEESVKLTCTLSSEHS.....NYIVQWYQQQPGKAPRYLMHVRSD...GSYNRGDGIP.SRFSGSS..SGADRYLTISNIKSEDEDDYYYSGAYYTISGQYG*\n",
      "TTGCCCATGCTGACCCAGCCTCCAAGTGCATCTGCCTCCCTGGAAGCCTCGGTCAAGCTCACATGCACTCTGAGCAGTGAGCAAAGCAGTTACTATATTTACTGGTATCAACAACAACAACCAGGGAAGGCCCCTCGGTATCTGATGAAGGTTAACAGTGATGGAAGCCACAGCAGGGCGTCGGGATCCCCAGTCGCTTCTCAGGCTCCAGCTCTGGGGCTGACCGCTATTTAACCATCTCCAACATCCAGTCTGAGGATGAGGCAGATTATTACTGTGTGTACCCACTGGTAGCAGTAGC\n",
      "2042|IGLV4-20*01|Canis_lupus_familiaris_boxer|ORF|V-REGION||105 AA|||||||||\n",
      "LPMLTEPTN.ASASLEESVKLTCTLSSEHS.....NYIVRWYQQQPGKAPRYLMYVRSD...GSYNRGDGIP.SRFSGSS..SGADRYLTISNIKSEDEAEYYYGGADYKISDQYG*\n",
      "TTGCCCATGCTGACCGAGCCTACAAATGCATCTGCCTCCCTGGAAGAGTCAGTCAAGCTCACCTGCACTTTGAGCAGTGAGCACAGCAATTACATTGTTCGATGGTATCAACAACAACCAGGGAAGGCCCCTCGGTATCTGATGTATGTCAGGAGTGATGGAAGCTACAACAGGGGGGACGGGATCCCCAGTCGCTTTTCAGGCTCCAGCTCTGGGGCTGACCGCTATTTAACCATCTCCAACATCAAGTCTGAAGATGAGGCTGAGTATTATTACGGTGGTGCAGACTATAAAATCAGTGACCAATATGGTTAAGA\n"
     ]
    },
    {
     "name": "stderr",
     "output_type": "stream",
     "text": [
      "/Users/jwillis/miniconda3/envs/bfx-bp-antibody/lib/python3.8/site-packages/Bio/Seq.py:2573: BiopythonWarning: Partial codon, len(sequence) not a multiple of three. Explicitly trim the sequence or add trailing N before translation. This may become an error in future.\n",
      "  warnings.warn(\"Partial codon, len(sequence) not a multiple of three. \"\n",
      "/Users/jwillis/miniconda3/envs/bfx-bp-antibody/lib/python3.8/site-packages/Bio/Seq.py:2573: BiopythonWarning: Partial codon, len(sequence) not a multiple of three. Explicitly trim the sequence or add trailing N before translation. This may become an error in future.\n",
      "  warnings.warn(\"Partial codon, len(sequence) not a multiple of three. \"\n",
      "/Users/jwillis/miniconda3/envs/bfx-bp-antibody/lib/python3.8/site-packages/Bio/Seq.py:2573: BiopythonWarning: Partial codon, len(sequence) not a multiple of three. Explicitly trim the sequence or add trailing N before translation. This may become an error in future.\n",
      "  warnings.warn(\"Partial codon, len(sequence) not a multiple of three. \"\n",
      "/Users/jwillis/miniconda3/envs/bfx-bp-antibody/lib/python3.8/site-packages/Bio/Seq.py:2573: BiopythonWarning: Partial codon, len(sequence) not a multiple of three. Explicitly trim the sequence or add trailing N before translation. This may become an error in future.\n",
      "  warnings.warn(\"Partial codon, len(sequence) not a multiple of three. \"\n"
     ]
    },
    {
     "name": "stdout",
     "output_type": "stream",
     "text": [
      "2043|IGLV4-22*01|Canis_lupus_familiaris_boxer|F|V-REGION||101 AA|||||||||\n",
      "LPVLTQPPS.ASACLETSVKLTCTLSSEHS.....SYYIYWYQQQQPGKAPRYLMKVNSD...GSHSRGDGIP.SRFSGSS..SGADRYLTISNIQSEDEADYYCGVPAGSSS\n",
      "TTGCCCGTGCTGACCCAGCCTCCAAGTGCATCTGCCTGCCTGGAAACCTCGGTCAAGCTCACATGCACTCTGAGCAGTGAGCACAGCAGTTACTATATTTACTGGTATCAACAACAACAACCAGGGAAGGCCCCTCGGTATCTGATGAAGGTTAACAGTGATGGAAGCCACAGCAGGGGGGACGGGATCCCCAGTCGCTTCTCAGGCTCCAGCTCTGGGGCTGACCGCTATTTAACCATCTCCAACATCCAGTCTGAAGATGAGGCAGATTATTACTGTGGTGTACCCGCTGGTAGCAGTAGC\n",
      "2045|IGLV4-5*01|Canis_lupus_familiaris_boxer|F|V-REGION||105 AA|||||||||\n",
      "LPVLTQPTN.ASASLEESVKLTCTLSSEHS.....NYIVQWYQQQPGKAPRYLMYVRSD...GSYKRGDGIP.SRFSGSS..SGADRYLTISNIKSEDEDDYYYCGADYTISGQYG*\n",
      "TTGCCCGTGCTGACCCAGCCTACAAATGCATCTGCCTCCCTGGAAGAGTCGGTCAAGCTGACCTGCACTTTGAGCAGTGAGCACAGCAATTACATTGTTCAGTGGTATCAACAACAACCAGGGAAGGCCCCTCGGTATCTGATGTATGTCAGGAGTGATGGAAGCTACAAAAGGGGGGACGGGATCCCCAGTCGCTTCTCAGGCTCCAGCTCTGGGGCTGACCGCTATTTAACCATCTCCAACATCAAGTCTGAAGATGAGGATGACTATTATTACTGTGGTGCAGACTATACAATCAGTGGCCAATACGGTTAAGC\n",
      "2046|IGLV4-6*01|Canis_lupus_familiaris_boxer|P|V-REGION||101 AA|||||||||\n",
      "LPVLTQPPS.ASASLEASVKLTCTLSSEHS.....SYYIYWYEQQQPGKAPRYLMRVNSD...GSHSRGDGIP.SRFSGSS..SGADRYLTISNIQSEDEADYYCGAPAGSSS\n",
      "TTGCCCGTGCTGACCCAGCCTCCAAGTGCATCTGCCTCCCTGGAAGCCTCGGTCAAGCTCACATGCACTCTGAGCAGTGAGCACAGCAGTTACTATATTTACTGGTATGAACAACAACAACCAGGGAAGGCCCCTCGGTATCTGATGAGGGTTAACAGTGATGGAAGCCACAGCAGGGGGGACGGGATCCCCAGTCGCTTCTCAGGCTCCAGCTCTGGGGCTGACCGCTATTTAACCATCTCCAACATCCAGTCTGAGGATGAGGCAGATTATTACTGTGGTGCACCCGCTGGTAGCAGTAGC\n",
      "Did not detect anything in summary dataframe,[],[]\n",
      "having trouble with 2056|IGLV5-105*01|Canis_lupus_familiaris_boxer|P|V-REGION||101 AA|||||||||-QPVLTQPPSLSASLGTTARLTCTMSSSYSGGHTLVPAARRPPEYLLMVY*DLPGPRGPQPLLWLQGHLGQCRAPAHLWAVA*GRG*LSLCYRTWQREQLPI\n",
      "2056|IGLV5-105*01|Canis_lupus_familiaris_boxer|P|V-REGION||101 AA|||||||||\n",
      "LPVLTQPPS.ASASLEASVKLTCTLSSEHS.....SYYIYWYEQQQPGKAPRYLMRVNSD...GSHSRGDGIP.SRFSGSS..SGADRYLTISNIQSEDEADYYCGAPAGSSS\n",
      "CAGCCTGTGCTGACCCAGCCGCCCTCCCTCTCTGCATCCCTGGGAACAACAGCCAGACTCACCTGCACCATGAGCAGCAGCTACAGTGGTGGCCATACACTGGTTCCAGCAGCCAGGAGGCCTCCTGAGTACCTGCTGATGGTCTACTGAGATTTACCAGGGCCCCGGGGTCCCCAGCCGCTTCTCTGGCTCCAAGGACATCTCGGCCAATGCAGGGCTCCTGCTCATCTCTGGGCTGTAGCCTGAGGACGAGGCTGACTGTCACTGTGCTACAGAACATGGCAGCGGGAGCAGCTCCCAATACT\n",
      "Did not detect anything in summary dataframe,[],[]\n",
      "having trouble with 2057|IGLV5-106-1*01|Canis_lupus_familiaris_boxer|P|V-REGION||103 AA|||||||||-QPLLTQRPPSLHLLEQQSDSPVSRAVAPVLAATTYTGSSGNHGALPCISCTTTQTQISTRPTGSPAASPDPWMPQPVQCSLISGLQPED*TDLHCLIGNNNAS\n",
      "2057|IGLV5-106-1*01|Canis_lupus_familiaris_boxer|P|V-REGION||103 AA|||||||||\n",
      "LPVLTQPPS.ASASLEASVKLTCTLSSEHS.....SYYIYWYEQQQPGKAPRYLMRVNSD...GSHSRGDGIP.SRFSGSS..SGADRYLTISNIQSEDEADYYCGAPAGSSS\n",
      "CAGCCTTTGCTGACCCAGCGTCCTCCCTCTCTGCATCTCCTGGAACAACAGTCAGACTCACCTGTATCCAGAGCAGTGGCCCCAGTGTTGGCAGCTACTACATACACCGGTTCCAGCGGAAACCACGGAGCCCTCCCCTGTATCTCCTGTACTACTACTCAGACTCAGATAAGCACTAGGCCTACAGGGTCCCCAGCTGCTTCTCCTGATCCATGGATGCCTCAGCCAGTGCAGTGCTCCCTCATCTCTGGGCTACAGCCTGAGGACTAGACTGACCTTCACTGTCTAATCGGAAACAATAATGCTTCT\n"
     ]
    },
    {
     "name": "stderr",
     "output_type": "stream",
     "text": [
      "/Users/jwillis/miniconda3/envs/bfx-bp-antibody/lib/python3.8/site-packages/Bio/Seq.py:2573: BiopythonWarning: Partial codon, len(sequence) not a multiple of three. Explicitly trim the sequence or add trailing N before translation. This may become an error in future.\n",
      "  warnings.warn(\"Partial codon, len(sequence) not a multiple of three. \"\n",
      "/Users/jwillis/miniconda3/envs/bfx-bp-antibody/lib/python3.8/site-packages/Bio/Seq.py:2573: BiopythonWarning: Partial codon, len(sequence) not a multiple of three. Explicitly trim the sequence or add trailing N before translation. This may become an error in future.\n",
      "  warnings.warn(\"Partial codon, len(sequence) not a multiple of three. \"\n",
      "/Users/jwillis/miniconda3/envs/bfx-bp-antibody/lib/python3.8/site-packages/Bio/Seq.py:2573: BiopythonWarning: Partial codon, len(sequence) not a multiple of three. Explicitly trim the sequence or add trailing N before translation. This may become an error in future.\n",
      "  warnings.warn(\"Partial codon, len(sequence) not a multiple of three. \"\n",
      "/Users/jwillis/miniconda3/envs/bfx-bp-antibody/lib/python3.8/site-packages/Bio/Seq.py:2573: BiopythonWarning: Partial codon, len(sequence) not a multiple of three. Explicitly trim the sequence or add trailing N before translation. This may become an error in future.\n",
      "  warnings.warn(\"Partial codon, len(sequence) not a multiple of three. \"\n"
     ]
    },
    {
     "name": "stdout",
     "output_type": "stream",
     "text": [
      "2058|IGLV5-109*01|Canis_lupus_familiaris_boxer|F|V-REGION||106 AA|||||||||\n",
      "QLVLTQPPS.LSASLGSTTRLTCTLSSGFSV...GGYSIYWHQQKPGSTPWYLLYYYS.....STELGPGVP.SCFSGSKDTSANVGLLLISGLQPEDETDYYCAIGHGSGSSYTY\n",
      "CAGCTTGTGCTGACCCAGCCGCCCTCCCTCTCTGCATCCCTGGGATCAACAACCAGACTCACCTGCACCCTGAGCAGTGGCTTCAGTGTTGGTGGCTATAGCATATACTGGCACCAGCAGAAGCCAGGGAGCACTCCCTGGTACCTCCTGTACTACTACTCAAGTACAGAGTTGGGACCTGGGGTCCCCAGCTGCTTCTCTGGATCCAAAGACACCTCAGCCAATGTAGGGCTCCTGCTCATCTCAGGGCTGCAGCCTGAGGATGAGACTGACTACTACTGTGCTATAGGTCACGGCAGTGGGAGCAGCTACACTTACC\n",
      "Did not detect anything in summary dataframe,[],[]\n",
      "having trouble with 2059|IGLV5-111-2*01|Canis_lupus_familiaris_boxer|P|V-REGION||106 AA|||||||||-QPVLTQLPFLSASLETTSRCTYTQSGVGSYYTYSSRTIQGDLPGISCTTTQTQLHGWDLVSPTTSLYPKMPQPMQGSCSSLGCSQRTRMTVTVLHSDHGSGSSSRY\n",
      "2059|IGLV5-111-2*01|Canis_lupus_familiaris_boxer|P|V-REGION||106 AA|||||||||\n",
      "QLVLTQPPS.LSASLGSTTRLTCTLSSGFSV...GGYSIYWHQQKPGSTPWYLLYYYS.....STELGPGVP.SCFSGSKDTSANVGLLLISGLQPEDETDYYCAIGHGSGSSYTY\n",
      "CAGCCTGTGCTGACCCAGCTGCCCTTCCTCTCTGCATCCCTGGAGACAACAAGCAGATGTACCTACACCCAGAGCGGTGTCGGCAGCTACTACACATACTCATCAAGGACAATCCAGGGAGACCTCCCTGGTATTTCCTGTACTACTACTCAGACTCAACTACATGGTTGGGATTTGGTGTCCCCAACCACTTCTCTGTATCCAAAGATGCCTCAGCCAATGCAGGGCTCCTGCTCATCTCTGGGCTGCAGCCAGAGGACAAGGATGACTGTCACTGTGCTGCATTCAGATCATGGCAGTGGGAGCAGCTCCCGATACT\n",
      "Did not detect anything in summary dataframe,[],[]\n",
      "having trouble with 2060|IGLV5-113-2*01|Canis_lupus_familiaris_boxer|P|V-REGION||103 AA|||||||||-QPLLIQCPPSLHLLEQESDSPAPRAVAPGLAATTYTGCSGNHGALLSISCTTTQNQMSTRALGSPATSPDPRMPQARQGSLIPGLQPEG*TDLHCLIRNNNVS\n",
      "2060|IGLV5-113-2*01|Canis_lupus_familiaris_boxer|P|V-REGION||103 AA|||||||||\n",
      "QLVLTQPPS.LSASLGSTTRLTCTLSSGFSV...GGYSIYWHQQKPGSTPWYLLYYYS.....STELGPGVP.SCFSGSKDTSANVGLLLISGLQPEDETDYYCAIGHGSGSSYTY\n",
      "CAGCCTTTGCTGATCCAGTGCCCTCCCTCTCTGCATCTCCTGGAACAAGAGTCAGACTCACCTGCACCCAGAGCAGTGGCCCCAGGGTTGGCAGCTACTACATACACTGGTTGCAGCGGAAACCACGGAGCCCTCCTCAGTATCTCCTGTACTACTACTCAGAATCAGATGAGCACCAGGGCTCTGGGGTCCCCAGCCACTTCTCCTGATCCAAGGATGCCTCAGGCAAGGCAGGGCTCCCTCATCCCTGGGCTACAGCCTGAGGGCTAGACTGACCTTCACTGTCTAATCCGAAACAATAATGTTTCT\n",
      "Did not detect anything in summary dataframe,[],[]\n",
      "having trouble with 2062|IGLV5-118-1*01|Canis_lupus_familiaris_boxer|P|V-REGION||106 AA|||||||||-QAVVTQLPSLHPWEQQPDSHAP*AMASVLIDML*AGSSRRQRAFPGTYCTITDTQVHSWASAFPAASLDPRQGHIHK*VDPSLVGSRAPAPPETDAQLQPHCLDIG\n",
      "2062|IGLV5-118-1*01|Canis_lupus_familiaris_boxer|P|V-REGION||106 AA|||||||||\n",
      "QLVLTQPPS.LSASLGSTTRLTCTLSSGFSV...GGYSIYWHQQKPGSTPWYLLYYYS.....STELGPGVP.SCFSGSKDTSANVGLLLISGLQPEDETDYYCAIGHGSGSSYTY\n",
      "CAGGCTGTGGTGACCCAGCTTCCTTCTCTGCATCCCTGGGAACAACAGCCAGATTCACATGCACCCTGAGCTATGGCTTCAGTATTGATAGATATGTTATAAGCTGGTTCCAGCAGAAGGCAGAGAGCCTTCCCTGGTACCTACTGTACTATTACTGATACTCAAGTACACAGTTGGGCTTCGGCATTCCCAGCTGCGTCTCTGGATCCAAGACAAGGCCACATTCACAAATGAGTAGACCCATCTCTGGTTGGGTCTAGAGCTCCAGCCCCACCTGAGACTGATGCACAATTGCAGCCACATTGTCTTGATATCGGAAA\n",
      "Did not detect anything in summary dataframe,[],[]\n",
      "having trouble with 2063|IGLV5-126*01|Canis_lupus_familiaris_boxer|P|V-REGION||100 AA|||||||||-QPVMTQLSSLSASLETTTRLT*TLSSGFRNDRCVISWFQQKSGSPPWCLLYYYSDSSTHLGSEVPSCFSGSKTRPHPH*VDPSPGGSRAPAPLEADAQLQ\n",
      "2063|IGLV5-126*01|Canis_lupus_familiaris_boxer|P|V-REGION||100 AA|||||||||\n",
      "QLVLTQPPS.LSASLGSTTRLTCTLSSGFSV...GGYSIYWHQQKPGSTPWYLLYYYS.....STELGPGVP.SCFSGSKDTSANVGLLLISGLQPEDETDYYCAIGHGSGSSYTY\n",
      "CAGCCTGTGATGACCCAGCTGTCCTCCCTCTCAGCATCCCTGGAAACAACAACAAGACTCACCTGAACCCTGAGCAGTGGCTTCAGAAATGACAGATGTGTAATAAGTTGGTTCCAGCAGAAGTCAGGGAGCCCTCCCTGGTGTCTCCTGTACTATTACTCGGACTCAAGTACACATTTGGGCTCTGAGGTTCCCAGCTGCTTCTCTGGATCCAAGACAAGGCCACACCCACACTGAGTAGACCCATCCCCGGGTGGGTCTAGAGCTCCAGCCCCACTGGAGGCTGATGCACAATTGCAGC\n",
      "Did not detect anything in summary dataframe,[],[]\n",
      "having trouble with 2064|IGLV5-128-1*01|Canis_lupus_familiaris_boxer|P|V-REGION||103 AA|||||||||-QPLRTQRPPSLHLLEQQLDSSAPRAVAPVLAATTNTGSSRSHGALPGTSCTTTQTQMSTRALGTTATSPDPRMPQERQGSLISGLQPED*TDLHCLIRNNNAS\n",
      "2064|IGLV5-128-1*01|Canis_lupus_familiaris_boxer|P|V-REGION||103 AA|||||||||\n",
      "QLVLTQPPS.LSASLGSTTRLTCTLSSGFSV...GGYSIYWHQQKPGSTPWYLLYYYS.....STELGPGVP.SCFSGSKDTSANVGLLLISGLQPEDETDYYCAIGHGSGSSYTY\n",
      "CAACCTTTGCGGACCCAGCGCCCTCCCTCTCTGCATCTCCTGGAACAACAGTTAGACTCATCTGCACCCAGAGCAGTGGCCCCAGTGTTGGCAGCTACTACAAACACTGGTTCCAGCAGAAGCCACGGAGCCCTCCCCGGTACCTCCTGTACTACTACTCAGACTCAGATGAGCACCAGGGCTCTGGGGACCACAGCCACTTCTCCTGATCCAAGGATGCCTCAGGAAAGGCAGGGCTCCCTCATCTCTGGGCTACAGCCTGAGGACTAGACTGACCTTCACTGTCTAATCAGAAACAATAATGCTTCT\n"
     ]
    },
    {
     "name": "stderr",
     "output_type": "stream",
     "text": [
      "/Users/jwillis/miniconda3/envs/bfx-bp-antibody/lib/python3.8/site-packages/Bio/Seq.py:2573: BiopythonWarning: Partial codon, len(sequence) not a multiple of three. Explicitly trim the sequence or add trailing N before translation. This may become an error in future.\n",
      "  warnings.warn(\"Partial codon, len(sequence) not a multiple of three. \"\n",
      "/Users/jwillis/miniconda3/envs/bfx-bp-antibody/lib/python3.8/site-packages/Bio/Seq.py:2573: BiopythonWarning: Partial codon, len(sequence) not a multiple of three. Explicitly trim the sequence or add trailing N before translation. This may become an error in future.\n",
      "  warnings.warn(\"Partial codon, len(sequence) not a multiple of three. \"\n",
      "/Users/jwillis/miniconda3/envs/bfx-bp-antibody/lib/python3.8/site-packages/Bio/Seq.py:2573: BiopythonWarning: Partial codon, len(sequence) not a multiple of three. Explicitly trim the sequence or add trailing N before translation. This may become an error in future.\n",
      "  warnings.warn(\"Partial codon, len(sequence) not a multiple of three. \"\n",
      "/Users/jwillis/miniconda3/envs/bfx-bp-antibody/lib/python3.8/site-packages/Bio/Seq.py:2573: BiopythonWarning: Partial codon, len(sequence) not a multiple of three. Explicitly trim the sequence or add trailing N before translation. This may become an error in future.\n",
      "  warnings.warn(\"Partial codon, len(sequence) not a multiple of three. \"\n"
     ]
    },
    {
     "name": "stdout",
     "output_type": "stream",
     "text": [
      "2065|IGLV5-131*01|Canis_lupus_familiaris_boxer|F|V-REGION||108 AA|||||||||\n",
      "QPVLTQPPS.LSASLGTTARLTCTLSSGFSV...GDYDMYWYQQKPGSPPRDLLYYYSD...SYKNQGSGVS.KSFSGSKDTSANAGLLLISGLQPEDEADYYCATDHGSESSYSY\n",
      "CAGCCTGTGCTGACCCAGCCACCCTCCCTCTCTGCATCCCTGGGAACAACAGCCAGACTCACCTGCACCCTGAGCAGTGGCTTCAGTGTTGGTGACTATGACATGTACTGGTACCAGCAGAAGCCAGGGAGCCCTCCCCGGGATCTCCTGTACTACTACTCGGACTCATATAAAAACCAGGGCTCTGGGGTCTCCAAAAGCTTCTCTGGATCCAAGGATACCTCAGCCAATGCAGGGCTCCTGCTCATCTCTGGGCTGCAGCCTGAGGACGAGGCTGACTACTACTGTGCTACAGATCATGGCAGTGAGAGCAGCTACTCTTACC\n",
      "Did not detect anything in summary dataframe,[],[]\n",
      "having trouble with 2069|IGLV5-139-1*01|Canis_lupus_familiaris_boxer|P|V-REGION||105 AA|||||||||-PTFADPVPSLSASPGTTVRLICTQSSGPSVGSYYKHWFQQKPRSPPQYLLYYFSDSDEAPGLWGLQPLPLIQGCLRKAGLPHLWATA*GLD*PSLSNQKQ*CFLQ\n",
      "2069|IGLV5-139-1*01|Canis_lupus_familiaris_boxer|P|V-REGION||105 AA|||||||||\n",
      "QPVLTQPPS.LSASLGTTARLTCTLSSGFSV...GDYDMYWYQQKPGSPPRDLLYYYSD...SYKNQGSGVS.KSFSGSKDTSANAGLLLISGLQPEDEADYYCATDHGSESSYSY\n",
      "CCAACCTTTGCGGACCCAGTGCCCTCCCTCTCTGCATCTCCTGGAACAACAGTTAGACTCATCTGCACCCAGAGCAGTGGCCCCAGTGTTGGCAGCTACTACAAACACTGGTTCCAGCAGAAGCCACGGAGCCCTCCCCAGTACCTCCTGTACTACTTCTCAGACTCAGATGAGGCACCAGGGCTCTGGGGACTGCAGCCACTTCCCCTGATCCAAGGATGCCTCAGGAAAGCAGGGCTCCCTCATCTCTGGGCTACAGCCTGAGGACTAGACTGACCTTCACTGTCTAATCAGAAACAATAATGCTTCTTACAGT\n",
      "2071|IGLV5-148*01|Canis_lupus_familiaris_boxer|P|V-REGION||97 AA|||||||||\n",
      "QTVVTKDPS.LSVFPGGTVTFTCGLSSGSVF...TSNYPSWYQQTHGRAPHMLIYST.......SSCPPGVP.DRFSGSI..SGNKVALTITGAQPEDET........IIVHCVWVVHL\n",
      "CAGACTGTGGTCACCAAGGATCCATCACTCTCAGTGTTTCCAGGAGGGACAGTCACATTCACATGTGGCCTCAGCTCTGGGTCAGTCTTTACAAGTAACTACCCCAGCTGGTACCAGCAGACCCATGGCCGGGCTCCTCACATGCTTATCTACAGCACAAGCAGCTGCCCCCCCGGGGTCCCTGATCGCTTCTCTGGATCCATCTCTGGGAACAAAGTTGCCCTCACCATCACAGGAGCCCAGCCTGAGGATGAGACTATTATTGTTCACTGCGTATGGGTAGTACATTTA\n",
      "Did not detect anything in summary dataframe,[],[]\n",
      "having trouble with 2072|IGLV5-148-1*01|Canis_lupus_familiaris_boxer|P|V-REGION||103 AA|||||||||-QPVLTQSPSLLTSLEQQSDSPVP*TVAPVLAAITSTGSRRSHGALPGITYTTS*TQISTRALGSPAASPDPRMPQSLEGTLISGLQPED*TDLHCLIRNNNAS\n",
      "2072|IGLV5-148-1*01|Canis_lupus_familiaris_boxer|P|V-REGION||103 AA|||||||||\n",
      "QTVVTKDPS.LSVFPGGTVTFTCGLSSGSVF...TSNYPSWYQQTHGRAPHMLIYST.......SSCPPGVP.DRFSGSI..SGNKVALTITGAQPEDET........IIVHCVWVVHL\n",
      "CAGCCTGTGCTAACCCAGTCGCCCTCCCTCTTGACATCTTTGGAACAACAGTCAGACTCACCTGTACCGTGAACAGTGGCTCCAGTATTGGCAGCTATTACATCAACTGGTTCCAGGAGAAGCCATGGAGCTCTCCCTGGTATCACCTATACTACTTCTTAGACTCAGATAAGCACCAGGGCTCTGGGGTCCCCAGCTGCTTCTCCTGATCCAAGGATGCCTCAGTCATTGGAGGGCACCCTCATCTCTGGGCTGCAGCCTGAGGACTAGACTGACCTTCACTGTCTAATCAGAAACAATAATGCTTCT\n",
      "Did not detect anything in summary dataframe,[],[]\n",
      "having trouble with 2074|IGLV5-154-1*01|Canis_lupus_familiaris_boxer|P|V-REGION||100 AA|||||||||-QPVMTQLSSLSASLETTTRHTCTLRVASEITAV**VDSSRSQGALPGVSCTITQTQVYIWALRFPAASLDPRQGHTHTE*THPWVGLELQPHWRLMHNCS\n",
      "2074|IGLV5-154-1*01|Canis_lupus_familiaris_boxer|P|V-REGION||100 AA|||||||||\n",
      "QTVVTKDPS.LSVFPGGTVTFTCGLSSGSVF...TSNYPSWYQQTHGRAPHMLIYST.......SSCPPGVP.DRFSGSI..SGNKVALTITGAQPEDET........IIVHCVWVVHL\n",
      "CAGCCTGTGATGACCCAGCTGTCCTCCCTCTCTGCATCCCTGGAAACAACAACCAGACACACCTGCACCCTGAGAGTGGCTTCAGAAATAACAGCTGTGTAATAAGTTGATTCCAGCAGAAGTCAGGGAGCCCTCCCTGGTGTCTCCTGTACTATTACTCAGACTCAAGTATACATTTGGGCTCTGAGGTTCCCAGCTGCTTCTCTGGATCCAAGACAAGGCCACACCCACACTGAGTAGACCCATCCCTGGGTGGGTCTAGAGCTCCAGCCCCACTGGAGGCTGATGCACAATTGCAGC\n",
      "Did not detect anything in summary dataframe,[],[]\n",
      "having trouble with 2075|IGLV5-155-1*01|Canis_lupus_familiaris_boxer|P|V-REGION||105 AA|||||||||-QPVLTQSLSLLTSLEQQSDSPVP*TVAPVLAAITSTGSSISHGALPSITCTTT*TQIRPGLWGPQLLLLIQGCLSHWRAPSSRGCSLRTRLTFTV*SETIMLLTV\n",
      "2075|IGLV5-155-1*01|Canis_lupus_familiaris_boxer|P|V-REGION||105 AA|||||||||\n",
      "QTVVTKDPS.LSVFPGGTVTFTCGLSSGSVF...TSNYPSWYQQTHGRAPHMLIYST.......SSCPPGVP.DRFSGSI..SGNKVALTITGAQPEDET........IIVHCVWVVHL\n",
      "CAGCCTGTGCTAACCCAGTCGCTCTCCCTCTTGACATCTTTGGAACAACAGTCAGACTCACCTGTACCGTGAACAGTGGCTCCAGTGTTGGCAGCTATTACATCAACTGGTTCCAGTATAAGCCATGGAGCTCTCCCTAGTATCACCTGTACTACTACTTAGACTCAGATAAGACCAGGGCTCTGGGGTCCCCAGCTGCTTCTCCTGATCCAAGGATGCCTCAGTCATTGGAGGGCACCCTCATCTCGGGGCTGCAGCCTGAGGACTAGACTGACCTTCACTGTCTAATCAGAAACAATAATGCTTCTAACAGTGA\n",
      "Did not detect anything in summary dataframe,[],[]\n"
     ]
    },
    {
     "name": "stderr",
     "output_type": "stream",
     "text": [
      "/Users/jwillis/miniconda3/envs/bfx-bp-antibody/lib/python3.8/site-packages/Bio/Seq.py:2573: BiopythonWarning: Partial codon, len(sequence) not a multiple of three. Explicitly trim the sequence or add trailing N before translation. This may become an error in future.\n",
      "  warnings.warn(\"Partial codon, len(sequence) not a multiple of three. \"\n",
      "/Users/jwillis/miniconda3/envs/bfx-bp-antibody/lib/python3.8/site-packages/Bio/Seq.py:2573: BiopythonWarning: Partial codon, len(sequence) not a multiple of three. Explicitly trim the sequence or add trailing N before translation. This may become an error in future.\n",
      "  warnings.warn(\"Partial codon, len(sequence) not a multiple of three. \"\n",
      "/Users/jwillis/miniconda3/envs/bfx-bp-antibody/lib/python3.8/site-packages/Bio/Seq.py:2573: BiopythonWarning: Partial codon, len(sequence) not a multiple of three. Explicitly trim the sequence or add trailing N before translation. This may become an error in future.\n",
      "  warnings.warn(\"Partial codon, len(sequence) not a multiple of three. \"\n",
      "/Users/jwillis/miniconda3/envs/bfx-bp-antibody/lib/python3.8/site-packages/Bio/Seq.py:2573: BiopythonWarning: Partial codon, len(sequence) not a multiple of three. Explicitly trim the sequence or add trailing N before translation. This may become an error in future.\n",
      "  warnings.warn(\"Partial codon, len(sequence) not a multiple of three. \"\n",
      "/Users/jwillis/miniconda3/envs/bfx-bp-antibody/lib/python3.8/site-packages/Bio/Seq.py:2573: BiopythonWarning: Partial codon, len(sequence) not a multiple of three. Explicitly trim the sequence or add trailing N before translation. This may become an error in future.\n",
      "  warnings.warn(\"Partial codon, len(sequence) not a multiple of three. \"\n",
      "/Users/jwillis/miniconda3/envs/bfx-bp-antibody/lib/python3.8/site-packages/Bio/Seq.py:2573: BiopythonWarning: Partial codon, len(sequence) not a multiple of three. Explicitly trim the sequence or add trailing N before translation. This may become an error in future.\n",
      "  warnings.warn(\"Partial codon, len(sequence) not a multiple of three. \"\n",
      "/Users/jwillis/miniconda3/envs/bfx-bp-antibody/lib/python3.8/site-packages/Bio/Seq.py:2573: BiopythonWarning: Partial codon, len(sequence) not a multiple of three. Explicitly trim the sequence or add trailing N before translation. This may become an error in future.\n",
      "  warnings.warn(\"Partial codon, len(sequence) not a multiple of three. \"\n"
     ]
    },
    {
     "name": "stdout",
     "output_type": "stream",
     "text": [
      "having trouble with 2076|IGLV5-158-1*01|Canis_lupus_familiaris_boxer|P|V-REGION||92 AA|||||||||-ITARFTCSLSSGFSVGGYNTLVPAEAREPSLLPPVLLLRIR*TPWLRDHQLLPWPYGHLGQCRAPAHLRAAA*GRG*LLLRYTPQQWEQLLL\n",
      "2076|IGLV5-158-1*01|Canis_lupus_familiaris_boxer|P|V-REGION||92 AA|||||||||\n",
      "QTVVTKDPS.LSVFPGGTVTFTCGLSSGSVF...TSNYPSWYQQTHGRAPHMLIYST.......SSCPPGVP.DRFSGSI..SGNKVALTITGAQPEDET........IIVHCVWVVHL\n",
      "ATAACAGCCAGATTCACCTGCTCCCTGAGCAGTGGCTTCAGTGTTGGTGGCTATAACACACTGGTACCAGCAGAAGCCAGGGAGCCCTCCCTGTTACCTCCTGTACTACTACTCAGAATCAGATAAACACCATGGCTCCGGGATCACCAGCTGCTTCCCTGGCCCTATGGACACCTCGGCCAATGCAGGGCTCCTGCTCATCTCAGGGCTGCAGCCTGAGGACGAGGCTGACTACTACTGCGGTATACTCCACAGCAGTGGGAGCAGCTACTCTTACC\n",
      "Did not detect anything in summary dataframe,[],[]\n",
      "having trouble with 2088|IGLV5-38-1*01|Canis_lupus_familiaris_boxer|P|V-REGION||92 AA|||||||||-QPVLTQPPSSLHPWEQQPDSPAP*AVASICGATIYSGTSRSQGALPGIC*TSTQISTRAPRTPRPMQGSCSSLGSSLRTRLTTTVKSGTVVW\n",
      "2088|IGLV5-38-1*01|Canis_lupus_familiaris_boxer|P|V-REGION||92 AA|||||||||\n",
      "QTVVTKDPS.LSVFPGGTVTFTCGLSSGSVF...TSNYPSWYQQTHGRAPHMLIYST.......SSCPPGVP.DRFSGSI..SGNKVALTITGAQPEDET........IIVHCVWVVHL\n",
      "CAGCCTGTGCTGACCCAGCCGCCGTCCTCTCTGCATCCCTGGGAACAACAGCCAGACTCACCTGCACCCTGAGCAGTGGCTTCAATATGTGGGGCTACCATATATTCTGGTACCAGCAGAAGCCAGGGAGCCCTCCCCGGTATCTGCTGAACTTCTACTCAGATAAGCACCAGGGCTCCAAGGACACCTCGGCCAATGCAGGGATCCTGCTCATCTCTGGGCTCCAGCCTGAGGACGAGGCTGACTACTACTGTAAAATCTGGTACAGTGGTCTGGT\n",
      "Did not detect anything in summary dataframe,[],[]\n",
      "having trouble with 2098|IGLV5-47*01|Canis_lupus_familiaris_boxer|P|V-REGION||104 AA|||||||||-QPVLTQLPSLSAYRGTNSRCTYTLSSVANY*TYFSKRIQGTFHSTSCTTTQTQVHDWDLGSQALLWIQRCLSQCRDPADLWAAARGQV*LSLCYRSWQWEQLPI\n",
      "2098|IGLV5-47*01|Canis_lupus_familiaris_boxer|P|V-REGION||104 AA|||||||||\n",
      "QTVVTKDPS.LSVFPGGTVTFTCGLSSGSVF...TSNYPSWYQQTHGRAPHMLIYST.......SSCPPGVP.DRFSGSI..SGNKVALTITGAQPEDET........IIVHCVWVVHL\n",
      "CAGCCTGTGCTGACCCAGCTGCCCTCCCTCTCTGCATACCGGGGAACAAACTCCAGATGTACCTACACCCTGAGCAGTGTCGCCAACTACTAAACATACTTCTCAAAGAGAATACAGGGCACCTTCCACAGTACATCCTGTACTACTACTCAGACTCAAGTGCATGATTGGGATTTGGGGTCCCAGGCACTTCTCTGGATCCAAAGATGCCTCAGCCAATGCAGGGATCCTGCTGATCTCTGGGCTGCAGCCAGAGGACAAGTCTGACTGTCACTGTGCTACAGATCATGGCAGTGGGAGCAGCTTCCGATACT\n",
      "Did not detect anything in summary dataframe,[],[]\n",
      "having trouble with 2099|IGLV5-47-1*01|Canis_lupus_familiaris_boxer|P|V-REGION||104 AA|||||||||-QPGLTQPHSLSAYQGETATHTCTLSGGFSVGSCHIYWIQKKPESPP*CLLNYY*DSDKASTSPALL*IQRHLAQGGNPAHLWAAAGGQGCLLLYNMAQWFWSQG\n",
      "2099|IGLV5-47-1*01|Canis_lupus_familiaris_boxer|P|V-REGION||104 AA|||||||||\n",
      "QTVVTKDPS.LSVFPGGTVTFTCGLSSGSVF...TSNYPSWYQQTHGRAPHMLIYST.......SSCPPGVP.DRFSGSI..SGNKVALTITGAQPEDET........IIVHCVWVVHL\n",
      "CAGCCAGGGCTGACCCAGCCACACTCCCTCTCTGCATATCAGGGAGAAACAGCCACACATACCTGCACCCTGAGCGGTGGCTTCAGTGTTGGCAGCTGCCATATATACTGGATCCAGAAGAAGCCAGAGAGCCCTCCCTGATGTCTCCTGAACTACTACTAAGACTCAGATAAGGCCTCGACGTCCCCAGCCCTACTCTGAATCCAAAGACACCTTGCCCAAGGTGGGAATCCTGCTCATCTCTGGGCTGCAGCCGGAGGACAAGGCTGTCTCTTACTGTATAATATGGCACAGTGGTTCTGGTCACAGGGACA\n",
      "Did not detect anything in summary dataframe,[],[]\n",
      "having trouble with 2108|IGLV5-53-1*01|Canis_lupus_familiaris_boxer|P|V-REGION||100 AA|||||||||-HPGLTQSSSLSASLGTTARLTCTLSSGFRNDRYVISWFQQKSGSPSWCLLYYYSNSSTHLGSEVPSCFSGSKTRPHPH*VDPSLGGSRAPAPPEADAQLQ\n",
      "2108|IGLV5-53-1*01|Canis_lupus_familiaris_boxer|P|V-REGION||100 AA|||||||||\n",
      "QTVVTKDPS.LSVFPGGTVTFTCGLSSGSVF...TSNYPSWYQQTHGRAPHMLIYST.......SSCPPGVP.DRFSGSI..SGNKVALTITGAQPEDET........IIVHCVWVVHL\n",
      "CACCCTGGGCTGACCCAGTCGTCCTCCCTCTCTGCATCCCTGGGAACAACAGCCAGACTCACCTGCACCCTGAGCAGTGGCTTCAGAAATGACAGGTATGTAATAAGTTGGTTCCAGCAGAAATCAGGGAGCCCTTCCTGGTGTCTCCTGTATTATTACTCGAACTCAAGTACACATTTGGGCTCTGAGGTTCCCAGCTGCTTCTCTGGATCCAAGACAAGGCCACACCCACACTGAGTAGACCCCTCTCTGGGTGGGTCTAGAGCTCCAGCTCCACCTGAGGCTGATGCACAATTGCAG\n",
      "Did not detect anything in summary dataframe,[],[]\n",
      "having trouble with 2112|IGLV5-57-1*01|Canis_lupus_familiaris_boxer|P|V-REGION||107 AA|||||||||-QPGLAQLPSLSASPGTTARLT*TMSSGFIVGGCYIYWFQQKPGSMPPSIS*GSTQTQISTRSQHPQPGSGSEDTQPKQGLCSSLGCSMRTRLTLTVQSGTVVLVTGT\n",
      "2112|IGLV5-57-1*01|Canis_lupus_familiaris_boxer|P|V-REGION||107 AA|||||||||\n",
      "QTVVTKDPS.LSVFPGGTVTFTCGLSSGSVF...TSNYPSWYQQTHGRAPHMLIYST.......SSCPPGVP.DRFSGSI..SGNKVALTITGAQPEDET........IIVHCVWVVHL\n",
      "CAGCCAGGGCTGGCCCAGCTGCCCTCCCTCTCTGCATCTCCAGGAACAACAGCCAGACTCACATGAACCATGAGCAGTGGCTTCATTGTTGGTGGCTGCTACATATACTGGTTCCAACAGAAGCCAGGGAGCATGCCCCCCAGTATCTCCTGAGGTTCTACTCAGACTCAGATAAGCACCAGGTCTCAACATCCCCAGCCCGGCTCTGGATCTGAAGACACTCAGCCGAAGCAGGGCCTCTGCTCATCTCTGGGCTGCAGCATGAGGACAAGGCTGACTCTTACTGTACAATCTGGCACAGTGGTCCTGGTCACAGGGACA\n",
      "Did not detect anything in summary dataframe,[],[]\n",
      "having trouble with 2114|IGLV5-59*01|Canis_lupus_familiaris_boxer|P|V-REGION||103 AA|||||||||-QPVLTQSPSLSASLEQQSDSPVP*SVAPVLAAITSTGSRRSHGALPSISCTTT*TQISTRALGSPAASPDPRMPQSLEDTLISELQPED*TDLRCLIRNNNAS\n",
      "2114|IGLV5-59*01|Canis_lupus_familiaris_boxer|P|V-REGION||103 AA|||||||||\n",
      "QTVVTKDPS.LSVFPGGTVTFTCGLSSGSVF...TSNYPSWYQQTHGRAPHMLIYST.......SSCPPGVP.DRFSGSI..SGNKVALTITGAQPEDET........IIVHCVWVVHL\n",
      "CAGCCTGTGCTGACCCAGTCGCCCTCCCTCTCGGCATCTTTGGAACAACAGTCAGACTCACCTGTACCCTGATCAGTGGCTCCAGTGTTGGCAGCTATTACATCAACTGGTTCCAGAAGAAGCCACGGAGCCCTCCCCAGTATCTCCTGTACTACTACTTAGACTCAGATAAGCACCAGGGCTCTGGGGTCCCCAGCTGCTTCTCCTGATCCAAGGATGCCTCAGTCATTGGAGGACACCCTCATCTCTGAACTGCAGCCTGAGGACTAGACTGACCTTCGCTGTCTAATCAGAAACAATAATGCTTCT\n",
      "2118|IGLV5-64*01|Canis_lupus_familiaris_boxer|F|V-REGION||108 AA|||||||||\n",
      "QLVVTQPPS.LSASLGSSARLTCTLSSGFSV...GSYSVTWFQQKPGSPLWYLLYYHSD...SDKHQGSRVP.SRFSGSKDTSANAGLLLISGLQPEDEADYYCASAHGSGSNYHY\n",
      "CAGCTTGTGGTGACCCAGCCGCCCTCCCTCTCTGCATCCCTGGGATCATCCGCCAGACTCACCTGCACCCTGAGCAGTGGCTTCAGTGTTGGCAGTTATTCTGTAACTTGGTTCCAGCAGAAGCCAGGGAGCCCTCTCTGGTACCTCCTGTACTACCACTCAGACTCAGATAAGCACCAGGGCTCCAGGGTCCCCAGCCGCTTCTCTGGATCCAAGGACACCTCGGCCAATGCAGGGCTCCTGCTCATCTCTGGGCTGCAGCCTGAGGATGAGGCTGACTACTACTGTGCCTCCGCTCATGGCAGTGGGAGCAACTACCATTACT\n",
      "Did not detect anything in summary dataframe,[],[]\n",
      "having trouble with 2120|IGLV5-67-1*01|Canis_lupus_familiaris_boxer|P|V-REGION||106 AA|||||||||-QPVLTQLPSFSVSLGTTVRLTCTLSSVGSY*TSFSRRNQGAPHPGISYTTIQTQINPRSLGSPATSLHPKTPRPMQGSCSPLGCSLRTRLTITVL*IMTVGVVPDT\n",
      "2120|IGLV5-67-1*01|Canis_lupus_familiaris_boxer|P|V-REGION||106 AA|||||||||\n",
      "QLVVTQPPS.LSASLGSSARLTCTLSSGFSV...GSYSVTWFQQKPGSPLWYLLYYHSD...SDKHQGSRVP.SRFSGSKDTSANAGLLLISGLQPEDEADYYCASAHGSGSNYHY\n",
      "CAGCCAGTGCTGACCCAGCTGCCCTCCTTCTCTGTATCTCTGGGAACAACAGTCAGACTCACCTGCACCCTGAGCAGTGTTGGCAGCTACTAAACATCCTTTTCAAGGAGAAACCAAGGAGCCCCCCACCCCGGTATCTCCTATACTACTATTCAGACTCAGATAAACCCCAGGTCTCTGGGGTCCCCAGCCACTTCTCTGCATCCAAAGACTCCTAGGCCAATGCAGGGCTCCTGCTCGCCTCTGGGCTGCAGCCTGAGGACGAGGCTGACTATCACTGTGCTATAAATCATGACAGTGGGAGTAGTTCCTGATACT\n",
      "Did not detect anything in summary dataframe,[],[]\n",
      "having trouble with 2122|IGLV5-70-1*01|Canis_lupus_familiaris_boxer|P|V-REGION||103 AA|||||||||-QPLVTQRPPSLHLLKQQSDSHAP*AVAPVLAATTYTGSSGSHGARPGISCTTTQTQMSTRALGSPAASPDPRMPQPGQGSLISGLQSEVYTDLHCLIGNNNVS\n",
      "2122|IGLV5-70-1*01|Canis_lupus_familiaris_boxer|P|V-REGION||103 AA|||||||||\n",
      "QLVVTQPPS.LSASLGSSARLTCTLSSGFSV...GSYSVTWFQQKPGSPLWYLLYYHSD...SDKHQGSRVP.SRFSGSKDTSANAGLLLISGLQPEDEADYYCASAHGSGSNYHY\n",
      "CAGCCTTTGGTGACCCAGCGCCCTCCCTCTCTGCATCTCCTGAAACAACAGTCAGACTCACATGCACCCTGAGCAGTGGCCCCAGTGCTGGCAGCTACTACATACACTGGTTCCAGTGGAAGCCACGGTGCCCGCCCCGGTATCTCCTGTACTACTACTCAGACTCAGATGAGCACCAGGGCTCTGGGGTCCCCAGCCGCTTCTCCTGATCCAAGGATGCCTCAGCCAGGGCAGGGCTCCCTCATCTCTGGGCTACAGTCTGAGGTCTACACTGACCTTCACTGTCTAATCGGAAACAATAATGTTTCT\n",
      "Did not detect anything in summary dataframe,[],[]\n",
      "having trouble with 2126|IGLV5-76*01|Canis_lupus_familiaris_boxer|P|V-REGION||103 AA|||||||||-QPVLTQSPSLSASLEQQSDSPVP*SVAPVLAAITSTGSRRSHGALPSISYTTT*TQISTRALGSPAASPDPRMPQSLEGTLISELQPED*TDLRCLIGNNNAS\n",
      "2126|IGLV5-76*01|Canis_lupus_familiaris_boxer|P|V-REGION||103 AA|||||||||\n",
      "QLVVTQPPS.LSASLGSSARLTCTLSSGFSV...GSYSVTWFQQKPGSPLWYLLYYHSD...SDKHQGSRVP.SRFSGSKDTSANAGLLLISGLQPEDEADYYCASAHGSGSNYHY\n",
      "CAGCCTGTGCTGACCCAGTCGCCCTCCCTCTCAGCATCTTTGGAACAACAGTCAGACTCACCTGTACCCTGATCAGTGGCTCCAGTGTTGGCAGCTATTACATCAACTGGTTCCAGAAGAAGCCACGGAGCCCTCCCCAGTATCTCCTATACTACTACTTAGACTCAGATAAGCACCAGGGCTCTGGGGTCCCCAGCTGCTTCTCCTGATCCAAGGATGCCTCAGTCATTGGAGGGCACCCTCATCTCTGAGCTGCAGCCTGAGGACTAGACTGACCTTCGCTGTCTAATCGGAAACAATAATGCTTCT\n"
     ]
    },
    {
     "name": "stderr",
     "output_type": "stream",
     "text": [
      "/Users/jwillis/miniconda3/envs/bfx-bp-antibody/lib/python3.8/site-packages/Bio/Seq.py:2573: BiopythonWarning: Partial codon, len(sequence) not a multiple of three. Explicitly trim the sequence or add trailing N before translation. This may become an error in future.\n",
      "  warnings.warn(\"Partial codon, len(sequence) not a multiple of three. \"\n",
      "/Users/jwillis/miniconda3/envs/bfx-bp-antibody/lib/python3.8/site-packages/Bio/Seq.py:2573: BiopythonWarning: Partial codon, len(sequence) not a multiple of three. Explicitly trim the sequence or add trailing N before translation. This may become an error in future.\n",
      "  warnings.warn(\"Partial codon, len(sequence) not a multiple of three. \"\n"
     ]
    },
    {
     "name": "stdout",
     "output_type": "stream",
     "text": [
      "Did not detect anything in summary dataframe,[],[]\n",
      "having trouble with 2127|IGLV5-77*01|Canis_lupus_familiaris_boxer|P|V-REGION||109 AA|||||||||-QPVLTQPPSLSASPGTTARLTCTLSSGFSVGDYDMYWYQKKPGSPHPGISCTTTQTHINTRAPGSPAASLDPRIPQPIQGSCSSLGHSLRTRLTTTVLQIMAVRAGTLT\n",
      "2127|IGLV5-77*01|Canis_lupus_familiaris_boxer|P|V-REGION||109 AA|||||||||\n",
      "QLVVTQPPS.LSASLGSSARLTCTLSSGFSV...GSYSVTWFQQKPGSPLWYLLYYHSD...SDKHQGSRVP.SRFSGSKDTSANAGLLLISGLQPEDEADYYCASAHGSGSNYHY\n",
      "CAGCCTGTGCTGACCCAGCCACCCTCCCTCTCTGCATCCCCGGGAACAACAGCCAGACTCACCTGCACCCTGAGCAGTGGCTTCAGTGTTGGTGACTATGACATGTACTGGTACCAGAAGAAGCCAGGAAGCCCCCACCCCGGGATCTCCTGTACTACTACTCAGACTCATATAAACACCAGGGCTCCGGGGTCTCCAGCAGCTTCTCTGGATCCAAGGATACCTCAGCCAATACAGGGCTCCTGCTCATCTCTGGGCCACAGCCTGAGGACGAGGCTGACTACTACTGTGCTACAGATCATGGCAGTGAGAGCAGGTACTCTTACC\n",
      "Did not detect anything in summary dataframe,[],[]\n",
      "having trouble with 2129|IGLV5-77-1*01|Canis_lupus_familiaris_boxer|P|V-REGION||97 AA|||||||||-QPLLPSTPFAAFPGTTARITCTLSRGISVGSCSL*RLPQRQGALPGIC*GSPLIDTTSLDPKKPRPMQGSCSLLCCHLTTSLSVVVED*DYYWDALV\n",
      "2129|IGLV5-77-1*01|Canis_lupus_familiaris_boxer|P|V-REGION||97 AA|||||||||\n",
      "QLVVTQPPS.LSASLGSSARLTCTLSSGFSV...GSYSVTWFQQKPGSPLWYLLYYHSD...SDKHQGSRVP.SRFSGSKDTSANAGLLLISGLQPEDEADYYCASAHGSGSNYHY\n",
      "CAGCCTCTGCTACCCAGCACCCCCTTCGCTGCGTTTCCAGGTACTACAGCCAGAATCACCTGCACCCTGAGCAGGGGCATCAGTGTTGGGAGCTGTTCCTTATAACGGCTCCCGCAGAGGCAGGGAGCCCTGCCTGGTATCTGCTGAGGTTCCCCTCTAATAGACACCACATCTCTGGATCCAAAGAAACCTCGGCCAATGCAGGGCTCCTGCTCATTGTTGTGCTGCCACCTGACAACTAGTCTATCAGTGGTGGTTGAGGACTAGGACTATTACTGGGATGCTTTGGTTT\n",
      "Did not detect anything in summary dataframe,[],[]\n",
      "having trouble with 2130|IGLV5-78-1*01|Canis_lupus_familiaris_boxer|P|V-REGION||102 AA|||||||||-QPLLIQRPPSLHLLEQQSDSPAPRAVAPVLAATTYTGSSGSHGALPGIFCTTNQTQMSTRALGSPAASPDPRMPQPEQGSLISGLQPED*TDLHCLIRNNNV\n",
      "2130|IGLV5-78-1*01|Canis_lupus_familiaris_boxer|P|V-REGION||102 AA|||||||||\n",
      "QLVVTQPPS.LSASLGSSARLTCTLSSGFSV...GSYSVTWFQQKPGSPLWYLLYYHSD...SDKHQGSRVP.SRFSGSKDTSANAGLLLISGLQPEDEADYYCASAHGSGSNYHY\n",
      "CAGCCTTTGCTGATCCAGCGCCCTCCCTCTCTGCATCTCCTGGAACAACAGTCAGACTCACCTGCACCCAGAGCAGTGGCCCCTGTGTTGGCAGCTACTACATACACTGGTTCCAGTGGAAGCCATGGAGCCCTCCCTGGTATCTTCTGTACTACTAATCAGACTCAGATGAGCACCAGGGCTCTGGGGTCCCCAGCCGCTTCTCCTGATCCAAGGATGCCTCAGCCAGAGCAGGGCTCCCTCATCTCTGGACTGCAGCCTGAGGACTAGACTGACCTTCACTGTCTAATCAGAAACAATAATGTTT\n",
      "Did not detect anything in summary dataframe,[],[]\n",
      "having trouble with 2132|IGLV5-83-1*01|Canis_lupus_familiaris_boxer|P|V-REGION||104 AA|||||||||-CRSLSQPLPSLFASPGRTVRSTCTQSSGPCVGSYYIHRFQWKPRSRLHISCTTTQTQMSTRALESPTASPDPRMPQGRQGSLISGLQAEDKTDLYCLIQNNNVS\n",
      "2132|IGLV5-83-1*01|Canis_lupus_familiaris_boxer|P|V-REGION||104 AA|||||||||\n",
      "QLVVTQPPS.LSASLGSSARLTCTLSSGFSV...GSYSVTWFQQKPGSPLWYLLYYHSD...SDKHQGSRVP.SRFSGSKDTSANAGLLLISGLQPEDEADYYCASAHGSGSNYHY\n",
      "TGCAGGTCCCTGTCCCAGCCTTTGCCCTCCCTCTTTGCATCTCCTGGAAGAACAGTCAGATCCACCTGCACCCAGAGCAGTGGCCCCTGTGTTGGCAGCTACTACATACACCGGTTCCAGTGGAAGCCACGGAGCCGTCTCCATATCTCCTGTACTACTACTCAGACTCAGATGAGCACCAGAGCTCTGGAGTCCCCAACTGCTTCTCCTGATCCAAGGATGCCTCAGGGAAGGCAGGGCTCCCTCATCTCTGGGCTACAGGCTGAGGACAAGACTGACCTTTACTGTCTAATCCAAAACAATAATGTTTCT\n",
      "2133|IGLV5-85*01|Canis_lupus_familiaris_boxer|F|V-REGION||108 AA|||||||||\n",
      "QPVLTQPPS.LSASLGSTARPTCTLSSGFSV...GSYHILWFQQKSESPPRYLLRFYSD...SNEHQGPGVP.SRFSGSKDTSTYAGLLLISGLQPEDEADYYCATDHGSGSSYTY\n",
      "CAGCCTGTGCTGACCCAGCCACCCTCCCTCTCTGCATCCCTGGGATCAACAGCCAGACCCACCTGCACCCTGAGCAGTGGCTTCAGTGTTGGAAGCTACCATATACTCTGGTTCCAGCAGAAGTCAGAGAGCCCTCCCCGGTATCTCCTGAGGTTCTACTCAGATTCTAATGAACACCAGGGTCCCGGGGTCCCCAGCCGCTTCTCTGGATCCAAGGACACCTCAACCTATGCAGGGCTCTTGCTCATCTCTGGGCTGCAGCCTGAGGACGAGGCTGACTACTACTGTGCTACAGACCATGGCAGTGGGAGCAGCTACACTTACC\n",
      "Did not detect anything in summary dataframe,[],[]\n",
      "having trouble with 2134|IGLV5-86-1*01|Canis_lupus_familiaris_boxer|P|V-REGION||95 AA|||||||||-QPLLTQRPPSLHLLEQKSDSPASRAVDPALAATTYTGSSRSHGALPSISCTTT*TQISTRPMGNPDPSPDPRMPQSMQGQREGII*SGQLGPLAR\n"
     ]
    },
    {
     "name": "stderr",
     "output_type": "stream",
     "text": [
      "/Users/jwillis/miniconda3/envs/bfx-bp-antibody/lib/python3.8/site-packages/Bio/Seq.py:2573: BiopythonWarning: Partial codon, len(sequence) not a multiple of three. Explicitly trim the sequence or add trailing N before translation. This may become an error in future.\n",
      "  warnings.warn(\"Partial codon, len(sequence) not a multiple of three. \"\n",
      "/Users/jwillis/miniconda3/envs/bfx-bp-antibody/lib/python3.8/site-packages/Bio/Seq.py:2573: BiopythonWarning: Partial codon, len(sequence) not a multiple of three. Explicitly trim the sequence or add trailing N before translation. This may become an error in future.\n",
      "  warnings.warn(\"Partial codon, len(sequence) not a multiple of three. \"\n",
      "/Users/jwillis/miniconda3/envs/bfx-bp-antibody/lib/python3.8/site-packages/Bio/Seq.py:2573: BiopythonWarning: Partial codon, len(sequence) not a multiple of three. Explicitly trim the sequence or add trailing N before translation. This may become an error in future.\n",
      "  warnings.warn(\"Partial codon, len(sequence) not a multiple of three. \"\n",
      "/Users/jwillis/miniconda3/envs/bfx-bp-antibody/lib/python3.8/site-packages/Bio/Seq.py:2573: BiopythonWarning: Partial codon, len(sequence) not a multiple of three. Explicitly trim the sequence or add trailing N before translation. This may become an error in future.\n",
      "  warnings.warn(\"Partial codon, len(sequence) not a multiple of three. \"\n"
     ]
    },
    {
     "name": "stdout",
     "output_type": "stream",
     "text": [
      "2134|IGLV5-86-1*01|Canis_lupus_familiaris_boxer|P|V-REGION||95 AA|||||||||\n",
      "QPVLTQPPS.LSASLGSTARPTCTLSSGFSV...GSYHILWFQQKSESPPRYLLRFYSD...SNEHQGPGVP.SRFSGSKDTSTYAGLLLISGLQPEDEADYYCATDHGSGSSYTY\n",
      "CAGCCTTTGCTGACCCAGCGCCCTCCCTCTCTGCATCTCCTGGAACAAAAGTCAGACTCACCTGCATCCAGAGCAGTGGATCCAGCGTTGGCAGCTACTACATACACTGGTTCCAGTAGAAGCCATGGAGCCCTCCCCAGTATCTCCTGTACTACTACTTAGACTCAGATAAGCACTAGGCCTATGGGGAACCCAGATCCTTCCCCTGATCCAAGGATGCCTCAGTCAATGCAGGGTCAAAGAGAGGGGATTATTTAGAGTGGACAATTGGGGCCTTTGGCCAGGAG\n",
      "Did not detect anything in summary dataframe,[],[]\n",
      "having trouble with 2135|IGLV5-88-1*01|Canis_lupus_familiaris_boxer|P|V-REGION||104 AA|||||||||-QPVQTQLPSFSVPLGTTARLTCTLSSVGGQ*TSFSRRNQGAPQSLLYYYPDSDKPQVSGVPSHFSESKDS*ANAGLLLASGLQPEDEADYHCAVNHDSGSSSGY\n",
      "2135|IGLV5-88-1*01|Canis_lupus_familiaris_boxer|P|V-REGION||104 AA|||||||||\n",
      "QPVLTQPPS.LSASLGSTARPTCTLSSGFSV...GSYHILWFQQKSESPPRYLLRFYSD...SNEHQGPGVP.SRFSGSKDTSTYAGLLLISGLQPEDEADYYCATDHGSGSSYTY\n",
      "CAGCCAGTGCAGACCCAGCTGCCCTCCTTCTCTGTACCTCTGGGAACAACAGCCAGACTCACCTGCACCCTGAGCAGTGTTGGCGGCCAGTAAACATCCTTTTCAAGGAGAAACCAAGGAGCCCCCCAGTCTCTCCTGTACTATTACCCAGACTCAGATAAACCCCAGGTCTCTGGGGTCCCCAGCCACTTCTCTGAATCCAAAGACTCCTAGGCCAATGCAGGGCTCCTGCTCGCCTCTGGGCTGCAGCCTGAGGACGAGGCTGACTATCACTGTGCTGTAAATCATGACAGTGGGAGCAGCTCCGGATACT\n",
      "Did not detect anything in summary dataframe,[],[]\n",
      "having trouble with 2136|IGLV5-89-1*01|Canis_lupus_familiaris_boxer|P|V-REGION||99 AA|||||||||-QAVVTQLPSLHPWEQQPDSHAP*AVASVLIDML*TGSSRRQRAFPGTYCAITGTQVHSWASASPAASLDPRQGHIHKRVDPSLVGSRAPAPPETDAQLQ\n",
      "2136|IGLV5-89-1*01|Canis_lupus_familiaris_boxer|P|V-REGION||99 AA|||||||||\n",
      "QPVLTQPPS.LSASLGSTARPTCTLSSGFSV...GSYHILWFQQKSESPPRYLLRFYSD...SNEHQGPGVP.SRFSGSKDTSTYAGLLLISGLQPEDEADYYCATDHGSGSSYTY\n",
      "CAGGCTGTGGTGACCCAGCTTCCTTCTCTGCATCCCTGGGAACAACAGCCAGACTCACATGCACCCTGAGCTGTGGCTTCAGTATTGATAGATATGCTATAAACTGGTTCCAGCAGAAGGCAGAGAGCCTTCCCTGGTACCTACTGTGCTATTACTGGTACTCAAGTACACAGTTGGGCTTCAGCGTCCCCAGCTGCATCTCTGGATCCAAGACAAGGCCACATTCACAAACGAGTAGACCCATCTCTGGTTGGGTCTAGAGCTCCAGCCCCACCTGAGACTGATGCACAATTGCAGC\n",
      "Did not detect anything in summary dataframe,[],[]\n",
      "having trouble with 2137|IGLV5-92-2*01|Canis_lupus_familiaris_boxer|P|V-REGION||102 AA|||||||||-QPV*TQSPSLSASLEQQSESPVP*AVAPVLAATTYTGSRRSHGAIPGISCTTQAQMSTRALGSVAASPDTMMPQPRQSSLISGLQPEDYTDLHCLIRNNNPF\n",
      "2137|IGLV5-92-2*01|Canis_lupus_familiaris_boxer|P|V-REGION||102 AA|||||||||\n",
      "QPVLTQPPS.LSASLGSTARPTCTLSSGFSV...GSYHILWFQQKSESPPRYLLRFYSD...SNEHQGPGVP.SRFSGSKDTSTYAGLLLISGLQPEDEADYYCATDHGSGSSYTY\n",
      "CAGCCTGTATAGACCCAGTCACCCTCCCTTTCTGCATCTTTGGAACAACAGTCAGAGTCACCTGTACCCTGAGCAGTGGCTCCAGTGTTGGCAGCTACTACATATACTGGTTCCAGGAGAAGCCATGGAGCAATCCCCGGTATCTCCTGTACTACTCAGGCTCAGATGAGCACCAGGGCTCTGGGATCCGTAGCTGCTTCTCCTGATACAATGATGCCTCAGCCAAGGCAGAGCTCCCTAATCTCTGGGCTGCAGCCTGAGGACTATACTGACCTTCACTGTCTAATCAGAAACAATAATCCTTTT\n",
      "Did not detect anything in summary dataframe,[],[]\n",
      "having trouble with 2138|IGLV5-95*01|Canis_lupus_familiaris_boxer|P|V-REGION||100 AA|||||||||-QPVMTQLSSLSASLETTTRHTCTLSSGFRNNSCVIS*FQQKSGSPPWCLLYYYSDSSIHLGSEVPSCFSGSKTRPHPH*VDPSLGGSRAPAPLEADAQLQ\n",
      "2138|IGLV5-95*01|Canis_lupus_familiaris_boxer|P|V-REGION||100 AA|||||||||\n",
      "QPVLTQPPS.LSASLGSTARPTCTLSSGFSV...GSYHILWFQQKSESPPRYLLRFYSD...SNEHQGPGVP.SRFSGSKDTSTYAGLLLISGLQPEDEADYYCATDHGSGSSYTY\n",
      "CAGCCTGTGATGACCCAGCTGTCCTCCCTCTCTGCATCCCTGGAAACAACAACCAGACACACCTGCACCCTGAGCAGTGGCTTCAGAAATAACAGCTGTGTAATAAGTTGATTCCAGCAGAAGTCAGGGAGCCCTCCCTGGTGTCTCCTGTACTATTACTCAGACTCAAGTATACATTTGGGCTCTGAGGTTCCCAGCTGCTTCTCTGGATCCAAGACAAGGCCACACCCACACTGAGTAGACCCATCCCTGGGTGGGTCTAGAGCTCCAGCCCCACTGGAGGCTGATGCACAATTGCAGC\n",
      "Did not detect anything in summary dataframe,[],[]\n",
      "having trouble with 2140|IGLV5-97-1*01|Canis_lupus_familiaris_boxer|P|V-REGION||107 AA|||||||||-LKPTKPNQTKTKQNKITARFTCSLSSGFSVGGYNTLVPAEAREPSLLPPVLLLRIR*TPWLRDHQLLPWPYGHLGQCRAPAHLRAAA*GRG*LLLRYTPQQWEQLLL\n",
      "2140|IGLV5-97-1*01|Canis_lupus_familiaris_boxer|P|V-REGION||107 AA|||||||||\n",
      "QPVLTQPPS.LSASLGSTARPTCTLSSGFSV...GSYHILWFQQKSESPPRYLLRFYSD...SNEHQGPGVP.SRFSGSKDTSTYAGLLLISGLQPEDEADYYCATDHGSGSSYTY\n",
      "TTAAAACCAACCAAACCAAACCAAACCAAAACAAAACAAAACAAAATAACAGCCAGATTCACCTGCTCCCTGAGCAGTGGCTTCAGTGTTGGTGGCTATAACACACTGGTACCAGCAGAAGCCAGGGAGCCCTCCCTGTTACCTCCTGTACTACTACTCAGAATCAGATAAACACCATGGCTCCGGGATCACCAGCTGCTTCCCTGGCCCTATGGACACCTCGGCCAATGCAGGGCTCCTGCTCATCTCAGGGCTGCAGCCTGAGGACGAGGCTGACTACTACTGCGGTATACTCCACAGCAGTGGGAGCAGCTACTCTTACC\n"
     ]
    },
    {
     "name": "stderr",
     "output_type": "stream",
     "text": [
      "/Users/jwillis/miniconda3/envs/bfx-bp-antibody/lib/python3.8/site-packages/Bio/Seq.py:2573: BiopythonWarning: Partial codon, len(sequence) not a multiple of three. Explicitly trim the sequence or add trailing N before translation. This may become an error in future.\n",
      "  warnings.warn(\"Partial codon, len(sequence) not a multiple of three. \"\n",
      "/Users/jwillis/miniconda3/envs/bfx-bp-antibody/lib/python3.8/site-packages/Bio/Seq.py:2573: BiopythonWarning: Partial codon, len(sequence) not a multiple of three. Explicitly trim the sequence or add trailing N before translation. This may become an error in future.\n",
      "  warnings.warn(\"Partial codon, len(sequence) not a multiple of three. \"\n",
      "/Users/jwillis/miniconda3/envs/bfx-bp-antibody/lib/python3.8/site-packages/Bio/Seq.py:2573: BiopythonWarning: Partial codon, len(sequence) not a multiple of three. Explicitly trim the sequence or add trailing N before translation. This may become an error in future.\n",
      "  warnings.warn(\"Partial codon, len(sequence) not a multiple of three. \"\n",
      "/Users/jwillis/miniconda3/envs/bfx-bp-antibody/lib/python3.8/site-packages/Bio/Seq.py:2573: BiopythonWarning: Partial codon, len(sequence) not a multiple of three. Explicitly trim the sequence or add trailing N before translation. This may become an error in future.\n",
      "  warnings.warn(\"Partial codon, len(sequence) not a multiple of three. \"\n",
      "/Users/jwillis/miniconda3/envs/bfx-bp-antibody/lib/python3.8/site-packages/Bio/Seq.py:2573: BiopythonWarning: Partial codon, len(sequence) not a multiple of three. Explicitly trim the sequence or add trailing N before translation. This may become an error in future.\n",
      "  warnings.warn(\"Partial codon, len(sequence) not a multiple of three. \"\n"
     ]
    },
    {
     "name": "stdout",
     "output_type": "stream",
     "text": [
      "Did not detect anything in summary dataframe,[],[]\n",
      "having trouble with 2153|IGLV7-33*01|Canis_lupus_familiaris_boxer|P|V-REGION||96 AA|||||||||-QAVVTQEPSLTVSLEGQSLSPVPPALARSPMDTIHTGSSRSLAKSPGH*FIIHT*YSWTPTRFSGCLFGGKAALTITGAQPEDEAEDYCWLVYMVI\n",
      "2153|IGLV7-33*01|Canis_lupus_familiaris_boxer|P|V-REGION||96 AA|||||||||\n",
      "QPVLTQPPS.LSASLGSTARPTCTLSSGFSV...GSYHILWFQQKSESPPRYLLRFYSD...SNEHQGPGVP.SRFSGSKDTSTYAGLLLISGLQPEDEADYYCATDHGSGSSYTY\n",
      "CAGGCTGTGGTGACTCAGGAACCCTCACTGACCGTGTCCCTGGAGGGACAGTCACTCTCACCTGTGCCTCCAGCACTGGCGAGGTCACCAATGGACACTATCCATACTGGTTCCAGCAGAAGCCTGGCCAAGTCCCCAGGACATTGATTTATAATACACACATAATACTCCTGGACCCCTACCCGGTTCTCAGGCTGCCTCTTTGGGGGCAAAGCTGCCTTGACCATCACAGGGGCCCAGCCCGAGGATGAAGCTGAGGACTACTGCTGGCTAGTATATATGGTAATAGG\n",
      "2164|IGLV8-102*01|Canis_lupus_familiaris_boxer|ORF|V-REGION||100 AA|||||||||\n",
      "QIVVTQEPS...LSPGGTVLLTCGLSSGSVT...TSNYSSWYQQTPGRAPRTIIYNT.......NSHPSGVP.DRFSGSI..SGNKAALTITGAQPEDEADYYCVTEHGSGSSFTY\n",
      "CAGATTGTAGTGACCCAGGAACCATCACTGTCTCCAGGAGGGACAGTCCTACTCACTTGTGGCCTCAGCTCTGGGTCAGTCACTACAAGTAACTACTCCAGCTGGTACCAGCAGACCCCAGGGCGGGCTCCTCGCACGATTATCTACAACACTAACAGCCACCCCTCTGGAGTCCCTGATCGCTTCTCTGGATCCATCTCTGGGAACAAAGCGGCGCTCACCATCACAGGAGCCCAGCCTGAGGACGAGGCTGACTACTACTGTGTTACAGAACATGGTAGTGGGAGCAGCTTCACTTAC\n",
      "2165|IGLV8-108*01|Canis_lupus_familiaris_boxer|F|V-REGION||102 AA|||||||||\n",
      "QTVVTQESS.VSVSPGGTVTLTCDLSSGSVT...TSNNPSWYQQTQGRSPRMLIYDT.......SSCPSEVP.DRFSGSI..SGNTAALTITGAQPEDKADYYCSMHDVSGSSYNY\n",
      "CAGACTGTGGTGACTCAGGAGTCATCAGTCTCAGTGTCTCCAGGAGGGACAGTCACACTCACGTGTGACCTCAGCTCTGGGTCAGTGACTACAAGTAACAACCCCAGCTGGTACCAGCAGACCCAAGGCCGATCTCCTCGCATGCTTATCTATGACACAAGCAGCTGTCCCTCGGAGGTCCCTGATCGCTTCTCTGGATCCATTTCTGGGAACACAGCTGCCCTCACCATCACAGGAGCCCAGCCTGAGGACAAGGCTGACTACTACTGTAGTATGCATGATGTCAGTGGGAGCAGCTACAATTACC\n"
     ]
    },
    {
     "name": "stderr",
     "output_type": "stream",
     "text": [
      "/Users/jwillis/miniconda3/envs/bfx-bp-antibody/lib/python3.8/site-packages/Bio/Seq.py:2573: BiopythonWarning: Partial codon, len(sequence) not a multiple of three. Explicitly trim the sequence or add trailing N before translation. This may become an error in future.\n",
      "  warnings.warn(\"Partial codon, len(sequence) not a multiple of three. \"\n",
      "/Users/jwillis/miniconda3/envs/bfx-bp-antibody/lib/python3.8/site-packages/Bio/Seq.py:2573: BiopythonWarning: Partial codon, len(sequence) not a multiple of three. Explicitly trim the sequence or add trailing N before translation. This may become an error in future.\n",
      "  warnings.warn(\"Partial codon, len(sequence) not a multiple of three. \"\n"
     ]
    },
    {
     "name": "stdout",
     "output_type": "stream",
     "text": [
      "2166|IGLV8-113*01|Canis_lupus_familiaris_boxer|P|V-REGION||98 AA|||||||||\n",
      "QTVVTQEPS.LSVSPGGTVTLTCGLSSGSVT...ISNYPSWSQQTPGQAPHTIIYR........TNS*PSGVP.DRFSGSI..SGNNAALSITVAQPEDEADYYCSLYMGSNI\n",
      "CAGACTGTGGTCACCCAGGAGCCATCACTCTCAGTGTCTCCAGGAGGGACAGTCACACTCACATGTGGCCTCAGTTCTGGGTCAGTCACTATAAGTAACTACCCCAGCTGGTCCCAGCAGACCCCAGGGCAGGCTCCTCACACAATAATCTACAGGACAAACAGCTGACCCTCTGGGGTCCCTGATCGCTTCTCTGGATCCATCTCTGGGAACAACGCCGCCCTCAGCATCACAGTCGCCCAGCCTGAGGACGAGGCTGACTATTACTGTTCATTGTATATGGGTAGTAACATTTA\n",
      "Did not detect anything in summary dataframe,[],[]\n",
      "having trouble with 2167|IGLV8-113-3*01|Canis_lupus_familiaris_boxer|P|V-REGION||101 AA|||||||||-QIVVTQEPSLSVSRGGTVTLTCGLSSESITTTTPADPSRPQGRLLTQLSMTKTAAPLGSLITSQDPSVGTKPPSPSQEPSLRTRLTTTVVSNMAVGGASLT\n",
      "2167|IGLV8-113-3*01|Canis_lupus_familiaris_boxer|P|V-REGION||101 AA|||||||||\n",
      "QTVVTQEPS.LSVSPGGTVTLTCGLSSGSVT...ISNYPSWSQQTPGQAPHTIIYR........TNS*PSGVP.DRFSGSI..SGNNAALSITVAQPEDEADYYCSLYMGSNI\n",
      "CAGATTGTGGTGACCCAGGAGCCATCACTCTCAGTGTCTAGAGGAGGGACAGTCACACTCACTTGTGGCCTCAGCTCTGAGTCAATCACTACAACTACCCCAGCTGATCCCAGCAGACCCCAGGGCAGGCTCCTCACACAATTATCTATGACAAAAACAGCCGCCCCTCTGGGGTCCCTGATCACTTCTCAGGATCCATCTGTGGGAACAAAGCCACCCTCACCATCACAGGAACCCAGCCTGAGGACAAGGCTGACTACTACTGTGGTATCCAACATGGCAGTAGGAGGAGCCTCATTAACC\n",
      "Did not detect anything in summary dataframe,[],[]\n",
      "having trouble with 2168|IGLV8-117*01|Canis_lupus_familiaris_boxer|P|V-REGION||102 AA|||||||||-QTVVTQESSVSVSPGGTVTLTCSLSSGSVTTSKYSSWTSRPKADLLACLSMTQAAVPLRSLIASLDPSPGTKLPSPSQEPSLRTRLTTTVVCMMSVGGVTIT\n",
      "2168|IGLV8-117*01|Canis_lupus_familiaris_boxer|P|V-REGION||102 AA|||||||||\n",
      "QTVVTQEPS.LSVSPGGTVTLTCGLSSGSVT...ISNYPSWSQQTPGQAPHTIIYR........TNS*PSGVP.DRFSGSI..SGNNAALSITVAQPEDEADYYCSLYMGSNI\n",
      "CAGACTGTTGTGACTCAGGAGTCATCAGTCTCAGTGTCTCCAGGAGGGACAGTAACACTCACGTGTAGCCTCAGCTCTGGGTCAGTGACTACAAGTAAGTACTCCAGCTGGACCAGTAGACCCAAGGCCGATCTCCTCGCATGCTTATCTATGACACAAGCAGCCGTCCCTCTGAGGTCCCTGATCGCTTCTCTGGATCCATCTCCGGGAACAAAGCTGCCCTCACCATCACAGGAGCCCAGCCTGAGGACGAGGCTGACTACTACTGTGGTATGCATGATGTCAGTGGGAGGAGTTACAATTACC\n",
      "Did not detect anything in summary dataframe,[],[]\n",
      "having trouble with 2169|IGLV8-118-3*01|Canis_lupus_familiaris_boxer|P|V-REGION||100 AA|||||||||-QIVVARRHCCQCPLEGESHSLVASALGQSLQVTTPTGSSRPQGGLLARLCTAQKTAPLGSLIASLDPSLGTKPPSPSQEPSLRTRLLLFYTTW*WELLHL\n",
      "2169|IGLV8-118-3*01|Canis_lupus_familiaris_boxer|P|V-REGION||100 AA|||||||||\n",
      "QTVVTQEPS.LSVSPGGTVTLTCGLSSGSVT...ISNYPSWSQQTPGQAPHTIIYR........TNS*PSGVP.DRFSGSI..SGNNAALSITVAQPEDEADYYCSLYMGSNI\n",
      "CAGATTGTGGTGGCCAGGAGGCATTGTTGTCAGTGTCCTCTGGAGGGAGAGTCACACTCACTTGTGGCCTCAGCTCTGGGTCAGTCACTACAAGTAACTACCCCAACTGGTTCCAGCAGACCCCAGGGCGGGCTCCTGGCACGATTATGTACAGCACAAAAGACTGCCCCTCTGGGGTCCCTGATTGCTTCTCTAGATCCATCTCTGGGAACAAAGCCGCCCTCACCATCACAGGAGCCCAGTCTGAGGACGAGGTTATTACTGTTTTACACGACATGGTAGTGGGAGCTGCTACACTTACC\n",
      "2170|IGLV8-119*01|Canis_lupus_familiaris_boxer|P|V-REGION||98 AA|||||||||\n",
      "QTVVTQEPS.LSVSPGGTVTLTCGLSSGSVS...TGNKPGWYQHTPGQAPRRIIYDT.......SSRPSGVP.DRFSGSI..SENKAALTITEAQPEDEAAYHCSLYMSGGA\n",
      "CAGACTGTGGTAACCCAGGAGCCATCACTCTCAGTGTCTCCAGGAGGGACAGTCACACTCACTTGTGGCCTCAGCTCTGGGTCAGTCTCTACAGGTAACAAACCTGGCTGGTACCAGCACACCCCAGGCCAGGCTCCTCGCAGGATTATCTATGACACAAGCAGCCGCCCTTCTGGGGTCCCTGATCGCTTCTCTGGATCCATCTCTGAGAACAAAGCTGCCCTCACCATCACAGAAGCCCAGCCTGAGGATGAGGCTGCCTACCACTGTTCGCTGTATATGAGTGGTGGTGCTTA\n",
      "Did not detect anything in summary dataframe,[],[]\n",
      "having trouble with 2171|IGLV8-120*01|Canis_lupus_familiaris_boxer|P|V-REGION||102 AA|||||||||-QIVVTQEASLSVSPGGIVTLTCGLSSGSITTSNYPNWFQQTPGRAPRR*SMAQKAAPLGSLIASVDPSLGTKPPSPSQEPSLRMRLTITVLHDMAVGAATIT\n"
     ]
    },
    {
     "name": "stderr",
     "output_type": "stream",
     "text": [
      "/Users/jwillis/miniconda3/envs/bfx-bp-antibody/lib/python3.8/site-packages/Bio/Seq.py:2573: BiopythonWarning: Partial codon, len(sequence) not a multiple of three. Explicitly trim the sequence or add trailing N before translation. This may become an error in future.\n",
      "  warnings.warn(\"Partial codon, len(sequence) not a multiple of three. \"\n",
      "/Users/jwillis/miniconda3/envs/bfx-bp-antibody/lib/python3.8/site-packages/Bio/Seq.py:2573: BiopythonWarning: Partial codon, len(sequence) not a multiple of three. Explicitly trim the sequence or add trailing N before translation. This may become an error in future.\n",
      "  warnings.warn(\"Partial codon, len(sequence) not a multiple of three. \"\n",
      "/Users/jwillis/miniconda3/envs/bfx-bp-antibody/lib/python3.8/site-packages/Bio/Seq.py:2573: BiopythonWarning: Partial codon, len(sequence) not a multiple of three. Explicitly trim the sequence or add trailing N before translation. This may become an error in future.\n",
      "  warnings.warn(\"Partial codon, len(sequence) not a multiple of three. \"\n"
     ]
    },
    {
     "name": "stdout",
     "output_type": "stream",
     "text": [
      "2171|IGLV8-120*01|Canis_lupus_familiaris_boxer|P|V-REGION||102 AA|||||||||\n",
      "QTVVTQEPS.LSVSPGGTVTLTCGLSSGSVS...TGNKPGWYQHTPGQAPRRIIYDT.......SSRPSGVP.DRFSGSI..SENKAALTITEAQPEDEAAYHCSLYMSGGA\n",
      "CAGATTGTGGTGACCCAGGAGGCATCGTTGTCAGTGTCTCCTGGAGGGATAGTCACACTCACTTGTGGCCTCAGCTCTGGATCAATCACTACAAGTAACTACCCCAACTGGTTCCAGCAGACCCCAGGGCGGGCTCCTCGCAGATGATCTATGGCACAAAAAGCCGCCCCTCTGGGGTCCCTGATCGCTTCTGTAGATCCATCTCTGGGAACAAAGCCGCCCTCACCATCACAGGAGCCCAGTCTGAGGATGAGGCTGACTATTACTGTTTTACACGACATGGCAGTGGGAGCAGCTACAATTACC\n",
      "2172|IGLV8-121*01|Canis_lupus_familiaris_boxer|P|V-REGION||102 AA|||||||||\n",
      "QTVVTQESS.VSVSPVGTVTLTCGLSSGSLT...TSNYTSWYQQTQGQSPRMLVYDT.......SSCPSEVP.DHFSGSI..SGNKAALTITGAQPEDEADYYCGMHDVSGSS*NY\n",
      "CAGACTGTGGTGACCCAGGAGTCATCAGTCTCAGTGTCTCCAGTCGGAACAGTCACACTCACTTGTGGCCTCAGCTCTGGGTCACTGACTACAAGTAACTACACCAGCTGGTACCAGCAGACCCAAGGCCAGTCTCCTCGCATGCTTGTCTATGACACAAGCAGCTGTCCCTCTGAAGTTCCTGATCACTTCTCTGGATCCATTTCTGGGAACAAAGCCGCCCTCACCATCACAGGAGCCCAGCCTGAGGACGAGGCTGACTACTACTGTGGTATGCATGATGTCAGTGGGAGCAGCTAAAATTACC\n",
      "Did not detect anything in summary dataframe,[],[]\n",
      "having trouble with 2173|IGLV8-121-1*01|Canis_lupus_familiaris_boxer|P|V-REGION||96 AA|||||||||-HILVTQEPSLSVSP*GTVTLTCGLSSGSVTTSNYPRYTSRTQARLLAQLSTTKTAAPLGSMVDSLDPSLEAKPPSQSQEPSLRLRLTTTVLQNMAP\n",
      "2173|IGLV8-121-1*01|Canis_lupus_familiaris_boxer|P|V-REGION||96 AA|||||||||\n",
      "QTVVTQESS.VSVSPVGTVTLTCGLSSGSLT...TSNYTSWYQQTQGQSPRMLVYDT.......SSCPSEVP.DHFSGSI..SGNKAALTITGAQPEDEADYYCGMHDVSGSS*NY\n",
      "CATATTTTGGTGACTCAGGAGCCATCACTGTCAGTGTCTCCATGAGGGACAGTCACACTCACTTGTGGCCTCAGCTCTGGGTCAGTCACTACAAGTAACTACCCCAGGTATACCAGCAGAACCCAGGCAAGGCTCCTAGCACAGTTATCTACAACAAAAACAGCTGCCCCTCTGGGGTCCATGGTCGATTCTCTGGATCCATCTCTGGAAGCAAAGCCGCCTTCACAATCACAGGAGCCCAGCCTGAGGTTGAGGCTGACTACTACTGTGTTACAGAACATGGCTCCT\n",
      "2174|IGLV8-124*01|Canis_lupus_familiaris_boxer|P|V-REGION||97 AA|||||||||\n",
      "QTVVNQDPS.LSVSPGGTVTFTCGLSSG*VS...ARNYPSWYQQTQGQAPCMLIYST.......SSRPSGVP.DRFSGSI..SGNKVALTITGAQPEDET........IIVHCIWVVHL\n",
      "CAGACTGTGGTCAACCAGGATCCGTCACTCTCAGTGTCTCCAGGAGGGACAGTCACATTCACATGTGGCCTCAGCTCTGGGTAAGTCTCTGCAAGAAACTACCCCAGCTGGTACCAGCAGACCCAAGGCCAGGCTCCTTGCATGCTTATCTACAGCACAAGCAGCCGCCCTTCTGGGGTCCCTGATCGCTTCTCTGGATCCATCTCTGGGAACAAAGTCGCCCTCACCATCACAGGAGCCCAGCCTGAGGATGAGACTATTATTGTTCACTGCATATGGGTAGTACATTTA\n"
     ]
    },
    {
     "name": "stderr",
     "output_type": "stream",
     "text": [
      "/Users/jwillis/miniconda3/envs/bfx-bp-antibody/lib/python3.8/site-packages/Bio/Seq.py:2573: BiopythonWarning: Partial codon, len(sequence) not a multiple of three. Explicitly trim the sequence or add trailing N before translation. This may become an error in future.\n",
      "  warnings.warn(\"Partial codon, len(sequence) not a multiple of three. \"\n",
      "/Users/jwillis/miniconda3/envs/bfx-bp-antibody/lib/python3.8/site-packages/Bio/Seq.py:2573: BiopythonWarning: Partial codon, len(sequence) not a multiple of three. Explicitly trim the sequence or add trailing N before translation. This may become an error in future.\n",
      "  warnings.warn(\"Partial codon, len(sequence) not a multiple of three. \"\n",
      "/Users/jwillis/miniconda3/envs/bfx-bp-antibody/lib/python3.8/site-packages/Bio/Seq.py:2573: BiopythonWarning: Partial codon, len(sequence) not a multiple of three. Explicitly trim the sequence or add trailing N before translation. This may become an error in future.\n",
      "  warnings.warn(\"Partial codon, len(sequence) not a multiple of three. \"\n"
     ]
    },
    {
     "name": "stdout",
     "output_type": "stream",
     "text": [
      "2175|IGLV8-128*01|Canis_lupus_familiaris_boxer|F|V-REGION||98 AA|||||||||\n",
      "QTVVTQEPS.LSVSPGGTVTLTCGLSSGSVS...TSNYPGWYQQTLGRAPRTIIYRT.......SSRPSGVP.NRFSGSI..SGNKAALTITGAQPEDEADYYCSLYMGSYT\n",
      "CAGACTGTGGTAACCCAGGAGCCATCACTCTCAGTGTCTCCAGGAGGGACAGTCACACTCACATGTGGCCTCAGCTCTGGGTCAGTCTCTACAAGTAATTACCCTGGCTGGTACCAGCAGACCCTAGGCCGGGCTCCTCGCACGATTATCTACAGAACAAGCAGCCGCCCCTCTGGGGTCCCTAATCGCTTCTCTGGATCCATCTCTGGGAACAAAGCCGCCCTCACCATCACAGGAGCCCAGCCTGAGGACGAGGCTGACTATTACTGTTCCTTGTATATGGGTAGTTACACTGA\n",
      "2176|IGLV8-137*01|Canis_lupus_familiaris_boxer|P|V-REGION||97 AA|||||||||\n",
      "QTVVTKDPS.LSVSPGGTVTFTCGLSSGSVF...TSNYPSWYQQTHGRAPRMLIYST.......RSCPPGVP.DRFSGSI..SGNKVALTITGAQPEDET........IIVHCVWVVHL\n",
      "CAGACTGTGGTCACCAAGGATCCATCACTCTCAGTGTCTCCAGGAGGGACAGTCACATTCACATGTGGCCTCAGCTCTGGGTCAGTCTTTACAAGTAACTACCCCAGCTGGTACCAGCAGACCCATGGCCGGGCTCCTCGCATGCTTATCTACAGCACAAGGAGCTGCCCCCCCGGGGTCCCTGATCGCTTCTCTGGATCCATCTCTGGGAACAAAGTTGCCCTCACCATCACAGGAGCCCAGCCTGAGGATGAGACTATTATTGTTCACTGTGTATGGGTAGTACATTTA\n",
      "2177|IGLV8-142*01|Canis_lupus_familiaris_boxer|F|V-REGION||98 AA|||||||||\n",
      "QTVVTQKPS.LSVSPGGTVTLICGLSSGSVS...TSNYPGWYQQTQGRASRTIIYST.......SSRPSGVP.NRFTGSI..SGNKAALTITGAQPEDEADYYCSLYMGSYT\n",
      "CAGACTGTGGTCACCCAGAAGCCATCACTCTCAGTGTCTCCAGGAGGGACAGTCACACTCATATGTGGCCTCAGCTCTGGGTCAGTCTCTACAAGTAATTACCCTGGCTGGTACCAGCAGACCCAAGGCCGGGCTTCTCGCACAATTATCTACAGCACAAGCAGCCGCCCCTCTGGGGTCCCTAATCGCTTCACTGGATCCATCTCTGGGAACAAAGCCGCCCTCACCATCACAGGAGCCCAGCCTGAGGACGAGGCTGACTATTACTGTTCCTTGTATATGGGTAGTTACACTGA\n",
      "2178|IGLV8-150-1*01|Canis_lupus_familiaris_boxer|ORF|V-REGION||102 AA|||||||||\n",
      "QIVVTQEPS.LSVSPGGTLTLTCGLSSGSVT...TSNYPSWYQQTPGQAPSTVIYNT.......NSRPSGVP.DHFSGSV..SGNKAALIITGAQPEDEADDYSVAEHVSGSSFTY\n",
      "CAGATTGTGGTGACCCAGGAACCATCACTGTCAGTGTCTCCAGGAGGGACACTCACACTCACTTGTGGCCTCAGCTCTGGGTCAGTCACTACAAGTAACTACCCCAGCTGGTACCAGCAGACCCCAGGCCAGGCTCCTAGCACAGTTATCTACAACACAAACAGCCGCCCCTCTGGTGTCCCTGATCACTTCTCTGGATCCGTCTCTGGGAACAAAGCCGCCCTCATCATCACAGGAGCCCAGCCTGAGGACGAGGCTGATGACTACTCTGTTGCAGAACATGTCAGTGGGAGCAGCTTCACTTACC\n",
      "2179|IGLV8-153*01|Canis_lupus_familiaris_boxer|F|V-REGION||98 AA|||||||||\n",
      "QTVVTQEPS.LSVSPGGTVTLTCGLSSGSVS...TSNYPGWYQQTQGRAPRTIIYNT.......SSRPSGVP.NRFSGSI..SGNKAALTITGAQPEDEADYYCSLYTGSYT\n",
      "CAGACTGTGGTAACCCAGGAGCCATCACTCTCAGTGTCTCCAGGAGGGACAGTCACACTCACATGTGGCCTCAGCTCTGGGTCAGTCTCTACAAGTAATTACCCTGGCTGGTACCAGCAGACCCAAGGCCGGGCTCCTCGCACGATTATCTACAACACAAGCAGCCGCCCCTCTGGGGTCCCTAATCGCTTCTCTGGATCCATCTCTGGAAACAAAGCCGCCCTCACCATCACAGGAGCCCAGCCCGAGGATGAGGCTGACTATTACTGTTCCTTGTATACGGGTAGTTACACTGA\n",
      "2180|IGLV8-156*01|Canis_lupus_familiaris_boxer|P|V-REGION||97 AA|||||||||\n",
      "QTVVTKDPS.LSVFPGGTVTFTCGLSSGSVF...TSNYPSWYQQTHGRAPRMLIYST.......SSCPPGVP.DRFSGSI..SGNKVALTITGAQPEDET........IIVHCVWVVHL\n",
      "CAGACTGTGGTCACCAAGGATCCATCACTCTCAGTGTTTCCAGGAGGGACAGTCACATTCACATGTGGCCTCAGCTCTGGGTCAGTCTTTACAAGTAACTACCCCAGCTGGTACCAGCAGACCCATGGCCGGGCTCCTCGCATGCTTATCTACAGCACAAGCAGCTGCCCCCCCGGGGTCCCTGATCGCTTCTCTGGATCCATCTCTGGGAACAAAGTTGCCCTCACCATCACAGGAGCCCAGCCTGAGGATGAGACTATTATTGTTCACTGTGTATGGGTAGTACATTTA\n",
      "2181|IGLV8-161*01|Canis_lupus_familiaris_boxer|F|V-REGION||98 AA|||||||||\n",
      "QTVVTQKPS.LSVSPGGTVTLICGLSSGSVS...TSNYPGWYQQTQGRASRTIIYST.......SSRPSGVP.NRFPGSI..SGNKAALIITGAQPEDEADYYCSLYMGSYT\n",
      "CAGACTGTGGTCACCCAGAAGCCATCACTCTCAGTGTCTCCAGGAGGGACAGTCACACTCATATGTGGCCTCAGCTCTGGGTCAGTCTCTACAAGTAATTACCCTGGCTGGTACCAGCAGACCCAAGGCCGGGCTTCTCGCACAATTATCTACAGCACAAGCAGCCGCCCCTCTGGGGTCCCTAATCGCTTCCCTGGATCCATCTCTGGGAACAAAGCCGCCCTCATCATCACAGGAGCCCAGCCTGAGGACGAGGCTGACTATTACTGTTCCTTGTATATGGGTAGTTACACTGA\n"
     ]
    },
    {
     "name": "stderr",
     "output_type": "stream",
     "text": [
      "/Users/jwillis/miniconda3/envs/bfx-bp-antibody/lib/python3.8/site-packages/Bio/Seq.py:2573: BiopythonWarning: Partial codon, len(sequence) not a multiple of three. Explicitly trim the sequence or add trailing N before translation. This may become an error in future.\n",
      "  warnings.warn(\"Partial codon, len(sequence) not a multiple of three. \"\n",
      "/Users/jwillis/miniconda3/envs/bfx-bp-antibody/lib/python3.8/site-packages/Bio/Seq.py:2573: BiopythonWarning: Partial codon, len(sequence) not a multiple of three. Explicitly trim the sequence or add trailing N before translation. This may become an error in future.\n",
      "  warnings.warn(\"Partial codon, len(sequence) not a multiple of three. \"\n",
      "/Users/jwillis/miniconda3/envs/bfx-bp-antibody/lib/python3.8/site-packages/Bio/Seq.py:2573: BiopythonWarning: Partial codon, len(sequence) not a multiple of three. Explicitly trim the sequence or add trailing N before translation. This may become an error in future.\n",
      "  warnings.warn(\"Partial codon, len(sequence) not a multiple of three. \"\n"
     ]
    },
    {
     "name": "stdout",
     "output_type": "stream",
     "text": [
      "2182|IGLV8-36*01|Canis_lupus_familiaris_boxer|F|V-REGION||99 AA|||||||||\n",
      "QTVVTQEPS.LSVSLGGTVTLTCGLSSGSVS...TSNYPNWSQQTPGQAPRTIIYNT.......NSRPSGVP.NRFTGSI..SGNKAALTITGAQPEDEADYYCALGLSSSSS\n",
      "CAGACTGTGGTGACCCAGGAGCCATCACTCTCAGTGTCTCTGGGAGGGACAGTCACCCTCACATGTGGCCTCAGCTCCGGGTCAGTCTCTACAAGTAACTACCCCAACTGGTCCCAGCAGACCCCAGGGCAGGCTCCTCGCACGATTATCTACAACACAAACAGCCGCCCCTCTGGGGTCCCTAATCGCTTCACTGGATCCATCTCTGGGAACAAAGCCGCCCTCACCATCACAGGAGCCCAGCCTGAGGACGAGGCTGACTACTACTGTGCTCTGGGATTAAGTAGTAGTAGTAGTTA\n",
      "2183|IGLV8-39*01|Canis_lupus_familiaris_boxer|F|V-REGION||98 AA|||||||||\n",
      "QTVVTQEPS.LSVSPGGTVTLTCGLSSGSVS...TSNHPSWYQQTQGKAPRMLIYNT.......NNRPSGIP.NCFSGSI..SGNKASLTITGAQPEDETDYYCLLYMGSNI\n",
      "CAGACTGTGGTAACCCAGGAGCCATCACTCTCAGTGTCTCCAGGAGGGACAGTCACACTCACATGTGGCCTCAGCTCTGGGTCAGTCTCTACAAGTAACCACCCTAGCTGGTACCAGCAGACCCAAGGGAAGGCTCCTCGCATGCTTATCTACAACACAAACAACCGCCCCTCTGGGATCCCTAATTGCTTCTCTGGATCCATCTCTGGGAACAAAGCCTCCCTCACCATCACAGGAGCCCAGCCTGAGGACGAGACTGACTATTACTGTTTATTGTATATGGGTAGTAACATTTA\n",
      "2184|IGLV8-40*01|Canis_lupus_familiaris_boxer|P|V-REGION||102 AA|||||||||\n",
      "QIVVTQEPS..L*VSPGGTVTLTCGLSSGSVP...TSNYPSWFQQTPGRAPRTVIYNT.......NSCPSGVP.NRFTGSI..SGNKAALTITRAQPEDEADSCCAEYQSSGSSYTY\n",
      "CAGATTGTGGTGACCCAGGAGCCATCACTCTAAGTTTCTCCAGGAGGGACAGTCACACTCACATGTGGCCTCAGCTCTGGGTCAGTCCCTACAAGTAACTACCCCAGCTGGTTTCAGCAGACCCCAGGCCGGGCTCCTAGAACAGTTATCTACAACACAAACAGCTGCCCCTCTGGGGTCCCTAATCGCTTCACTGGATCCATCTCTGGCAACAAAGCCGCCCTCACCATCACAAGAGCCCAGCCTGAGGATGAGGCTGACTCCTGCTGTGCTGAATATCAAAGCAGTGGGAGCAGCTACACTTACC\n",
      "2185|IGLV8-43*01|Canis_lupus_familiaris_boxer|P|V-REGION||98 AA|||||||||\n",
      "QTVVTQEPS.LSVSP*G.TVTLTCGLSSGSVS...TSNYPNWYQQTQGRAPHRVIYNT.......NNRPSGVP.DRFSGSI..SGNKAALTITAAQPEDEADYYCSLYMGSNI\n",
      "CAGACTGTGGTAACCCAGGAACCATCACTCTCAGTGTCTCCATGAGGGACAGTCACACTCACATGTGGCCTCAGCTCTGGGTCAGTCTCTACAAGTAACTACCCCAACTGGTACCAGCAGACCCAAGGCCGGGCTCCTCACAGGGTTATCTACAACACAAACAACCGCCCCTCTGGGGTCCCTGATCGCTTCTCTGGATCCATCTCTGGGAACAAAGCCGCCCTCACCATCACAGCTGCCCAGCCTGAGGACGAGGCTGACTATTACTGTTCATTGTATATGGGTAGTAACATTTG\n"
     ]
    },
    {
     "name": "stderr",
     "output_type": "stream",
     "text": [
      "/Users/jwillis/miniconda3/envs/bfx-bp-antibody/lib/python3.8/site-packages/Bio/Seq.py:2573: BiopythonWarning: Partial codon, len(sequence) not a multiple of three. Explicitly trim the sequence or add trailing N before translation. This may become an error in future.\n",
      "  warnings.warn(\"Partial codon, len(sequence) not a multiple of three. \"\n",
      "/Users/jwillis/miniconda3/envs/bfx-bp-antibody/lib/python3.8/site-packages/Bio/Seq.py:2573: BiopythonWarning: Partial codon, len(sequence) not a multiple of three. Explicitly trim the sequence or add trailing N before translation. This may become an error in future.\n",
      "  warnings.warn(\"Partial codon, len(sequence) not a multiple of three. \"\n",
      "/Users/jwillis/miniconda3/envs/bfx-bp-antibody/lib/python3.8/site-packages/Bio/Seq.py:2573: BiopythonWarning: Partial codon, len(sequence) not a multiple of three. Explicitly trim the sequence or add trailing N before translation. This may become an error in future.\n",
      "  warnings.warn(\"Partial codon, len(sequence) not a multiple of three. \"\n"
     ]
    },
    {
     "name": "stdout",
     "output_type": "stream",
     "text": [
      "2186|IGLV8-60*01|Canis_lupus_familiaris_boxer|P|V-REGION||97 AA|||||||||\n",
      "QTVITQDTS.LSVSPGGTVTLTCGLSSGSVS...TSNYPSWYQQTQGRDPRMLIYST.......NSHPSGVP.NCFTRSI..SGKKAALTITGAQPEDE..........TIIVH*IWVVHV\n",
      "CAGACTGTGATCACCCAAGATACATCACTCTCAGTGTCTCCAGGAGGGACAGTCACACTCACATGTGGCCTCAGCTCTGGGTCAGTCTCTACAAGTAACTACCCCAGCTGGTACCAGCAGACCCAAGGCCGGGATCCTCGCATGCTTATCTACAGCACAAACAGCCACCCCTCTGGGGTCCCTAATTGCTTCACTAGATCCATCTCTGGGAAGAAAGCTGCCCTCACCATCACAGGAGCCCAGCCTGAGGATGAGACTATTATTGTTCACTAAATATGGGTAGTACATGTA\n",
      "Did not detect anything in summary dataframe,[],[]\n",
      "having trouble with 2190|IGLV8-71*01|Canis_lupus_familiaris_boxer|P|V-REGION||102 AA|||||||||-QIVVTQDPSLSVSRGGTVTLTCGLSSGSVTTINTPAGPSRPQGRLLA*LSMTQTAAPLGSLIASLDPSVGTKLPSPSQEPILRMRLTTTVVYNMAVGAASLT\n",
      "2190|IGLV8-71*01|Canis_lupus_familiaris_boxer|P|V-REGION||102 AA|||||||||\n",
      "QTVITQDTS.LSVSPGGTVTLTCGLSSGSVS...TSNYPSWYQQTQGRDPRMLIYST.......NSHPSGVP.NCFTRSI..SGKKAALTITGAQPEDE..........TIIVH*IWVVHV\n",
      "CAGATTGTGGTGACCCAGGACCCATCACTGTCAGTGTCTAGAGGAGGGACAGTCACACTCACTTGTGGCCTCAGCTCTGGGTCAGTCACTACAATAAATACCCCAGCTGGTCCCAGCAGACCCCAGGGCAGGCTCCTCGCATGATTATCTATGACACAAACAGCCGCCCCTCTGGGGTCCCTGATCGCTTCTCTGGATCCATCTGTGGGAACAAAGCTGCCCTCACCATCACAGGAGCCCATCCTGAGGATGAGACTGACTACTACTGTGGTATACAACATGGCAGTGGGAGCAGCCTCACTTACC\n",
      "2191|IGLV8-74-1*01|Canis_lupus_familiaris_boxer|ORF|V-REGION||102 AA|||||||||\n",
      "QIVVTQEPS.LSVSPGGTVTLTCGLSSGSVT...ISNYPDWYQQTPGRSPRMLIYNT.......NNRPSGVP.NHFSGSI..SGNKAALTITGAQPEDEAYYYCAVYQGSGSSYTY\n",
      "CAGATTGTGGTGACCCAGGAGCCATCACTGTCAGTGTCTCCAGGAGGAACAGTTACACTCACATGTGGCCTAAGCTCTGGGTCAGTCACTATAAGTAACTACCCTGATTGGTACCAGCAGACTCCAGGCAGGTCTCCTCGCATGCTTATCTACAACACAAACAACCGCCCCTCTGGGGTCCCTAATCACTTCTCTGGATCCATCTCTGGGAACAAAGCCGCCCTCACCATCACAGGAGCCCAGCCTGAGGATGAGGCTTACTACTACTGTGCTGTGTATCAAGGCAGTGGGAGCAGCTACACTTACC\n",
      "2192|IGLV8-76-1*01|Canis_lupus_familiaris_boxer|P|V-REGION||97 AA|||||||||\n",
      "QTVVTQDPS.LSVSPGGTVTLTCGLSSGSVS...TSNYPGWYQQTQVKAPCMLIYST.......NSYPSGVP.NCFTGSI..SGKKAALTITGDQPEDET........IIVHCIWVVHL\n",
      "CAGACTGTGGTCACCCAGGATCCATCACTCTCAGTGTCTCCAGGAGGAACAGTCACACTCACATGTGGCCTCAGCTCTGGGTCAGTCTCTACAAGTAACTACCCCGGCTGGTACCAGCAGACCCAAGTGAAAGCTCCTTGCATGCTTATCTACAGCACAAACAGCTACCCCTCTGGGGTTCCTAATTGCTTCACTGGATCCATCTCTGGGAAGAAAGCTGCCCTCACCATCACAGGAGACCAGCCTGAGGATGAGACTATTATTGTTCACTGCATATGGGTAGTACACTTA\n",
      "Did not detect anything in summary dataframe,[],[]\n",
      "having trouble with 2193|IGLV8-88-4*01|Canis_lupus_familiaris_boxer|P|V-REGION||102 AA|||||||||-QTVVAQESSVSVSPGGTVTLTCGLSSGSVTTSNYHSWYQRTQGRSPHMLIYDTSSRPSEVLIASLVPSLGTKLPSLSEEPSLRTRLTTTVACMMSVGGITIT\n"
     ]
    },
    {
     "name": "stderr",
     "output_type": "stream",
     "text": [
      "/Users/jwillis/miniconda3/envs/bfx-bp-antibody/lib/python3.8/site-packages/Bio/Seq.py:2573: BiopythonWarning: Partial codon, len(sequence) not a multiple of three. Explicitly trim the sequence or add trailing N before translation. This may become an error in future.\n",
      "  warnings.warn(\"Partial codon, len(sequence) not a multiple of three. \"\n",
      "/Users/jwillis/miniconda3/envs/bfx-bp-antibody/lib/python3.8/site-packages/Bio/Seq.py:2573: BiopythonWarning: Partial codon, len(sequence) not a multiple of three. Explicitly trim the sequence or add trailing N before translation. This may become an error in future.\n",
      "  warnings.warn(\"Partial codon, len(sequence) not a multiple of three. \"\n"
     ]
    },
    {
     "name": "stdout",
     "output_type": "stream",
     "text": [
      "2193|IGLV8-88-4*01|Canis_lupus_familiaris_boxer|P|V-REGION||102 AA|||||||||\n",
      "QTVVTQDPS.LSVSPGGTVTLTCGLSSGSVS...TSNYPGWYQQTQVKAPCMLIYST.......NSYPSGVP.NCFTGSI..SGKKAALTITGDQPEDET........IIVHCIWVVHL\n",
      "CAGACTGTGGTGGCTCAGGAGTCATCAGTCTCAGTGTCTCCAGGAGGGACAGTCACACTCACTTGTGGCCTCAGCTCTGGGTCAGTGACTACAAGTAACTACCACAGCTGGTACCAGCGGACCCAAGGCCGGTCTCCTCACATGCTTATCTATGACACAAGCAGCCGTCCTTCTGAGGTCCTGATCGCTTCCCTGGTTCCATCTCTGGGAACAAAGCTGCCCTCACTGTCAGAGGAGCCCAGCCTGAGGACGAGGCTGACTACTACTGTGGCATGCATGATGTCAGTGGGAGGAATTACAATTACC\n",
      "Did not detect anything in summary dataframe,[],[]\n",
      "having trouble with 2194|IGLV8-89-3*01|Canis_lupus_familiaris_boxer|P|V-REGION||100 AA|||||||||-QIVVARRHCCQCLQEGESHSLVASALGQSLQVTTPTGSSRPQGGLLARLSTAQKTAPLGSLTASLDPSLGTKPPSPSQEPSLRTRLLLFYTTW*WELLHL\n",
      "2194|IGLV8-89-3*01|Canis_lupus_familiaris_boxer|P|V-REGION||100 AA|||||||||\n",
      "QTVVTQDPS.LSVSPGGTVTLTCGLSSGSVS...TSNYPGWYQQTQVKAPCMLIYST.......NSYPSGVP.NCFTGSI..SGKKAALTITGDQPEDET........IIVHCIWVVHL\n",
      "CAGATTGTGGTGGCCAGGAGGCATTGTTGTCAGTGTCTCCAGGAGGGAGAGTCACACTCACTTGTGGCCTCAGCTCTGGGTCAGTCACTACAAGTAACTACCCCAACTGGTTCCAGCAGACCCCAGGGCGGGCTCCTGGCACGATTATCTACAGCACAAAAGACTGCCCCTCTGGGGTCCCTGACTGCTTCTCTAGATCCATCTCTGGGAACAAAGCCGCCCTCACCATCACAGGAGCCCAGTCTGAGGACGAGGCTATTACTGTTTTACACGACATGGTAGTGGGAGCTGCTACACTTACC\n",
      "2195|IGLV8-90*01|Canis_lupus_familiaris_boxer|P|V-REGION||96 AA|||||||||\n",
      "QTVVTQEPS.LSVSPGGTVTLTCGLSSGSVS...TGNKPGWYQHTPGQAPRRIIYDT.......SSRPSGVP.DRFSGSI..SENKTALTITEAQPEDEADYIIYEWWCL\n",
      "CAGACTGTGGTAACCCAGGAGCCATCACTCTCAGTGTCTCCAGGAGGGACAGTCACACTCACTTGTGGCCTCAGCTCTGGGTCAGTCTCTACAGGTAACAAACCTGGCTGGTACCAGCACACCCCAGGCCAGGCTCCTCGCAGGATTATCTATGACACAAGCAGCCGCCCTTCTGGGGTCCCTGATCGCTTCTCTGGATCCATCTCTGAGAACAAAACTGCCCTCACCATCACAGAAGCCCAACCTGAGGATGAGGCTGACTACATCATATATGAGTGGTGGTGCTTA\n",
      "Did not detect anything in summary dataframe,[],[]\n",
      "having trouble with 2196|IGLV8-90-1*01|Canis_lupus_familiaris_boxer|P|V-REGION||101 AA|||||||||-QIVVTQEASLLVSPGGIVTLTCGLSSGSITTSNYPNWLQQTPGRAPRR*SMAQKAAPLGSLIASVDPSLGTKPPSPSQEPSLRMRLTITVLHDMAVGAATI\n",
      "2196|IGLV8-90-1*01|Canis_lupus_familiaris_boxer|P|V-REGION||101 AA|||||||||\n",
      "QTVVTQEPS.LSVSPGGTVTLTCGLSSGSVS...TGNKPGWYQHTPGQAPRRIIYDT.......SSRPSGVP.DRFSGSI..SENKTALTITEAQPEDEADYIIYEWWCL\n",
      "CAGATTGTGGTGACCCAGGAGGCATCGTTGTTAGTGTCTCCTGGAGGGATAGTCACACTCACTTGTGGCCTCAGCTCTGGATCAATCACTACAAGTAACTACCCCAACTGGCTCCAGCAGACCCCAGGGCGGGCTCCTCGCAGATGATCTATGGCACAAAAAGCCGCCCCTCTGGGGTCCCTGATCGCTTCTGTAGATCCATCTCTGGGAACAAAGCCGCCCTCACCATCACAGGAGCCCAGTCTGAGGATGAGGCTGACTATTACTGTTTTACACGACATGGCAGTGGGAGCAGCTACAATTAC\n",
      "Did not detect anything in summary dataframe,[],[]\n",
      "having trouble with 2197|IGLV8-90-3*01|Canis_lupus_familiaris_boxer|P|V-REGION||103 AA|||||||||-QTVVTQESSVSVSPGGTVTLPCGLSSGSLTTSNTTPAGTSRPKASLLACLSMTQAAVPLRFLITSLDPFLGTKPPSPSQEPSLRTRLTTTVACMMSVGAAKIT\n",
      "2197|IGLV8-90-3*01|Canis_lupus_familiaris_boxer|P|V-REGION||103 AA|||||||||\n",
      "QTVVTQEPS.LSVSPGGTVTLTCGLSSGSVS...TGNKPGWYQHTPGQAPRRIIYDT.......SSRPSGVP.DRFSGSI..SENKTALTITEAQPEDEADYIIYEWWCL\n",
      "CAGACTGTGGTGACCCAGGAGTCATCAGTCTCAGTGTCTCCAGGAGGAACAGTCACACTCCCTTGTGGCCTCAGCTCTGGGTCACTGACTACAAGTAACACTACACCAGCTGGTACCAGCAGACCCAAGGCCAGTCTCCTCGCATGCTTGTCTATGACACAAGCAGCTGTCCCTCTGAGGTTCCTGATCACTTCTCTGGATCCATTTCTGGGAACAAAGCCACCCTCACCATCACAGGAGCCCAGCCTGAGGACGAGGCTGACTACTACTGTGGCATGCATGATGTCAGTGGGAGCAGCTAAAATTACC\n",
      "Did not detect anything in summary dataframe,[],[]\n",
      "having trouble with 2198|IGLV8-90-4*01|Canis_lupus_familiaris_boxer|P|V-REGION||103 AA|||||||||-HILVTQEPSLSVSP*GTVTLTCGLSSGSVTTSNYPRYTSRTQARLLAQLSTTKTAAPLGSMVDSLDPSLEAKPPSQSQEPSLRLRLTTTVLQNMAPHMGTASL\n"
     ]
    },
    {
     "name": "stderr",
     "output_type": "stream",
     "text": [
      "/Users/jwillis/miniconda3/envs/bfx-bp-antibody/lib/python3.8/site-packages/Bio/Seq.py:2573: BiopythonWarning: Partial codon, len(sequence) not a multiple of three. Explicitly trim the sequence or add trailing N before translation. This may become an error in future.\n",
      "  warnings.warn(\"Partial codon, len(sequence) not a multiple of three. \"\n",
      "/Users/jwillis/miniconda3/envs/bfx-bp-antibody/lib/python3.8/site-packages/Bio/Seq.py:2573: BiopythonWarning: Partial codon, len(sequence) not a multiple of three. Explicitly trim the sequence or add trailing N before translation. This may become an error in future.\n",
      "  warnings.warn(\"Partial codon, len(sequence) not a multiple of three. \"\n",
      "/Users/jwillis/miniconda3/envs/bfx-bp-antibody/lib/python3.8/site-packages/Bio/Seq.py:2573: BiopythonWarning: Partial codon, len(sequence) not a multiple of three. Explicitly trim the sequence or add trailing N before translation. This may become an error in future.\n",
      "  warnings.warn(\"Partial codon, len(sequence) not a multiple of three. \"\n"
     ]
    },
    {
     "name": "stdout",
     "output_type": "stream",
     "text": [
      "2198|IGLV8-90-4*01|Canis_lupus_familiaris_boxer|P|V-REGION||103 AA|||||||||\n",
      "QTVVTQEPS.LSVSPGGTVTLTCGLSSGSVS...TGNKPGWYQHTPGQAPRRIIYDT.......SSRPSGVP.DRFSGSI..SENKTALTITEAQPEDEADYIIYEWWCL\n",
      "CATATTTTGGTGACTCAGGAGCCATCACTGTCAGTGTCTCCATGAGGGACAGTCACACTCACTTGTGGCCTCAGCTCTGGGTCAGTCACTACAAGTAACTACCCCAGGTATACCAGCAGAACCCAGGCAAGGCTCCTAGCACAGTTATCTACAACAAAAACAGCTGCCCCTCTGGGGTCCATGGTCGATTCTCTGGATCCATCTCTGGAAGCAAAGCCGCCTTCACAATCACAGGAGCCCAGCCTGAGGTTGAGGCTGACTACTACTGTGTTACAGAACATGGCTCCTCACATGGGAACAGCCTCACTCAC\n",
      "2199|IGLV8-92-1*01|Canis_lupus_familiaris_boxer|P|V-REGION||97 AA|||||||||\n",
      "QTVVTQDPS.LSVSPGGTVTFTCGLSSG*VS...TRNYPSWYQQTQGQAPCMLIYST.......SRHPSGVP.DRFSGSI..SGNKVALTITGAQPEDKT........IIVHCIWVVHL\n",
      "CAGACTGTGGTCACCCAGGATCCGTCACTCTCAGTGTCTCCAGGAGGGACAGTCACATTCACATGTGGCCTCAGCTCTGGGTAAGTCTCTACAAGAAACTACCCCAGCTGGTACCAGCAGACCCAAGGCCAGGCTCCTTGCATGCTTATCTACAGCACAAGCAGACACCCTTCTGGGGTCCCTGATCGCTTCTCTGGATCCATCTCTGGGAACAAAGTCGCCCTCACCATCACAGGAGCCCAGCCTGAGGATAAGACTATTATTGTTCACTGCATATGGGTAGTACATTTA\n",
      "2200|IGLV8-93*01|Canis_lupus_familiaris_boxer|F|V-REGION||98 AA|||||||||\n",
      "QTVVTQEPS.LSVSPGGTVTLTCGLSSGSVS...TSNYPGWYQQTQGRAPRTIIYNT.......SSRPSGVP.NRFSGSI..SGNKAALTITGAQPEDEADYYCSLYTGSYT\n",
      "CAGACTGTGGTAACCCAGGAGCCATCACTCTCAGTGTCTCCAGGAGGGACAGTCACACTCACATGTGGCCTCAGCTCTGGGTCAGTCTCTACAAGTAATTACCCTGGCTGGTACCAGCAGACCCAAGGCCGGGCTCCTCGCACGATTATCTACAACACAAGCAGCCGCCCCTCTGGGGTCCCTAATCGCTTCTCTGGATCCATCTCTGGAAACAAAGCCGCCCTCACCATCACAGGAGCCCAGCCCGAGGATGAGGCTGACTATTACTGTTCCTTGTATACGGGTAGTTACACTGA\n",
      "2201|IGLV8-99*01|Canis_lupus_familiaris_boxer|F|V-REGION||98 AA|||||||||\n",
      "QTVVTQKPS.LSVSPGGTVTLICGFSSGSVS...TSNYPGWYQQTQGRASRTIIYST.......SSRPSGVP.NRFPGSI..SGNKAALTITGAQPEDEADYYCSLYMGSYT\n",
      "CAGACTGTGGTCACCCAGAAGCCATCACTCTCAGTGTCTCCAGGAGGGACAGTCACACTCATATGTGGCTTCAGCTCTGGGTCAGTCTCTACAAGTAATTACCCTGGCTGGTACCAGCAGACCCAAGGCCGGGCTTCTCGCACAATTATCTACAGCACAAGCAGCCGCCCCTCTGGGGTCCCTAATCGCTTCCCTGGATCCATCTCTGGGAACAAAGCCGCCCTCACCATCACAGGAGCCCAGCCTGAGGACGAGGCTGACTATTACTGTTCCTTGTATATGGGTAGTTACACTGA\n"
     ]
    },
    {
     "name": "stderr",
     "output_type": "stream",
     "text": [
      "/Users/jwillis/miniconda3/envs/bfx-bp-antibody/lib/python3.8/site-packages/Bio/Seq.py:2573: BiopythonWarning: Partial codon, len(sequence) not a multiple of three. Explicitly trim the sequence or add trailing N before translation. This may become an error in future.\n",
      "  warnings.warn(\"Partial codon, len(sequence) not a multiple of three. \"\n"
     ]
    },
    {
     "data": {
      "application/javascript": [
       "\n",
       "            setTimeout(function() {\n",
       "                var nbb_cell_id = 329;\n",
       "                var nbb_unformatted_code = \"latin_lookup = {\\\"dog\\\": \\\"Canis_lupus\\\", \\\"cat\\\": \\\"Felus_catus\\\"}\\nfor species in [\\\"cat\\\", \\\"dog\\\"]:\\n    for chain in [\\\"H\\\", \\\"K\\\", \\\"L\\\"]:\\n        lookup = latin_lookup[species]\\n        with open(\\n            f\\\"build_pipeline/IMGT_sequence_files/fastafiles/{lookup}_{chain}V.fasta\\\",\\n            \\\"w\\\",\\n        ) as f:\\n            sub_df = imgt_df[imgt_df[\\\"common\\\"] == species]\\n            sub_df = sub_df[sub_df[\\\"gene\\\"].str[2] == chain]\\n            # \\\"IMGT000003|IGLJ9*01|Canis lupus familiaris_boxer|F|J-REGION|2580610..2580647|38 nt|2| | || |38+0=38| | |\\\"\\n            for entry in sub_df.iterrows():\\n                index = entry[0]\\n                series = entry[1]\\n                gene = series[\\\"gene\\\"]\\n                functional = series[\\\"functional\\\"]\\n                if len(gene.split(\\\"*\\\")) == 1:\\n                    gene += \\\"*01\\\"\\n                latin = series[\\\"latin\\\"]\\n                series = series.fillna(\\\"\\\")\\n                vdj_nt = \\\"\\\".join(series[[\\\"FW1\\\", \\\"CDR1\\\", \\\"FW2\\\", \\\"CDR2\\\", \\\"FW3\\\", \\\"CDR3\\\"]])\\n                vdj_aa = str(Seq.Seq(vdj_nt).translate())\\n                if vdj_aa.count(\\\"*\\\") > 3:\\n                    continue\\n                header = f\\\"{index}|{gene}|{latin}|{functional}|V-REGION||{len(vdj_aa)} AA|||||||||\\\"\\n                try:\\n                    result = anarci.run_single(gene, vdj_aa)\\n                except KeyError:\\n                    print(f\\\"having trouble with {header}-{vdj_aa}\\\")\\n                vdj = result.segment_table[\\\"vdj\\\"]\\n                if result.segment_table[\\\"tail\\\"]:\\n                    vdj += result.segment_table[\\\"tail\\\"]\\n                vdj_mod = vdj[:-20] + vdj[-20:].replace(\\\"-\\\", \\\"\\\")\\n                vdj_mod = vdj_mod.replace(\\\"-\\\", \\\".\\\")\\n                f.write(f\\\">>{header}\\\\n{vdj_mod}\\\\n\\\")\\n                print(f\\\"{header}\\\\n{vdj_mod}\\\\n{vdj_nt}\\\")\";\n",
       "                var nbb_formatted_code = \"latin_lookup = {\\\"dog\\\": \\\"Canis_lupus\\\", \\\"cat\\\": \\\"Felus_catus\\\"}\\nfor species in [\\\"cat\\\", \\\"dog\\\"]:\\n    for chain in [\\\"H\\\", \\\"K\\\", \\\"L\\\"]:\\n        lookup = latin_lookup[species]\\n        with open(\\n            f\\\"build_pipeline/IMGT_sequence_files/fastafiles/{lookup}_{chain}V.fasta\\\",\\n            \\\"w\\\",\\n        ) as f:\\n            sub_df = imgt_df[imgt_df[\\\"common\\\"] == species]\\n            sub_df = sub_df[sub_df[\\\"gene\\\"].str[2] == chain]\\n            # \\\"IMGT000003|IGLJ9*01|Canis lupus familiaris_boxer|F|J-REGION|2580610..2580647|38 nt|2| | || |38+0=38| | |\\\"\\n            for entry in sub_df.iterrows():\\n                index = entry[0]\\n                series = entry[1]\\n                gene = series[\\\"gene\\\"]\\n                functional = series[\\\"functional\\\"]\\n                if len(gene.split(\\\"*\\\")) == 1:\\n                    gene += \\\"*01\\\"\\n                latin = series[\\\"latin\\\"]\\n                series = series.fillna(\\\"\\\")\\n                vdj_nt = \\\"\\\".join(series[[\\\"FW1\\\", \\\"CDR1\\\", \\\"FW2\\\", \\\"CDR2\\\", \\\"FW3\\\", \\\"CDR3\\\"]])\\n                vdj_aa = str(Seq.Seq(vdj_nt).translate())\\n                if vdj_aa.count(\\\"*\\\") > 3:\\n                    continue\\n                header = f\\\"{index}|{gene}|{latin}|{functional}|V-REGION||{len(vdj_aa)} AA|||||||||\\\"\\n                try:\\n                    result = anarci.run_single(gene, vdj_aa)\\n                except KeyError:\\n                    print(f\\\"having trouble with {header}-{vdj_aa}\\\")\\n                vdj = result.segment_table[\\\"vdj\\\"]\\n                if result.segment_table[\\\"tail\\\"]:\\n                    vdj += result.segment_table[\\\"tail\\\"]\\n                vdj_mod = vdj[:-20] + vdj[-20:].replace(\\\"-\\\", \\\"\\\")\\n                vdj_mod = vdj_mod.replace(\\\"-\\\", \\\".\\\")\\n                f.write(f\\\">>{header}\\\\n{vdj_mod}\\\\n\\\")\\n                print(f\\\"{header}\\\\n{vdj_mod}\\\\n{vdj_nt}\\\")\";\n",
       "                var nbb_cells = Jupyter.notebook.get_cells();\n",
       "                for (var i = 0; i < nbb_cells.length; ++i) {\n",
       "                    if (nbb_cells[i].input_prompt_number == nbb_cell_id) {\n",
       "                        if (nbb_cells[i].get_text() == nbb_unformatted_code) {\n",
       "                             nbb_cells[i].set_text(nbb_formatted_code);\n",
       "                        }\n",
       "                        break;\n",
       "                    }\n",
       "                }\n",
       "            }, 500);\n",
       "            "
      ],
      "text/plain": [
       "<IPython.core.display.Javascript object>"
      ]
     },
     "metadata": {},
     "output_type": "display_data"
    }
   ],
   "source": [
    "latin_lookup = {\"dog\": \"Canis_lupus\", \"cat\": \"Felus_catus\"}\n",
    "for species in [\"cat\", \"dog\"]:\n",
    "    for chain in [\"H\", \"K\", \"L\"]:\n",
    "        lookup = latin_lookup[species]\n",
    "        with open(\n",
    "            f\"build_pipeline/IMGT_sequence_files/fastafiles/{lookup}_{chain}V.fasta\",\n",
    "            \"w\",\n",
    "        ) as f:\n",
    "            sub_df = imgt_df[imgt_df[\"common\"] == species]\n",
    "            sub_df = sub_df[sub_df[\"gene\"].str[2] == chain]\n",
    "            # \"IMGT000003|IGLJ9*01|Canis lupus familiaris_boxer|F|J-REGION|2580610..2580647|38 nt|2| | || |38+0=38| | |\"\n",
    "            for entry in sub_df.iterrows():\n",
    "                index = entry[0]\n",
    "                series = entry[1]\n",
    "                gene = series[\"gene\"]\n",
    "                functional = series[\"functional\"]\n",
    "                if len(gene.split(\"*\")) == 1:\n",
    "                    gene += \"*01\"\n",
    "                latin = series[\"latin\"]\n",
    "                series = series.fillna(\"\")\n",
    "                vdj_nt = \"\".join(series[[\"FW1\", \"CDR1\", \"FW2\", \"CDR2\", \"FW3\", \"CDR3\"]])\n",
    "                vdj_aa = str(Seq.Seq(vdj_nt).translate())\n",
    "                if vdj_aa.count(\"*\") > 3:\n",
    "                    continue\n",
    "                header = f\"{index}|{gene}|{latin}|{functional}|V-REGION||{len(vdj_aa)} AA|||||||||\"\n",
    "                try:\n",
    "                    result = anarci.run_single(gene, vdj_aa)\n",
    "                except KeyError:\n",
    "                    print(f\"having trouble with {header}-{vdj_aa}\")\n",
    "                vdj = result.segment_table[\"vdj\"]\n",
    "                if result.segment_table[\"tail\"]:\n",
    "                    vdj += result.segment_table[\"tail\"]\n",
    "                vdj_mod = vdj[:-20] + vdj[-20:].replace(\"-\", \"\")\n",
    "                vdj_mod = vdj_mod.replace(\"-\", \".\")\n",
    "                f.write(f\">>{header}\\n{vdj_mod}\\n\")\n",
    "                print(f\"{header}\\n{vdj_mod}\\n{vdj_nt}\")"
   ]
  },
  {
   "cell_type": "code",
   "execution_count": 321,
   "metadata": {},
   "outputs": [
    {
     "data": {
      "text/plain": [
       "'DVQLVESGG-DLVQPGGSLRLTCVASGFTF----SSYEMNWVRQAPGKGLQWVAYISSG---GSTYYADSVK-GRFTISRDNAKNTLYLQMNSLKTEDTATY---------------'"
      ]
     },
     "execution_count": 321,
     "metadata": {},
     "output_type": "execute_result"
    },
    {
     "data": {
      "application/javascript": [
       "\n",
       "            setTimeout(function() {\n",
       "                var nbb_cell_id = 321;\n",
       "                var nbb_unformatted_code = \"vdj\";\n",
       "                var nbb_formatted_code = \"vdj\";\n",
       "                var nbb_cells = Jupyter.notebook.get_cells();\n",
       "                for (var i = 0; i < nbb_cells.length; ++i) {\n",
       "                    if (nbb_cells[i].input_prompt_number == nbb_cell_id) {\n",
       "                        if (nbb_cells[i].get_text() == nbb_unformatted_code) {\n",
       "                             nbb_cells[i].set_text(nbb_formatted_code);\n",
       "                        }\n",
       "                        break;\n",
       "                    }\n",
       "                }\n",
       "            }, 500);\n",
       "            "
      ],
      "text/plain": [
       "<IPython.core.display.Javascript object>"
      ]
     },
     "metadata": {},
     "output_type": "display_data"
    }
   ],
   "source": [
    "vdj"
   ]
  },
  {
   "cell_type": "code",
   "execution_count": 305,
   "metadata": {},
   "outputs": [
    {
     "data": {
      "text/plain": [
       "Seq('EVQLVQSGAEVKKPGTSVKVSCKTSGYTFTDYYMYWVRQASGAGLDWMGQIGP*...SVR', HasStopCodon(ExtendedIUPACProtein(), '*'))"
      ]
     },
     "execution_count": 305,
     "metadata": {},
     "output_type": "execute_result"
    },
    {
     "data": {
      "application/javascript": [
       "\n",
       "            setTimeout(function() {\n",
       "                var nbb_cell_id = 305;\n",
       "                var nbb_unformatted_code = \"Seq.Seq(\\\"\\\".join(series[[\\\"FW1\\\", \\\"CDR1\\\", \\\"FW2\\\", \\\"CDR2\\\", \\\"FW3\\\", \\\"CDR3\\\"]])).translate()\";\n",
       "                var nbb_formatted_code = \"Seq.Seq(\\\"\\\".join(series[[\\\"FW1\\\", \\\"CDR1\\\", \\\"FW2\\\", \\\"CDR2\\\", \\\"FW3\\\", \\\"CDR3\\\"]])).translate()\";\n",
       "                var nbb_cells = Jupyter.notebook.get_cells();\n",
       "                for (var i = 0; i < nbb_cells.length; ++i) {\n",
       "                    if (nbb_cells[i].input_prompt_number == nbb_cell_id) {\n",
       "                        if (nbb_cells[i].get_text() == nbb_unformatted_code) {\n",
       "                             nbb_cells[i].set_text(nbb_formatted_code);\n",
       "                        }\n",
       "                        break;\n",
       "                    }\n",
       "                }\n",
       "            }, 500);\n",
       "            "
      ],
      "text/plain": [
       "<IPython.core.display.Javascript object>"
      ]
     },
     "metadata": {},
     "output_type": "display_data"
    }
   ],
   "source": [
    "Seq.Seq(\"\".join(series[[\"FW1\", \"CDR1\", \"FW2\", \"CDR2\", \"FW3\", \"CDR3\"]])).translate()"
   ]
  },
  {
   "cell_type": "code",
   "execution_count": 330,
   "metadata": {},
   "outputs": [
    {
     "data": {
      "application/javascript": [
       "\n",
       "            setTimeout(function() {\n",
       "                var nbb_cell_id = 330;\n",
       "                var nbb_unformatted_code = \"latin_lookup = {\\\"dog\\\": \\\"Canis_lupus\\\", \\\"cat\\\": \\\"Felus_catus\\\"}\\nfor species in [\\\"cat\\\", \\\"dog\\\"]:\\n    for chain in [\\\"H\\\", \\\"K\\\", \\\"L\\\"]:\\n        lookup = latin_lookup[species]\\n        with open(\\n            f\\\"build_pipeline/IMGT_sequence_files/fastafiles/{lookup}_{chain}J.fasta\\\",\\n            \\\"w\\\",\\n        ) as f:\\n            sub_df = j_gene[j_gene[\\\"species\\\"] == species]\\n            sub_df = sub_df[sub_df[\\\"full\\\"].str[2] == chain]\\n            for entry in sub_df.iterrows():\\n                index = entry[0]\\n                series = entry[1]\\n                gene = series[\\\"full\\\"]\\n                functional = \\\"F\\\"\\n                if len(gene.split(\\\"*\\\")) == 1:\\n                    gene += \\\"*01\\\"\\n                latin = lookup\\n                vdj_aa = \\\"\\\".join(series[[\\\"cdr3_aa\\\", \\\"fwr4_aa\\\"]])\\n\\n                header = f\\\"{index}|{gene}|{latin}|{functional}|J-REGION||{len(vdj_aa)} AA|||||||||\\\"\\n                f.write(f\\\">>{header}\\\\n{vdj_aa}\\\\n\\\")\";\n",
       "                var nbb_formatted_code = \"latin_lookup = {\\\"dog\\\": \\\"Canis_lupus\\\", \\\"cat\\\": \\\"Felus_catus\\\"}\\nfor species in [\\\"cat\\\", \\\"dog\\\"]:\\n    for chain in [\\\"H\\\", \\\"K\\\", \\\"L\\\"]:\\n        lookup = latin_lookup[species]\\n        with open(\\n            f\\\"build_pipeline/IMGT_sequence_files/fastafiles/{lookup}_{chain}J.fasta\\\",\\n            \\\"w\\\",\\n        ) as f:\\n            sub_df = j_gene[j_gene[\\\"species\\\"] == species]\\n            sub_df = sub_df[sub_df[\\\"full\\\"].str[2] == chain]\\n            for entry in sub_df.iterrows():\\n                index = entry[0]\\n                series = entry[1]\\n                gene = series[\\\"full\\\"]\\n                functional = \\\"F\\\"\\n                if len(gene.split(\\\"*\\\")) == 1:\\n                    gene += \\\"*01\\\"\\n                latin = lookup\\n                vdj_aa = \\\"\\\".join(series[[\\\"cdr3_aa\\\", \\\"fwr4_aa\\\"]])\\n\\n                header = f\\\"{index}|{gene}|{latin}|{functional}|J-REGION||{len(vdj_aa)} AA|||||||||\\\"\\n                f.write(f\\\">>{header}\\\\n{vdj_aa}\\\\n\\\")\";\n",
       "                var nbb_cells = Jupyter.notebook.get_cells();\n",
       "                for (var i = 0; i < nbb_cells.length; ++i) {\n",
       "                    if (nbb_cells[i].input_prompt_number == nbb_cell_id) {\n",
       "                        if (nbb_cells[i].get_text() == nbb_unformatted_code) {\n",
       "                             nbb_cells[i].set_text(nbb_formatted_code);\n",
       "                        }\n",
       "                        break;\n",
       "                    }\n",
       "                }\n",
       "            }, 500);\n",
       "            "
      ],
      "text/plain": [
       "<IPython.core.display.Javascript object>"
      ]
     },
     "metadata": {},
     "output_type": "display_data"
    }
   ],
   "source": [
    "latin_lookup = {\"dog\": \"Canis_lupus\", \"cat\": \"Felus_catus\"}\n",
    "for species in [\"cat\", \"dog\"]:\n",
    "    for chain in [\"H\", \"K\", \"L\"]:\n",
    "        lookup = latin_lookup[species]\n",
    "        with open(\n",
    "            f\"build_pipeline/IMGT_sequence_files/fastafiles/{lookup}_{chain}J.fasta\",\n",
    "            \"w\",\n",
    "        ) as f:\n",
    "            sub_df = j_gene[j_gene[\"species\"] == species]\n",
    "            sub_df = sub_df[sub_df[\"full\"].str[2] == chain]\n",
    "            for entry in sub_df.iterrows():\n",
    "                index = entry[0]\n",
    "                series = entry[1]\n",
    "                gene = series[\"full\"]\n",
    "                functional = \"F\"\n",
    "                if len(gene.split(\"*\")) == 1:\n",
    "                    gene += \"*01\"\n",
    "                latin = lookup\n",
    "                vdj_aa = \"\".join(series[[\"cdr3_aa\", \"fwr4_aa\"]])\n",
    "\n",
    "                header = f\"{index}|{gene}|{latin}|{functional}|J-REGION||{len(vdj_aa)} AA|||||||||\"\n",
    "                f.write(f\">>{header}\\n{vdj_aa}\\n\")"
   ]
  },
  {
   "cell_type": "code",
   "execution_count": 283,
   "metadata": {},
   "outputs": [
    {
     "data": {
      "text/html": [
       "<div>\n",
       "<style scoped>\n",
       "    .dataframe tbody tr th:only-of-type {\n",
       "        vertical-align: middle;\n",
       "    }\n",
       "\n",
       "    .dataframe tbody tr th {\n",
       "        vertical-align: top;\n",
       "    }\n",
       "\n",
       "    .dataframe thead th {\n",
       "        text-align: right;\n",
       "    }\n",
       "</style>\n",
       "<table border=\"1\" class=\"dataframe\">\n",
       "  <thead>\n",
       "    <tr style=\"text-align: right;\">\n",
       "      <th></th>\n",
       "      <th>gene</th>\n",
       "      <th>latin</th>\n",
       "      <th>common</th>\n",
       "      <th>functional</th>\n",
       "      <th>FW1</th>\n",
       "      <th>CDR1</th>\n",
       "      <th>FW2</th>\n",
       "      <th>CDR2</th>\n",
       "      <th>FW3</th>\n",
       "      <th>CDR3</th>\n",
       "      <th>source</th>\n",
       "    </tr>\n",
       "  </thead>\n",
       "  <tbody>\n",
       "    <tr>\n",
       "      <th>4</th>\n",
       "      <td>IGHV1-1</td>\n",
       "      <td>Felis_catus_Abyssinian</td>\n",
       "      <td>cat</td>\n",
       "      <td>F</td>\n",
       "      <td>GACGTGCAGCTGGTGGAGTCTGGGGGAGACCTGGTGCAGCCTGGGG...</td>\n",
       "      <td>GGATTCACCTTCAGTAGCTATGAA</td>\n",
       "      <td>ATGAACTGGGTCCGCCAGGCTCCAGGGAAGGGGCTGCAGTGGGTCG...</td>\n",
       "      <td>ATTAGTAGTGGAGGTAGCACA</td>\n",
       "      <td>TACTACGCAGACTCCGTGAAGGGCCGATTCACCATCTCCAGAGACA...</td>\n",
       "      <td>GCGA</td>\n",
       "      <td>imgt_db</td>\n",
       "    </tr>\n",
       "    <tr>\n",
       "      <th>35</th>\n",
       "      <td>IGHV1-2</td>\n",
       "      <td>Felis_catus_Abyssinian</td>\n",
       "      <td>cat</td>\n",
       "      <td>F</td>\n",
       "      <td>CAGGTTTTGCTGGTGCAGTCTGGGGCTGAAGTGAGGAAGCCTGGGG...</td>\n",
       "      <td>GGATACACCTTCACTGATTACTAT</td>\n",
       "      <td>ATACACTGGTTGCGACAGGCTCCTGGACAAGGGCTTGAGTGGATGG...</td>\n",
       "      <td>ATTGACCCTGAAGATGGTTCTACA</td>\n",
       "      <td>ACCTATGCACAGAAGTTCCAGGGCAGACTCACCCTGACAGCAGACA...</td>\n",
       "      <td>GCAA</td>\n",
       "      <td>imgt_db</td>\n",
       "    </tr>\n",
       "    <tr>\n",
       "      <th>246</th>\n",
       "      <td>IGHV10-1</td>\n",
       "      <td>Felis_catus_Abyssinian</td>\n",
       "      <td>cat</td>\n",
       "      <td>F</td>\n",
       "      <td>CAACTTACACTTCGGGAGTCCGGCCCAGGACTGGTGAAGCCTTCAC...</td>\n",
       "      <td>GGAGGCTCTGTTACCAGCAGTTACTAC</td>\n",
       "      <td>TGGAACTGGATCCGCCAGCGCCCTGGGAGAGGGTTGGAGTGGCTGG...</td>\n",
       "      <td>TGGTCAGGTAGCACC</td>\n",
       "      <td>AGCTACAACCCGGCTTTGCAGGGCCGCATCTCCATCGCTGCTGACA...</td>\n",
       "      <td>GGAA</td>\n",
       "      <td>imgt_db</td>\n",
       "    </tr>\n",
       "    <tr>\n",
       "      <th>258</th>\n",
       "      <td>IGHV10-2</td>\n",
       "      <td>Felis_catus_Abyssinian</td>\n",
       "      <td>cat</td>\n",
       "      <td>F</td>\n",
       "      <td>GACGTGCATCTGGTGGAGTCTGGGGGAGACCTGGTGAAGCCTGGGG...</td>\n",
       "      <td>GGAATCACCTTCAGGACTTATTGG</td>\n",
       "      <td>ATGAACTGGGTCCGCCAGGCTCCTGGGAAGGGGCTGCAGTGGGTCT...</td>\n",
       "      <td>ATTAGTGGTACTGGAGGTAATACA</td>\n",
       "      <td>GCCTATACGGACTCCGTGAAGGGCCGATTCACCATTTCCAGAGACA...</td>\n",
       "      <td>GCGA</td>\n",
       "      <td>imgt_db</td>\n",
       "    </tr>\n",
       "    <tr>\n",
       "      <th>274</th>\n",
       "      <td>IGHV11-1</td>\n",
       "      <td>Felis_catus_Abyssinian</td>\n",
       "      <td>cat</td>\n",
       "      <td>F</td>\n",
       "      <td>GACGTGCAGCTGGTGGAGTCTGGGGGAGACCTGGTGAAGCCCGGGG...</td>\n",
       "      <td>GGATTCAGCTTCAGTAGTTATGCA</td>\n",
       "      <td>ATGAGCTGGGTCCGCCAGGCTCCAGGAAAGGGGCTGCAGTGGGTCG...</td>\n",
       "      <td>ATTAGTTATGATGGAGGTAGTATA</td>\n",
       "      <td>GGCTACGCAGACTCCGTGAAGGGCCGATTTACCATCTCCAGAGACA...</td>\n",
       "      <td>GCGA</td>\n",
       "      <td>imgt_db</td>\n",
       "    </tr>\n",
       "    <tr>\n",
       "      <th>...</th>\n",
       "      <td>...</td>\n",
       "      <td>...</td>\n",
       "      <td>...</td>\n",
       "      <td>...</td>\n",
       "      <td>...</td>\n",
       "      <td>...</td>\n",
       "      <td>...</td>\n",
       "      <td>...</td>\n",
       "      <td>...</td>\n",
       "      <td>...</td>\n",
       "      <td>...</td>\n",
       "    </tr>\n",
       "    <tr>\n",
       "      <th>4468</th>\n",
       "      <td>TRGV2-3*01</td>\n",
       "      <td>Felis_catus_Abyssinian</td>\n",
       "      <td>cat</td>\n",
       "      <td>F</td>\n",
       "      <td>GCAGCGATCAGCCTGGGGCAGCCCTCTATGGTCGTGGCGCAGGCAG...</td>\n",
       "      <td>ACCAAGGTCAGCTAC</td>\n",
       "      <td>ATCCACTGGTACCACCACCAGGAAGGTGCGGCCCCCAAGAGGCTCC...</td>\n",
       "      <td>CTGGACATGTCCGGAACGTTTGTG</td>\n",
       "      <td>CAGAAAGATGGGGGCCTGAATGAGGACAAAGTCAATGCCAAGAGGG...</td>\n",
       "      <td>GCTGCCTGGGAAGCT</td>\n",
       "      <td>vquest_fasta</td>\n",
       "    </tr>\n",
       "    <tr>\n",
       "      <th>4470</th>\n",
       "      <td>TRGV2-4*01</td>\n",
       "      <td>Felis_catus_Abyssinian</td>\n",
       "      <td>cat</td>\n",
       "      <td>F</td>\n",
       "      <td>GCAGCGATCAGTCTGACTCAGCGGGCTGTGGTGGTGGAGCGCGTGG...</td>\n",
       "      <td>GCCTCCGTCAGCTAC</td>\n",
       "      <td>ATCCACTGGTACCTCCACCAGGAGGGGACTGACCCCAAGAGGATCC...</td>\n",
       "      <td>CTGGACATGTCAAGGTTATCTGTG</td>\n",
       "      <td>GAGAGGTATGGGGGCTTGGAAGCGGACAAAATCGATGCCAAGAAAG...</td>\n",
       "      <td>GCTGCCTGGGAAGCT</td>\n",
       "      <td>vquest_fasta</td>\n",
       "    </tr>\n",
       "    <tr>\n",
       "      <th>4510</th>\n",
       "      <td>TRGV5-3*01</td>\n",
       "      <td>Felis_catus_Abyssinian</td>\n",
       "      <td>cat</td>\n",
       "      <td>F</td>\n",
       "      <td>GGCATTTTCATAACACAATTCGTACCATCCATTACCAAGAAAAAAG...</td>\n",
       "      <td>ACGGGTGTCTTAAAGAAAAACGTAAAT</td>\n",
       "      <td>ATACACTGGTATCGACAGAGGCCAGACCAGCCTCTAAAACGCATTC...</td>\n",
       "      <td>ATTTCCTCAAATGAAAATGTG</td>\n",
       "      <td>GTCCACGAACAAGGTATTAGTGAGGAAAAATATGAAGCCAGGAAAC...</td>\n",
       "      <td>GCCTGCTGGGATC</td>\n",
       "      <td>vquest_fasta</td>\n",
       "    </tr>\n",
       "    <tr>\n",
       "      <th>4519</th>\n",
       "      <td>TRGV6-1*01</td>\n",
       "      <td>Felis_catus_Abyssinian</td>\n",
       "      <td>cat</td>\n",
       "      <td>P</td>\n",
       "      <td>GCAGAGATCAGGCTGGAGCAGCCAGCTGTGGTCGTGGCTCGTGAGG...</td>\n",
       "      <td>ACCAAGGTCAGCTAC</td>\n",
       "      <td>ACCCACTGGTACCACCACCAGGAGGGAAAGGTCCCCCAAAGGCTTC...</td>\n",
       "      <td>CTGGCCATGTTCCATTAGGATGTG</td>\n",
       "      <td>CAGTGGGAATCTGTCGAGAAAGCAGACAATGTCACGGCCACAGAGG...</td>\n",
       "      <td>GCTGTCTGGGAACCG</td>\n",
       "      <td>vquest_fasta</td>\n",
       "    </tr>\n",
       "    <tr>\n",
       "      <th>4525</th>\n",
       "      <td>TRGV7-1*01</td>\n",
       "      <td>Felis_catus_Abyssinian</td>\n",
       "      <td>cat</td>\n",
       "      <td>F</td>\n",
       "      <td>CAGGGGAACCTGGAACAACCTGAAATATCAATTTCCAGAGCAAGGG...</td>\n",
       "      <td>ACTGAGGTCATCGACAGAGCC</td>\n",
       "      <td>ATACACTGGTACCGGCAGAAGCCAGATCAAGAGATAGAACATCTAA...</td>\n",
       "      <td>GTCTCAACACAGCCCGTT</td>\n",
       "      <td>CGAGTTTCTTTAGGAGGGAAGAGCGACAAACTTGAGGCAAGTAAAA...</td>\n",
       "      <td>GCCTCCTGGGGCTGGAGC</td>\n",
       "      <td>vquest_fasta</td>\n",
       "    </tr>\n",
       "  </tbody>\n",
       "</table>\n",
       "<p>258 rows × 11 columns</p>\n",
       "</div>"
      ],
      "text/plain": [
       "            gene                   latin common  ...                                                FW3                CDR3        source\n",
       "4        IGHV1-1  Felis_catus_Abyssinian    cat  ...  TACTACGCAGACTCCGTGAAGGGCCGATTCACCATCTCCAGAGACA...                GCGA       imgt_db\n",
       "35       IGHV1-2  Felis_catus_Abyssinian    cat  ...  ACCTATGCACAGAAGTTCCAGGGCAGACTCACCCTGACAGCAGACA...                GCAA       imgt_db\n",
       "246     IGHV10-1  Felis_catus_Abyssinian    cat  ...  AGCTACAACCCGGCTTTGCAGGGCCGCATCTCCATCGCTGCTGACA...                GGAA       imgt_db\n",
       "258     IGHV10-2  Felis_catus_Abyssinian    cat  ...  GCCTATACGGACTCCGTGAAGGGCCGATTCACCATTTCCAGAGACA...                GCGA       imgt_db\n",
       "274     IGHV11-1  Felis_catus_Abyssinian    cat  ...  GGCTACGCAGACTCCGTGAAGGGCCGATTTACCATCTCCAGAGACA...                GCGA       imgt_db\n",
       "...          ...                     ...    ...  ...                                                ...                 ...           ...\n",
       "4468  TRGV2-3*01  Felis_catus_Abyssinian    cat  ...  CAGAAAGATGGGGGCCTGAATGAGGACAAAGTCAATGCCAAGAGGG...     GCTGCCTGGGAAGCT  vquest_fasta\n",
       "4470  TRGV2-4*01  Felis_catus_Abyssinian    cat  ...  GAGAGGTATGGGGGCTTGGAAGCGGACAAAATCGATGCCAAGAAAG...     GCTGCCTGGGAAGCT  vquest_fasta\n",
       "4510  TRGV5-3*01  Felis_catus_Abyssinian    cat  ...  GTCCACGAACAAGGTATTAGTGAGGAAAAATATGAAGCCAGGAAAC...       GCCTGCTGGGATC  vquest_fasta\n",
       "4519  TRGV6-1*01  Felis_catus_Abyssinian    cat  ...  CAGTGGGAATCTGTCGAGAAAGCAGACAATGTCACGGCCACAGAGG...     GCTGTCTGGGAACCG  vquest_fasta\n",
       "4525  TRGV7-1*01  Felis_catus_Abyssinian    cat  ...  CGAGTTTCTTTAGGAGGGAAGAGCGACAAACTTGAGGCAAGTAAAA...  GCCTCCTGGGGCTGGAGC  vquest_fasta\n",
       "\n",
       "[258 rows x 11 columns]"
      ]
     },
     "execution_count": 283,
     "metadata": {},
     "output_type": "execute_result"
    },
    {
     "data": {
      "application/javascript": [
       "\n",
       "            setTimeout(function() {\n",
       "                var nbb_cell_id = 283;\n",
       "                var nbb_unformatted_code = \"imgt_df[imgt_df['common'] == 'cat']\";\n",
       "                var nbb_formatted_code = \"imgt_df[imgt_df[\\\"common\\\"] == \\\"cat\\\"]\";\n",
       "                var nbb_cells = Jupyter.notebook.get_cells();\n",
       "                for (var i = 0; i < nbb_cells.length; ++i) {\n",
       "                    if (nbb_cells[i].input_prompt_number == nbb_cell_id) {\n",
       "                        if (nbb_cells[i].get_text() == nbb_unformatted_code) {\n",
       "                             nbb_cells[i].set_text(nbb_formatted_code);\n",
       "                        }\n",
       "                        break;\n",
       "                    }\n",
       "                }\n",
       "            }, 500);\n",
       "            "
      ],
      "text/plain": [
       "<IPython.core.display.Javascript object>"
      ]
     },
     "metadata": {},
     "output_type": "display_data"
    }
   ],
   "source": [
    "imgt_df[imgt_df[\"common\"] == \"cat\"]"
   ]
  },
  {
   "cell_type": "code",
   "execution_count": null,
   "metadata": {},
   "outputs": [],
   "source": []
  }
 ],
 "metadata": {
  "kernelspec": {
   "display_name": "Python 3",
   "language": "python",
   "name": "python3"
  },
  "language_info": {
   "codemirror_mode": {
    "name": "ipython",
    "version": 3
   },
   "file_extension": ".py",
   "mimetype": "text/x-python",
   "name": "python",
   "nbconvert_exporter": "python",
   "pygments_lexer": "ipython3",
   "version": "3.8.3"
  },
  "toc": {
   "base_numbering": 1,
   "nav_menu": {},
   "number_sections": true,
   "sideBar": true,
   "skip_h1_title": false,
   "title_cell": "Table of Contents",
   "title_sidebar": "Contents",
   "toc_cell": false,
   "toc_position": {},
   "toc_section_display": true,
   "toc_window_display": false
  }
 },
 "nbformat": 4,
 "nbformat_minor": 4
}
